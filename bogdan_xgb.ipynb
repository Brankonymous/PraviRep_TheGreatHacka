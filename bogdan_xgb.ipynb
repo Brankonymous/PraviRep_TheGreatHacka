{
 "cells": [
  {
   "cell_type": "code",
   "execution_count": 98,
   "metadata": {},
   "outputs": [],
   "source": [
    "import xgboost as xgb\n",
    "import pandas as pd\n",
    "\n",
    "from sklearn.preprocessing import StandardScaler\n",
    "from sklearn.pipeline import Pipeline\n",
    "from sklearn.metrics import make_scorer, mean_absolute_error, mean_squared_error\n",
    "from sklearn.model_selection import GridSearchCV"
   ]
  },
  {
   "cell_type": "code",
   "execution_count": 99,
   "metadata": {},
   "outputs": [],
   "source": [
    "# PAZITE ZA IMENA DATOTEKA\n",
    "\n",
    "name = \"xgboost\"\n",
    "dataset_path = \"../data/\"\n",
    "grad = \"bg\"\n",
    "X = pd.read_csv(dataset_path + grad + \".csv\")\n",
    "y = pd.read_csv(dataset_path + grad + \"_target.csv\")"
   ]
  },
  {
   "cell_type": "code",
   "execution_count": 100,
   "metadata": {},
   "outputs": [
    {
     "data": {
      "text/plain": [
       "(1536, 291)"
      ]
     },
     "execution_count": 100,
     "metadata": {},
     "output_type": "execute_result"
    }
   ],
   "source": [
    "X.shape"
   ]
  },
  {
   "cell_type": "code",
   "execution_count": 101,
   "metadata": {},
   "outputs": [],
   "source": [
    "X.drop(['Unnamed: 0', '0', '1', '2', '31', '60', '89', '118', '147', '176', '205', '234', '263'], axis=1, inplace=True) # IZBACIO SAM DATUME OVDE\n",
    "y.drop(['Unnamed: 0'], axis=1, inplace=True)"
   ]
  },
  {
   "cell_type": "code",
   "execution_count": 113,
   "metadata": {},
   "outputs": [],
   "source": [
    "def create_model(params, X, y):\n",
    "    model = xgb.XGBRegressor()\n",
    "\n",
    "    scoring = {\n",
    "            'mse': make_scorer(mean_squared_error),\n",
    "            'mae': make_scorer(mean_absolute_error),\n",
    "    }\n",
    "    clf = GridSearchCV(model, params, cv = 5, scoring=scoring, refit='mae', error_score=\"raise\")\n",
    "\n",
    "    grid_search = clf.fit(X, y['0'])\n",
    "\n",
    "    print(grid_search.best_params_)\n",
    "    print(grid_search.best_score_)\n",
    "    print(grid_search.cv_results_)\n",
    "\n",
    "    y_pred11 = grid_search.best_estimator_.predict(X)\n",
    "    X = X.iloc[:, 29:]\n",
    "    X['day11'] = y_pred11\n",
    "    grid_search = grid_search.fit(X, y['1'])\n",
    "    print(grid_search.best_params_)\n",
    "    print(grid_search.best_score_)\n",
    "    print(grid_search.cv_results_)\n",
    "\n",
    "    y_pred12 = grid_search.best_estimator_.predict(X)\n",
    "    X = X.iloc[:, 29:]\n",
    "    X['day12'] = y_pred12\n",
    "    grid_search = grid_search.fit(X, y['2'])\n",
    "    print(grid_search.best_params_)\n",
    "    print(grid_search.best_score_)\n",
    "    print(grid_search.cv_results_)\n",
    "\n",
    "    y_pred13 = grid_search.best_estimator_.predict(X)\n",
    "\n",
    "    return [y_pred11, y_pred12, y_pred13]"
   ]
  },
  {
   "cell_type": "code",
   "execution_count": 114,
   "metadata": {},
   "outputs": [
    {
     "name": "stdout",
     "output_type": "stream",
     "text": [
      "{}\n",
      "17.918379351889666\n",
      "{'mean_fit_time': array([0.6553978]), 'std_fit_time': array([0.03101542]), 'mean_score_time': array([0.02039857]), 'std_score_time': array([0.00080016]), 'params': [{}], 'split0_test_mse': array([1282.80719143]), 'split1_test_mse': array([2455.96271688]), 'split2_test_mse': array([2772.60409964]), 'split3_test_mse': array([6099.75597721]), 'split4_test_mse': array([2079.413576]), 'mean_test_mse': array([2938.10871223]), 'std_test_mse': array([1657.30205017]), 'rank_test_mse': array([1]), 'split0_test_mae': array([11.15861963]), 'split1_test_mae': array([13.3482624]), 'split2_test_mae': array([15.94085149]), 'split3_test_mae': array([32.12907761]), 'split4_test_mae': array([17.01508563]), 'mean_test_mae': array([17.91837935]), 'std_test_mae': array([7.39257494]), 'rank_test_mae': array([1])}\n"
     ]
    },
    {
     "name": "stderr",
     "output_type": "stream",
     "text": [
      "C:\\Users\\bogda\\AppData\\Local\\Temp\\ipykernel_19180\\812108363.py:18: SettingWithCopyWarning: \n",
      "A value is trying to be set on a copy of a slice from a DataFrame.\n",
      "Try using .loc[row_indexer,col_indexer] = value instead\n",
      "\n",
      "See the caveats in the documentation: https://pandas.pydata.org/pandas-docs/stable/user_guide/indexing.html#returning-a-view-versus-a-copy\n",
      "  X['day11'] = y_pred11\n"
     ]
    },
    {
     "name": "stdout",
     "output_type": "stream",
     "text": [
      "{}\n",
      "17.730144499404386\n",
      "{'mean_fit_time': array([0.59300027]), 'std_fit_time': array([0.0098181]), 'mean_score_time': array([0.01899996]), 'std_score_time': array([1.80065227e-06]), 'params': [{}], 'split0_test_mse': array([387.95244364]), 'split1_test_mse': array([2296.39821359]), 'split2_test_mse': array([2322.75415893]), 'split3_test_mse': array([7677.68969389]), 'split4_test_mse': array([2686.54911335]), 'mean_test_mse': array([3074.26872468]), 'std_test_mse': array([2438.35858532]), 'rank_test_mse': array([1]), 'split0_test_mae': array([6.26963193]), 'split1_test_mae': array([12.53298617]), 'split2_test_mae': array([15.85422631]), 'split3_test_mae': array([34.72330826]), 'split4_test_mae': array([19.27056983]), 'mean_test_mae': array([17.7301445]), 'std_test_mae': array([9.51854398]), 'rank_test_mae': array([1])}\n",
      "{}\n",
      "17.87319857851236\n",
      "{'mean_fit_time': array([0.56979866]), 'std_fit_time': array([0.0337128]), 'mean_score_time': array([0.01819973]), 'std_score_time': array([0.00039921]), 'params': [{}], 'split0_test_mse': array([647.92563827]), 'split1_test_mse': array([2338.10308192]), 'split2_test_mse': array([2362.59582316]), 'split3_test_mse': array([6864.49067255]), 'split4_test_mse': array([1928.69476292]), 'mean_test_mse': array([2828.36199577]), 'std_test_mse': array([2112.40765311]), 'rank_test_mse': array([1]), 'split0_test_mae': array([6.84145863]), 'split1_test_mae': array([12.75220291]), 'split2_test_mae': array([15.77085225]), 'split3_test_mae': array([33.9161192]), 'split4_test_mae': array([20.08535989]), 'mean_test_mae': array([17.87319858]), 'std_test_mae': array([9.10618145]), 'rank_test_mae': array([1])}\n"
     ]
    }
   ],
   "source": [
    "model = create_model({\n",
    "}, X, y)"
   ]
  }
 ],
 "metadata": {
  "kernelspec": {
   "display_name": "Python 3",
   "language": "python",
   "name": "python3"
  },
  "language_info": {
   "codemirror_mode": {
    "name": "ipython",
    "version": 3
   },
   "file_extension": ".py",
   "mimetype": "text/x-python",
   "name": "python",
   "nbconvert_exporter": "python",
   "pygments_lexer": "ipython3",
   "version": "3.10.11"
  }
 },
 "nbformat": 4,
 "nbformat_minor": 2
}
