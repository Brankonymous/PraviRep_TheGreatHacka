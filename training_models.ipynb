{
 "cells": [
  {
   "cell_type": "code",
   "execution_count": 39,
   "metadata": {},
   "outputs": [],
   "source": [
    "import xgboost as xgb\n",
    "import pandas as pd\n",
    "import numpy as np\n",
    "\n",
    "from sklearn.linear_model import LogisticRegression\n",
    "from sklearn.neighbors import KNeighborsClassifier\n",
    "from sklearn.svm import SVC\n",
    "from sklearn.ensemble import RandomForestClassifier\n",
    "from sklearn.naive_bayes import GaussianNB\n",
    "from sklearn.preprocessing import StandardScaler\n",
    "from sklearn.pipeline import Pipeline\n",
    "from sklearn.metrics import accuracy_score, f1_score, precision_score, recall_score, make_scorer, mean_absolute_error, mean_squared_error\n",
    "from sklearn.model_selection import GridSearchCV\n",
    "\n",
    "from prophet.diagnostics import cross_validation, performance_metrics\n",
    "from prophet.serialize import model_to_json, model_from_json"
   ]
  },
  {
   "cell_type": "code",
   "execution_count": 40,
   "metadata": {},
   "outputs": [],
   "source": [
    "def get_pred_from_prophet(dates):\n",
    "    dataset_path = \"data/\"\n",
    "\n",
    "    with open('models/prophet.json', 'r') as fin:\n",
    "        m = model_from_json(fin.read())  # Load model\n",
    "\n",
    "    future = pd.DataFrame({'ds': dates})\n",
    "    future['floor'] = 0\n",
    "    future['cap'] = 2500\n",
    "\n",
    "    forecast = m.predict(future)\n",
    "\n",
    "    ans = []\n",
    "    for forecast_row in forecast.itertuples():\n",
    "        val = int(forecast_row.yhat)\n",
    "        val = max(0, val)\n",
    "        ans.append(val)\n",
    "\n",
    "    return ans"
   ]
  },
  {
   "cell_type": "code",
   "execution_count": 41,
   "metadata": {},
   "outputs": [],
   "source": [
    "def get_model(model_name):\n",
    "\n",
    "    if model_name == 'logistic_regression':\n",
    "        return LogisticRegression()\n",
    "    \n",
    "    elif model_name == 'svm':\n",
    "        return SVC()\n",
    "    \n",
    "    elif model_name == 'random_forest':\n",
    "        return RandomForestClassifier()\n",
    "    \n",
    "    elif model_name == 'xgboost':\n",
    "        return xgb.XGBRegressor()\n",
    "    \n",
    "    elif model_name == 'naive_bayes':\n",
    "        return GaussianNB()\n",
    "    \n",
    "    else:\n",
    "        raise ValueError(f'Unknown model name: {name}')"
   ]
  },
  {
   "cell_type": "code",
   "execution_count": 42,
   "metadata": {},
   "outputs": [],
   "source": [
    "def handle_dates(df, keep_date=False):\n",
    "    date_columns = ['2', '31', '60', '89', '118', '147', '176', '205', '234', '263']\n",
    "\n",
    "    # for col in date_columns:\n",
    "    #     dates = list(df[col])\n",
    "    #     df['prophet_' + col] = get_pred_from_prophet(dates)\n",
    "\n",
    "    if keep_date:\n",
    "        for col in date_columns:\n",
    "            df[col] = pd.to_datetime(df[col])\n",
    "            # df['day'] = df[col].dt.day\n",
    "            df['month'] = df[col].dt.month\n",
    "            # df['year'] = df['date'].dt.year\n",
    "            df.drop([col], axis=1, inplace=True)\n",
    "    else:\n",
    "        for col in date_columns:\n",
    "            df.drop([col], axis=1, inplace=True)\n",
    "\n",
    "    return df"
   ]
  },
  {
   "cell_type": "code",
   "execution_count": 43,
   "metadata": {},
   "outputs": [],
   "source": [
    "name = \"xgboost\"\n",
    "dataset_path = \"data/\"\n",
    "\n",
    "X = pd.read_csv(dataset_path + \"bg.csv\")\n",
    "y = pd.read_csv(dataset_path + \"bg_target.csv\")\n",
    "\n",
    "X.drop(['Unnamed: 0', '0', '1'], axis=1, inplace=True) # IZBACIO SAM DATUME OVDE\n",
    "X = handle_dates(X, keep_date=True)\n",
    "y.drop(['Unnamed: 0'], axis=1, inplace=True)"
   ]
  },
  {
   "cell_type": "code",
   "execution_count": 44,
   "metadata": {},
   "outputs": [],
   "source": [
    "def predict_three_days(X, X_test, y):\n",
    "    model = get_model(name)\n",
    "    model.fit(X, y['0'])\n",
    "    yhat1 = model.predict(X_test)\n",
    "    yhat1[yhat1 < 0] = 0\n",
    "\n",
    "\n",
    "    X = X.iloc[:, 29:]\n",
    "    X['day11'] = yhat1\n",
    "\n",
    "    model = get_model(name)\n",
    "    model.fit(X, y['1'])\n",
    "    yhat2 = model.predict(X_test)\n",
    "    yhat2[yhat2 < 0] = 0\n",
    "\n",
    "\n",
    "    X = X.iloc[:, 29:]\n",
    "    X['day12'] = yhat2\n",
    "\n",
    "    model = get_model(name)\n",
    "    model.fit(X, y['2'])\n",
    "    yhat3 = model.predict(X_test)\n",
    "    yhat3[yhat3 < 0] = 0\n",
    "\n",
    "    return yhat1, yhat2, yhat3"
   ]
  },
  {
   "cell_type": "code",
   "execution_count": 48,
   "metadata": {},
   "outputs": [
    {
     "ename": "KeyError",
     "evalue": "'2'",
     "output_type": "error",
     "traceback": [
      "\u001b[1;31m---------------------------------------------------------------------------\u001b[0m",
      "\u001b[1;31mKeyError\u001b[0m                                  Traceback (most recent call last)",
      "File \u001b[1;32m~\\AppData\\Roaming\\Python\\Python39\\site-packages\\pandas\\core\\indexes\\base.py:3803\u001b[0m, in \u001b[0;36mIndex.get_loc\u001b[1;34m(self, key, method, tolerance)\u001b[0m\n\u001b[0;32m   3802\u001b[0m \u001b[39mtry\u001b[39;00m:\n\u001b[1;32m-> 3803\u001b[0m     \u001b[39mreturn\u001b[39;00m \u001b[39mself\u001b[39;49m\u001b[39m.\u001b[39;49m_engine\u001b[39m.\u001b[39;49mget_loc(casted_key)\n\u001b[0;32m   3804\u001b[0m \u001b[39mexcept\u001b[39;00m \u001b[39mKeyError\u001b[39;00m \u001b[39mas\u001b[39;00m err:\n",
      "File \u001b[1;32m~\\AppData\\Roaming\\Python\\Python39\\site-packages\\pandas\\_libs\\index.pyx:138\u001b[0m, in \u001b[0;36mpandas._libs.index.IndexEngine.get_loc\u001b[1;34m()\u001b[0m\n",
      "File \u001b[1;32m~\\AppData\\Roaming\\Python\\Python39\\site-packages\\pandas\\_libs\\index.pyx:165\u001b[0m, in \u001b[0;36mpandas._libs.index.IndexEngine.get_loc\u001b[1;34m()\u001b[0m\n",
      "File \u001b[1;32mpandas\\_libs\\hashtable_class_helper.pxi:5745\u001b[0m, in \u001b[0;36mpandas._libs.hashtable.PyObjectHashTable.get_item\u001b[1;34m()\u001b[0m\n",
      "File \u001b[1;32mpandas\\_libs\\hashtable_class_helper.pxi:5753\u001b[0m, in \u001b[0;36mpandas._libs.hashtable.PyObjectHashTable.get_item\u001b[1;34m()\u001b[0m\n",
      "\u001b[1;31mKeyError\u001b[0m: '2'",
      "\nThe above exception was the direct cause of the following exception:\n",
      "\u001b[1;31mKeyError\u001b[0m                                  Traceback (most recent call last)",
      "\u001b[1;32mc:\\Users\\DELL\\PycharmProjects\\PraviRep_TheGreatHacka\\training_models.ipynb Cell 7\u001b[0m line \u001b[0;36m7\n\u001b[0;32m      <a href='vscode-notebook-cell:/c%3A/Users/DELL/PycharmProjects/PraviRep_TheGreatHacka/training_models.ipynb#X11sZmlsZQ%3D%3D?line=4'>5</a>\u001b[0m X_test \u001b[39m=\u001b[39m pd\u001b[39m.\u001b[39mread_csv(dataset_test_path \u001b[39m+\u001b[39m file)\n\u001b[0;32m      <a href='vscode-notebook-cell:/c%3A/Users/DELL/PycharmProjects/PraviRep_TheGreatHacka/training_models.ipynb#X11sZmlsZQ%3D%3D?line=5'>6</a>\u001b[0m X_test\u001b[39m.\u001b[39mdrop([\u001b[39m'\u001b[39m\u001b[39mUnnamed: 0\u001b[39m\u001b[39m'\u001b[39m], axis\u001b[39m=\u001b[39m\u001b[39m1\u001b[39m, inplace\u001b[39m=\u001b[39m\u001b[39mTrue\u001b[39;00m) \n\u001b[1;32m----> <a href='vscode-notebook-cell:/c%3A/Users/DELL/PycharmProjects/PraviRep_TheGreatHacka/training_models.ipynb#X11sZmlsZQ%3D%3D?line=6'>7</a>\u001b[0m X_test \u001b[39m=\u001b[39m handle_dates(X_test, keep_date\u001b[39m=\u001b[39;49m\u001b[39mTrue\u001b[39;49;00m)\n",
      "\u001b[1;32mc:\\Users\\DELL\\PycharmProjects\\PraviRep_TheGreatHacka\\training_models.ipynb Cell 7\u001b[0m line \u001b[0;36m1\n\u001b[0;32m      <a href='vscode-notebook-cell:/c%3A/Users/DELL/PycharmProjects/PraviRep_TheGreatHacka/training_models.ipynb#X11sZmlsZQ%3D%3D?line=7'>8</a>\u001b[0m \u001b[39mif\u001b[39;00m keep_date:\n\u001b[0;32m      <a href='vscode-notebook-cell:/c%3A/Users/DELL/PycharmProjects/PraviRep_TheGreatHacka/training_models.ipynb#X11sZmlsZQ%3D%3D?line=8'>9</a>\u001b[0m     \u001b[39mfor\u001b[39;00m col \u001b[39min\u001b[39;00m date_columns:\n\u001b[1;32m---> <a href='vscode-notebook-cell:/c%3A/Users/DELL/PycharmProjects/PraviRep_TheGreatHacka/training_models.ipynb#X11sZmlsZQ%3D%3D?line=9'>10</a>\u001b[0m         df[col] \u001b[39m=\u001b[39m pd\u001b[39m.\u001b[39mto_datetime(df[col])\n\u001b[0;32m     <a href='vscode-notebook-cell:/c%3A/Users/DELL/PycharmProjects/PraviRep_TheGreatHacka/training_models.ipynb#X11sZmlsZQ%3D%3D?line=10'>11</a>\u001b[0m         \u001b[39m# df['day'] = df[col].dt.day\u001b[39;00m\n\u001b[0;32m     <a href='vscode-notebook-cell:/c%3A/Users/DELL/PycharmProjects/PraviRep_TheGreatHacka/training_models.ipynb#X11sZmlsZQ%3D%3D?line=11'>12</a>\u001b[0m         df[\u001b[39m'\u001b[39m\u001b[39mmonth\u001b[39m\u001b[39m'\u001b[39m] \u001b[39m=\u001b[39m df[col]\u001b[39m.\u001b[39mdt\u001b[39m.\u001b[39mmonth\n",
      "File \u001b[1;32m~\\AppData\\Roaming\\Python\\Python39\\site-packages\\pandas\\core\\frame.py:3804\u001b[0m, in \u001b[0;36mDataFrame.__getitem__\u001b[1;34m(self, key)\u001b[0m\n\u001b[0;32m   3802\u001b[0m \u001b[39mif\u001b[39;00m \u001b[39mself\u001b[39m\u001b[39m.\u001b[39mcolumns\u001b[39m.\u001b[39mnlevels \u001b[39m>\u001b[39m \u001b[39m1\u001b[39m:\n\u001b[0;32m   3803\u001b[0m     \u001b[39mreturn\u001b[39;00m \u001b[39mself\u001b[39m\u001b[39m.\u001b[39m_getitem_multilevel(key)\n\u001b[1;32m-> 3804\u001b[0m indexer \u001b[39m=\u001b[39m \u001b[39mself\u001b[39;49m\u001b[39m.\u001b[39;49mcolumns\u001b[39m.\u001b[39;49mget_loc(key)\n\u001b[0;32m   3805\u001b[0m \u001b[39mif\u001b[39;00m is_integer(indexer):\n\u001b[0;32m   3806\u001b[0m     indexer \u001b[39m=\u001b[39m [indexer]\n",
      "File \u001b[1;32m~\\AppData\\Roaming\\Python\\Python39\\site-packages\\pandas\\core\\indexes\\base.py:3805\u001b[0m, in \u001b[0;36mIndex.get_loc\u001b[1;34m(self, key, method, tolerance)\u001b[0m\n\u001b[0;32m   3803\u001b[0m     \u001b[39mreturn\u001b[39;00m \u001b[39mself\u001b[39m\u001b[39m.\u001b[39m_engine\u001b[39m.\u001b[39mget_loc(casted_key)\n\u001b[0;32m   3804\u001b[0m \u001b[39mexcept\u001b[39;00m \u001b[39mKeyError\u001b[39;00m \u001b[39mas\u001b[39;00m err:\n\u001b[1;32m-> 3805\u001b[0m     \u001b[39mraise\u001b[39;00m \u001b[39mKeyError\u001b[39;00m(key) \u001b[39mfrom\u001b[39;00m \u001b[39merr\u001b[39;00m\n\u001b[0;32m   3806\u001b[0m \u001b[39mexcept\u001b[39;00m \u001b[39mTypeError\u001b[39;00m:\n\u001b[0;32m   3807\u001b[0m     \u001b[39m# If we have a listlike key, _check_indexing_error will raise\u001b[39;00m\n\u001b[0;32m   3808\u001b[0m     \u001b[39m#  InvalidIndexError. Otherwise we fall through and re-raise\u001b[39;00m\n\u001b[0;32m   3809\u001b[0m     \u001b[39m#  the TypeError.\u001b[39;00m\n\u001b[0;32m   3810\u001b[0m     \u001b[39mself\u001b[39m\u001b[39m.\u001b[39m_check_indexing_error(key)\n",
      "\u001b[1;31mKeyError\u001b[0m: '2'"
     ]
    }
   ],
   "source": [
    "dataset_test_path = \"data/test/\"\n",
    "import os\n",
    "\n",
    "for file in os.listdir(dataset_test_path):\n",
    "    X_test = pd.read_csv(dataset_test_path + file)"
   ]
  },
  {
   "cell_type": "code",
   "execution_count": null,
   "metadata": {},
   "outputs": [],
   "source": []
  },
  {
   "cell_type": "code",
   "execution_count": null,
   "metadata": {},
   "outputs": [],
   "source": []
  }
 ],
 "metadata": {
  "kernelspec": {
   "display_name": "Python 3",
   "language": "python",
   "name": "python3"
  },
  "language_info": {
   "codemirror_mode": {
    "name": "ipython",
    "version": 3
   },
   "file_extension": ".py",
   "mimetype": "text/x-python",
   "name": "python",
   "nbconvert_exporter": "python",
   "pygments_lexer": "ipython3",
   "version": "3.9.0"
  }
 },
 "nbformat": 4,
 "nbformat_minor": 2
}
