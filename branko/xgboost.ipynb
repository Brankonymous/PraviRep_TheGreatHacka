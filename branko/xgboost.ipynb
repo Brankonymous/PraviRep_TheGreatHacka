{
 "cells": [
  {
   "cell_type": "code",
   "execution_count": 355,
   "metadata": {},
   "outputs": [],
   "source": [
    "import pandas as pd\n",
    "import numpy as np\n",
    "import matplotlib.pyplot as plt\n",
    "import seaborn as sns\n",
    "import os\n",
    "import prophet\n",
    "import itertools\n",
    "from prophet.diagnostics import cross_validation, performance_metrics\n",
    "from prophet.serialize import model_to_json, model_from_json"
   ]
  },
  {
   "cell_type": "code",
   "execution_count": 356,
   "metadata": {},
   "outputs": [],
   "source": [
    "dataset_path = '../data/'\n",
    "\n",
    "pollen_test = pd.read_csv(dataset_path + 'new_pollen_test.csv')\n",
    "pollen_val = pd.read_csv(dataset_path + 'new_pollen_val.csv')\n",
    "pollen_train = pd.read_csv(dataset_path + 'new_pollen_train.csv')\n",
    "pollen_type = pd.read_csv(dataset_path + 'pollen-type.csv')\n",
    "submission_example = pd.read_csv(dataset_path + 'submission_example.csv')\n",
    "weather_data = pd.read_csv(dataset_path + 'weather_data.csv')"
   ]
  },
  {
   "cell_type": "code",
   "execution_count": 357,
   "metadata": {},
   "outputs": [
    {
     "name": "stdout",
     "output_type": "stream",
     "text": [
      "0.0\n"
     ]
    }
   ],
   "source": [
    "print(max(pollen_train.AMBROSIA))"
   ]
  },
  {
   "cell_type": "code",
   "execution_count": 358,
   "metadata": {},
   "outputs": [],
   "source": [
    "# make index column\n",
    "pollen_train['date_idx'] = [i for i in range(len(pollen_train))]\n",
    "pollen_val['date_idx'] = [i for i in range(len(pollen_val))]\n",
    "pollen_test['date_idx'] = [i for i in range(len(pollen_test))]"
   ]
  },
  {
   "cell_type": "code",
   "execution_count": 359,
   "metadata": {},
   "outputs": [],
   "source": [
    "pollen_train.drop(['date'], axis=1, inplace=True)\n",
    "pollen_val.drop(['date'], axis=1, inplace=True)\n",
    "pollen_test.drop(['date'], axis=1, inplace=True)"
   ]
  },
  {
   "cell_type": "code",
   "execution_count": 360,
   "metadata": {},
   "outputs": [
    {
     "data": {
      "text/plain": [
       "(355, 27)"
      ]
     },
     "execution_count": 360,
     "metadata": {},
     "output_type": "execute_result"
    }
   ],
   "source": [
    "pollen_train.shape"
   ]
  },
  {
   "cell_type": "code",
   "execution_count": 361,
   "metadata": {},
   "outputs": [
    {
     "data": {
      "text/plain": [
       "(112, 28)"
      ]
     },
     "execution_count": 361,
     "metadata": {},
     "output_type": "execute_result"
    }
   ],
   "source": [
    "pollen_test.shape"
   ]
  },
  {
   "cell_type": "markdown",
   "metadata": {},
   "source": [
    "## Model"
   ]
  },
  {
   "cell_type": "code",
   "execution_count": 362,
   "metadata": {},
   "outputs": [],
   "source": [
    "import warnings\n",
    "import copy\n",
    "warnings.filterwarnings('ignore')"
   ]
  },
  {
   "cell_type": "code",
   "execution_count": 363,
   "metadata": {},
   "outputs": [],
   "source": [
    "columns = pollen_train.columns\n",
    "batch_id = pollen_test['batch_id']"
   ]
  },
  {
   "cell_type": "code",
   "execution_count": 364,
   "metadata": {},
   "outputs": [
    {
     "data": {
      "text/plain": [
       "0        1\n",
       "1        2\n",
       "2        3\n",
       "3        4\n",
       "4        5\n",
       "      ... \n",
       "107    108\n",
       "108    109\n",
       "109    110\n",
       "110    111\n",
       "111    112\n",
       "Name: batch_id, Length: 112, dtype: int64"
      ]
     },
     "execution_count": 364,
     "metadata": {},
     "output_type": "execute_result"
    }
   ],
   "source": [
    "batch_id"
   ]
  },
  {
   "cell_type": "code",
   "execution_count": 365,
   "metadata": {},
   "outputs": [],
   "source": [
    "ans_columns = pd.DataFrame(columns=['batch_id', '1 day prediction', '2 days prediction', '3 days prediction'])\n",
    "ans_columns['batch_id'] = [val for val in batch_id]"
   ]
  },
  {
   "cell_type": "code",
   "execution_count": 372,
   "metadata": {},
   "outputs": [
    {
     "name": "stdout",
     "output_type": "stream",
     "text": [
      "80    1.381250\n",
      "81    0.900000\n",
      "82    2.887500\n",
      "83    1.856250\n",
      "84    4.728125\n",
      "85    6.971875\n",
      "86    2.425000\n",
      "87    3.293750\n",
      "88    0.409375\n",
      "89    6.659375\n",
      "Name: AMBROSIA, dtype: float64 [1.8239978e-16 1.8239978e-16 1.8239978e-16 1.8239978e-16 1.8239978e-16\n",
      " 1.8239978e-16 1.8239978e-16 1.8239978e-16 1.8239978e-16 1.8239978e-16]\n"
     ]
    }
   ],
   "source": [
    "pollen_test_copy = copy.deepcopy(pollen_test)\n",
    "\n",
    "for idx, column in enumerate(columns):\n",
    "    if column == 'date_idx':\n",
    "        continue\n",
    "    batch_id = pollen_test.drop(['batch_id'], axis=1)\n",
    "    test_column = pollen_test.drop([column], axis=1)\n",
    "    \n",
    "    model = xgb.XGBRegressor()\n",
    "\n",
    "    train_data = copy.deepcopy(pollen_train).drop([column], axis=1)\n",
    "    model.fit(train_data, pollen_val[column])\n",
    "\n",
    "    col_ans = model.predict(pollen_test.iloc[:, ~pollen_test.columns.isin([column, 'batch_id'])])\n",
    "\n",
    "    if column == 'AMBROSIA':\n",
    "        ans_columns['1 day prediction'] = [int(val) for val in col_ans]\n",
    "        print(pollen_test[column][80:90], col_ans[80:90])\n",
    "\n",
    "    pollen_test_copy[column] = (pollen_test_copy[column] + col_ans) / 2\n",
    "\n",
    "pollen_test = copy.deepcopy(pollen_test_copy)"
   ]
  },
  {
   "cell_type": "code",
   "execution_count": 328,
   "metadata": {},
   "outputs": [],
   "source": [
    "pollen_test_copy = copy.deepcopy(pollen_test)\n",
    "\n",
    "for idx, column in enumerate(columns):\n",
    "    if column == 'date_idx':\n",
    "        continue\n",
    "    batch_id = pollen_test.drop(['batch_id'], axis=1)\n",
    "    test_column = pollen_test.drop([column], axis=1)\n",
    "    \n",
    "    model = xgb.XGBRegressor()\n",
    "\n",
    "    train_data = copy.deepcopy(pollen_train).drop([column], axis=1)\n",
    "    model.fit(train_data, pollen_val[column])\n",
    "\n",
    "    col_ans = model.predict(pollen_test.iloc[:, ~pollen_test.columns.isin([column, 'batch_id'])])\n",
    "\n",
    "    if column == 'AMBROSIA':\n",
    "        ans_columns['2 days prediction'] = [int(val) for val in col_ans]\n",
    "\n",
    "    pollen_test_copy[column] = (pollen_test_copy[column] + col_ans) / 2\n",
    "\n",
    "pollen_test = copy.deepcopy(pollen_test_copy)"
   ]
  },
  {
   "cell_type": "code",
   "execution_count": 329,
   "metadata": {},
   "outputs": [],
   "source": [
    "pollen_test_copy = copy.deepcopy(pollen_test)\n",
    "\n",
    "for idx, column in enumerate(columns):\n",
    "    if column == 'date_idx':\n",
    "        continue\n",
    "    batch_id = pollen_test.drop(['batch_id'], axis=1)\n",
    "    test_column = pollen_test.drop([column], axis=1)\n",
    "    \n",
    "    model = xgb.XGBRegressor()\n",
    "\n",
    "    train_data = copy.deepcopy(pollen_train).drop([column], axis=1)\n",
    "    model.fit(train_data, pollen_val[column])\n",
    "\n",
    "    col_ans = model.predict(pollen_test.iloc[:, ~pollen_test.columns.isin([column, 'batch_id'])])\n",
    "\n",
    "    if column == 'AMBROSIA':\n",
    "        ans_columns['3 days prediction'] = [int(val) for val in col_ans]\n",
    "\n",
    "    pollen_test_copy[column] = (pollen_test_copy[column] + col_ans) / 2\n",
    "\n",
    "pollen_test = copy.deepcopy(pollen_test_copy)"
   ]
  },
  {
   "cell_type": "code",
   "execution_count": 330,
   "metadata": {},
   "outputs": [
    {
     "data": {
      "text/html": [
       "<div>\n",
       "<style scoped>\n",
       "    .dataframe tbody tr th:only-of-type {\n",
       "        vertical-align: middle;\n",
       "    }\n",
       "\n",
       "    .dataframe tbody tr th {\n",
       "        vertical-align: top;\n",
       "    }\n",
       "\n",
       "    .dataframe thead th {\n",
       "        text-align: right;\n",
       "    }\n",
       "</style>\n",
       "<table border=\"1\" class=\"dataframe\">\n",
       "  <thead>\n",
       "    <tr style=\"text-align: right;\">\n",
       "      <th></th>\n",
       "      <th>batch_id</th>\n",
       "      <th>1 day prediction</th>\n",
       "      <th>2 days prediction</th>\n",
       "      <th>3 days prediction</th>\n",
       "    </tr>\n",
       "  </thead>\n",
       "  <tbody>\n",
       "    <tr>\n",
       "      <th>70</th>\n",
       "      <td>71</td>\n",
       "      <td>0</td>\n",
       "      <td>0</td>\n",
       "      <td>0</td>\n",
       "    </tr>\n",
       "    <tr>\n",
       "      <th>71</th>\n",
       "      <td>72</td>\n",
       "      <td>0</td>\n",
       "      <td>0</td>\n",
       "      <td>0</td>\n",
       "    </tr>\n",
       "    <tr>\n",
       "      <th>72</th>\n",
       "      <td>73</td>\n",
       "      <td>0</td>\n",
       "      <td>0</td>\n",
       "      <td>0</td>\n",
       "    </tr>\n",
       "    <tr>\n",
       "      <th>73</th>\n",
       "      <td>74</td>\n",
       "      <td>0</td>\n",
       "      <td>0</td>\n",
       "      <td>0</td>\n",
       "    </tr>\n",
       "    <tr>\n",
       "      <th>74</th>\n",
       "      <td>75</td>\n",
       "      <td>0</td>\n",
       "      <td>0</td>\n",
       "      <td>0</td>\n",
       "    </tr>\n",
       "    <tr>\n",
       "      <th>75</th>\n",
       "      <td>76</td>\n",
       "      <td>0</td>\n",
       "      <td>0</td>\n",
       "      <td>0</td>\n",
       "    </tr>\n",
       "    <tr>\n",
       "      <th>76</th>\n",
       "      <td>77</td>\n",
       "      <td>0</td>\n",
       "      <td>0</td>\n",
       "      <td>0</td>\n",
       "    </tr>\n",
       "    <tr>\n",
       "      <th>77</th>\n",
       "      <td>78</td>\n",
       "      <td>0</td>\n",
       "      <td>0</td>\n",
       "      <td>0</td>\n",
       "    </tr>\n",
       "    <tr>\n",
       "      <th>78</th>\n",
       "      <td>79</td>\n",
       "      <td>0</td>\n",
       "      <td>0</td>\n",
       "      <td>0</td>\n",
       "    </tr>\n",
       "    <tr>\n",
       "      <th>79</th>\n",
       "      <td>80</td>\n",
       "      <td>0</td>\n",
       "      <td>0</td>\n",
       "      <td>0</td>\n",
       "    </tr>\n",
       "    <tr>\n",
       "      <th>80</th>\n",
       "      <td>81</td>\n",
       "      <td>0</td>\n",
       "      <td>0</td>\n",
       "      <td>0</td>\n",
       "    </tr>\n",
       "    <tr>\n",
       "      <th>81</th>\n",
       "      <td>82</td>\n",
       "      <td>0</td>\n",
       "      <td>0</td>\n",
       "      <td>0</td>\n",
       "    </tr>\n",
       "    <tr>\n",
       "      <th>82</th>\n",
       "      <td>83</td>\n",
       "      <td>0</td>\n",
       "      <td>0</td>\n",
       "      <td>0</td>\n",
       "    </tr>\n",
       "    <tr>\n",
       "      <th>83</th>\n",
       "      <td>84</td>\n",
       "      <td>0</td>\n",
       "      <td>0</td>\n",
       "      <td>0</td>\n",
       "    </tr>\n",
       "    <tr>\n",
       "      <th>84</th>\n",
       "      <td>85</td>\n",
       "      <td>0</td>\n",
       "      <td>0</td>\n",
       "      <td>0</td>\n",
       "    </tr>\n",
       "    <tr>\n",
       "      <th>85</th>\n",
       "      <td>86</td>\n",
       "      <td>0</td>\n",
       "      <td>0</td>\n",
       "      <td>0</td>\n",
       "    </tr>\n",
       "    <tr>\n",
       "      <th>86</th>\n",
       "      <td>87</td>\n",
       "      <td>0</td>\n",
       "      <td>0</td>\n",
       "      <td>0</td>\n",
       "    </tr>\n",
       "    <tr>\n",
       "      <th>87</th>\n",
       "      <td>88</td>\n",
       "      <td>0</td>\n",
       "      <td>0</td>\n",
       "      <td>0</td>\n",
       "    </tr>\n",
       "    <tr>\n",
       "      <th>88</th>\n",
       "      <td>89</td>\n",
       "      <td>0</td>\n",
       "      <td>0</td>\n",
       "      <td>0</td>\n",
       "    </tr>\n",
       "    <tr>\n",
       "      <th>89</th>\n",
       "      <td>90</td>\n",
       "      <td>0</td>\n",
       "      <td>0</td>\n",
       "      <td>0</td>\n",
       "    </tr>\n",
       "  </tbody>\n",
       "</table>\n",
       "</div>"
      ],
      "text/plain": [
       "    batch_id  1 day prediction  2 days prediction  3 days prediction\n",
       "70        71                 0                  0                  0\n",
       "71        72                 0                  0                  0\n",
       "72        73                 0                  0                  0\n",
       "73        74                 0                  0                  0\n",
       "74        75                 0                  0                  0\n",
       "75        76                 0                  0                  0\n",
       "76        77                 0                  0                  0\n",
       "77        78                 0                  0                  0\n",
       "78        79                 0                  0                  0\n",
       "79        80                 0                  0                  0\n",
       "80        81                 0                  0                  0\n",
       "81        82                 0                  0                  0\n",
       "82        83                 0                  0                  0\n",
       "83        84                 0                  0                  0\n",
       "84        85                 0                  0                  0\n",
       "85        86                 0                  0                  0\n",
       "86        87                 0                  0                  0\n",
       "87        88                 0                  0                  0\n",
       "88        89                 0                  0                  0\n",
       "89        90                 0                  0                  0"
      ]
     },
     "execution_count": 330,
     "metadata": {},
     "output_type": "execute_result"
    }
   ],
   "source": [
    "ans_columns[70:90]"
   ]
  }
 ],
 "metadata": {
  "kernelspec": {
   "display_name": "base",
   "language": "python",
   "name": "python3"
  },
  "language_info": {
   "codemirror_mode": {
    "name": "ipython",
    "version": 3
   },
   "file_extension": ".py",
   "mimetype": "text/x-python",
   "name": "python",
   "nbconvert_exporter": "python",
   "pygments_lexer": "ipython3",
   "version": "3.9.7"
  },
  "orig_nbformat": 4
 },
 "nbformat": 4,
 "nbformat_minor": 2
}
