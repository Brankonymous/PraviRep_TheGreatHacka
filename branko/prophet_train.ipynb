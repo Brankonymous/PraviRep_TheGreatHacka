{
 "cells": [
  {
   "cell_type": "code",
   "execution_count": 1,
   "metadata": {},
   "outputs": [],
   "source": [
    "import pandas as pd\n",
    "import numpy as np\n",
    "import matplotlib.pyplot as plt\n",
    "import seaborn as sns\n",
    "import os\n",
    "import prophet\n",
    "import itertools\n",
    "from prophet.diagnostics import cross_validation, performance_metrics\n",
    "from prophet.serialize import model_to_json, model_from_json"
   ]
  },
  {
   "cell_type": "code",
   "execution_count": 2,
   "metadata": {},
   "outputs": [],
   "source": [
    "dataset_path = '../data/'\n",
    "\n",
    "pollen_test = pd.read_csv(dataset_path + 'pollen_test.csv')\n",
    "pollen_train = pd.read_csv(dataset_path + 'pollen_and_weather_train.csv')\n",
    "pollen_type = pd.read_csv(dataset_path + 'pollen-type.csv')\n",
    "submission_example = pd.read_csv(dataset_path + 'submission_example.csv')\n",
    "weather_data = pd.read_csv(dataset_path + 'weather_data.csv')"
   ]
  },
  {
   "cell_type": "code",
   "execution_count": 3,
   "metadata": {},
   "outputs": [
    {
     "name": "stdout",
     "output_type": "stream",
     "text": [
      "1270\n"
     ]
    }
   ],
   "source": [
    "pollen_train.head()\n",
    "\n",
    "print(max(pollen_train.AMBROSIA))"
   ]
  },
  {
   "cell_type": "code",
   "execution_count": 4,
   "metadata": {},
   "outputs": [
    {
     "data": {
      "text/html": [
       "<div>\n",
       "<style scoped>\n",
       "    .dataframe tbody tr th:only-of-type {\n",
       "        vertical-align: middle;\n",
       "    }\n",
       "\n",
       "    .dataframe tbody tr th {\n",
       "        vertical-align: top;\n",
       "    }\n",
       "\n",
       "    .dataframe thead th {\n",
       "        text-align: right;\n",
       "    }\n",
       "</style>\n",
       "<table border=\"1\" class=\"dataframe\">\n",
       "  <thead>\n",
       "    <tr style=\"text-align: right;\">\n",
       "      <th></th>\n",
       "      <th>date</th>\n",
       "      <th>Unnamed: 0</th>\n",
       "      <th>ACER</th>\n",
       "      <th>ALNUS</th>\n",
       "      <th>AMBROSIA</th>\n",
       "      <th>ARTEMISIA</th>\n",
       "      <th>BETULA</th>\n",
       "      <th>CANNABACEAE</th>\n",
       "      <th>CARPINUS</th>\n",
       "      <th>CELTIS</th>\n",
       "      <th>...</th>\n",
       "      <th>QUERCUS</th>\n",
       "      <th>RUMEX</th>\n",
       "      <th>SALIX</th>\n",
       "      <th>TILIA</th>\n",
       "      <th>ULMACEAE</th>\n",
       "      <th>URTICACEAE</th>\n",
       "      <th>tavg</th>\n",
       "      <th>wdir</th>\n",
       "      <th>wspd</th>\n",
       "      <th>pres</th>\n",
       "    </tr>\n",
       "  </thead>\n",
       "  <tbody>\n",
       "    <tr>\n",
       "      <th>0</th>\n",
       "      <td>2016-02-01</td>\n",
       "      <td>20824</td>\n",
       "      <td>0</td>\n",
       "      <td>38</td>\n",
       "      <td>0</td>\n",
       "      <td>0</td>\n",
       "      <td>0</td>\n",
       "      <td>0</td>\n",
       "      <td>0</td>\n",
       "      <td>0</td>\n",
       "      <td>...</td>\n",
       "      <td>0</td>\n",
       "      <td>0</td>\n",
       "      <td>0</td>\n",
       "      <td>0</td>\n",
       "      <td>0</td>\n",
       "      <td>0</td>\n",
       "      <td>34.773333</td>\n",
       "      <td>1257.500000</td>\n",
       "      <td>63.195000</td>\n",
       "      <td>6075.153846</td>\n",
       "    </tr>\n",
       "    <tr>\n",
       "      <th>1</th>\n",
       "      <td>2016-02-02</td>\n",
       "      <td>21095</td>\n",
       "      <td>0</td>\n",
       "      <td>117</td>\n",
       "      <td>0</td>\n",
       "      <td>0</td>\n",
       "      <td>0</td>\n",
       "      <td>0</td>\n",
       "      <td>0</td>\n",
       "      <td>0</td>\n",
       "      <td>...</td>\n",
       "      <td>0</td>\n",
       "      <td>0</td>\n",
       "      <td>0</td>\n",
       "      <td>0</td>\n",
       "      <td>2</td>\n",
       "      <td>0</td>\n",
       "      <td>55.004444</td>\n",
       "      <td>1314.250000</td>\n",
       "      <td>82.460000</td>\n",
       "      <td>7095.602500</td>\n",
       "    </tr>\n",
       "    <tr>\n",
       "      <th>2</th>\n",
       "      <td>2016-02-03</td>\n",
       "      <td>21102</td>\n",
       "      <td>2</td>\n",
       "      <td>65</td>\n",
       "      <td>0</td>\n",
       "      <td>0</td>\n",
       "      <td>0</td>\n",
       "      <td>0</td>\n",
       "      <td>0</td>\n",
       "      <td>0</td>\n",
       "      <td>...</td>\n",
       "      <td>0</td>\n",
       "      <td>0</td>\n",
       "      <td>0</td>\n",
       "      <td>0</td>\n",
       "      <td>8</td>\n",
       "      <td>0</td>\n",
       "      <td>58.370455</td>\n",
       "      <td>1537.030303</td>\n",
       "      <td>83.905405</td>\n",
       "      <td>7094.087179</td>\n",
       "    </tr>\n",
       "    <tr>\n",
       "      <th>3</th>\n",
       "      <td>2016-02-04</td>\n",
       "      <td>21109</td>\n",
       "      <td>0</td>\n",
       "      <td>9</td>\n",
       "      <td>0</td>\n",
       "      <td>0</td>\n",
       "      <td>0</td>\n",
       "      <td>0</td>\n",
       "      <td>0</td>\n",
       "      <td>0</td>\n",
       "      <td>...</td>\n",
       "      <td>0</td>\n",
       "      <td>0</td>\n",
       "      <td>0</td>\n",
       "      <td>0</td>\n",
       "      <td>1</td>\n",
       "      <td>0</td>\n",
       "      <td>42.875000</td>\n",
       "      <td>1585.705882</td>\n",
       "      <td>77.368421</td>\n",
       "      <td>7109.275676</td>\n",
       "    </tr>\n",
       "    <tr>\n",
       "      <th>4</th>\n",
       "      <td>2016-02-05</td>\n",
       "      <td>21116</td>\n",
       "      <td>0</td>\n",
       "      <td>21</td>\n",
       "      <td>0</td>\n",
       "      <td>0</td>\n",
       "      <td>0</td>\n",
       "      <td>0</td>\n",
       "      <td>0</td>\n",
       "      <td>0</td>\n",
       "      <td>...</td>\n",
       "      <td>0</td>\n",
       "      <td>0</td>\n",
       "      <td>0</td>\n",
       "      <td>0</td>\n",
       "      <td>0</td>\n",
       "      <td>0</td>\n",
       "      <td>34.522727</td>\n",
       "      <td>1732.387097</td>\n",
       "      <td>79.289189</td>\n",
       "      <td>7122.713889</td>\n",
       "    </tr>\n",
       "  </tbody>\n",
       "</table>\n",
       "<p>5 rows × 32 columns</p>\n",
       "</div>"
      ],
      "text/plain": [
       "        date  Unnamed: 0  ACER  ALNUS  AMBROSIA  ARTEMISIA  BETULA  \\\n",
       "0 2016-02-01       20824     0     38         0          0       0   \n",
       "1 2016-02-02       21095     0    117         0          0       0   \n",
       "2 2016-02-03       21102     2     65         0          0       0   \n",
       "3 2016-02-04       21109     0      9         0          0       0   \n",
       "4 2016-02-05       21116     0     21         0          0       0   \n",
       "\n",
       "   CANNABACEAE  CARPINUS  CELTIS  ...  QUERCUS  RUMEX  SALIX  TILIA  ULMACEAE  \\\n",
       "0            0         0       0  ...        0      0      0      0         0   \n",
       "1            0         0       0  ...        0      0      0      0         2   \n",
       "2            0         0       0  ...        0      0      0      0         8   \n",
       "3            0         0       0  ...        0      0      0      0         1   \n",
       "4            0         0       0  ...        0      0      0      0         0   \n",
       "\n",
       "   URTICACEAE       tavg         wdir       wspd         pres  \n",
       "0           0  34.773333  1257.500000  63.195000  6075.153846  \n",
       "1           0  55.004444  1314.250000  82.460000  7095.602500  \n",
       "2           0  58.370455  1537.030303  83.905405  7094.087179  \n",
       "3           0  42.875000  1585.705882  77.368421  7109.275676  \n",
       "4           0  34.522727  1732.387097  79.289189  7122.713889  \n",
       "\n",
       "[5 rows x 32 columns]"
      ]
     },
     "execution_count": 4,
     "metadata": {},
     "output_type": "execute_result"
    }
   ],
   "source": [
    "# fill nonexisting dates with 0 for every column\n",
    "\n",
    "pollen_train['date'] = pd.to_datetime(pollen_train['date'])\n",
    "pollen_train = pollen_train.set_index('date')\n",
    "pollen_train = pollen_train.resample('D').sum()\n",
    "pollen_train = pollen_train.reset_index()\n",
    "pollen_train['date'] = pd.to_datetime(pollen_train['date'])\n",
    "\n",
    "pollen_train.head()"
   ]
  },
  {
   "cell_type": "code",
   "execution_count": 5,
   "metadata": {},
   "outputs": [
    {
     "data": {
      "text/html": [
       "<div>\n",
       "<style scoped>\n",
       "    .dataframe tbody tr th:only-of-type {\n",
       "        vertical-align: middle;\n",
       "    }\n",
       "\n",
       "    .dataframe tbody tr th {\n",
       "        vertical-align: top;\n",
       "    }\n",
       "\n",
       "    .dataframe thead th {\n",
       "        text-align: right;\n",
       "    }\n",
       "</style>\n",
       "<table border=\"1\" class=\"dataframe\">\n",
       "  <thead>\n",
       "    <tr style=\"text-align: right;\">\n",
       "      <th></th>\n",
       "      <th>ACER</th>\n",
       "      <th>ALNUS</th>\n",
       "      <th>ARTEMISIA</th>\n",
       "      <th>BETULA</th>\n",
       "      <th>CANNABACEAE</th>\n",
       "      <th>CARPINUS</th>\n",
       "      <th>CELTIS</th>\n",
       "      <th>CHENOP/AMAR.</th>\n",
       "      <th>CORYLUS</th>\n",
       "      <th>CUPRESS/TAXA.</th>\n",
       "      <th>...</th>\n",
       "      <th>ULMACEAE</th>\n",
       "      <th>URTICACEAE</th>\n",
       "      <th>tavg</th>\n",
       "      <th>wdir</th>\n",
       "      <th>wspd</th>\n",
       "      <th>pres</th>\n",
       "      <th>ds</th>\n",
       "      <th>y</th>\n",
       "      <th>cap</th>\n",
       "      <th>floor</th>\n",
       "    </tr>\n",
       "  </thead>\n",
       "  <tbody>\n",
       "    <tr>\n",
       "      <th>0</th>\n",
       "      <td>0</td>\n",
       "      <td>38</td>\n",
       "      <td>0</td>\n",
       "      <td>0</td>\n",
       "      <td>0</td>\n",
       "      <td>0</td>\n",
       "      <td>0</td>\n",
       "      <td>0</td>\n",
       "      <td>167</td>\n",
       "      <td>9</td>\n",
       "      <td>...</td>\n",
       "      <td>0</td>\n",
       "      <td>0</td>\n",
       "      <td>34.773333</td>\n",
       "      <td>1257.500000</td>\n",
       "      <td>63.195000</td>\n",
       "      <td>6075.153846</td>\n",
       "      <td>2016-02-01</td>\n",
       "      <td>0</td>\n",
       "      <td>2500</td>\n",
       "      <td>0</td>\n",
       "    </tr>\n",
       "    <tr>\n",
       "      <th>1</th>\n",
       "      <td>0</td>\n",
       "      <td>117</td>\n",
       "      <td>0</td>\n",
       "      <td>0</td>\n",
       "      <td>0</td>\n",
       "      <td>0</td>\n",
       "      <td>0</td>\n",
       "      <td>0</td>\n",
       "      <td>300</td>\n",
       "      <td>133</td>\n",
       "      <td>...</td>\n",
       "      <td>2</td>\n",
       "      <td>0</td>\n",
       "      <td>55.004444</td>\n",
       "      <td>1314.250000</td>\n",
       "      <td>82.460000</td>\n",
       "      <td>7095.602500</td>\n",
       "      <td>2016-02-02</td>\n",
       "      <td>0</td>\n",
       "      <td>2500</td>\n",
       "      <td>0</td>\n",
       "    </tr>\n",
       "    <tr>\n",
       "      <th>2</th>\n",
       "      <td>2</td>\n",
       "      <td>65</td>\n",
       "      <td>0</td>\n",
       "      <td>0</td>\n",
       "      <td>0</td>\n",
       "      <td>0</td>\n",
       "      <td>0</td>\n",
       "      <td>0</td>\n",
       "      <td>517</td>\n",
       "      <td>119</td>\n",
       "      <td>...</td>\n",
       "      <td>8</td>\n",
       "      <td>0</td>\n",
       "      <td>58.370455</td>\n",
       "      <td>1537.030303</td>\n",
       "      <td>83.905405</td>\n",
       "      <td>7094.087179</td>\n",
       "      <td>2016-02-03</td>\n",
       "      <td>0</td>\n",
       "      <td>2500</td>\n",
       "      <td>0</td>\n",
       "    </tr>\n",
       "    <tr>\n",
       "      <th>3</th>\n",
       "      <td>0</td>\n",
       "      <td>9</td>\n",
       "      <td>0</td>\n",
       "      <td>0</td>\n",
       "      <td>0</td>\n",
       "      <td>0</td>\n",
       "      <td>0</td>\n",
       "      <td>0</td>\n",
       "      <td>71</td>\n",
       "      <td>17</td>\n",
       "      <td>...</td>\n",
       "      <td>1</td>\n",
       "      <td>0</td>\n",
       "      <td>42.875000</td>\n",
       "      <td>1585.705882</td>\n",
       "      <td>77.368421</td>\n",
       "      <td>7109.275676</td>\n",
       "      <td>2016-02-04</td>\n",
       "      <td>0</td>\n",
       "      <td>2500</td>\n",
       "      <td>0</td>\n",
       "    </tr>\n",
       "    <tr>\n",
       "      <th>4</th>\n",
       "      <td>0</td>\n",
       "      <td>21</td>\n",
       "      <td>0</td>\n",
       "      <td>0</td>\n",
       "      <td>0</td>\n",
       "      <td>0</td>\n",
       "      <td>0</td>\n",
       "      <td>0</td>\n",
       "      <td>83</td>\n",
       "      <td>10</td>\n",
       "      <td>...</td>\n",
       "      <td>0</td>\n",
       "      <td>0</td>\n",
       "      <td>34.522727</td>\n",
       "      <td>1732.387097</td>\n",
       "      <td>79.289189</td>\n",
       "      <td>7122.713889</td>\n",
       "      <td>2016-02-05</td>\n",
       "      <td>0</td>\n",
       "      <td>2500</td>\n",
       "      <td>0</td>\n",
       "    </tr>\n",
       "  </tbody>\n",
       "</table>\n",
       "<p>5 rows × 33 columns</p>\n",
       "</div>"
      ],
      "text/plain": [
       "   ACER  ALNUS  ARTEMISIA  BETULA  CANNABACEAE  CARPINUS  CELTIS  \\\n",
       "0     0     38          0       0            0         0       0   \n",
       "1     0    117          0       0            0         0       0   \n",
       "2     2     65          0       0            0         0       0   \n",
       "3     0      9          0       0            0         0       0   \n",
       "4     0     21          0       0            0         0       0   \n",
       "\n",
       "   CHENOP/AMAR.  CORYLUS  CUPRESS/TAXA.  ...  ULMACEAE  URTICACEAE       tavg  \\\n",
       "0             0      167              9  ...         0           0  34.773333   \n",
       "1             0      300            133  ...         2           0  55.004444   \n",
       "2             0      517            119  ...         8           0  58.370455   \n",
       "3             0       71             17  ...         1           0  42.875000   \n",
       "4             0       83             10  ...         0           0  34.522727   \n",
       "\n",
       "          wdir       wspd         pres         ds  y   cap  floor  \n",
       "0  1257.500000  63.195000  6075.153846 2016-02-01  0  2500      0  \n",
       "1  1314.250000  82.460000  7095.602500 2016-02-02  0  2500      0  \n",
       "2  1537.030303  83.905405  7094.087179 2016-02-03  0  2500      0  \n",
       "3  1585.705882  77.368421  7109.275676 2016-02-04  0  2500      0  \n",
       "4  1732.387097  79.289189  7122.713889 2016-02-05  0  2500      0  \n",
       "\n",
       "[5 rows x 33 columns]"
      ]
     },
     "execution_count": 5,
     "metadata": {},
     "output_type": "execute_result"
    }
   ],
   "source": [
    "# pick 'date' and 'AMBROSIA' columns and change their name to 'ds' and 'y' respectively\n",
    "# deep copy the dataframe\n",
    "\n",
    "pollen_df = pollen_train.copy()\n",
    "\n",
    "# change the column names\n",
    "pollen_df['ds'] = pollen_df['date']\n",
    "pollen_df['y'] = pollen_df['AMBROSIA']\n",
    "\n",
    "pollen_df.drop(['Unnamed: 0', 'date', 'AMBROSIA'], axis=1, inplace=True)\n",
    "\n",
    "pollen_df['cap'] = 2500\n",
    "pollen_df['floor'] = 0\n",
    "\n",
    "pollen_df.head()"
   ]
  },
  {
   "cell_type": "code",
   "execution_count": 6,
   "metadata": {},
   "outputs": [
    {
     "data": {
      "text/plain": [
       "2445"
      ]
     },
     "execution_count": 6,
     "metadata": {},
     "output_type": "execute_result"
    }
   ],
   "source": [
    "max(pollen_df['y'])"
   ]
  },
  {
   "cell_type": "markdown",
   "metadata": {},
   "source": [
    "## Model"
   ]
  },
  {
   "cell_type": "code",
   "execution_count": 7,
   "metadata": {},
   "outputs": [],
   "source": [
    "# Split the data into train and test sets\n",
    "\n",
    "train_df = pollen_df[:int(1*(len(pollen_df)))]\n",
    "test_df = pollen_df[int(1*(len(pollen_df))):]"
   ]
  },
  {
   "cell_type": "code",
   "execution_count": 8,
   "metadata": {},
   "outputs": [
    {
     "name": "stderr",
     "output_type": "stream",
     "text": [
      "00:46:04 - cmdstanpy - INFO - Chain [1] start processing\n",
      "00:46:05 - cmdstanpy - INFO - Chain [1] done processing\n"
     ]
    },
    {
     "data": {
      "text/plain": [
       "<prophet.forecaster.Prophet at 0x252ba6a7d30>"
      ]
     },
     "execution_count": 8,
     "metadata": {},
     "output_type": "execute_result"
    }
   ],
   "source": [
    "# define the model\n",
    "model = prophet.Prophet(growth='logistic', interval_width=0.80)\n",
    "# fit the model\n",
    "model.fit(train_df)"
   ]
  },
  {
   "cell_type": "code",
   "execution_count": 9,
   "metadata": {},
   "outputs": [
    {
     "data": {
      "text/plain": [
       "\"\\nfuture = model.predict(test_df)\\nfuture['cap'] = 2500\\nfuture['floor'] = 0\\nfcst = model.predict(future)\\n\\nfig = model.plot(fcst)\\nfig = model.plot_components(fcst)\\n\""
      ]
     },
     "execution_count": 9,
     "metadata": {},
     "output_type": "execute_result"
    }
   ],
   "source": [
    "'''\n",
    "future = model.predict(test_df)\n",
    "future['cap'] = 2500\n",
    "future['floor'] = 0\n",
    "fcst = model.predict(future)\n",
    "\n",
    "fig = model.plot(fcst)\n",
    "fig = model.plot_components(fcst)\n",
    "'''"
   ]
  },
  {
   "cell_type": "code",
   "execution_count": 10,
   "metadata": {},
   "outputs": [
    {
     "ename": "NameError",
     "evalue": "name 'fcst' is not defined",
     "output_type": "error",
     "traceback": [
      "\u001b[1;31m---------------------------------------------------------------------------\u001b[0m",
      "\u001b[1;31mNameError\u001b[0m                                 Traceback (most recent call last)",
      "\u001b[1;32mf:\\Faculty\\Hackathon\\TheGreatHacka\\PraviRep_TheGreatHacka\\branko\\prophet_train.ipynb Cell 11\u001b[0m line \u001b[0;36m<cell line: 4>\u001b[1;34m()\u001b[0m\n\u001b[0;32m      <a href='vscode-notebook-cell:/f%3A/Faculty/Hackathon/TheGreatHacka/PraviRep_TheGreatHacka/branko/prophet_train.ipynb#X13sZmlsZQ%3D%3D?line=1'>2</a>\u001b[0m ax \u001b[39m=\u001b[39m fig\u001b[39m.\u001b[39madd_subplot(\u001b[39m111\u001b[39m)\n\u001b[0;32m      <a href='vscode-notebook-cell:/f%3A/Faculty/Hackathon/TheGreatHacka/PraviRep_TheGreatHacka/branko/prophet_train.ipynb#X13sZmlsZQ%3D%3D?line=2'>3</a>\u001b[0m ax\u001b[39m.\u001b[39mplot(test_df[\u001b[39m'\u001b[39m\u001b[39mds\u001b[39m\u001b[39m'\u001b[39m], test_df[\u001b[39m'\u001b[39m\u001b[39my\u001b[39m\u001b[39m'\u001b[39m], label\u001b[39m=\u001b[39m\u001b[39m'\u001b[39m\u001b[39my\u001b[39m\u001b[39m'\u001b[39m)\n\u001b[1;32m----> <a href='vscode-notebook-cell:/f%3A/Faculty/Hackathon/TheGreatHacka/PraviRep_TheGreatHacka/branko/prophet_train.ipynb#X13sZmlsZQ%3D%3D?line=3'>4</a>\u001b[0m ax\u001b[39m.\u001b[39mplot(fcst[\u001b[39m'\u001b[39m\u001b[39mds\u001b[39m\u001b[39m'\u001b[39m], fcst[\u001b[39m'\u001b[39m\u001b[39myhat\u001b[39m\u001b[39m'\u001b[39m], label\u001b[39m=\u001b[39m\u001b[39m'\u001b[39m\u001b[39myhat\u001b[39m\u001b[39m'\u001b[39m)\n\u001b[0;32m      <a href='vscode-notebook-cell:/f%3A/Faculty/Hackathon/TheGreatHacka/PraviRep_TheGreatHacka/branko/prophet_train.ipynb#X13sZmlsZQ%3D%3D?line=4'>5</a>\u001b[0m ax\u001b[39m.\u001b[39mfill_between(fcst[\u001b[39m'\u001b[39m\u001b[39mds\u001b[39m\u001b[39m'\u001b[39m], fcst[\u001b[39m'\u001b[39m\u001b[39myhat_lower\u001b[39m\u001b[39m'\u001b[39m], fcst[\u001b[39m'\u001b[39m\u001b[39myhat_upper\u001b[39m\u001b[39m'\u001b[39m], color\u001b[39m=\u001b[39m\u001b[39m'\u001b[39m\u001b[39mk\u001b[39m\u001b[39m'\u001b[39m, alpha\u001b[39m=\u001b[39m\u001b[39m0.25\u001b[39m)\n\u001b[0;32m      <a href='vscode-notebook-cell:/f%3A/Faculty/Hackathon/TheGreatHacka/PraviRep_TheGreatHacka/branko/prophet_train.ipynb#X13sZmlsZQ%3D%3D?line=5'>6</a>\u001b[0m ax\u001b[39m.\u001b[39mset_title(\u001b[39m'\u001b[39m\u001b[39my vs yhat\u001b[39m\u001b[39m'\u001b[39m)\n",
      "\u001b[1;31mNameError\u001b[0m: name 'fcst' is not defined"
     ]
    },
    {
     "data": {
      "image/png": "[encoded data removed]",
      "text/plain": [
       "<Figure size 1080x720 with 1 Axes>"
      ]
     },
     "metadata": {
      "needs_background": "light"
     },
     "output_type": "display_data"
    }
   ],
   "source": [
    "fig = plt.figure(figsize=(15, 10))\n",
    "ax = fig.add_subplot(111)\n",
    "ax.plot(test_df['ds'], test_df['y'], label='y')\n",
    "ax.plot(fcst['ds'], fcst['yhat'], label='yhat')\n",
    "ax.fill_between(fcst['ds'], fcst['yhat_lower'], fcst['yhat_upper'], color='k', alpha=0.25)\n",
    "ax.set_title('y vs yhat')\n",
    "ax.set_xlabel('Date')\n",
    "ax.set_ylabel('Pollen Count')\n",
    "plt.legend(loc='upper left')"
   ]
  },
  {
   "cell_type": "markdown",
   "metadata": {},
   "source": [
    "## Save Model"
   ]
  },
  {
   "cell_type": "code",
   "execution_count": null,
   "metadata": {},
   "outputs": [],
   "source": [
    "with open('../models/prophet.json', 'w') as fout:\n",
    "    fout.write(model_to_json(model))  # Save model"
   ]
  },
  {
   "cell_type": "code",
   "execution_count": null,
   "metadata": {},
   "outputs": [
    {
     "data": {
      "image/png": "[encoded data removed]",
      "text/plain": [
       "<Figure size 720x432 with 1 Axes>"
      ]
     },
     "metadata": {},
     "output_type": "display_data"
    }
   ],
   "source": [
    "future = model.make_future_dataframe(periods=1000)\n",
    "future['cap'] = 2500\n",
    "future['floor'] = 0\n",
    "fcst = model.predict(future)\n",
    "\n",
    "fig = model.plot(fcst)"
   ]
  }
 ],
 "metadata": {
  "kernelspec": {
   "display_name": "base",
   "language": "python",
   "name": "python3"
  },
  "language_info": {
   "codemirror_mode": {
    "name": "ipython",
    "version": 3
   },
   "file_extension": ".py",
   "mimetype": "text/x-python",
   "name": "python",
   "nbconvert_exporter": "python",
   "pygments_lexer": "ipython3",
   "version": "3.9.7"
  },
  "orig_nbformat": 4
 },
 "nbformat": 4,
 "nbformat_minor": 2
}
