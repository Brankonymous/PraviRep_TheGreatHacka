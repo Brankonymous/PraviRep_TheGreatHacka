{
 "cells": [
  {
   "cell_type": "code",
   "execution_count": 77,
   "metadata": {},
   "outputs": [],
   "source": [
    "import pandas as pd\n",
    "import numpy as np\n",
    "import matplotlib.pyplot as plt\n",
    "import seaborn as sns\n",
    "import os\n",
    "import prophet\n",
    "import itertools\n",
    "from prophet.diagnostics import cross_validation, performance_metrics\n",
    "from prophet.serialize import model_to_json, model_from_json\n",
    "import datetime\n",
    "import random"
   ]
  },
  {
   "cell_type": "code",
   "execution_count": 78,
   "metadata": {},
   "outputs": [],
   "source": [
    "dataset_path = '../data/'\n",
    "\n",
    "pollen_test = pd.read_csv(dataset_path + 'pollen_test.csv')\n",
    "pollen_train = pd.read_csv(dataset_path + 'pollen_train.csv')\n",
    "pollen_type = pd.read_csv(dataset_path + 'pollen-type.csv')\n",
    "submission_example = pd.read_csv(dataset_path + 'submission_example.csv')\n",
    "weather_data = pd.read_csv(dataset_path + 'weather_data.csv')"
   ]
  },
  {
   "cell_type": "code",
   "execution_count": 79,
   "metadata": {},
   "outputs": [],
   "source": [
    "with open('../results/prophet.csv', 'w') as f:\n",
    "    f.write('batch_id,1 day prediction,2 days prediction,3 days prediction\\n')"
   ]
  },
  {
   "cell_type": "code",
   "execution_count": 80,
   "metadata": {},
   "outputs": [
    {
     "name": "stdout",
     "output_type": "stream",
     "text": [
      "458\n"
     ]
    }
   ],
   "source": [
    "print(max(pollen_test.AMBROSIA))"
   ]
  },
  {
   "cell_type": "code",
   "execution_count": 81,
   "metadata": {},
   "outputs": [
    {
     "data": {
      "text/html": [
       "<div>\n",
       "<style scoped>\n",
       "    .dataframe tbody tr th:only-of-type {\n",
       "        vertical-align: middle;\n",
       "    }\n",
       "\n",
       "    .dataframe tbody tr th {\n",
       "        vertical-align: top;\n",
       "    }\n",
       "\n",
       "    .dataframe thead th {\n",
       "        text-align: right;\n",
       "    }\n",
       "</style>\n",
       "<table border=\"1\" class=\"dataframe\">\n",
       "  <thead>\n",
       "    <tr style=\"text-align: right;\">\n",
       "      <th></th>\n",
       "      <th>Unnamed: 0</th>\n",
       "      <th>location</th>\n",
       "      <th>date</th>\n",
       "      <th>ACER</th>\n",
       "      <th>ALNUS</th>\n",
       "      <th>AMBROSIA</th>\n",
       "      <th>ARTEMISIA</th>\n",
       "      <th>BETULA</th>\n",
       "      <th>CANNABACEAE</th>\n",
       "      <th>CARPINUS</th>\n",
       "      <th>...</th>\n",
       "      <th>PLATANUS</th>\n",
       "      <th>POACEAE</th>\n",
       "      <th>POPULUS</th>\n",
       "      <th>QUERCUS</th>\n",
       "      <th>RUMEX</th>\n",
       "      <th>SALIX</th>\n",
       "      <th>TILIA</th>\n",
       "      <th>ULMACEAE</th>\n",
       "      <th>URTICACEAE</th>\n",
       "      <th>batch_id</th>\n",
       "    </tr>\n",
       "  </thead>\n",
       "  <tbody>\n",
       "    <tr>\n",
       "      <th>0</th>\n",
       "      <td>0</td>\n",
       "      <td>БЕОГРАД - НОВИ БЕОГРАД</td>\n",
       "      <td>2022-02-14</td>\n",
       "      <td>0</td>\n",
       "      <td>0</td>\n",
       "      <td>0</td>\n",
       "      <td>0</td>\n",
       "      <td>0</td>\n",
       "      <td>0</td>\n",
       "      <td>0</td>\n",
       "      <td>...</td>\n",
       "      <td>0</td>\n",
       "      <td>0</td>\n",
       "      <td>0</td>\n",
       "      <td>0</td>\n",
       "      <td>0</td>\n",
       "      <td>0</td>\n",
       "      <td>0</td>\n",
       "      <td>0</td>\n",
       "      <td>0</td>\n",
       "      <td>1</td>\n",
       "    </tr>\n",
       "    <tr>\n",
       "      <th>1</th>\n",
       "      <td>1</td>\n",
       "      <td>БЕОГРАД - НОВИ БЕОГРАД</td>\n",
       "      <td>2022-02-15</td>\n",
       "      <td>0</td>\n",
       "      <td>5</td>\n",
       "      <td>0</td>\n",
       "      <td>0</td>\n",
       "      <td>6</td>\n",
       "      <td>0</td>\n",
       "      <td>0</td>\n",
       "      <td>...</td>\n",
       "      <td>0</td>\n",
       "      <td>0</td>\n",
       "      <td>6</td>\n",
       "      <td>0</td>\n",
       "      <td>0</td>\n",
       "      <td>0</td>\n",
       "      <td>0</td>\n",
       "      <td>13</td>\n",
       "      <td>0</td>\n",
       "      <td>1</td>\n",
       "    </tr>\n",
       "    <tr>\n",
       "      <th>2</th>\n",
       "      <td>2</td>\n",
       "      <td>БЕОГРАД - НОВИ БЕОГРАД</td>\n",
       "      <td>2022-02-16</td>\n",
       "      <td>0</td>\n",
       "      <td>0</td>\n",
       "      <td>0</td>\n",
       "      <td>0</td>\n",
       "      <td>1</td>\n",
       "      <td>0</td>\n",
       "      <td>0</td>\n",
       "      <td>...</td>\n",
       "      <td>0</td>\n",
       "      <td>0</td>\n",
       "      <td>6</td>\n",
       "      <td>0</td>\n",
       "      <td>0</td>\n",
       "      <td>0</td>\n",
       "      <td>0</td>\n",
       "      <td>13</td>\n",
       "      <td>0</td>\n",
       "      <td>1</td>\n",
       "    </tr>\n",
       "    <tr>\n",
       "      <th>3</th>\n",
       "      <td>3</td>\n",
       "      <td>БЕОГРАД - НОВИ БЕОГРАД</td>\n",
       "      <td>2022-02-17</td>\n",
       "      <td>0</td>\n",
       "      <td>6</td>\n",
       "      <td>0</td>\n",
       "      <td>0</td>\n",
       "      <td>11</td>\n",
       "      <td>0</td>\n",
       "      <td>0</td>\n",
       "      <td>...</td>\n",
       "      <td>0</td>\n",
       "      <td>0</td>\n",
       "      <td>22</td>\n",
       "      <td>0</td>\n",
       "      <td>0</td>\n",
       "      <td>0</td>\n",
       "      <td>0</td>\n",
       "      <td>30</td>\n",
       "      <td>0</td>\n",
       "      <td>1</td>\n",
       "    </tr>\n",
       "    <tr>\n",
       "      <th>4</th>\n",
       "      <td>4</td>\n",
       "      <td>БЕОГРАД - НОВИ БЕОГРАД</td>\n",
       "      <td>2022-02-18</td>\n",
       "      <td>0</td>\n",
       "      <td>12</td>\n",
       "      <td>0</td>\n",
       "      <td>0</td>\n",
       "      <td>2</td>\n",
       "      <td>0</td>\n",
       "      <td>0</td>\n",
       "      <td>...</td>\n",
       "      <td>0</td>\n",
       "      <td>0</td>\n",
       "      <td>47</td>\n",
       "      <td>0</td>\n",
       "      <td>0</td>\n",
       "      <td>0</td>\n",
       "      <td>0</td>\n",
       "      <td>58</td>\n",
       "      <td>0</td>\n",
       "      <td>1</td>\n",
       "    </tr>\n",
       "  </tbody>\n",
       "</table>\n",
       "<p>5 rows × 30 columns</p>\n",
       "</div>"
      ],
      "text/plain": [
       "   Unnamed: 0                location        date  ACER  ALNUS  AMBROSIA  \\\n",
       "0           0  БЕОГРАД - НОВИ БЕОГРАД  2022-02-14     0      0         0   \n",
       "1           1  БЕОГРАД - НОВИ БЕОГРАД  2022-02-15     0      5         0   \n",
       "2           2  БЕОГРАД - НОВИ БЕОГРАД  2022-02-16     0      0         0   \n",
       "3           3  БЕОГРАД - НОВИ БЕОГРАД  2022-02-17     0      6         0   \n",
       "4           4  БЕОГРАД - НОВИ БЕОГРАД  2022-02-18     0     12         0   \n",
       "\n",
       "   ARTEMISIA  BETULA  CANNABACEAE  CARPINUS  ...  PLATANUS  POACEAE  POPULUS  \\\n",
       "0          0       0            0         0  ...         0        0        0   \n",
       "1          0       6            0         0  ...         0        0        6   \n",
       "2          0       1            0         0  ...         0        0        6   \n",
       "3          0      11            0         0  ...         0        0       22   \n",
       "4          0       2            0         0  ...         0        0       47   \n",
       "\n",
       "   QUERCUS  RUMEX  SALIX  TILIA  ULMACEAE  URTICACEAE  batch_id  \n",
       "0        0      0      0      0         0           0         1  \n",
       "1        0      0      0      0        13           0         1  \n",
       "2        0      0      0      0        13           0         1  \n",
       "3        0      0      0      0        30           0         1  \n",
       "4        0      0      0      0        58           0         1  \n",
       "\n",
       "[5 rows x 30 columns]"
      ]
     },
     "execution_count": 81,
     "metadata": {},
     "output_type": "execute_result"
    }
   ],
   "source": [
    "pollen_test.head()"
   ]
  },
  {
   "cell_type": "code",
   "execution_count": 82,
   "metadata": {},
   "outputs": [
    {
     "data": {
      "text/html": [
       "<div>\n",
       "<style scoped>\n",
       "    .dataframe tbody tr th:only-of-type {\n",
       "        vertical-align: middle;\n",
       "    }\n",
       "\n",
       "    .dataframe tbody tr th {\n",
       "        vertical-align: top;\n",
       "    }\n",
       "\n",
       "    .dataframe thead th {\n",
       "        text-align: right;\n",
       "    }\n",
       "</style>\n",
       "<table border=\"1\" class=\"dataframe\">\n",
       "  <thead>\n",
       "    <tr style=\"text-align: right;\">\n",
       "      <th></th>\n",
       "      <th>ACER</th>\n",
       "      <th>ALNUS</th>\n",
       "      <th>ARTEMISIA</th>\n",
       "      <th>BETULA</th>\n",
       "      <th>CANNABACEAE</th>\n",
       "      <th>CARPINUS</th>\n",
       "      <th>CELTIS</th>\n",
       "      <th>CHENOP/AMAR.</th>\n",
       "      <th>CORYLUS</th>\n",
       "      <th>CUPRESS/TAXA.</th>\n",
       "      <th>...</th>\n",
       "      <th>RUMEX</th>\n",
       "      <th>SALIX</th>\n",
       "      <th>TILIA</th>\n",
       "      <th>ULMACEAE</th>\n",
       "      <th>URTICACEAE</th>\n",
       "      <th>batch_id</th>\n",
       "      <th>ds</th>\n",
       "      <th>y</th>\n",
       "      <th>floor</th>\n",
       "      <th>cap</th>\n",
       "    </tr>\n",
       "  </thead>\n",
       "  <tbody>\n",
       "    <tr>\n",
       "      <th>1115</th>\n",
       "      <td>0</td>\n",
       "      <td>0</td>\n",
       "      <td>0</td>\n",
       "      <td>0</td>\n",
       "      <td>3</td>\n",
       "      <td>0</td>\n",
       "      <td>0</td>\n",
       "      <td>0</td>\n",
       "      <td>0</td>\n",
       "      <td>0</td>\n",
       "      <td>...</td>\n",
       "      <td>0</td>\n",
       "      <td>0</td>\n",
       "      <td>0</td>\n",
       "      <td>0</td>\n",
       "      <td>2</td>\n",
       "      <td>112</td>\n",
       "      <td>2022-10-15</td>\n",
       "      <td>4</td>\n",
       "      <td>0</td>\n",
       "      <td>2500</td>\n",
       "    </tr>\n",
       "    <tr>\n",
       "      <th>1116</th>\n",
       "      <td>0</td>\n",
       "      <td>0</td>\n",
       "      <td>1</td>\n",
       "      <td>0</td>\n",
       "      <td>1</td>\n",
       "      <td>0</td>\n",
       "      <td>0</td>\n",
       "      <td>2</td>\n",
       "      <td>0</td>\n",
       "      <td>0</td>\n",
       "      <td>...</td>\n",
       "      <td>0</td>\n",
       "      <td>0</td>\n",
       "      <td>0</td>\n",
       "      <td>0</td>\n",
       "      <td>0</td>\n",
       "      <td>112</td>\n",
       "      <td>2022-10-16</td>\n",
       "      <td>3</td>\n",
       "      <td>0</td>\n",
       "      <td>2500</td>\n",
       "    </tr>\n",
       "    <tr>\n",
       "      <th>1117</th>\n",
       "      <td>0</td>\n",
       "      <td>0</td>\n",
       "      <td>1</td>\n",
       "      <td>0</td>\n",
       "      <td>0</td>\n",
       "      <td>0</td>\n",
       "      <td>0</td>\n",
       "      <td>0</td>\n",
       "      <td>0</td>\n",
       "      <td>0</td>\n",
       "      <td>...</td>\n",
       "      <td>0</td>\n",
       "      <td>0</td>\n",
       "      <td>0</td>\n",
       "      <td>0</td>\n",
       "      <td>0</td>\n",
       "      <td>112</td>\n",
       "      <td>2022-10-17</td>\n",
       "      <td>2</td>\n",
       "      <td>0</td>\n",
       "      <td>2500</td>\n",
       "    </tr>\n",
       "    <tr>\n",
       "      <th>1118</th>\n",
       "      <td>0</td>\n",
       "      <td>0</td>\n",
       "      <td>0</td>\n",
       "      <td>0</td>\n",
       "      <td>0</td>\n",
       "      <td>0</td>\n",
       "      <td>0</td>\n",
       "      <td>0</td>\n",
       "      <td>0</td>\n",
       "      <td>0</td>\n",
       "      <td>...</td>\n",
       "      <td>0</td>\n",
       "      <td>0</td>\n",
       "      <td>0</td>\n",
       "      <td>0</td>\n",
       "      <td>0</td>\n",
       "      <td>112</td>\n",
       "      <td>2022-10-18</td>\n",
       "      <td>7</td>\n",
       "      <td>0</td>\n",
       "      <td>2500</td>\n",
       "    </tr>\n",
       "    <tr>\n",
       "      <th>1119</th>\n",
       "      <td>0</td>\n",
       "      <td>0</td>\n",
       "      <td>0</td>\n",
       "      <td>0</td>\n",
       "      <td>0</td>\n",
       "      <td>0</td>\n",
       "      <td>0</td>\n",
       "      <td>0</td>\n",
       "      <td>0</td>\n",
       "      <td>0</td>\n",
       "      <td>...</td>\n",
       "      <td>0</td>\n",
       "      <td>0</td>\n",
       "      <td>0</td>\n",
       "      <td>0</td>\n",
       "      <td>0</td>\n",
       "      <td>112</td>\n",
       "      <td>2022-10-19</td>\n",
       "      <td>2</td>\n",
       "      <td>0</td>\n",
       "      <td>2500</td>\n",
       "    </tr>\n",
       "  </tbody>\n",
       "</table>\n",
       "<p>5 rows × 30 columns</p>\n",
       "</div>"
      ],
      "text/plain": [
       "      ACER  ALNUS  ARTEMISIA  BETULA  CANNABACEAE  CARPINUS  CELTIS  \\\n",
       "1115     0      0          0       0            3         0       0   \n",
       "1116     0      0          1       0            1         0       0   \n",
       "1117     0      0          1       0            0         0       0   \n",
       "1118     0      0          0       0            0         0       0   \n",
       "1119     0      0          0       0            0         0       0   \n",
       "\n",
       "      CHENOP/AMAR.  CORYLUS  CUPRESS/TAXA.  ...  RUMEX  SALIX  TILIA  \\\n",
       "1115             0        0              0  ...      0      0      0   \n",
       "1116             2        0              0  ...      0      0      0   \n",
       "1117             0        0              0  ...      0      0      0   \n",
       "1118             0        0              0  ...      0      0      0   \n",
       "1119             0        0              0  ...      0      0      0   \n",
       "\n",
       "      ULMACEAE  URTICACEAE  batch_id         ds  y  floor   cap  \n",
       "1115         0           2       112 2022-10-15  4      0  2500  \n",
       "1116         0           0       112 2022-10-16  3      0  2500  \n",
       "1117         0           0       112 2022-10-17  2      0  2500  \n",
       "1118         0           0       112 2022-10-18  7      0  2500  \n",
       "1119         0           0       112 2022-10-19  2      0  2500  \n",
       "\n",
       "[5 rows x 30 columns]"
      ]
     },
     "execution_count": 82,
     "metadata": {},
     "output_type": "execute_result"
    }
   ],
   "source": [
    "pollen_df = pollen_test.copy()\n",
    "\n",
    "pollen_df['date'] = pd.to_datetime(pollen_df['date'])\n",
    "\n",
    "# change the column names\n",
    "pollen_df['ds'] = pollen_df['date']\n",
    "pollen_df['y'] = pollen_df['AMBROSIA']\n",
    "pollen_df['floor'] = 0\n",
    "pollen_df['cap'] = 2500\n",
    "\n",
    "pollen_df.drop(['location', 'Unnamed: 0', 'date', 'AMBROSIA'], axis=1, inplace=True)\n",
    "\n",
    "pollen_df.tail()"
   ]
  },
  {
   "cell_type": "code",
   "execution_count": 83,
   "metadata": {},
   "outputs": [],
   "source": [
    "def next_three_days(x):\n",
    "    return [x + datetime.timedelta(days=1), x + datetime.timedelta(days=2), x + datetime.timedelta(days=3)]\n",
    "\n",
    "def predict_for_dates(m, dates, ratio):\n",
    "    future = pd.DataFrame({'ds': dates})\n",
    "    future['floor'] = 0\n",
    "    future['cap'] = 2500\n",
    "    \n",
    "    forecast = m.predict(future)\n",
    "    ans = []\n",
    "    for forecast_row in forecast.itertuples():\n",
    "        val = int(ratio * forecast_row.yhat)\n",
    "        val = max(0, val)\n",
    "        ans.append(val)\n",
    "\n",
    "        '''\n",
    "        if forecast_row.yhat_lower < 0:\n",
    "            ans.append(0)\n",
    "        else:\n",
    "            # pick random value between yhat_lower and yhat_upper\n",
    "            # ans.append(random.randrange(int(forecast_row.yhat_lower), int(forecast_row.yhat_upper)))\n",
    "            val = int(ratio * random.randrange(int(forecast_row.yhat_lower), int(forecast_row.yhat_upper)))\n",
    "            print(val, ratio, forecast_row.yhat, forecast_row.yhat_lower, forecast_row.yhat_upper)\n",
    "            ans.append(val)\n",
    "        '''\n",
    "\n",
    "    return ans"
   ]
  },
  {
   "cell_type": "markdown",
   "metadata": {},
   "source": [
    "## Start Test"
   ]
  },
  {
   "cell_type": "code",
   "execution_count": 84,
   "metadata": {},
   "outputs": [
    {
     "name": "stdout",
     "output_type": "stream",
     "text": [
      "--------- Batch id: 1 ---------\n"
     ]
    },
    {
     "name": "stderr",
     "output_type": "stream",
     "text": [
      "c:\\Users\\Branko\\miniconda3\\lib\\site-packages\\prophet\\serialize.py:160: FutureWarning: The behavior of Timestamp.utcfromtimestamp is deprecated, in a future version will return a timezone-aware Timestamp with UTC timezone. To keep the old behavior, use Timestamp.utcfromtimestamp(ts).tz_localize(None). To get the future behavior, use Timestamp.fromtimestamp(ts, 'UTC')\n",
      "  setattr(model, attribute, pd.Timestamp.utcfromtimestamp(model_dict[attribute]).tz_localize(None))\n"
     ]
    },
    {
     "name": "stdout",
     "output_type": "stream",
     "text": [
      "0.0\n",
      "2022-02-23 00:00:00 [0, 0, 0, 0, 0, 0, 0, 0, 0, 0] [0.0, 0.0, 0.0, 0.0, 1.4132180589261907, 2.4882410238953128, 6.75679858201957, 14.089666755114024, 17.894514649128922, 10.390319819937346]\n",
      "[0, 0, 0, 0, 0, 0, 0, 0, 0, 0] [0, 0, 0]\n",
      "--------- Batch id: 2 ---------\n"
     ]
    },
    {
     "name": "stderr",
     "output_type": "stream",
     "text": [
      "c:\\Users\\Branko\\miniconda3\\lib\\site-packages\\prophet\\serialize.py:160: FutureWarning: The behavior of Timestamp.utcfromtimestamp is deprecated, in a future version will return a timezone-aware Timestamp with UTC timezone. To keep the old behavior, use Timestamp.utcfromtimestamp(ts).tz_localize(None). To get the future behavior, use Timestamp.fromtimestamp(ts, 'UTC')\n",
      "  setattr(model, attribute, pd.Timestamp.utcfromtimestamp(model_dict[attribute]).tz_localize(None))\n"
     ]
    },
    {
     "name": "stdout",
     "output_type": "stream",
     "text": [
      "0.0\n",
      "2022-02-23 00:00:00 [0, 0, 0, 0, 0, 0, 0, 0, 0, 0] [0.0, 0.0, 0.0, 0.0, 1.4132180589261907, 2.4882410238953128, 6.75679858201957, 14.089666755114024, 17.894514649128922, 10.390319819937346]\n",
      "[0, 0, 0, 0, 0, 0, 0, 0, 0, 0] [0, 0, 0]\n",
      "--------- Batch id: 3 ---------\n"
     ]
    },
    {
     "name": "stderr",
     "output_type": "stream",
     "text": [
      "c:\\Users\\Branko\\miniconda3\\lib\\site-packages\\prophet\\serialize.py:160: FutureWarning: The behavior of Timestamp.utcfromtimestamp is deprecated, in a future version will return a timezone-aware Timestamp with UTC timezone. To keep the old behavior, use Timestamp.utcfromtimestamp(ts).tz_localize(None). To get the future behavior, use Timestamp.fromtimestamp(ts, 'UTC')\n",
      "  setattr(model, attribute, pd.Timestamp.utcfromtimestamp(model_dict[attribute]).tz_localize(None))\n"
     ]
    },
    {
     "name": "stdout",
     "output_type": "stream",
     "text": [
      "0.0\n",
      "2022-02-23 00:00:00 [0, 0, 0, 0, 0, 0, 0, 0, 0, 0] [0.0, 0.0, 0.0, 0.0, 1.4132180589261907, 2.4882410238953128, 6.75679858201957, 14.089666755114024, 17.894514649128922, 10.390319819937346]\n",
      "[0, 0, 0, 0, 0, 0, 0, 0, 0, 0] [0, 0, 0]\n",
      "--------- Batch id: 4 ---------\n"
     ]
    },
    {
     "name": "stderr",
     "output_type": "stream",
     "text": [
      "c:\\Users\\Branko\\miniconda3\\lib\\site-packages\\prophet\\serialize.py:160: FutureWarning: The behavior of Timestamp.utcfromtimestamp is deprecated, in a future version will return a timezone-aware Timestamp with UTC timezone. To keep the old behavior, use Timestamp.utcfromtimestamp(ts).tz_localize(None). To get the future behavior, use Timestamp.fromtimestamp(ts, 'UTC')\n",
      "  setattr(model, attribute, pd.Timestamp.utcfromtimestamp(model_dict[attribute]).tz_localize(None))\n"
     ]
    },
    {
     "name": "stdout",
     "output_type": "stream",
     "text": [
      "0.0\n",
      "2022-02-23 00:00:00 [0, 0, 0, 0, 0, 0, 0, 0, 0, 0] [0.0, 0.0, 0.0, 0.0, 1.4132180589261907, 2.4882410238953128, 6.75679858201957, 14.089666755114024, 17.894514649128922, 10.390319819937346]\n",
      "[0, 0, 0, 0, 0, 0, 0, 0, 0, 0] [0, 0, 0]\n",
      "--------- Batch id: 5 ---------\n"
     ]
    },
    {
     "name": "stderr",
     "output_type": "stream",
     "text": [
      "c:\\Users\\Branko\\miniconda3\\lib\\site-packages\\prophet\\serialize.py:160: FutureWarning: The behavior of Timestamp.utcfromtimestamp is deprecated, in a future version will return a timezone-aware Timestamp with UTC timezone. To keep the old behavior, use Timestamp.utcfromtimestamp(ts).tz_localize(None). To get the future behavior, use Timestamp.fromtimestamp(ts, 'UTC')\n",
      "  setattr(model, attribute, pd.Timestamp.utcfromtimestamp(model_dict[attribute]).tz_localize(None))\n"
     ]
    },
    {
     "name": "stdout",
     "output_type": "stream",
     "text": [
      "0.0\n",
      "2022-02-23 00:00:00 [0, 0, 0, 0, 0, 0, 0, 0, 0, 0] [0.0, 0.0, 0.0, 0.0, 1.4132180589261907, 2.4882410238953128, 6.75679858201957, 14.089666755114024, 17.894514649128922, 10.390319819937346]\n",
      "[0, 0, 0, 0, 0, 0, 0, 0, 0, 0] [0, 0, 0]\n",
      "--------- Batch id: 6 ---------\n"
     ]
    },
    {
     "name": "stderr",
     "output_type": "stream",
     "text": [
      "c:\\Users\\Branko\\miniconda3\\lib\\site-packages\\prophet\\serialize.py:160: FutureWarning: The behavior of Timestamp.utcfromtimestamp is deprecated, in a future version will return a timezone-aware Timestamp with UTC timezone. To keep the old behavior, use Timestamp.utcfromtimestamp(ts).tz_localize(None). To get the future behavior, use Timestamp.fromtimestamp(ts, 'UTC')\n",
      "  setattr(model, attribute, pd.Timestamp.utcfromtimestamp(model_dict[attribute]).tz_localize(None))\n"
     ]
    },
    {
     "name": "stdout",
     "output_type": "stream",
     "text": [
      "0.0\n",
      "2022-02-23 00:00:00 [0, 0, 0, 0, 0, 0, 0, 0, 0, 0] [0.0, 0.0, 0.0, 0.0, 1.4132180589261907, 2.4882410238953128, 6.75679858201957, 14.089666755114024, 17.894514649128922, 10.390319819937346]\n",
      "[0, 0, 0, 0, 0, 0, 0, 0, 0, 0] [0, 0, 0]\n",
      "--------- Batch id: 7 ---------\n"
     ]
    },
    {
     "name": "stderr",
     "output_type": "stream",
     "text": [
      "c:\\Users\\Branko\\miniconda3\\lib\\site-packages\\prophet\\serialize.py:160: FutureWarning: The behavior of Timestamp.utcfromtimestamp is deprecated, in a future version will return a timezone-aware Timestamp with UTC timezone. To keep the old behavior, use Timestamp.utcfromtimestamp(ts).tz_localize(None). To get the future behavior, use Timestamp.fromtimestamp(ts, 'UTC')\n",
      "  setattr(model, attribute, pd.Timestamp.utcfromtimestamp(model_dict[attribute]).tz_localize(None))\n"
     ]
    },
    {
     "name": "stdout",
     "output_type": "stream",
     "text": [
      "0.0\n",
      "2022-02-23 00:00:00 [0, 0, 0, 0, 0, 0, 0, 0, 0, 0] [0.0, 0.0, 0.0, 0.0, 1.4132180589261907, 2.4882410238953128, 6.75679858201957, 14.089666755114024, 17.894514649128922, 10.390319819937346]\n",
      "[0, 0, 0, 0, 0, 0, 0, 0, 0, 0] [0, 0, 0]\n",
      "--------- Batch id: 8 ---------\n"
     ]
    },
    {
     "name": "stderr",
     "output_type": "stream",
     "text": [
      "c:\\Users\\Branko\\miniconda3\\lib\\site-packages\\prophet\\serialize.py:160: FutureWarning: The behavior of Timestamp.utcfromtimestamp is deprecated, in a future version will return a timezone-aware Timestamp with UTC timezone. To keep the old behavior, use Timestamp.utcfromtimestamp(ts).tz_localize(None). To get the future behavior, use Timestamp.fromtimestamp(ts, 'UTC')\n",
      "  setattr(model, attribute, pd.Timestamp.utcfromtimestamp(model_dict[attribute]).tz_localize(None))\n"
     ]
    },
    {
     "name": "stdout",
     "output_type": "stream",
     "text": [
      "0.0\n",
      "2022-03-09 00:00:00 [0, 0, 0, 0, 0, 0, 0, 0, 0, 0] [32.361179273869695, 33.637602239785735, 23.084442363980003, 30.49515044721724, 28.854211119774646, 25.439902066806823, 24.457255341183114, 25.95228922408775, 23.526867360815345, 9.606736929985956]\n",
      "[0, 0, 0, 0, 0, 0, 0, 0, 0, 0] [0, 0, 0]\n",
      "--------- Batch id: 9 ---------\n"
     ]
    },
    {
     "name": "stderr",
     "output_type": "stream",
     "text": [
      "c:\\Users\\Branko\\miniconda3\\lib\\site-packages\\prophet\\serialize.py:160: FutureWarning: The behavior of Timestamp.utcfromtimestamp is deprecated, in a future version will return a timezone-aware Timestamp with UTC timezone. To keep the old behavior, use Timestamp.utcfromtimestamp(ts).tz_localize(None). To get the future behavior, use Timestamp.fromtimestamp(ts, 'UTC')\n",
      "  setattr(model, attribute, pd.Timestamp.utcfromtimestamp(model_dict[attribute]).tz_localize(None))\n"
     ]
    },
    {
     "name": "stdout",
     "output_type": "stream",
     "text": [
      "0.0\n",
      "2022-03-09 00:00:00 [0, 0, 0, 0, 0, 0, 0, 0, 0, 0] [32.361179273869695, 33.637602239785735, 23.084442363980003, 30.49515044721724, 28.854211119774646, 25.439902066806823, 24.457255341183114, 25.95228922408775, 23.526867360815345, 9.606736929985956]\n",
      "[0, 0, 0, 0, 0, 0, 0, 0, 0, 0] [0, 0, 0]\n",
      "--------- Batch id: 10 ---------\n"
     ]
    },
    {
     "name": "stderr",
     "output_type": "stream",
     "text": [
      "c:\\Users\\Branko\\miniconda3\\lib\\site-packages\\prophet\\serialize.py:160: FutureWarning: The behavior of Timestamp.utcfromtimestamp is deprecated, in a future version will return a timezone-aware Timestamp with UTC timezone. To keep the old behavior, use Timestamp.utcfromtimestamp(ts).tz_localize(None). To get the future behavior, use Timestamp.fromtimestamp(ts, 'UTC')\n",
      "  setattr(model, attribute, pd.Timestamp.utcfromtimestamp(model_dict[attribute]).tz_localize(None))\n"
     ]
    },
    {
     "name": "stdout",
     "output_type": "stream",
     "text": [
      "0.0\n",
      "2022-03-09 00:00:00 [0, 0, 0, 0, 0, 0, 0, 0, 0, 0] [32.361179273869695, 33.637602239785735, 23.084442363980003, 30.49515044721724, 28.854211119774646, 25.439902066806823, 24.457255341183114, 25.95228922408775, 23.526867360815345, 9.606736929985956]\n",
      "[0, 0, 0, 0, 0, 0, 0, 0, 0, 0] [0, 0, 0]\n",
      "--------- Batch id: 11 ---------\n"
     ]
    },
    {
     "name": "stderr",
     "output_type": "stream",
     "text": [
      "c:\\Users\\Branko\\miniconda3\\lib\\site-packages\\prophet\\serialize.py:160: FutureWarning: The behavior of Timestamp.utcfromtimestamp is deprecated, in a future version will return a timezone-aware Timestamp with UTC timezone. To keep the old behavior, use Timestamp.utcfromtimestamp(ts).tz_localize(None). To get the future behavior, use Timestamp.fromtimestamp(ts, 'UTC')\n",
      "  setattr(model, attribute, pd.Timestamp.utcfromtimestamp(model_dict[attribute]).tz_localize(None))\n"
     ]
    },
    {
     "name": "stdout",
     "output_type": "stream",
     "text": [
      "0.0\n",
      "2022-03-09 00:00:00 [0, 0, 0, 0, 0, 0, 0, 0, 0, 0] [32.361179273869695, 33.637602239785735, 23.084442363980003, 30.49515044721724, 28.854211119774646, 25.439902066806823, 24.457255341183114, 25.95228922408775, 23.526867360815345, 9.606736929985956]\n",
      "[0, 0, 0, 0, 0, 0, 0, 0, 0, 0] [0, 0, 0]\n",
      "--------- Batch id: 12 ---------\n"
     ]
    },
    {
     "name": "stderr",
     "output_type": "stream",
     "text": [
      "c:\\Users\\Branko\\miniconda3\\lib\\site-packages\\prophet\\serialize.py:160: FutureWarning: The behavior of Timestamp.utcfromtimestamp is deprecated, in a future version will return a timezone-aware Timestamp with UTC timezone. To keep the old behavior, use Timestamp.utcfromtimestamp(ts).tz_localize(None). To get the future behavior, use Timestamp.fromtimestamp(ts, 'UTC')\n",
      "  setattr(model, attribute, pd.Timestamp.utcfromtimestamp(model_dict[attribute]).tz_localize(None))\n"
     ]
    },
    {
     "name": "stdout",
     "output_type": "stream",
     "text": [
      "0.0\n",
      "2022-03-09 00:00:00 [0, 0, 0, 0, 0, 0, 0, 0, 0, 0] [32.361179273869695, 33.637602239785735, 23.084442363980003, 30.49515044721724, 28.854211119774646, 25.439902066806823, 24.457255341183114, 25.95228922408775, 23.526867360815345, 9.606736929985956]\n",
      "[0, 0, 0, 0, 0, 0, 0, 0, 0, 0] [0, 0, 0]\n",
      "--------- Batch id: 13 ---------\n"
     ]
    },
    {
     "name": "stderr",
     "output_type": "stream",
     "text": [
      "c:\\Users\\Branko\\miniconda3\\lib\\site-packages\\prophet\\serialize.py:160: FutureWarning: The behavior of Timestamp.utcfromtimestamp is deprecated, in a future version will return a timezone-aware Timestamp with UTC timezone. To keep the old behavior, use Timestamp.utcfromtimestamp(ts).tz_localize(None). To get the future behavior, use Timestamp.fromtimestamp(ts, 'UTC')\n",
      "  setattr(model, attribute, pd.Timestamp.utcfromtimestamp(model_dict[attribute]).tz_localize(None))\n"
     ]
    },
    {
     "name": "stdout",
     "output_type": "stream",
     "text": [
      "0.0\n",
      "2022-03-09 00:00:00 [0, 0, 0, 0, 0, 0, 0, 0, 0, 0] [32.361179273869695, 33.637602239785735, 23.084442363980003, 30.49515044721724, 28.854211119774646, 25.439902066806823, 24.457255341183114, 25.95228922408775, 23.526867360815345, 9.606736929985956]\n",
      "[0, 0, 0, 0, 0, 0, 0, 0, 0, 0] [0, 0, 0]\n",
      "--------- Batch id: 14 ---------\n"
     ]
    },
    {
     "name": "stderr",
     "output_type": "stream",
     "text": [
      "c:\\Users\\Branko\\miniconda3\\lib\\site-packages\\prophet\\serialize.py:160: FutureWarning: The behavior of Timestamp.utcfromtimestamp is deprecated, in a future version will return a timezone-aware Timestamp with UTC timezone. To keep the old behavior, use Timestamp.utcfromtimestamp(ts).tz_localize(None). To get the future behavior, use Timestamp.fromtimestamp(ts, 'UTC')\n",
      "  setattr(model, attribute, pd.Timestamp.utcfromtimestamp(model_dict[attribute]).tz_localize(None))\n"
     ]
    },
    {
     "name": "stdout",
     "output_type": "stream",
     "text": [
      "0.0\n",
      "2022-03-09 00:00:00 [0, 0, 0, 0, 0, 0, 0, 0, 0, 0] [32.361179273869695, 33.637602239785735, 23.084442363980003, 30.49515044721724, 28.854211119774646, 25.439902066806823, 24.457255341183114, 25.95228922408775, 23.526867360815345, 9.606736929985956]\n",
      "[0, 0, 0, 0, 0, 0, 0, 0, 0, 0] [0, 0, 0]\n",
      "--------- Batch id: 15 ---------\n"
     ]
    },
    {
     "name": "stderr",
     "output_type": "stream",
     "text": [
      "c:\\Users\\Branko\\miniconda3\\lib\\site-packages\\prophet\\serialize.py:160: FutureWarning: The behavior of Timestamp.utcfromtimestamp is deprecated, in a future version will return a timezone-aware Timestamp with UTC timezone. To keep the old behavior, use Timestamp.utcfromtimestamp(ts).tz_localize(None). To get the future behavior, use Timestamp.fromtimestamp(ts, 'UTC')\n",
      "  setattr(model, attribute, pd.Timestamp.utcfromtimestamp(model_dict[attribute]).tz_localize(None))\n"
     ]
    },
    {
     "name": "stdout",
     "output_type": "stream",
     "text": [
      "0.0\n",
      "2022-03-23 00:00:00 [0, 0, 0, 0, 0, 0, 0, 0, 0, 0] [3.9697707039648833, 1.905495255175282, 0.0, 0.0, 0.0, 0.0, 0.0, 0.0, 0.0, 0.0]\n",
      "[0, 0, 0, 0, 0, 0, 0, 0, 0, 0] [0, 0, 0]\n",
      "--------- Batch id: 16 ---------\n"
     ]
    },
    {
     "name": "stderr",
     "output_type": "stream",
     "text": [
      "c:\\Users\\Branko\\miniconda3\\lib\\site-packages\\prophet\\serialize.py:160: FutureWarning: The behavior of Timestamp.utcfromtimestamp is deprecated, in a future version will return a timezone-aware Timestamp with UTC timezone. To keep the old behavior, use Timestamp.utcfromtimestamp(ts).tz_localize(None). To get the future behavior, use Timestamp.fromtimestamp(ts, 'UTC')\n",
      "  setattr(model, attribute, pd.Timestamp.utcfromtimestamp(model_dict[attribute]).tz_localize(None))\n"
     ]
    },
    {
     "name": "stdout",
     "output_type": "stream",
     "text": [
      "0.0\n",
      "2022-03-23 00:00:00 [0, 0, 0, 0, 0, 0, 0, 0, 0, 0] [3.9697707039648833, 1.905495255175282, 0.0, 0.0, 0.0, 0.0, 0.0, 0.0, 0.0, 0.0]\n",
      "[0, 0, 0, 0, 0, 0, 0, 0, 0, 0] [0, 0, 0]\n",
      "--------- Batch id: 17 ---------\n"
     ]
    },
    {
     "name": "stderr",
     "output_type": "stream",
     "text": [
      "c:\\Users\\Branko\\miniconda3\\lib\\site-packages\\prophet\\serialize.py:160: FutureWarning: The behavior of Timestamp.utcfromtimestamp is deprecated, in a future version will return a timezone-aware Timestamp with UTC timezone. To keep the old behavior, use Timestamp.utcfromtimestamp(ts).tz_localize(None). To get the future behavior, use Timestamp.fromtimestamp(ts, 'UTC')\n",
      "  setattr(model, attribute, pd.Timestamp.utcfromtimestamp(model_dict[attribute]).tz_localize(None))\n"
     ]
    },
    {
     "name": "stdout",
     "output_type": "stream",
     "text": [
      "0.0\n",
      "2022-03-23 00:00:00 [0, 0, 0, 0, 0, 0, 0, 0, 0, 0] [3.9697707039648833, 1.905495255175282, 0.0, 0.0, 0.0, 0.0, 0.0, 0.0, 0.0, 0.0]\n",
      "[0, 0, 0, 0, 0, 0, 0, 0, 0, 0] [0, 0, 0]\n",
      "--------- Batch id: 18 ---------\n"
     ]
    },
    {
     "name": "stderr",
     "output_type": "stream",
     "text": [
      "c:\\Users\\Branko\\miniconda3\\lib\\site-packages\\prophet\\serialize.py:160: FutureWarning: The behavior of Timestamp.utcfromtimestamp is deprecated, in a future version will return a timezone-aware Timestamp with UTC timezone. To keep the old behavior, use Timestamp.utcfromtimestamp(ts).tz_localize(None). To get the future behavior, use Timestamp.fromtimestamp(ts, 'UTC')\n",
      "  setattr(model, attribute, pd.Timestamp.utcfromtimestamp(model_dict[attribute]).tz_localize(None))\n"
     ]
    },
    {
     "name": "stdout",
     "output_type": "stream",
     "text": [
      "0.0\n",
      "2022-03-23 00:00:00 [0, 0, 0, 0, 0, 0, 0, 0, 0, 0] [3.9697707039648833, 1.905495255175282, 0.0, 0.0, 0.0, 0.0, 0.0, 0.0, 0.0, 0.0]\n",
      "[0, 0, 0, 0, 0, 0, 0, 0, 0, 0] [0, 0, 0]\n",
      "--------- Batch id: 19 ---------\n"
     ]
    },
    {
     "name": "stderr",
     "output_type": "stream",
     "text": [
      "c:\\Users\\Branko\\miniconda3\\lib\\site-packages\\prophet\\serialize.py:160: FutureWarning: The behavior of Timestamp.utcfromtimestamp is deprecated, in a future version will return a timezone-aware Timestamp with UTC timezone. To keep the old behavior, use Timestamp.utcfromtimestamp(ts).tz_localize(None). To get the future behavior, use Timestamp.fromtimestamp(ts, 'UTC')\n",
      "  setattr(model, attribute, pd.Timestamp.utcfromtimestamp(model_dict[attribute]).tz_localize(None))\n"
     ]
    },
    {
     "name": "stdout",
     "output_type": "stream",
     "text": [
      "0.0\n",
      "2022-03-23 00:00:00 [0, 0, 0, 0, 0, 0, 0, 0, 0, 0] [3.9697707039648833, 1.905495255175282, 0.0, 0.0, 0.0, 0.0, 0.0, 0.0, 0.0, 0.0]\n",
      "[0, 0, 0, 0, 0, 0, 0, 0, 0, 0] [0, 0, 0]\n",
      "--------- Batch id: 20 ---------\n"
     ]
    },
    {
     "name": "stderr",
     "output_type": "stream",
     "text": [
      "c:\\Users\\Branko\\miniconda3\\lib\\site-packages\\prophet\\serialize.py:160: FutureWarning: The behavior of Timestamp.utcfromtimestamp is deprecated, in a future version will return a timezone-aware Timestamp with UTC timezone. To keep the old behavior, use Timestamp.utcfromtimestamp(ts).tz_localize(None). To get the future behavior, use Timestamp.fromtimestamp(ts, 'UTC')\n",
      "  setattr(model, attribute, pd.Timestamp.utcfromtimestamp(model_dict[attribute]).tz_localize(None))\n"
     ]
    },
    {
     "name": "stdout",
     "output_type": "stream",
     "text": [
      "0.0\n",
      "2022-03-23 00:00:00 [0, 0, 0, 0, 0, 0, 0, 0, 0, 0] [3.9697707039648833, 1.905495255175282, 0.0, 0.0, 0.0, 0.0, 0.0, 0.0, 0.0, 0.0]\n",
      "[0, 0, 0, 0, 0, 0, 0, 0, 0, 0] [0, 0, 0]\n",
      "--------- Batch id: 21 ---------\n"
     ]
    },
    {
     "name": "stderr",
     "output_type": "stream",
     "text": [
      "c:\\Users\\Branko\\miniconda3\\lib\\site-packages\\prophet\\serialize.py:160: FutureWarning: The behavior of Timestamp.utcfromtimestamp is deprecated, in a future version will return a timezone-aware Timestamp with UTC timezone. To keep the old behavior, use Timestamp.utcfromtimestamp(ts).tz_localize(None). To get the future behavior, use Timestamp.fromtimestamp(ts, 'UTC')\n",
      "  setattr(model, attribute, pd.Timestamp.utcfromtimestamp(model_dict[attribute]).tz_localize(None))\n"
     ]
    },
    {
     "name": "stdout",
     "output_type": "stream",
     "text": [
      "0.25190371801606354\n",
      "2022-03-23 00:00:00 [0, 1, 0, 0, 0, 1, 1, 0, 0, 0] [3.9697707039648833, 1.905495255175282, 0.0, 0.0, 0.0, 0.0, 0.0, 0.0, 0.0, 0.0]\n",
      "[1, 0, 0, 0, 0, 0, 0, 0, 0, 0] [0, 0, 1]\n",
      "--------- Batch id: 22 ---------\n"
     ]
    },
    {
     "name": "stderr",
     "output_type": "stream",
     "text": [
      "c:\\Users\\Branko\\miniconda3\\lib\\site-packages\\prophet\\serialize.py:160: FutureWarning: The behavior of Timestamp.utcfromtimestamp is deprecated, in a future version will return a timezone-aware Timestamp with UTC timezone. To keep the old behavior, use Timestamp.utcfromtimestamp(ts).tz_localize(None). To get the future behavior, use Timestamp.fromtimestamp(ts, 'UTC')\n",
      "  setattr(model, attribute, pd.Timestamp.utcfromtimestamp(model_dict[attribute]).tz_localize(None))\n"
     ]
    },
    {
     "name": "stdout",
     "output_type": "stream",
     "text": [
      "0.0\n",
      "2022-04-06 00:00:00 [0, 0, 0, 0, 0, 0, 0, 0, 0, 0] [16.10018724502254, 19.934346405962373, 12.406467042804366, 23.209198993849157, 25.213715028281428, 25.57623414263965, 28.375043514656753, 33.52895398022612, 34.51640660409474, 23.64764190818562]\n",
      "[0, 0, 0, 0, 0, 0, 0, 0, 0, 0] [0, 0, 0]\n",
      "--------- Batch id: 23 ---------\n"
     ]
    },
    {
     "name": "stderr",
     "output_type": "stream",
     "text": [
      "c:\\Users\\Branko\\miniconda3\\lib\\site-packages\\prophet\\serialize.py:160: FutureWarning: The behavior of Timestamp.utcfromtimestamp is deprecated, in a future version will return a timezone-aware Timestamp with UTC timezone. To keep the old behavior, use Timestamp.utcfromtimestamp(ts).tz_localize(None). To get the future behavior, use Timestamp.fromtimestamp(ts, 'UTC')\n",
      "  setattr(model, attribute, pd.Timestamp.utcfromtimestamp(model_dict[attribute]).tz_localize(None))\n"
     ]
    },
    {
     "name": "stdout",
     "output_type": "stream",
     "text": [
      "0.0\n",
      "2022-04-06 00:00:00 [0, 0, 0, 0, 0, 0, 0, 0, 0, 0] [16.10018724502254, 19.934346405962373, 12.406467042804366, 23.209198993849157, 25.213715028281428, 25.57623414263965, 28.375043514656753, 33.52895398022612, 34.51640660409474, 23.64764190818562]\n",
      "[0, 0, 0, 0, 0, 0, 0, 0, 0, 0] [0, 0, 0]\n",
      "--------- Batch id: 24 ---------\n"
     ]
    },
    {
     "name": "stderr",
     "output_type": "stream",
     "text": [
      "c:\\Users\\Branko\\miniconda3\\lib\\site-packages\\prophet\\serialize.py:160: FutureWarning: The behavior of Timestamp.utcfromtimestamp is deprecated, in a future version will return a timezone-aware Timestamp with UTC timezone. To keep the old behavior, use Timestamp.utcfromtimestamp(ts).tz_localize(None). To get the future behavior, use Timestamp.fromtimestamp(ts, 'UTC')\n",
      "  setattr(model, attribute, pd.Timestamp.utcfromtimestamp(model_dict[attribute]).tz_localize(None))\n"
     ]
    },
    {
     "name": "stdout",
     "output_type": "stream",
     "text": [
      "0.0\n",
      "2022-04-06 00:00:00 [0, 0, 0, 0, 0, 0, 0, 0, 0, 0] [16.10018724502254, 19.934346405962373, 12.406467042804366, 23.209198993849157, 25.213715028281428, 25.57623414263965, 28.375043514656753, 33.52895398022612, 34.51640660409474, 23.64764190818562]\n",
      "[0, 0, 0, 0, 0, 0, 0, 0, 0, 0] [0, 0, 0]\n",
      "--------- Batch id: 25 ---------\n"
     ]
    },
    {
     "name": "stderr",
     "output_type": "stream",
     "text": [
      "c:\\Users\\Branko\\miniconda3\\lib\\site-packages\\prophet\\serialize.py:160: FutureWarning: The behavior of Timestamp.utcfromtimestamp is deprecated, in a future version will return a timezone-aware Timestamp with UTC timezone. To keep the old behavior, use Timestamp.utcfromtimestamp(ts).tz_localize(None). To get the future behavior, use Timestamp.fromtimestamp(ts, 'UTC')\n",
      "  setattr(model, attribute, pd.Timestamp.utcfromtimestamp(model_dict[attribute]).tz_localize(None))\n"
     ]
    },
    {
     "name": "stdout",
     "output_type": "stream",
     "text": [
      "0.0\n",
      "2022-04-06 00:00:00 [0, 0, 0, 0, 0, 0, 0, 0, 0, 0] [16.10018724502254, 19.934346405962373, 12.406467042804366, 23.209198993849157, 25.213715028281428, 25.57623414263965, 28.375043514656753, 33.52895398022612, 34.51640660409474, 23.64764190818562]\n",
      "[0, 0, 0, 0, 0, 0, 0, 0, 0, 0] [0, 0, 0]\n",
      "--------- Batch id: 26 ---------\n"
     ]
    },
    {
     "name": "stderr",
     "output_type": "stream",
     "text": [
      "c:\\Users\\Branko\\miniconda3\\lib\\site-packages\\prophet\\serialize.py:160: FutureWarning: The behavior of Timestamp.utcfromtimestamp is deprecated, in a future version will return a timezone-aware Timestamp with UTC timezone. To keep the old behavior, use Timestamp.utcfromtimestamp(ts).tz_localize(None). To get the future behavior, use Timestamp.fromtimestamp(ts, 'UTC')\n",
      "  setattr(model, attribute, pd.Timestamp.utcfromtimestamp(model_dict[attribute]).tz_localize(None))\n"
     ]
    },
    {
     "name": "stdout",
     "output_type": "stream",
     "text": [
      "0.0\n",
      "2022-04-06 00:00:00 [0, 0, 0, 0, 0, 0, 0, 0, 0, 0] [16.10018724502254, 19.934346405962373, 12.406467042804366, 23.209198993849157, 25.213715028281428, 25.57623414263965, 28.375043514656753, 33.52895398022612, 34.51640660409474, 23.64764190818562]\n",
      "[0, 0, 0, 0, 0, 0, 0, 0, 0, 0] [0, 0, 0]\n",
      "--------- Batch id: 27 ---------\n"
     ]
    },
    {
     "name": "stderr",
     "output_type": "stream",
     "text": [
      "c:\\Users\\Branko\\miniconda3\\lib\\site-packages\\prophet\\serialize.py:160: FutureWarning: The behavior of Timestamp.utcfromtimestamp is deprecated, in a future version will return a timezone-aware Timestamp with UTC timezone. To keep the old behavior, use Timestamp.utcfromtimestamp(ts).tz_localize(None). To get the future behavior, use Timestamp.fromtimestamp(ts, 'UTC')\n",
      "  setattr(model, attribute, pd.Timestamp.utcfromtimestamp(model_dict[attribute]).tz_localize(None))\n"
     ]
    },
    {
     "name": "stdout",
     "output_type": "stream",
     "text": [
      "0.0\n",
      "2022-04-06 00:00:00 [0, 0, 0, 0, 0, 0, 0, 0, 0, 0] [16.10018724502254, 19.934346405962373, 12.406467042804366, 23.209198993849157, 25.213715028281428, 25.57623414263965, 28.375043514656753, 33.52895398022612, 34.51640660409474, 23.64764190818562]\n",
      "[0, 0, 0, 0, 0, 0, 0, 0, 0, 0] [0, 0, 0]\n",
      "--------- Batch id: 28 ---------\n"
     ]
    },
    {
     "name": "stderr",
     "output_type": "stream",
     "text": [
      "c:\\Users\\Branko\\miniconda3\\lib\\site-packages\\prophet\\serialize.py:160: FutureWarning: The behavior of Timestamp.utcfromtimestamp is deprecated, in a future version will return a timezone-aware Timestamp with UTC timezone. To keep the old behavior, use Timestamp.utcfromtimestamp(ts).tz_localize(None). To get the future behavior, use Timestamp.fromtimestamp(ts, 'UTC')\n",
      "  setattr(model, attribute, pd.Timestamp.utcfromtimestamp(model_dict[attribute]).tz_localize(None))\n"
     ]
    },
    {
     "name": "stdout",
     "output_type": "stream",
     "text": [
      "0.0\n",
      "2022-04-06 00:00:00 [0, 0, 0, 0, 0, 0, 0, 0, 0, 0] [16.10018724502254, 19.934346405962373, 12.406467042804366, 23.209198993849157, 25.213715028281428, 25.57623414263965, 28.375043514656753, 33.52895398022612, 34.51640660409474, 23.64764190818562]\n",
      "[0, 0, 0, 0, 0, 0, 0, 0, 0, 0] [0, 0, 0]\n",
      "--------- Batch id: 29 ---------\n"
     ]
    },
    {
     "name": "stderr",
     "output_type": "stream",
     "text": [
      "c:\\Users\\Branko\\miniconda3\\lib\\site-packages\\prophet\\serialize.py:160: FutureWarning: The behavior of Timestamp.utcfromtimestamp is deprecated, in a future version will return a timezone-aware Timestamp with UTC timezone. To keep the old behavior, use Timestamp.utcfromtimestamp(ts).tz_localize(None). To get the future behavior, use Timestamp.fromtimestamp(ts, 'UTC')\n",
      "  setattr(model, attribute, pd.Timestamp.utcfromtimestamp(model_dict[attribute]).tz_localize(None))\n"
     ]
    },
    {
     "name": "stdout",
     "output_type": "stream",
     "text": [
      "0.0\n",
      "2022-04-20 00:00:00 [0, 0, 0, 0, 0, 0, 0, 0, 0, 0] [24.808779884987146, 22.075833706819097, 7.879692033312608, 12.132863092222209, 7.923562491062995, 2.6151245578951148, 0.47619907547061757, 1.5928905463016463, 0.0, 0.0]\n",
      "[0, 0, 0, 0, 0, 0, 0, 0, 0, 0] [0, 0, 0]\n",
      "--------- Batch id: 30 ---------\n"
     ]
    },
    {
     "name": "stderr",
     "output_type": "stream",
     "text": [
      "c:\\Users\\Branko\\miniconda3\\lib\\site-packages\\prophet\\serialize.py:160: FutureWarning: The behavior of Timestamp.utcfromtimestamp is deprecated, in a future version will return a timezone-aware Timestamp with UTC timezone. To keep the old behavior, use Timestamp.utcfromtimestamp(ts).tz_localize(None). To get the future behavior, use Timestamp.fromtimestamp(ts, 'UTC')\n",
      "  setattr(model, attribute, pd.Timestamp.utcfromtimestamp(model_dict[attribute]).tz_localize(None))\n"
     ]
    },
    {
     "name": "stdout",
     "output_type": "stream",
     "text": [
      "0.0\n",
      "2022-04-20 00:00:00 [0, 0, 0, 0, 0, 0, 0, 0, 0, 0] [24.808779884987146, 22.075833706819097, 7.879692033312608, 12.132863092222209, 7.923562491062995, 2.6151245578951148, 0.47619907547061757, 1.5928905463016463, 0.0, 0.0]\n",
      "[0, 0, 0, 0, 0, 0, 0, 0, 0, 0] [0, 0, 0]\n",
      "--------- Batch id: 31 ---------\n"
     ]
    },
    {
     "name": "stderr",
     "output_type": "stream",
     "text": [
      "c:\\Users\\Branko\\miniconda3\\lib\\site-packages\\prophet\\serialize.py:160: FutureWarning: The behavior of Timestamp.utcfromtimestamp is deprecated, in a future version will return a timezone-aware Timestamp with UTC timezone. To keep the old behavior, use Timestamp.utcfromtimestamp(ts).tz_localize(None). To get the future behavior, use Timestamp.fromtimestamp(ts, 'UTC')\n",
      "  setattr(model, attribute, pd.Timestamp.utcfromtimestamp(model_dict[attribute]).tz_localize(None))\n"
     ]
    },
    {
     "name": "stdout",
     "output_type": "stream",
     "text": [
      "0.0\n",
      "2022-04-20 00:00:00 [0, 0, 0, 0, 0, 0, 0, 0, 0, 0] [24.808779884987146, 22.075833706819097, 7.879692033312608, 12.132863092222209, 7.923562491062995, 2.6151245578951148, 0.47619907547061757, 1.5928905463016463, 0.0, 0.0]\n",
      "[0, 0, 0, 0, 0, 0, 0, 0, 0, 0] [0, 0, 0]\n",
      "--------- Batch id: 32 ---------\n"
     ]
    },
    {
     "name": "stderr",
     "output_type": "stream",
     "text": [
      "c:\\Users\\Branko\\miniconda3\\lib\\site-packages\\prophet\\serialize.py:160: FutureWarning: The behavior of Timestamp.utcfromtimestamp is deprecated, in a future version will return a timezone-aware Timestamp with UTC timezone. To keep the old behavior, use Timestamp.utcfromtimestamp(ts).tz_localize(None). To get the future behavior, use Timestamp.fromtimestamp(ts, 'UTC')\n",
      "  setattr(model, attribute, pd.Timestamp.utcfromtimestamp(model_dict[attribute]).tz_localize(None))\n"
     ]
    },
    {
     "name": "stdout",
     "output_type": "stream",
     "text": [
      "0.0\n",
      "2022-04-20 00:00:00 [0, 0, 0, 0, 0, 0, 0, 0, 0, 0] [24.808779884987146, 22.075833706819097, 7.879692033312608, 12.132863092222209, 7.923562491062995, 2.6151245578951148, 0.47619907547061757, 1.5928905463016463, 0.0, 0.0]\n",
      "[0, 0, 0, 0, 0, 0, 0, 0, 0, 0] [0, 0, 0]\n",
      "--------- Batch id: 33 ---------\n"
     ]
    },
    {
     "name": "stderr",
     "output_type": "stream",
     "text": [
      "c:\\Users\\Branko\\miniconda3\\lib\\site-packages\\prophet\\serialize.py:160: FutureWarning: The behavior of Timestamp.utcfromtimestamp is deprecated, in a future version will return a timezone-aware Timestamp with UTC timezone. To keep the old behavior, use Timestamp.utcfromtimestamp(ts).tz_localize(None). To get the future behavior, use Timestamp.fromtimestamp(ts, 'UTC')\n",
      "  setattr(model, attribute, pd.Timestamp.utcfromtimestamp(model_dict[attribute]).tz_localize(None))\n"
     ]
    },
    {
     "name": "stdout",
     "output_type": "stream",
     "text": [
      "0.0\n",
      "2022-04-20 00:00:00 [0, 0, 0, 0, 0, 0, 0, 0, 0, 0] [24.808779884987146, 22.075833706819097, 7.879692033312608, 12.132863092222209, 7.923562491062995, 2.6151245578951148, 0.47619907547061757, 1.5928905463016463, 0.0, 0.0]\n",
      "[0, 0, 0, 0, 0, 0, 0, 0, 0, 0] [0, 0, 0]\n",
      "--------- Batch id: 34 ---------\n"
     ]
    },
    {
     "name": "stderr",
     "output_type": "stream",
     "text": [
      "c:\\Users\\Branko\\miniconda3\\lib\\site-packages\\prophet\\serialize.py:160: FutureWarning: The behavior of Timestamp.utcfromtimestamp is deprecated, in a future version will return a timezone-aware Timestamp with UTC timezone. To keep the old behavior, use Timestamp.utcfromtimestamp(ts).tz_localize(None). To get the future behavior, use Timestamp.fromtimestamp(ts, 'UTC')\n",
      "  setattr(model, attribute, pd.Timestamp.utcfromtimestamp(model_dict[attribute]).tz_localize(None))\n"
     ]
    },
    {
     "name": "stdout",
     "output_type": "stream",
     "text": [
      "0.0\n",
      "2022-04-20 00:00:00 [0, 0, 0, 0, 0, 0, 0, 0, 0, 0] [24.808779884987146, 22.075833706819097, 7.879692033312608, 12.132863092222209, 7.923562491062995, 2.6151245578951148, 0.47619907547061757, 1.5928905463016463, 0.0, 0.0]\n",
      "[0, 0, 0, 0, 0, 0, 0, 0, 0, 0] [0, 0, 0]\n",
      "--------- Batch id: 35 ---------\n"
     ]
    },
    {
     "name": "stderr",
     "output_type": "stream",
     "text": [
      "c:\\Users\\Branko\\miniconda3\\lib\\site-packages\\prophet\\serialize.py:160: FutureWarning: The behavior of Timestamp.utcfromtimestamp is deprecated, in a future version will return a timezone-aware Timestamp with UTC timezone. To keep the old behavior, use Timestamp.utcfromtimestamp(ts).tz_localize(None). To get the future behavior, use Timestamp.fromtimestamp(ts, 'UTC')\n",
      "  setattr(model, attribute, pd.Timestamp.utcfromtimestamp(model_dict[attribute]).tz_localize(None))\n"
     ]
    },
    {
     "name": "stdout",
     "output_type": "stream",
     "text": [
      "0.0\n",
      "2022-04-20 00:00:00 [0, 0, 0, 0, 0, 0, 0, 0, 0, 0] [24.808779884987146, 22.075833706819097, 7.879692033312608, 12.132863092222209, 7.923562491062995, 2.6151245578951148, 0.47619907547061757, 1.5928905463016463, 0.0, 0.0]\n",
      "[0, 0, 0, 0, 0, 0, 0, 0, 0, 0] [0, 0, 0]\n",
      "--------- Batch id: 36 ---------\n"
     ]
    },
    {
     "name": "stderr",
     "output_type": "stream",
     "text": [
      "c:\\Users\\Branko\\miniconda3\\lib\\site-packages\\prophet\\serialize.py:160: FutureWarning: The behavior of Timestamp.utcfromtimestamp is deprecated, in a future version will return a timezone-aware Timestamp with UTC timezone. To keep the old behavior, use Timestamp.utcfromtimestamp(ts).tz_localize(None). To get the future behavior, use Timestamp.fromtimestamp(ts, 'UTC')\n",
      "  setattr(model, attribute, pd.Timestamp.utcfromtimestamp(model_dict[attribute]).tz_localize(None))\n"
     ]
    },
    {
     "name": "stdout",
     "output_type": "stream",
     "text": [
      "0.0\n",
      "2022-05-18 00:00:00 [0, 0, 0, 0, 0, 0, 0, 0, 0, 0] [36.6484985766639, 37.33645087730574, 26.072996925712104, 32.66688136623431, 30.121598292817225, 25.737832915169875, 23.745982620474265, 24.219830365882558, 20.790735945561735, 5.914910080496895]\n",
      "[0, 0, 0, 0, 0, 0, 0, 0, 0, 0] [0, 0, 0]\n",
      "--------- Batch id: 37 ---------\n"
     ]
    },
    {
     "name": "stderr",
     "output_type": "stream",
     "text": [
      "c:\\Users\\Branko\\miniconda3\\lib\\site-packages\\prophet\\serialize.py:160: FutureWarning: The behavior of Timestamp.utcfromtimestamp is deprecated, in a future version will return a timezone-aware Timestamp with UTC timezone. To keep the old behavior, use Timestamp.utcfromtimestamp(ts).tz_localize(None). To get the future behavior, use Timestamp.fromtimestamp(ts, 'UTC')\n",
      "  setattr(model, attribute, pd.Timestamp.utcfromtimestamp(model_dict[attribute]).tz_localize(None))\n"
     ]
    },
    {
     "name": "stdout",
     "output_type": "stream",
     "text": [
      "0.0\n",
      "2022-05-18 00:00:00 [0, 0, 0, 0, 0, 0, 0, 0, 0, 0] [36.6484985766639, 37.33645087730574, 26.072996925712104, 32.66688136623431, 30.121598292817225, 25.737832915169875, 23.745982620474265, 24.219830365882558, 20.790735945561735, 5.914910080496895]\n",
      "[0, 0, 0, 0, 0, 0, 0, 0, 0, 0] [0, 0, 0]\n",
      "--------- Batch id: 38 ---------\n"
     ]
    },
    {
     "name": "stderr",
     "output_type": "stream",
     "text": [
      "c:\\Users\\Branko\\miniconda3\\lib\\site-packages\\prophet\\serialize.py:160: FutureWarning: The behavior of Timestamp.utcfromtimestamp is deprecated, in a future version will return a timezone-aware Timestamp with UTC timezone. To keep the old behavior, use Timestamp.utcfromtimestamp(ts).tz_localize(None). To get the future behavior, use Timestamp.fromtimestamp(ts, 'UTC')\n",
      "  setattr(model, attribute, pd.Timestamp.utcfromtimestamp(model_dict[attribute]).tz_localize(None))\n"
     ]
    },
    {
     "name": "stdout",
     "output_type": "stream",
     "text": [
      "0.0\n",
      "2022-05-18 00:00:00 [0, 0, 0, 0, 0, 0, 0, 0, 0, 0] [36.6484985766639, 37.33645087730574, 26.072996925712104, 32.66688136623431, 30.121598292817225, 25.737832915169875, 23.745982620474265, 24.219830365882558, 20.790735945561735, 5.914910080496895]\n",
      "[0, 0, 0, 0, 0, 0, 0, 0, 0, 0] [0, 0, 0]\n",
      "--------- Batch id: 39 ---------\n"
     ]
    },
    {
     "name": "stderr",
     "output_type": "stream",
     "text": [
      "c:\\Users\\Branko\\miniconda3\\lib\\site-packages\\prophet\\serialize.py:160: FutureWarning: The behavior of Timestamp.utcfromtimestamp is deprecated, in a future version will return a timezone-aware Timestamp with UTC timezone. To keep the old behavior, use Timestamp.utcfromtimestamp(ts).tz_localize(None). To get the future behavior, use Timestamp.fromtimestamp(ts, 'UTC')\n",
      "  setattr(model, attribute, pd.Timestamp.utcfromtimestamp(model_dict[attribute]).tz_localize(None))\n"
     ]
    },
    {
     "name": "stdout",
     "output_type": "stream",
     "text": [
      "0.0\n",
      "2022-05-18 00:00:00 [0, 0, 0, 0, 0, 0, 0, 0, 0, 0] [36.6484985766639, 37.33645087730574, 26.072996925712104, 32.66688136623431, 30.121598292817225, 25.737832915169875, 23.745982620474265, 24.219830365882558, 20.790735945561735, 5.914910080496895]\n",
      "[0, 0, 0, 0, 0, 0, 0, 0, 0, 0] [0, 0, 0]\n",
      "--------- Batch id: 40 ---------\n"
     ]
    },
    {
     "name": "stderr",
     "output_type": "stream",
     "text": [
      "c:\\Users\\Branko\\miniconda3\\lib\\site-packages\\prophet\\serialize.py:160: FutureWarning: The behavior of Timestamp.utcfromtimestamp is deprecated, in a future version will return a timezone-aware Timestamp with UTC timezone. To keep the old behavior, use Timestamp.utcfromtimestamp(ts).tz_localize(None). To get the future behavior, use Timestamp.fromtimestamp(ts, 'UTC')\n",
      "  setattr(model, attribute, pd.Timestamp.utcfromtimestamp(model_dict[attribute]).tz_localize(None))\n"
     ]
    },
    {
     "name": "stdout",
     "output_type": "stream",
     "text": [
      "0.0\n",
      "2022-05-18 00:00:00 [0, 0, 0, 0, 0, 0, 0, 0, 0, 0] [36.6484985766639, 37.33645087730574, 26.072996925712104, 32.66688136623431, 30.121598292817225, 25.737832915169875, 23.745982620474265, 24.219830365882558, 20.790735945561735, 5.914910080496895]\n",
      "[0, 0, 0, 0, 0, 0, 0, 0, 0, 0] [0, 0, 0]\n",
      "--------- Batch id: 41 ---------\n"
     ]
    },
    {
     "name": "stderr",
     "output_type": "stream",
     "text": [
      "c:\\Users\\Branko\\miniconda3\\lib\\site-packages\\prophet\\serialize.py:160: FutureWarning: The behavior of Timestamp.utcfromtimestamp is deprecated, in a future version will return a timezone-aware Timestamp with UTC timezone. To keep the old behavior, use Timestamp.utcfromtimestamp(ts).tz_localize(None). To get the future behavior, use Timestamp.fromtimestamp(ts, 'UTC')\n",
      "  setattr(model, attribute, pd.Timestamp.utcfromtimestamp(model_dict[attribute]).tz_localize(None))\n"
     ]
    },
    {
     "name": "stdout",
     "output_type": "stream",
     "text": [
      "0.0\n",
      "2022-05-18 00:00:00 [0, 0, 0, 0, 0, 0, 0, 0, 0, 0] [36.6484985766639, 37.33645087730574, 26.072996925712104, 32.66688136623431, 30.121598292817225, 25.737832915169875, 23.745982620474265, 24.219830365882558, 20.790735945561735, 5.914910080496895]\n",
      "[0, 0, 0, 0, 0, 0, 0, 0, 0, 0] [0, 0, 0]\n",
      "--------- Batch id: 42 ---------\n"
     ]
    },
    {
     "name": "stderr",
     "output_type": "stream",
     "text": [
      "c:\\Users\\Branko\\miniconda3\\lib\\site-packages\\prophet\\serialize.py:160: FutureWarning: The behavior of Timestamp.utcfromtimestamp is deprecated, in a future version will return a timezone-aware Timestamp with UTC timezone. To keep the old behavior, use Timestamp.utcfromtimestamp(ts).tz_localize(None). To get the future behavior, use Timestamp.fromtimestamp(ts, 'UTC')\n",
      "  setattr(model, attribute, pd.Timestamp.utcfromtimestamp(model_dict[attribute]).tz_localize(None))\n"
     ]
    },
    {
     "name": "stdout",
     "output_type": "stream",
     "text": [
      "0.0\n",
      "2022-05-18 00:00:00 [0, 0, 0, 0, 0, 0, 0, 0, 0, 0] [36.6484985766639, 37.33645087730574, 26.072996925712104, 32.66688136623431, 30.121598292817225, 25.737832915169875, 23.745982620474265, 24.219830365882558, 20.790735945561735, 5.914910080496895]\n",
      "[0, 0, 0, 0, 0, 0, 0, 0, 0, 0] [0, 0, 0]\n",
      "--------- Batch id: 43 ---------\n"
     ]
    },
    {
     "name": "stderr",
     "output_type": "stream",
     "text": [
      "c:\\Users\\Branko\\miniconda3\\lib\\site-packages\\prophet\\serialize.py:160: FutureWarning: The behavior of Timestamp.utcfromtimestamp is deprecated, in a future version will return a timezone-aware Timestamp with UTC timezone. To keep the old behavior, use Timestamp.utcfromtimestamp(ts).tz_localize(None). To get the future behavior, use Timestamp.fromtimestamp(ts, 'UTC')\n",
      "  setattr(model, attribute, pd.Timestamp.utcfromtimestamp(model_dict[attribute]).tz_localize(None))\n"
     ]
    },
    {
     "name": "stdout",
     "output_type": "stream",
     "text": [
      "0.0\n",
      "2022-06-01 00:00:00 [0, 0, 0, 0, 1, 0, 0, 0, 0, 0] [0, 0, 0, 0, 0, 0, 0, 0, 0, 0]\n",
      "[0, 0, 0, 0, 0, 0, 0, 0, 0, 0] [0, 0, 0]\n",
      "--------- Batch id: 44 ---------\n"
     ]
    },
    {
     "name": "stderr",
     "output_type": "stream",
     "text": [
      "c:\\Users\\Branko\\miniconda3\\lib\\site-packages\\prophet\\serialize.py:160: FutureWarning: The behavior of Timestamp.utcfromtimestamp is deprecated, in a future version will return a timezone-aware Timestamp with UTC timezone. To keep the old behavior, use Timestamp.utcfromtimestamp(ts).tz_localize(None). To get the future behavior, use Timestamp.fromtimestamp(ts, 'UTC')\n",
      "  setattr(model, attribute, pd.Timestamp.utcfromtimestamp(model_dict[attribute]).tz_localize(None))\n"
     ]
    },
    {
     "name": "stdout",
     "output_type": "stream",
     "text": [
      "0.0\n",
      "2022-06-01 00:00:00 [0, 0, 0, 0, 0, 0, 0, 0, 1, 2] [0, 0, 0, 0, 0, 0, 0, 0, 0, 0]\n",
      "[0, 0, 0, 0, 0, 0, 0, 0, 0, 0] [0, 0, 0]\n",
      "--------- Batch id: 45 ---------\n"
     ]
    },
    {
     "name": "stderr",
     "output_type": "stream",
     "text": [
      "c:\\Users\\Branko\\miniconda3\\lib\\site-packages\\prophet\\serialize.py:160: FutureWarning: The behavior of Timestamp.utcfromtimestamp is deprecated, in a future version will return a timezone-aware Timestamp with UTC timezone. To keep the old behavior, use Timestamp.utcfromtimestamp(ts).tz_localize(None). To get the future behavior, use Timestamp.fromtimestamp(ts, 'UTC')\n",
      "  setattr(model, attribute, pd.Timestamp.utcfromtimestamp(model_dict[attribute]).tz_localize(None))\n"
     ]
    },
    {
     "name": "stdout",
     "output_type": "stream",
     "text": [
      "0.0\n",
      "2022-06-01 00:00:00 [0, 0, 0, 0, 0, 0, 0, 0, 0, 0] [0, 0, 0, 0, 0, 0, 0, 0, 0, 0]\n",
      "[0, 0, 0, 0, 0, 0, 0, 0, 0, 0] [0, 0, 0]\n",
      "--------- Batch id: 46 ---------\n"
     ]
    },
    {
     "name": "stderr",
     "output_type": "stream",
     "text": [
      "c:\\Users\\Branko\\miniconda3\\lib\\site-packages\\prophet\\serialize.py:160: FutureWarning: The behavior of Timestamp.utcfromtimestamp is deprecated, in a future version will return a timezone-aware Timestamp with UTC timezone. To keep the old behavior, use Timestamp.utcfromtimestamp(ts).tz_localize(None). To get the future behavior, use Timestamp.fromtimestamp(ts, 'UTC')\n",
      "  setattr(model, attribute, pd.Timestamp.utcfromtimestamp(model_dict[attribute]).tz_localize(None))\n"
     ]
    },
    {
     "name": "stdout",
     "output_type": "stream",
     "text": [
      "0.0\n",
      "2022-06-01 00:00:00 [0, 0, 0, 0, 0, 0, 0, 0, 0, 0] [0, 0, 0, 0, 0, 0, 0, 0, 0, 0]\n",
      "[0, 0, 0, 0, 0, 0, 0, 0, 0, 0] [0, 0, 0]\n",
      "--------- Batch id: 47 ---------\n"
     ]
    },
    {
     "name": "stderr",
     "output_type": "stream",
     "text": [
      "c:\\Users\\Branko\\miniconda3\\lib\\site-packages\\prophet\\serialize.py:160: FutureWarning: The behavior of Timestamp.utcfromtimestamp is deprecated, in a future version will return a timezone-aware Timestamp with UTC timezone. To keep the old behavior, use Timestamp.utcfromtimestamp(ts).tz_localize(None). To get the future behavior, use Timestamp.fromtimestamp(ts, 'UTC')\n",
      "  setattr(model, attribute, pd.Timestamp.utcfromtimestamp(model_dict[attribute]).tz_localize(None))\n"
     ]
    },
    {
     "name": "stdout",
     "output_type": "stream",
     "text": [
      "0.0\n",
      "2022-06-01 00:00:00 [0, 0, 0, 0, 0, 0, 0, 0, 0, 0] [0, 0, 0, 0, 0, 0, 0, 0, 0, 0]\n",
      "[0, 0, 0, 0, 0, 0, 0, 0, 0, 0] [0, 0, 0]\n",
      "--------- Batch id: 48 ---------\n"
     ]
    },
    {
     "name": "stderr",
     "output_type": "stream",
     "text": [
      "c:\\Users\\Branko\\miniconda3\\lib\\site-packages\\prophet\\serialize.py:160: FutureWarning: The behavior of Timestamp.utcfromtimestamp is deprecated, in a future version will return a timezone-aware Timestamp with UTC timezone. To keep the old behavior, use Timestamp.utcfromtimestamp(ts).tz_localize(None). To get the future behavior, use Timestamp.fromtimestamp(ts, 'UTC')\n",
      "  setattr(model, attribute, pd.Timestamp.utcfromtimestamp(model_dict[attribute]).tz_localize(None))\n"
     ]
    },
    {
     "name": "stdout",
     "output_type": "stream",
     "text": [
      "0.0\n",
      "2022-06-01 00:00:00 [0, 0, 0, 0, 0, 0, 0, 0, 0, 0] [0, 0, 0, 0, 0, 0, 0, 0, 0, 0]\n",
      "[0, 0, 0, 0, 0, 0, 0, 0, 0, 0] [0, 0, 0]\n",
      "--------- Batch id: 49 ---------\n"
     ]
    },
    {
     "name": "stderr",
     "output_type": "stream",
     "text": [
      "c:\\Users\\Branko\\miniconda3\\lib\\site-packages\\prophet\\serialize.py:160: FutureWarning: The behavior of Timestamp.utcfromtimestamp is deprecated, in a future version will return a timezone-aware Timestamp with UTC timezone. To keep the old behavior, use Timestamp.utcfromtimestamp(ts).tz_localize(None). To get the future behavior, use Timestamp.fromtimestamp(ts, 'UTC')\n",
      "  setattr(model, attribute, pd.Timestamp.utcfromtimestamp(model_dict[attribute]).tz_localize(None))\n"
     ]
    },
    {
     "name": "stdout",
     "output_type": "stream",
     "text": [
      "0.0\n",
      "2022-06-01 00:00:00 [0, 0, 0, 0, 0, 0, 0, 0, 0, 0] [0, 0, 0, 0, 0, 0, 0, 0, 0, 0]\n",
      "[0, 0, 0, 0, 0, 0, 0, 0, 0, 0] [0, 0, 0]\n",
      "--------- Batch id: 50 ---------\n"
     ]
    },
    {
     "name": "stderr",
     "output_type": "stream",
     "text": [
      "c:\\Users\\Branko\\miniconda3\\lib\\site-packages\\prophet\\serialize.py:160: FutureWarning: The behavior of Timestamp.utcfromtimestamp is deprecated, in a future version will return a timezone-aware Timestamp with UTC timezone. To keep the old behavior, use Timestamp.utcfromtimestamp(ts).tz_localize(None). To get the future behavior, use Timestamp.fromtimestamp(ts, 'UTC')\n",
      "  setattr(model, attribute, pd.Timestamp.utcfromtimestamp(model_dict[attribute]).tz_localize(None))\n"
     ]
    },
    {
     "name": "stdout",
     "output_type": "stream",
     "text": [
      "0.0\n",
      "2022-06-15 00:00:00 [0, 0, 0, 0, 0, 0, 0, 0, 0, 0] [23.555179754722403, 28.647114107486004, 22.186833402536976, 33.82719436723566, 36.405296316044755, 37.05042043019492, 39.82231204102885, 44.630690450645076, 44.95515735149657, 33.11787447913717]\n",
      "[0, 0, 0, 0, 0, 0, 0, 0, 0, 0] [0, 0, 0]\n",
      "--------- Batch id: 51 ---------\n"
     ]
    },
    {
     "name": "stderr",
     "output_type": "stream",
     "text": [
      "c:\\Users\\Branko\\miniconda3\\lib\\site-packages\\prophet\\serialize.py:160: FutureWarning: The behavior of Timestamp.utcfromtimestamp is deprecated, in a future version will return a timezone-aware Timestamp with UTC timezone. To keep the old behavior, use Timestamp.utcfromtimestamp(ts).tz_localize(None). To get the future behavior, use Timestamp.fromtimestamp(ts, 'UTC')\n",
      "  setattr(model, attribute, pd.Timestamp.utcfromtimestamp(model_dict[attribute]).tz_localize(None))\n"
     ]
    },
    {
     "name": "stdout",
     "output_type": "stream",
     "text": [
      "0.0222443888290986\n",
      "2022-06-15 00:00:00 [0, 1, 0, 0, 1, 0, 0, 0, 1, 0] [23.555179754722403, 28.647114107486004, 22.186833402536976, 33.82719436723566, 36.405296316044755, 37.05042043019492, 39.82231204102885, 44.630690450645076, 44.95515735149657, 33.11787447913717]\n",
      "[0, 0, 0, 0, 0, 0, 0, 0, 1, 0] [0, 0, 0]\n",
      "--------- Batch id: 52 ---------\n"
     ]
    },
    {
     "name": "stderr",
     "output_type": "stream",
     "text": [
      "c:\\Users\\Branko\\miniconda3\\lib\\site-packages\\prophet\\serialize.py:160: FutureWarning: The behavior of Timestamp.utcfromtimestamp is deprecated, in a future version will return a timezone-aware Timestamp with UTC timezone. To keep the old behavior, use Timestamp.utcfromtimestamp(ts).tz_localize(None). To get the future behavior, use Timestamp.fromtimestamp(ts, 'UTC')\n",
      "  setattr(model, attribute, pd.Timestamp.utcfromtimestamp(model_dict[attribute]).tz_localize(None))\n"
     ]
    },
    {
     "name": "stdout",
     "output_type": "stream",
     "text": [
      "0.0\n",
      "2022-06-15 00:00:00 [0, 0, 0, 0, 0, 0, 0, 0, 0, 0] [23.555179754722403, 28.647114107486004, 22.186833402536976, 33.82719436723566, 36.405296316044755, 37.05042043019492, 39.82231204102885, 44.630690450645076, 44.95515735149657, 33.11787447913717]\n",
      "[0, 0, 0, 0, 0, 0, 0, 0, 0, 0] [0, 0, 0]\n",
      "--------- Batch id: 53 ---------\n"
     ]
    },
    {
     "name": "stderr",
     "output_type": "stream",
     "text": [
      "c:\\Users\\Branko\\miniconda3\\lib\\site-packages\\prophet\\serialize.py:160: FutureWarning: The behavior of Timestamp.utcfromtimestamp is deprecated, in a future version will return a timezone-aware Timestamp with UTC timezone. To keep the old behavior, use Timestamp.utcfromtimestamp(ts).tz_localize(None). To get the future behavior, use Timestamp.fromtimestamp(ts, 'UTC')\n",
      "  setattr(model, attribute, pd.Timestamp.utcfromtimestamp(model_dict[attribute]).tz_localize(None))\n"
     ]
    },
    {
     "name": "stdout",
     "output_type": "stream",
     "text": [
      "0.0\n",
      "2022-06-15 00:00:00 [0, 0, 0, 0, 0, 0, 0, 0, 0, 0] [23.555179754722403, 28.647114107486004, 22.186833402536976, 33.82719436723566, 36.405296316044755, 37.05042043019492, 39.82231204102885, 44.630690450645076, 44.95515735149657, 33.11787447913717]\n",
      "[0, 0, 0, 0, 0, 0, 0, 0, 0, 0] [0, 0, 0]\n",
      "--------- Batch id: 54 ---------\n"
     ]
    },
    {
     "name": "stderr",
     "output_type": "stream",
     "text": [
      "c:\\Users\\Branko\\miniconda3\\lib\\site-packages\\prophet\\serialize.py:160: FutureWarning: The behavior of Timestamp.utcfromtimestamp is deprecated, in a future version will return a timezone-aware Timestamp with UTC timezone. To keep the old behavior, use Timestamp.utcfromtimestamp(ts).tz_localize(None). To get the future behavior, use Timestamp.fromtimestamp(ts, 'UTC')\n",
      "  setattr(model, attribute, pd.Timestamp.utcfromtimestamp(model_dict[attribute]).tz_localize(None))\n"
     ]
    },
    {
     "name": "stdout",
     "output_type": "stream",
     "text": [
      "0.0\n",
      "2022-06-15 00:00:00 [0, 0, 0, 0, 0, 0, 0, 0, 0, 0] [23.555179754722403, 28.647114107486004, 22.186833402536976, 33.82719436723566, 36.405296316044755, 37.05042043019492, 39.82231204102885, 44.630690450645076, 44.95515735149657, 33.11787447913717]\n",
      "[0, 0, 0, 0, 0, 0, 0, 0, 0, 0] [0, 0, 0]\n",
      "--------- Batch id: 55 ---------\n"
     ]
    },
    {
     "name": "stderr",
     "output_type": "stream",
     "text": [
      "c:\\Users\\Branko\\miniconda3\\lib\\site-packages\\prophet\\serialize.py:160: FutureWarning: The behavior of Timestamp.utcfromtimestamp is deprecated, in a future version will return a timezone-aware Timestamp with UTC timezone. To keep the old behavior, use Timestamp.utcfromtimestamp(ts).tz_localize(None). To get the future behavior, use Timestamp.fromtimestamp(ts, 'UTC')\n",
      "  setattr(model, attribute, pd.Timestamp.utcfromtimestamp(model_dict[attribute]).tz_localize(None))\n"
     ]
    },
    {
     "name": "stdout",
     "output_type": "stream",
     "text": [
      "0.0\n",
      "2022-06-15 00:00:00 [0, 0, 0, 0, 0, 0, 0, 0, 0, 0] [23.555179754722403, 28.647114107486004, 22.186833402536976, 33.82719436723566, 36.405296316044755, 37.05042043019492, 39.82231204102885, 44.630690450645076, 44.95515735149657, 33.11787447913717]\n",
      "[0, 0, 0, 0, 0, 0, 0, 0, 0, 0] [0, 0, 0]\n",
      "--------- Batch id: 56 ---------\n"
     ]
    },
    {
     "name": "stderr",
     "output_type": "stream",
     "text": [
      "c:\\Users\\Branko\\miniconda3\\lib\\site-packages\\prophet\\serialize.py:160: FutureWarning: The behavior of Timestamp.utcfromtimestamp is deprecated, in a future version will return a timezone-aware Timestamp with UTC timezone. To keep the old behavior, use Timestamp.utcfromtimestamp(ts).tz_localize(None). To get the future behavior, use Timestamp.fromtimestamp(ts, 'UTC')\n",
      "  setattr(model, attribute, pd.Timestamp.utcfromtimestamp(model_dict[attribute]).tz_localize(None))\n"
     ]
    },
    {
     "name": "stdout",
     "output_type": "stream",
     "text": [
      "0.0222443888290986\n",
      "2022-06-15 00:00:00 [0, 0, 0, 0, 0, 0, 0, 0, 1, 0] [23.555179754722403, 28.647114107486004, 22.186833402536976, 33.82719436723566, 36.405296316044755, 37.05042043019492, 39.82231204102885, 44.630690450645076, 44.95515735149657, 33.11787447913717]\n",
      "[0, 0, 0, 0, 0, 0, 0, 0, 1, 0] [0, 0, 0]\n",
      "--------- Batch id: 57 ---------\n"
     ]
    },
    {
     "name": "stderr",
     "output_type": "stream",
     "text": [
      "c:\\Users\\Branko\\miniconda3\\lib\\site-packages\\prophet\\serialize.py:160: FutureWarning: The behavior of Timestamp.utcfromtimestamp is deprecated, in a future version will return a timezone-aware Timestamp with UTC timezone. To keep the old behavior, use Timestamp.utcfromtimestamp(ts).tz_localize(None). To get the future behavior, use Timestamp.fromtimestamp(ts, 'UTC')\n",
      "  setattr(model, attribute, pd.Timestamp.utcfromtimestamp(model_dict[attribute]).tz_localize(None))\n"
     ]
    },
    {
     "name": "stdout",
     "output_type": "stream",
     "text": [
      "0.03843677274729711\n",
      "2022-06-29 00:00:00 [1, 0, 0, 0, 0, 0, 0, 0, 1, 0] [26.016752409847427, 21.312670901362836, 5.194559120874402, 7.649464761436008, 1.8400823516697358, 0.0, 0.0, 0.0, 0.0, 0.0]\n",
      "[0, 0, 0, 0, 0, 0, 0, 0, 0, 0] [0, 0, 0]\n",
      "--------- Batch id: 58 ---------\n"
     ]
    },
    {
     "name": "stderr",
     "output_type": "stream",
     "text": [
      "c:\\Users\\Branko\\miniconda3\\lib\\site-packages\\prophet\\serialize.py:160: FutureWarning: The behavior of Timestamp.utcfromtimestamp is deprecated, in a future version will return a timezone-aware Timestamp with UTC timezone. To keep the old behavior, use Timestamp.utcfromtimestamp(ts).tz_localize(None). To get the future behavior, use Timestamp.fromtimestamp(ts, 'UTC')\n",
      "  setattr(model, attribute, pd.Timestamp.utcfromtimestamp(model_dict[attribute]).tz_localize(None))\n"
     ]
    },
    {
     "name": "stdout",
     "output_type": "stream",
     "text": [
      "0.23062063648378267\n",
      "2022-06-29 00:00:00 [0, 0, 0, 0, 1, 1, 1, 6, 6, 6] [26.016752409847427, 21.312670901362836, 5.194559120874402, 7.649464761436008, 1.8400823516697358, 0.0, 0.0, 0.0, 0.0, 0.0]\n",
      "[6, 4, 1, 1, 0, 0, 0, 0, 0, 0] [0, 0, 0]\n",
      "--------- Batch id: 59 ---------\n"
     ]
    },
    {
     "name": "stderr",
     "output_type": "stream",
     "text": [
      "c:\\Users\\Branko\\miniconda3\\lib\\site-packages\\prophet\\serialize.py:160: FutureWarning: The behavior of Timestamp.utcfromtimestamp is deprecated, in a future version will return a timezone-aware Timestamp with UTC timezone. To keep the old behavior, use Timestamp.utcfromtimestamp(ts).tz_localize(None). To get the future behavior, use Timestamp.fromtimestamp(ts, 'UTC')\n",
      "  setattr(model, attribute, pd.Timestamp.utcfromtimestamp(model_dict[attribute]).tz_localize(None))\n"
     ]
    },
    {
     "name": "stdout",
     "output_type": "stream",
     "text": [
      "0.0\n",
      "2022-06-29 00:00:00 [0, 0, 0, 0, 0, 0, 0, 0, 0, 0] [26.016752409847427, 21.312670901362836, 5.194559120874402, 7.649464761436008, 1.8400823516697358, 0.0, 0.0, 0.0, 0.0, 0.0]\n",
      "[0, 0, 0, 0, 0, 0, 0, 0, 0, 0] [0, 0, 0]\n",
      "--------- Batch id: 60 ---------\n"
     ]
    },
    {
     "name": "stderr",
     "output_type": "stream",
     "text": [
      "c:\\Users\\Branko\\miniconda3\\lib\\site-packages\\prophet\\serialize.py:160: FutureWarning: The behavior of Timestamp.utcfromtimestamp is deprecated, in a future version will return a timezone-aware Timestamp with UTC timezone. To keep the old behavior, use Timestamp.utcfromtimestamp(ts).tz_localize(None). To get the future behavior, use Timestamp.fromtimestamp(ts, 'UTC')\n",
      "  setattr(model, attribute, pd.Timestamp.utcfromtimestamp(model_dict[attribute]).tz_localize(None))\n"
     ]
    },
    {
     "name": "stdout",
     "output_type": "stream",
     "text": [
      "0.0\n",
      "2022-06-29 00:00:00 [0, 0, 0, 0, 0, 0, 0, 0, 0, 0] [26.016752409847427, 21.312670901362836, 5.194559120874402, 7.649464761436008, 1.8400823516697358, 0.0, 0.0, 0.0, 0.0, 0.0]\n",
      "[0, 0, 0, 0, 0, 0, 0, 0, 0, 0] [0, 0, 0]\n",
      "--------- Batch id: 61 ---------\n"
     ]
    },
    {
     "name": "stderr",
     "output_type": "stream",
     "text": [
      "c:\\Users\\Branko\\miniconda3\\lib\\site-packages\\prophet\\serialize.py:160: FutureWarning: The behavior of Timestamp.utcfromtimestamp is deprecated, in a future version will return a timezone-aware Timestamp with UTC timezone. To keep the old behavior, use Timestamp.utcfromtimestamp(ts).tz_localize(None). To get the future behavior, use Timestamp.fromtimestamp(ts, 'UTC')\n",
      "  setattr(model, attribute, pd.Timestamp.utcfromtimestamp(model_dict[attribute]).tz_localize(None))\n"
     ]
    },
    {
     "name": "stdout",
     "output_type": "stream",
     "text": [
      "0.0\n",
      "2022-06-29 00:00:00 [0, 0, 0, 0, 0, 0, 0, 0, 0, 0] [26.016752409847427, 21.312670901362836, 5.194559120874402, 7.649464761436008, 1.8400823516697358, 0.0, 0.0, 0.0, 0.0, 0.0]\n",
      "[0, 0, 0, 0, 0, 0, 0, 0, 0, 0] [0, 0, 0]\n",
      "--------- Batch id: 62 ---------\n"
     ]
    },
    {
     "name": "stderr",
     "output_type": "stream",
     "text": [
      "c:\\Users\\Branko\\miniconda3\\lib\\site-packages\\prophet\\serialize.py:160: FutureWarning: The behavior of Timestamp.utcfromtimestamp is deprecated, in a future version will return a timezone-aware Timestamp with UTC timezone. To keep the old behavior, use Timestamp.utcfromtimestamp(ts).tz_localize(None). To get the future behavior, use Timestamp.fromtimestamp(ts, 'UTC')\n",
      "  setattr(model, attribute, pd.Timestamp.utcfromtimestamp(model_dict[attribute]).tz_localize(None))\n"
     ]
    },
    {
     "name": "stdout",
     "output_type": "stream",
     "text": [
      "0.0\n",
      "2022-06-29 00:00:00 [0, 0, 0, 0, 0, 0, 0, 0, 0, 0] [26.016752409847427, 21.312670901362836, 5.194559120874402, 7.649464761436008, 1.8400823516697358, 0.0, 0.0, 0.0, 0.0, 0.0]\n",
      "[0, 0, 0, 0, 0, 0, 0, 0, 0, 0] [0, 0, 0]\n",
      "--------- Batch id: 63 ---------\n"
     ]
    },
    {
     "name": "stderr",
     "output_type": "stream",
     "text": [
      "c:\\Users\\Branko\\miniconda3\\lib\\site-packages\\prophet\\serialize.py:160: FutureWarning: The behavior of Timestamp.utcfromtimestamp is deprecated, in a future version will return a timezone-aware Timestamp with UTC timezone. To keep the old behavior, use Timestamp.utcfromtimestamp(ts).tz_localize(None). To get the future behavior, use Timestamp.fromtimestamp(ts, 'UTC')\n",
      "  setattr(model, attribute, pd.Timestamp.utcfromtimestamp(model_dict[attribute]).tz_localize(None))\n"
     ]
    },
    {
     "name": "stdout",
     "output_type": "stream",
     "text": [
      "0.03843677274729711\n",
      "2022-06-29 00:00:00 [0, 0, 0, 0, 0, 0, 0, 0, 0, 1] [26.016752409847427, 21.312670901362836, 5.194559120874402, 7.649464761436008, 1.8400823516697358, 0.0, 0.0, 0.0, 0.0, 0.0]\n",
      "[0, 0, 0, 0, 0, 0, 0, 0, 0, 0] [0, 0, 0]\n",
      "--------- Batch id: 64 ---------\n"
     ]
    },
    {
     "name": "stderr",
     "output_type": "stream",
     "text": [
      "c:\\Users\\Branko\\miniconda3\\lib\\site-packages\\prophet\\serialize.py:160: FutureWarning: The behavior of Timestamp.utcfromtimestamp is deprecated, in a future version will return a timezone-aware Timestamp with UTC timezone. To keep the old behavior, use Timestamp.utcfromtimestamp(ts).tz_localize(None). To get the future behavior, use Timestamp.fromtimestamp(ts, 'UTC')\n",
      "  setattr(model, attribute, pd.Timestamp.utcfromtimestamp(model_dict[attribute]).tz_localize(None))\n"
     ]
    },
    {
     "name": "stdout",
     "output_type": "stream",
     "text": [
      "0.0308229842041605\n",
      "2022-07-27 00:00:00 [0, 0, 0, 0, 0, 0, 0, 1, 0, 2] [64.88664390030215, 63.30683913923886, 49.13825168134365, 52.32031184361419, 46.03153040261036, 37.79215851160153, 32.095741314515564, 29.320578419190113, 23.44042626477824, 7.287008430010246]\n",
      "[2, 1, 1, 1, 1, 1, 0, 0, 0, 0] [0, 0, 0]\n",
      "--------- Batch id: 65 ---------\n"
     ]
    },
    {
     "name": "stderr",
     "output_type": "stream",
     "text": [
      "c:\\Users\\Branko\\miniconda3\\lib\\site-packages\\prophet\\serialize.py:160: FutureWarning: The behavior of Timestamp.utcfromtimestamp is deprecated, in a future version will return a timezone-aware Timestamp with UTC timezone. To keep the old behavior, use Timestamp.utcfromtimestamp(ts).tz_localize(None). To get the future behavior, use Timestamp.fromtimestamp(ts, 'UTC')\n",
      "  setattr(model, attribute, pd.Timestamp.utcfromtimestamp(model_dict[attribute]).tz_localize(None))\n"
     ]
    },
    {
     "name": "stdout",
     "output_type": "stream",
     "text": [
      "0.061645968408321\n",
      "2022-07-27 00:00:00 [0, 1, 1, 0, 0, 1, 1, 2, 4, 4] [64.88664390030215, 63.30683913923886, 49.13825168134365, 52.32031184361419, 46.03153040261036, 37.79215851160153, 32.095741314515564, 29.320578419190113, 23.44042626477824, 7.287008430010246]\n",
      "[4, 3, 3, 3, 2, 2, 1, 1, 1, 0] [0, 0, 0]\n",
      "--------- Batch id: 66 ---------\n"
     ]
    },
    {
     "name": "stderr",
     "output_type": "stream",
     "text": [
      "c:\\Users\\Branko\\miniconda3\\lib\\site-packages\\prophet\\serialize.py:160: FutureWarning: The behavior of Timestamp.utcfromtimestamp is deprecated, in a future version will return a timezone-aware Timestamp with UTC timezone. To keep the old behavior, use Timestamp.utcfromtimestamp(ts).tz_localize(None). To get the future behavior, use Timestamp.fromtimestamp(ts, 'UTC')\n",
      "  setattr(model, attribute, pd.Timestamp.utcfromtimestamp(model_dict[attribute]).tz_localize(None))\n"
     ]
    },
    {
     "name": "stdout",
     "output_type": "stream",
     "text": [
      "0.061645968408321\n",
      "2022-07-27 00:00:00 [3, 2, 4, 2, 1, 2, 1, 0, 0, 0] [64.88664390030215, 63.30683913923886, 49.13825168134365, 52.32031184361419, 46.03153040261036, 37.79215851160153, 32.095741314515564, 29.320578419190113, 23.44042626477824, 7.287008430010246]\n",
      "[4, 3, 3, 3, 2, 2, 1, 1, 1, 0] [0, 0, 0]\n",
      "--------- Batch id: 67 ---------\n"
     ]
    },
    {
     "name": "stderr",
     "output_type": "stream",
     "text": [
      "c:\\Users\\Branko\\miniconda3\\lib\\site-packages\\prophet\\serialize.py:160: FutureWarning: The behavior of Timestamp.utcfromtimestamp is deprecated, in a future version will return a timezone-aware Timestamp with UTC timezone. To keep the old behavior, use Timestamp.utcfromtimestamp(ts).tz_localize(None). To get the future behavior, use Timestamp.fromtimestamp(ts, 'UTC')\n",
      "  setattr(model, attribute, pd.Timestamp.utcfromtimestamp(model_dict[attribute]).tz_localize(None))\n"
     ]
    },
    {
     "name": "stdout",
     "output_type": "stream",
     "text": [
      "0.5856366998790495\n",
      "2022-07-27 00:00:00 [3, 2, 3, 3, 1, 2, 2, 12, 21, 38] [64.88664390030215, 63.30683913923886, 49.13825168134365, 52.32031184361419, 46.03153040261036, 37.79215851160153, 32.095741314515564, 29.320578419190113, 23.44042626477824, 7.287008430010246]\n",
      "[38, 37, 28, 30, 26, 22, 18, 17, 13, 4] [6, 5, 4]\n",
      "--------- Batch id: 68 ---------\n"
     ]
    },
    {
     "name": "stderr",
     "output_type": "stream",
     "text": [
      "c:\\Users\\Branko\\miniconda3\\lib\\site-packages\\prophet\\serialize.py:160: FutureWarning: The behavior of Timestamp.utcfromtimestamp is deprecated, in a future version will return a timezone-aware Timestamp with UTC timezone. To keep the old behavior, use Timestamp.utcfromtimestamp(ts).tz_localize(None). To get the future behavior, use Timestamp.fromtimestamp(ts, 'UTC')\n",
      "  setattr(model, attribute, pd.Timestamp.utcfromtimestamp(model_dict[attribute]).tz_localize(None))\n"
     ]
    },
    {
     "name": "stdout",
     "output_type": "stream",
     "text": [
      "0.123291936816642\n",
      "2022-07-27 00:00:00 [0, 0, 3, 0, 0, 0, 8, 0, 0, 0] [64.88664390030215, 63.30683913923886, 49.13825168134365, 52.32031184361419, 46.03153040261036, 37.79215851160153, 32.095741314515564, 29.320578419190113, 23.44042626477824, 7.287008430010246]\n",
      "[8, 7, 6, 6, 5, 4, 3, 3, 2, 0] [1, 1, 0]\n",
      "--------- Batch id: 69 ---------\n"
     ]
    },
    {
     "name": "stderr",
     "output_type": "stream",
     "text": [
      "c:\\Users\\Branko\\miniconda3\\lib\\site-packages\\prophet\\serialize.py:160: FutureWarning: The behavior of Timestamp.utcfromtimestamp is deprecated, in a future version will return a timezone-aware Timestamp with UTC timezone. To keep the old behavior, use Timestamp.utcfromtimestamp(ts).tz_localize(None). To get the future behavior, use Timestamp.fromtimestamp(ts, 'UTC')\n",
      "  setattr(model, attribute, pd.Timestamp.utcfromtimestamp(model_dict[attribute]).tz_localize(None))\n"
     ]
    },
    {
     "name": "stdout",
     "output_type": "stream",
     "text": [
      "0.061645968408321\n",
      "2022-07-27 00:00:00 [1, 0, 0, 1, 0, 1, 2, 1, 4, 4] [64.88664390030215, 63.30683913923886, 49.13825168134365, 52.32031184361419, 46.03153040261036, 37.79215851160153, 32.095741314515564, 29.320578419190113, 23.44042626477824, 7.287008430010246]\n",
      "[4, 3, 3, 3, 2, 2, 1, 1, 1, 0] [0, 0, 0]\n",
      "--------- Batch id: 70 ---------\n"
     ]
    },
    {
     "name": "stderr",
     "output_type": "stream",
     "text": [
      "c:\\Users\\Branko\\miniconda3\\lib\\site-packages\\prophet\\serialize.py:160: FutureWarning: The behavior of Timestamp.utcfromtimestamp is deprecated, in a future version will return a timezone-aware Timestamp with UTC timezone. To keep the old behavior, use Timestamp.utcfromtimestamp(ts).tz_localize(None). To get the future behavior, use Timestamp.fromtimestamp(ts, 'UTC')\n",
      "  setattr(model, attribute, pd.Timestamp.utcfromtimestamp(model_dict[attribute]).tz_localize(None))\n"
     ]
    },
    {
     "name": "stdout",
     "output_type": "stream",
     "text": [
      "0.0308229842041605\n",
      "2022-07-27 00:00:00 [1, 1, 1, 1, 1, 2, 1, 1, 1, 0] [64.88664390030215, 63.30683913923886, 49.13825168134365, 52.32031184361419, 46.03153040261036, 37.79215851160153, 32.095741314515564, 29.320578419190113, 23.44042626477824, 7.287008430010246]\n",
      "[2, 1, 1, 1, 1, 1, 0, 0, 0, 0] [0, 0, 0]\n",
      "--------- Batch id: 71 ---------\n"
     ]
    },
    {
     "name": "stderr",
     "output_type": "stream",
     "text": [
      "c:\\Users\\Branko\\miniconda3\\lib\\site-packages\\prophet\\serialize.py:160: FutureWarning: The behavior of Timestamp.utcfromtimestamp is deprecated, in a future version will return a timezone-aware Timestamp with UTC timezone. To keep the old behavior, use Timestamp.utcfromtimestamp(ts).tz_localize(None). To get the future behavior, use Timestamp.fromtimestamp(ts, 'UTC')\n",
      "  setattr(model, attribute, pd.Timestamp.utcfromtimestamp(model_dict[attribute]).tz_localize(None))\n"
     ]
    },
    {
     "name": "stdout",
     "output_type": "stream",
     "text": [
      "0.16996285515879422\n",
      "2022-08-10 00:00:00 [1, 0, 6, 1, 1, 17, 31, 14, 14, 54] [24.439133816468384, 36.898677933209754, 42.885432628653874, 72.6180720346668, 99.41227490749804, 130.77142810801067, 171.0096440330172, 220.1584435020648, 271.67668816091896, 317.7164795775433]\n",
      "[4, 6, 7, 12, 16, 22, 29, 37, 46, 53] [65, 77, 89]\n",
      "--------- Batch id: 72 ---------\n"
     ]
    },
    {
     "name": "stderr",
     "output_type": "stream",
     "text": [
      "c:\\Users\\Branko\\miniconda3\\lib\\site-packages\\prophet\\serialize.py:160: FutureWarning: The behavior of Timestamp.utcfromtimestamp is deprecated, in a future version will return a timezone-aware Timestamp with UTC timezone. To keep the old behavior, use Timestamp.utcfromtimestamp(ts).tz_localize(None). To get the future behavior, use Timestamp.fromtimestamp(ts, 'UTC')\n",
      "  setattr(model, attribute, pd.Timestamp.utcfromtimestamp(model_dict[attribute]).tz_localize(None))\n"
     ]
    },
    {
     "name": "stdout",
     "output_type": "stream",
     "text": [
      "0.11330857010586284\n",
      "2022-08-10 00:00:00 [1, 5, 6, 8, 16, 10, 36, 7, 25, 9] [24.439133816468384, 36.898677933209754, 42.885432628653874, 72.6180720346668, 99.41227490749804, 130.77142810801067, 171.0096440330172, 220.1584435020648, 271.67668816091896, 317.7164795775433]\n",
      "[2, 4, 4, 8, 11, 14, 19, 24, 30, 36] [43, 51, 59]\n",
      "--------- Batch id: 73 ---------\n"
     ]
    },
    {
     "name": "stderr",
     "output_type": "stream",
     "text": [
      "c:\\Users\\Branko\\miniconda3\\lib\\site-packages\\prophet\\serialize.py:160: FutureWarning: The behavior of Timestamp.utcfromtimestamp is deprecated, in a future version will return a timezone-aware Timestamp with UTC timezone. To keep the old behavior, use Timestamp.utcfromtimestamp(ts).tz_localize(None). To get the future behavior, use Timestamp.fromtimestamp(ts, 'UTC')\n",
      "  setattr(model, attribute, pd.Timestamp.utcfromtimestamp(model_dict[attribute]).tz_localize(None))\n"
     ]
    },
    {
     "name": "stdout",
     "output_type": "stream",
     "text": [
      "0.1573730140359206\n",
      "2022-08-10 00:00:00 [2, 1, 10, 0, 1, 4, 8, 10, 24, 50] [24.439133816468384, 36.898677933209754, 42.885432628653874, 72.6180720346668, 99.41227490749804, 130.77142810801067, 171.0096440330172, 220.1584435020648, 271.67668816091896, 317.7164795775433]\n",
      "[3, 5, 6, 11, 15, 20, 26, 34, 42, 50] [61, 71, 82]\n",
      "--------- Batch id: 74 ---------\n"
     ]
    },
    {
     "name": "stderr",
     "output_type": "stream",
     "text": [
      "c:\\Users\\Branko\\miniconda3\\lib\\site-packages\\prophet\\serialize.py:160: FutureWarning: The behavior of Timestamp.utcfromtimestamp is deprecated, in a future version will return a timezone-aware Timestamp with UTC timezone. To keep the old behavior, use Timestamp.utcfromtimestamp(ts).tz_localize(None). To get the future behavior, use Timestamp.fromtimestamp(ts, 'UTC')\n",
      "  setattr(model, attribute, pd.Timestamp.utcfromtimestamp(model_dict[attribute]).tz_localize(None))\n"
     ]
    },
    {
     "name": "stdout",
     "output_type": "stream",
     "text": [
      "0.33048332947543324\n",
      "2022-08-10 00:00:00 [105, 92, 65, 62, 95, 87, 101, 42, 40, 36] [24.439133816468384, 36.898677933209754, 42.885432628653874, 72.6180720346668, 99.41227490749804, 130.77142810801067, 171.0096440330172, 220.1584435020648, 271.67668816091896, 317.7164795775433]\n",
      "[8, 12, 14, 23, 32, 43, 56, 72, 89, 105] [128, 150, 173]\n",
      "--------- Batch id: 75 ---------\n"
     ]
    },
    {
     "name": "stderr",
     "output_type": "stream",
     "text": [
      "c:\\Users\\Branko\\miniconda3\\lib\\site-packages\\prophet\\serialize.py:160: FutureWarning: The behavior of Timestamp.utcfromtimestamp is deprecated, in a future version will return a timezone-aware Timestamp with UTC timezone. To keep the old behavior, use Timestamp.utcfromtimestamp(ts).tz_localize(None). To get the future behavior, use Timestamp.fromtimestamp(ts, 'UTC')\n",
      "  setattr(model, attribute, pd.Timestamp.utcfromtimestamp(model_dict[attribute]).tz_localize(None))\n"
     ]
    },
    {
     "name": "stdout",
     "output_type": "stream",
     "text": [
      "0.05665428505293142\n",
      "2022-08-10 00:00:00 [3, 8, 3, 0, 3, 8, 5, 5, 18, 3] [24.439133816468384, 36.898677933209754, 42.885432628653874, 72.6180720346668, 99.41227490749804, 130.77142810801067, 171.0096440330172, 220.1584435020648, 271.67668816091896, 317.7164795775433]\n",
      "[1, 2, 2, 4, 5, 7, 9, 12, 15, 18] [21, 25, 29]\n",
      "--------- Batch id: 76 ---------\n"
     ]
    },
    {
     "name": "stderr",
     "output_type": "stream",
     "text": [
      "c:\\Users\\Branko\\miniconda3\\lib\\site-packages\\prophet\\serialize.py:160: FutureWarning: The behavior of Timestamp.utcfromtimestamp is deprecated, in a future version will return a timezone-aware Timestamp with UTC timezone. To keep the old behavior, use Timestamp.utcfromtimestamp(ts).tz_localize(None). To get the future behavior, use Timestamp.fromtimestamp(ts, 'UTC')\n",
      "  setattr(model, attribute, pd.Timestamp.utcfromtimestamp(model_dict[attribute]).tz_localize(None))\n"
     ]
    },
    {
     "name": "stdout",
     "output_type": "stream",
     "text": [
      "0.14478317291304693\n",
      "2022-08-10 00:00:00 [3, 3, 3, 9, 11, 14, 46, 14, 19, 36] [24.439133816468384, 36.898677933209754, 42.885432628653874, 72.6180720346668, 99.41227490749804, 130.77142810801067, 171.0096440330172, 220.1584435020648, 271.67668816091896, 317.7164795775433]\n",
      "[3, 5, 6, 10, 14, 18, 24, 31, 39, 45] [56, 65, 75]\n",
      "--------- Batch id: 77 ---------\n"
     ]
    },
    {
     "name": "stderr",
     "output_type": "stream",
     "text": [
      "c:\\Users\\Branko\\miniconda3\\lib\\site-packages\\prophet\\serialize.py:160: FutureWarning: The behavior of Timestamp.utcfromtimestamp is deprecated, in a future version will return a timezone-aware Timestamp with UTC timezone. To keep the old behavior, use Timestamp.utcfromtimestamp(ts).tz_localize(None). To get the future behavior, use Timestamp.fromtimestamp(ts, 'UTC')\n",
      "  setattr(model, attribute, pd.Timestamp.utcfromtimestamp(model_dict[attribute]).tz_localize(None))\n"
     ]
    },
    {
     "name": "stdout",
     "output_type": "stream",
     "text": [
      "0.04406444393005777\n",
      "2022-08-10 00:00:00 [1, 3, 0, 9, 9, 10, 9, 7, 1, 14] [24.439133816468384, 36.898677933209754, 42.885432628653874, 72.6180720346668, 99.41227490749804, 130.77142810801067, 171.0096440330172, 220.1584435020648, 271.67668816091896, 317.7164795775433]\n",
      "[1, 1, 1, 3, 4, 5, 7, 9, 11, 14] [17, 20, 23]\n",
      "--------- Batch id: 78 ---------\n"
     ]
    },
    {
     "name": "stderr",
     "output_type": "stream",
     "text": [
      "c:\\Users\\Branko\\miniconda3\\lib\\site-packages\\prophet\\serialize.py:160: FutureWarning: The behavior of Timestamp.utcfromtimestamp is deprecated, in a future version will return a timezone-aware Timestamp with UTC timezone. To keep the old behavior, use Timestamp.utcfromtimestamp(ts).tz_localize(None). To get the future behavior, use Timestamp.fromtimestamp(ts, 'UTC')\n",
      "  setattr(model, attribute, pd.Timestamp.utcfromtimestamp(model_dict[attribute]).tz_localize(None))\n"
     ]
    },
    {
     "name": "stdout",
     "output_type": "stream",
     "text": [
      "0.08075928515841493\n",
      "2022-08-24 00:00:00 [61, 67, 109, 29, 2, 18, 0, 110, 13, 77] [683.7373186493219, 765.1235412132881, 836.5924869350569, 926.9530186372542, 1008.1372672100606, 1086.3222634155914, 1164.5834506876529, 1241.8306929906187, 1310.5456403455441, 1362.0724822443308]\n",
      "[55, 61, 67, 74, 81, 87, 94, 100, 105, 109] [115, 118, 121]\n",
      "--------- Batch id: 79 ---------\n"
     ]
    },
    {
     "name": "stderr",
     "output_type": "stream",
     "text": [
      "c:\\Users\\Branko\\miniconda3\\lib\\site-packages\\prophet\\serialize.py:160: FutureWarning: The behavior of Timestamp.utcfromtimestamp is deprecated, in a future version will return a timezone-aware Timestamp with UTC timezone. To keep the old behavior, use Timestamp.utcfromtimestamp(ts).tz_localize(None). To get the future behavior, use Timestamp.fromtimestamp(ts, 'UTC')\n",
      "  setattr(model, attribute, pd.Timestamp.utcfromtimestamp(model_dict[attribute]).tz_localize(None))\n"
     ]
    },
    {
     "name": "stdout",
     "output_type": "stream",
     "text": [
      "0.09544279155085403\n",
      "2022-08-24 00:00:00 [10, 106, 49, 66, 71, 22, 16, 118, 130, 92] [683.7373186493219, 765.1235412132881, 836.5924869350569, 926.9530186372542, 1008.1372672100606, 1086.3222634155914, 1164.5834506876529, 1241.8306929906187, 1310.5456403455441, 1362.0724822443308]\n",
      "[65, 73, 79, 88, 96, 103, 111, 118, 125, 130] [136, 140, 144]\n",
      "--------- Batch id: 80 ---------\n"
     ]
    },
    {
     "name": "stderr",
     "output_type": "stream",
     "text": [
      "c:\\Users\\Branko\\miniconda3\\lib\\site-packages\\prophet\\serialize.py:160: FutureWarning: The behavior of Timestamp.utcfromtimestamp is deprecated, in a future version will return a timezone-aware Timestamp with UTC timezone. To keep the old behavior, use Timestamp.utcfromtimestamp(ts).tz_localize(None). To get the future behavior, use Timestamp.fromtimestamp(ts, 'UTC')\n",
      "  setattr(model, attribute, pd.Timestamp.utcfromtimestamp(model_dict[attribute]).tz_localize(None))\n"
     ]
    },
    {
     "name": "stdout",
     "output_type": "stream",
     "text": [
      "0.06460742812673195\n",
      "2022-08-24 00:00:00 [40, 48, 68, 12, 4, 8, 0, 52, 88, 74] [683.7373186493219, 765.1235412132881, 836.5924869350569, 926.9530186372542, 1008.1372672100606, 1086.3222634155914, 1164.5834506876529, 1241.8306929906187, 1310.5456403455441, 1362.0724822443308]\n",
      "[44, 49, 54, 59, 65, 70, 75, 80, 84, 87] [92, 95, 97]\n",
      "--------- Batch id: 81 ---------\n"
     ]
    },
    {
     "name": "stderr",
     "output_type": "stream",
     "text": [
      "c:\\Users\\Branko\\miniconda3\\lib\\site-packages\\prophet\\serialize.py:160: FutureWarning: The behavior of Timestamp.utcfromtimestamp is deprecated, in a future version will return a timezone-aware Timestamp with UTC timezone. To keep the old behavior, use Timestamp.utcfromtimestamp(ts).tz_localize(None). To get the future behavior, use Timestamp.fromtimestamp(ts, 'UTC')\n",
      "  setattr(model, attribute, pd.Timestamp.utcfromtimestamp(model_dict[attribute]).tz_localize(None))\n"
     ]
    },
    {
     "name": "stdout",
     "output_type": "stream",
     "text": [
      "0.06754412940521978\n",
      "2022-08-24 00:00:00 [35, 38, 50, 32, 42, 35, 22, 45, 51, 92] [683.7373186493219, 765.1235412132881, 836.5924869350569, 926.9530186372542, 1008.1372672100606, 1086.3222634155914, 1164.5834506876529, 1241.8306929906187, 1310.5456403455441, 1362.0724822443308]\n",
      "[46, 51, 56, 62, 68, 73, 78, 83, 88, 92] [96, 99, 101]\n",
      "--------- Batch id: 82 ---------\n"
     ]
    },
    {
     "name": "stderr",
     "output_type": "stream",
     "text": [
      "c:\\Users\\Branko\\miniconda3\\lib\\site-packages\\prophet\\serialize.py:160: FutureWarning: The behavior of Timestamp.utcfromtimestamp is deprecated, in a future version will return a timezone-aware Timestamp with UTC timezone. To keep the old behavior, use Timestamp.utcfromtimestamp(ts).tz_localize(None). To get the future behavior, use Timestamp.fromtimestamp(ts, 'UTC')\n",
      "  setattr(model, attribute, pd.Timestamp.utcfromtimestamp(model_dict[attribute]).tz_localize(None))\n"
     ]
    },
    {
     "name": "stdout",
     "output_type": "stream",
     "text": [
      "0.09544279155085403\n",
      "2022-08-24 00:00:00 [5, 3, 21, 30, 130, 26, 25, 4, 8, 36] [683.7373186493219, 765.1235412132881, 836.5924869350569, 926.9530186372542, 1008.1372672100606, 1086.3222634155914, 1164.5834506876529, 1241.8306929906187, 1310.5456403455441, 1362.0724822443308]\n",
      "[65, 73, 79, 88, 96, 103, 111, 118, 125, 130] [136, 140, 144]\n",
      "--------- Batch id: 83 ---------\n"
     ]
    },
    {
     "name": "stderr",
     "output_type": "stream",
     "text": [
      "c:\\Users\\Branko\\miniconda3\\lib\\site-packages\\prophet\\serialize.py:160: FutureWarning: The behavior of Timestamp.utcfromtimestamp is deprecated, in a future version will return a timezone-aware Timestamp with UTC timezone. To keep the old behavior, use Timestamp.utcfromtimestamp(ts).tz_localize(None). To get the future behavior, use Timestamp.fromtimestamp(ts, 'UTC')\n",
      "  setattr(model, attribute, pd.Timestamp.utcfromtimestamp(model_dict[attribute]).tz_localize(None))\n"
     ]
    },
    {
     "name": "stdout",
     "output_type": "stream",
     "text": [
      "0.14022748604779323\n",
      "2022-08-24 00:00:00 [60, 75, 96, 93, 191, 190, 49, 56, 38, 76] [683.7373186493219, 765.1235412132881, 836.5924869350569, 926.9530186372542, 1008.1372672100606, 1086.3222634155914, 1164.5834506876529, 1241.8306929906187, 1310.5456403455441, 1362.0724822443308]\n",
      "[95, 107, 117, 129, 141, 152, 163, 174, 183, 190] [199, 206, 211]\n",
      "--------- Batch id: 84 ---------\n"
     ]
    },
    {
     "name": "stderr",
     "output_type": "stream",
     "text": [
      "c:\\Users\\Branko\\miniconda3\\lib\\site-packages\\prophet\\serialize.py:160: FutureWarning: The behavior of Timestamp.utcfromtimestamp is deprecated, in a future version will return a timezone-aware Timestamp with UTC timezone. To keep the old behavior, use Timestamp.utcfromtimestamp(ts).tz_localize(None). To get the future behavior, use Timestamp.fromtimestamp(ts, 'UTC')\n",
      "  setattr(model, attribute, pd.Timestamp.utcfromtimestamp(model_dict[attribute]).tz_localize(None))\n"
     ]
    },
    {
     "name": "stdout",
     "output_type": "stream",
     "text": [
      "0.09324026559198817\n",
      "2022-08-24 00:00:00 [41, 53, 59, 88, 127, 24, 16, 87, 52, 47] [683.7373186493219, 765.1235412132881, 836.5924869350569, 926.9530186372542, 1008.1372672100606, 1086.3222634155914, 1164.5834506876529, 1241.8306929906187, 1310.5456403455441, 1362.0724822443308]\n",
      "[63, 71, 78, 86, 93, 101, 108, 115, 122, 126] [132, 137, 140]\n",
      "--------- Batch id: 85 ---------\n"
     ]
    },
    {
     "name": "stderr",
     "output_type": "stream",
     "text": [
      "c:\\Users\\Branko\\miniconda3\\lib\\site-packages\\prophet\\serialize.py:160: FutureWarning: The behavior of Timestamp.utcfromtimestamp is deprecated, in a future version will return a timezone-aware Timestamp with UTC timezone. To keep the old behavior, use Timestamp.utcfromtimestamp(ts).tz_localize(None). To get the future behavior, use Timestamp.fromtimestamp(ts, 'UTC')\n",
      "  setattr(model, attribute, pd.Timestamp.utcfromtimestamp(model_dict[attribute]).tz_localize(None))\n"
     ]
    },
    {
     "name": "stdout",
     "output_type": "stream",
     "text": [
      "0.18894310664976605\n",
      "2022-09-07 00:00:00 [224, 163, 298, 122, 36, 147, 170, 109, 72, 172] [1565.8506745105103, 1577.1943485209388, 1567.28556591658, 1565.8936218608271, 1546.1119711391257, 1515.4592888546322, 1478.5083283678264, 1435.7937231383532, 1381.5182154310028, 1308.8100352949489]\n",
      "[295, 298, 296, 295, 292, 286, 279, 271, 261, 247] [235, 221, 206]\n",
      "--------- Batch id: 86 ---------\n"
     ]
    },
    {
     "name": "stderr",
     "output_type": "stream",
     "text": [
      "c:\\Users\\Branko\\miniconda3\\lib\\site-packages\\prophet\\serialize.py:160: FutureWarning: The behavior of Timestamp.utcfromtimestamp is deprecated, in a future version will return a timezone-aware Timestamp with UTC timezone. To keep the old behavior, use Timestamp.utcfromtimestamp(ts).tz_localize(None). To get the future behavior, use Timestamp.fromtimestamp(ts, 'UTC')\n",
      "  setattr(model, attribute, pd.Timestamp.utcfromtimestamp(model_dict[attribute]).tz_localize(None))\n"
     ]
    },
    {
     "name": "stdout",
     "output_type": "stream",
     "text": [
      "0.2903890699516539\n",
      "2022-09-07 00:00:00 [161, 294, 233, 458, 41, 169, 173, 95, 295, 312] [1565.8506745105103, 1577.1943485209388, 1567.28556591658, 1565.8936218608271, 1546.1119711391257, 1515.4592888546322, 1478.5083283678264, 1435.7937231383532, 1381.5182154310028, 1308.8100352949489]\n",
      "[454, 458, 455, 454, 448, 440, 429, 416, 401, 380] [362, 340, 317]\n",
      "--------- Batch id: 87 ---------\n"
     ]
    },
    {
     "name": "stderr",
     "output_type": "stream",
     "text": [
      "c:\\Users\\Branko\\miniconda3\\lib\\site-packages\\prophet\\serialize.py:160: FutureWarning: The behavior of Timestamp.utcfromtimestamp is deprecated, in a future version will return a timezone-aware Timestamp with UTC timezone. To keep the old behavior, use Timestamp.utcfromtimestamp(ts).tz_localize(None). To get the future behavior, use Timestamp.fromtimestamp(ts, 'UTC')\n",
      "  setattr(model, attribute, pd.Timestamp.utcfromtimestamp(model_dict[attribute]).tz_localize(None))\n"
     ]
    },
    {
     "name": "stdout",
     "output_type": "stream",
     "text": [
      "0.09130136697169902\n",
      "2022-09-07 00:00:00 [45, 55, 88, 144, 10, 70, 96, 108, 40, 120] [1565.8506745105103, 1577.1943485209388, 1567.28556591658, 1565.8936218608271, 1546.1119711391257, 1515.4592888546322, 1478.5083283678264, 1435.7937231383532, 1381.5182154310028, 1308.8100352949489]\n",
      "[142, 144, 143, 142, 141, 138, 134, 131, 126, 119] [113, 107, 99]\n",
      "--------- Batch id: 88 ---------\n"
     ]
    },
    {
     "name": "stderr",
     "output_type": "stream",
     "text": [
      "c:\\Users\\Branko\\miniconda3\\lib\\site-packages\\prophet\\serialize.py:160: FutureWarning: The behavior of Timestamp.utcfromtimestamp is deprecated, in a future version will return a timezone-aware Timestamp with UTC timezone. To keep the old behavior, use Timestamp.utcfromtimestamp(ts).tz_localize(None). To get the future behavior, use Timestamp.fromtimestamp(ts, 'UTC')\n",
      "  setattr(model, attribute, pd.Timestamp.utcfromtimestamp(model_dict[attribute]).tz_localize(None))\n"
     ]
    },
    {
     "name": "stdout",
     "output_type": "stream",
     "text": [
      "0.107152298737619\n",
      "2022-09-07 00:00:00 [115, 162, 105, 169, 47, 58, 69, 140, 105, 84] [1565.8506745105103, 1577.1943485209388, 1567.28556591658, 1565.8936218608271, 1546.1119711391257, 1515.4592888546322, 1478.5083283678264, 1435.7937231383532, 1381.5182154310028, 1308.8100352949489]\n",
      "[167, 169, 167, 167, 165, 162, 158, 153, 148, 140] [133, 125, 117]\n",
      "--------- Batch id: 89 ---------\n"
     ]
    },
    {
     "name": "stderr",
     "output_type": "stream",
     "text": [
      "c:\\Users\\Branko\\miniconda3\\lib\\site-packages\\prophet\\serialize.py:160: FutureWarning: The behavior of Timestamp.utcfromtimestamp is deprecated, in a future version will return a timezone-aware Timestamp with UTC timezone. To keep the old behavior, use Timestamp.utcfromtimestamp(ts).tz_localize(None). To get the future behavior, use Timestamp.fromtimestamp(ts, 'UTC')\n",
      "  setattr(model, attribute, pd.Timestamp.utcfromtimestamp(model_dict[attribute]).tz_localize(None))\n"
     ]
    },
    {
     "name": "stdout",
     "output_type": "stream",
     "text": [
      "0.02092322993101436\n",
      "2022-09-07 00:00:00 [8, 7, 13, 33, 10, 5, 26, 5, 18, 6] [1565.8506745105103, 1577.1943485209388, 1567.28556591658, 1565.8936218608271, 1546.1119711391257, 1515.4592888546322, 1478.5083283678264, 1435.7937231383532, 1381.5182154310028, 1308.8100352949489]\n",
      "[32, 33, 32, 32, 32, 31, 30, 30, 28, 27] [26, 24, 22]\n",
      "--------- Batch id: 90 ---------\n"
     ]
    },
    {
     "name": "stderr",
     "output_type": "stream",
     "text": [
      "c:\\Users\\Branko\\miniconda3\\lib\\site-packages\\prophet\\serialize.py:160: FutureWarning: The behavior of Timestamp.utcfromtimestamp is deprecated, in a future version will return a timezone-aware Timestamp with UTC timezone. To keep the old behavior, use Timestamp.utcfromtimestamp(ts).tz_localize(None). To get the future behavior, use Timestamp.fromtimestamp(ts, 'UTC')\n",
      "  setattr(model, attribute, pd.Timestamp.utcfromtimestamp(model_dict[attribute]).tz_localize(None))\n"
     ]
    },
    {
     "name": "stdout",
     "output_type": "stream",
     "text": [
      "0.23459379013561552\n",
      "2022-09-07 00:00:00 [212, 191, 226, 101, 27, 253, 253, 261, 237, 370] [1565.8506745105103, 1577.1943485209388, 1567.28556591658, 1565.8936218608271, 1546.1119711391257, 1515.4592888546322, 1478.5083283678264, 1435.7937231383532, 1381.5182154310028, 1308.8100352949489]\n",
      "[367, 369, 367, 367, 362, 355, 346, 336, 324, 307] [292, 275, 256]\n",
      "--------- Batch id: 91 ---------\n"
     ]
    },
    {
     "name": "stderr",
     "output_type": "stream",
     "text": [
      "c:\\Users\\Branko\\miniconda3\\lib\\site-packages\\prophet\\serialize.py:160: FutureWarning: The behavior of Timestamp.utcfromtimestamp is deprecated, in a future version will return a timezone-aware Timestamp with UTC timezone. To keep the old behavior, use Timestamp.utcfromtimestamp(ts).tz_localize(None). To get the future behavior, use Timestamp.fromtimestamp(ts, 'UTC')\n",
      "  setattr(model, attribute, pd.Timestamp.utcfromtimestamp(model_dict[attribute]).tz_localize(None))\n"
     ]
    },
    {
     "name": "stdout",
     "output_type": "stream",
     "text": [
      "0.20162385206250205\n",
      "2022-09-07 00:00:00 [146, 243, 264, 258, 66, 94, 181, 210, 318, 292] [1565.8506745105103, 1577.1943485209388, 1567.28556591658, 1565.8936218608271, 1546.1119711391257, 1515.4592888546322, 1478.5083283678264, 1435.7937231383532, 1381.5182154310028, 1308.8100352949489]\n",
      "[315, 318, 316, 315, 311, 305, 298, 289, 278, 263] [251, 236, 220]\n",
      "--------- Batch id: 92 ---------\n"
     ]
    },
    {
     "name": "stderr",
     "output_type": "stream",
     "text": [
      "c:\\Users\\Branko\\miniconda3\\lib\\site-packages\\prophet\\serialize.py:160: FutureWarning: The behavior of Timestamp.utcfromtimestamp is deprecated, in a future version will return a timezone-aware Timestamp with UTC timezone. To keep the old behavior, use Timestamp.utcfromtimestamp(ts).tz_localize(None). To get the future behavior, use Timestamp.fromtimestamp(ts, 'UTC')\n",
      "  setattr(model, attribute, pd.Timestamp.utcfromtimestamp(model_dict[attribute]).tz_localize(None))\n"
     ]
    },
    {
     "name": "stdout",
     "output_type": "stream",
     "text": [
      "0.3721249570635608\n",
      "2022-09-21 00:00:00 [348, 138, 290, 297, 32, 0, 4, 2, 6, 1] [935.1697417611254, 851.387284278278, 756.4424496918837, 681.1778595342284, 599.5492871050661, 519.7120425924876, 446.64012030041613, 381.02943850544045, 317.00471521393206, 247.38263914387943]\n",
      "[348, 316, 281, 253, 223, 193, 166, 141, 117, 92] [75, 57, 42]\n",
      "--------- Batch id: 93 ---------\n"
     ]
    },
    {
     "name": "stderr",
     "output_type": "stream",
     "text": [
      "c:\\Users\\Branko\\miniconda3\\lib\\site-packages\\prophet\\serialize.py:160: FutureWarning: The behavior of Timestamp.utcfromtimestamp is deprecated, in a future version will return a timezone-aware Timestamp with UTC timezone. To keep the old behavior, use Timestamp.utcfromtimestamp(ts).tz_localize(None). To get the future behavior, use Timestamp.fromtimestamp(ts, 'UTC')\n",
      "  setattr(model, attribute, pd.Timestamp.utcfromtimestamp(model_dict[attribute]).tz_localize(None))\n"
     ]
    },
    {
     "name": "stdout",
     "output_type": "stream",
     "text": [
      "0.05239690487389218\n",
      "2022-09-21 00:00:00 [33, 30, 14, 12, 5, 5, 10, 21, 49, 23] [935.1697417611254, 851.387284278278, 756.4424496918837, 681.1778595342284, 599.5492871050661, 519.7120425924876, 446.64012030041613, 381.02943850544045, 317.00471521393206, 247.38263914387943]\n",
      "[49, 44, 39, 35, 31, 27, 23, 19, 16, 12] [10, 8, 5]\n",
      "--------- Batch id: 94 ---------\n"
     ]
    },
    {
     "name": "stderr",
     "output_type": "stream",
     "text": [
      "c:\\Users\\Branko\\miniconda3\\lib\\site-packages\\prophet\\serialize.py:160: FutureWarning: The behavior of Timestamp.utcfromtimestamp is deprecated, in a future version will return a timezone-aware Timestamp with UTC timezone. To keep the old behavior, use Timestamp.utcfromtimestamp(ts).tz_localize(None). To get the future behavior, use Timestamp.fromtimestamp(ts, 'UTC')\n",
      "  setattr(model, attribute, pd.Timestamp.utcfromtimestamp(model_dict[attribute]).tz_localize(None))\n"
     ]
    },
    {
     "name": "stdout",
     "output_type": "stream",
     "text": [
      "0.05132758028462907\n",
      "2022-09-21 00:00:00 [40, 18, 24, 48, 30, 22, 10, 5, 8, 4] [935.1697417611254, 851.387284278278, 756.4424496918837, 681.1778595342284, 599.5492871050661, 519.7120425924876, 446.64012030041613, 381.02943850544045, 317.00471521393206, 247.38263914387943]\n",
      "[47, 43, 38, 34, 30, 26, 22, 19, 16, 12] [10, 7, 5]\n",
      "--------- Batch id: 95 ---------\n"
     ]
    },
    {
     "name": "stderr",
     "output_type": "stream",
     "text": [
      "c:\\Users\\Branko\\miniconda3\\lib\\site-packages\\prophet\\serialize.py:160: FutureWarning: The behavior of Timestamp.utcfromtimestamp is deprecated, in a future version will return a timezone-aware Timestamp with UTC timezone. To keep the old behavior, use Timestamp.utcfromtimestamp(ts).tz_localize(None). To get the future behavior, use Timestamp.fromtimestamp(ts, 'UTC')\n",
      "  setattr(model, attribute, pd.Timestamp.utcfromtimestamp(model_dict[attribute]).tz_localize(None))\n"
     ]
    },
    {
     "name": "stdout",
     "output_type": "stream",
     "text": [
      "0.08554596714104845\n",
      "2022-09-21 00:00:00 [76, 80, 57, 20, 25, 22, 30, 25, 18, 10] [935.1697417611254, 851.387284278278, 756.4424496918837, 681.1778595342284, 599.5492871050661, 519.7120425924876, 446.64012030041613, 381.02943850544045, 317.00471521393206, 247.38263914387943]\n",
      "[80, 72, 64, 58, 51, 44, 38, 32, 27, 21] [17, 13, 9]\n",
      "--------- Batch id: 96 ---------\n"
     ]
    },
    {
     "name": "stderr",
     "output_type": "stream",
     "text": [
      "c:\\Users\\Branko\\miniconda3\\lib\\site-packages\\prophet\\serialize.py:160: FutureWarning: The behavior of Timestamp.utcfromtimestamp is deprecated, in a future version will return a timezone-aware Timestamp with UTC timezone. To keep the old behavior, use Timestamp.utcfromtimestamp(ts).tz_localize(None). To get the future behavior, use Timestamp.fromtimestamp(ts, 'UTC')\n",
      "  setattr(model, attribute, pd.Timestamp.utcfromtimestamp(model_dict[attribute]).tz_localize(None))\n"
     ]
    },
    {
     "name": "stdout",
     "output_type": "stream",
     "text": [
      "0.07164474748062809\n",
      "2022-09-21 00:00:00 [67, 52, 13, 16, 13, 5, 16, 16, 5, 8] [935.1697417611254, 851.387284278278, 756.4424496918837, 681.1778595342284, 599.5492871050661, 519.7120425924876, 446.64012030041613, 381.02943850544045, 317.00471521393206, 247.38263914387943]\n",
      "[67, 60, 54, 48, 42, 37, 31, 27, 22, 17] [14, 11, 8]\n",
      "--------- Batch id: 97 ---------\n"
     ]
    },
    {
     "name": "stderr",
     "output_type": "stream",
     "text": [
      "c:\\Users\\Branko\\miniconda3\\lib\\site-packages\\prophet\\serialize.py:160: FutureWarning: The behavior of Timestamp.utcfromtimestamp is deprecated, in a future version will return a timezone-aware Timestamp with UTC timezone. To keep the old behavior, use Timestamp.utcfromtimestamp(ts).tz_localize(None). To get the future behavior, use Timestamp.fromtimestamp(ts, 'UTC')\n",
      "  setattr(model, attribute, pd.Timestamp.utcfromtimestamp(model_dict[attribute]).tz_localize(None))\n"
     ]
    },
    {
     "name": "stdout",
     "output_type": "stream",
     "text": [
      "0.19675572442441142\n",
      "2022-09-21 00:00:00 [184, 114, 110, 112, 133, 14, 72, 21, 15, 13] [935.1697417611254, 851.387284278278, 756.4424496918837, 681.1778595342284, 599.5492871050661, 519.7120425924876, 446.64012030041613, 381.02943850544045, 317.00471521393206, 247.38263914387943]\n",
      "[183, 167, 148, 134, 117, 102, 87, 74, 62, 48] [39, 30, 22]\n",
      "--------- Batch id: 98 ---------\n"
     ]
    },
    {
     "name": "stderr",
     "output_type": "stream",
     "text": [
      "c:\\Users\\Branko\\miniconda3\\lib\\site-packages\\prophet\\serialize.py:160: FutureWarning: The behavior of Timestamp.utcfromtimestamp is deprecated, in a future version will return a timezone-aware Timestamp with UTC timezone. To keep the old behavior, use Timestamp.utcfromtimestamp(ts).tz_localize(None). To get the future behavior, use Timestamp.fromtimestamp(ts, 'UTC')\n",
      "  setattr(model, attribute, pd.Timestamp.utcfromtimestamp(model_dict[attribute]).tz_localize(None))\n"
     ]
    },
    {
     "name": "stdout",
     "output_type": "stream",
     "text": [
      "0.23739005881640945\n",
      "2022-09-21 00:00:00 [122, 149, 222, 167, 32, 10, 30, 9, 1, 5] [935.1697417611254, 851.387284278278, 756.4424496918837, 681.1778595342284, 599.5492871050661, 519.7120425924876, 446.64012030041613, 381.02943850544045, 317.00471521393206, 247.38263914387943]\n",
      "[222, 202, 179, 161, 142, 123, 106, 90, 75, 58] [48, 36, 26]\n",
      "--------- Batch id: 99 ---------\n"
     ]
    },
    {
     "name": "stderr",
     "output_type": "stream",
     "text": [
      "c:\\Users\\Branko\\miniconda3\\lib\\site-packages\\prophet\\serialize.py:160: FutureWarning: The behavior of Timestamp.utcfromtimestamp is deprecated, in a future version will return a timezone-aware Timestamp with UTC timezone. To keep the old behavior, use Timestamp.utcfromtimestamp(ts).tz_localize(None). To get the future behavior, use Timestamp.fromtimestamp(ts, 'UTC')\n",
      "  setattr(model, attribute, pd.Timestamp.utcfromtimestamp(model_dict[attribute]).tz_localize(None))\n"
     ]
    },
    {
     "name": "stdout",
     "output_type": "stream",
     "text": [
      "0.2491876630145323\n",
      "2022-10-05 00:00:00 [4, 5, 5, 12, 2, 6, 4, 14, 8, 1] [56.182556674900624, 34.78213037067641, 7.7656155248574805, 4.511210517051921, 0.0, 0.0, 0.0, 4.0942779219823535, 11.104337598572059, 8.565038724868003]\n",
      "[13, 8, 1, 1, 0, 0, 0, 1, 2, 2] [6, 8, 10]\n",
      "--------- Batch id: 100 ---------\n"
     ]
    },
    {
     "name": "stderr",
     "output_type": "stream",
     "text": [
      "c:\\Users\\Branko\\miniconda3\\lib\\site-packages\\prophet\\serialize.py:160: FutureWarning: The behavior of Timestamp.utcfromtimestamp is deprecated, in a future version will return a timezone-aware Timestamp with UTC timezone. To keep the old behavior, use Timestamp.utcfromtimestamp(ts).tz_localize(None). To get the future behavior, use Timestamp.fromtimestamp(ts, 'UTC')\n",
      "  setattr(model, attribute, pd.Timestamp.utcfromtimestamp(model_dict[attribute]).tz_localize(None))\n"
     ]
    },
    {
     "name": "stdout",
     "output_type": "stream",
     "text": [
      "0.10679471272051384\n",
      "2022-10-05 00:00:00 [3, 0, 4, 3, 3, 3, 6, 5, 1, 1] [56.182556674900624, 34.78213037067641, 7.7656155248574805, 4.511210517051921, 0.0, 0.0, 0.0, 4.0942779219823535, 11.104337598572059, 8.565038724868003]\n",
      "[6, 3, 0, 0, 0, 0, 0, 0, 1, 0] [2, 3, 4]\n",
      "--------- Batch id: 101 ---------\n"
     ]
    },
    {
     "name": "stderr",
     "output_type": "stream",
     "text": [
      "c:\\Users\\Branko\\miniconda3\\lib\\site-packages\\prophet\\serialize.py:160: FutureWarning: The behavior of Timestamp.utcfromtimestamp is deprecated, in a future version will return a timezone-aware Timestamp with UTC timezone. To keep the old behavior, use Timestamp.utcfromtimestamp(ts).tz_localize(None). To get the future behavior, use Timestamp.fromtimestamp(ts, 'UTC')\n",
      "  setattr(model, attribute, pd.Timestamp.utcfromtimestamp(model_dict[attribute]).tz_localize(None))\n"
     ]
    },
    {
     "name": "stdout",
     "output_type": "stream",
     "text": [
      "0.14239295029401847\n",
      "2022-10-05 00:00:00 [4, 5, 2, 3, 7, 6, 8, 2, 5, 0] [56.182556674900624, 34.78213037067641, 7.7656155248574805, 4.511210517051921, 0.0, 0.0, 0.0, 4.0942779219823535, 11.104337598572059, 8.565038724868003]\n",
      "[8, 4, 1, 0, 0, 0, 0, 0, 1, 1] [3, 4, 6]\n",
      "--------- Batch id: 102 ---------\n"
     ]
    },
    {
     "name": "stderr",
     "output_type": "stream",
     "text": [
      "c:\\Users\\Branko\\miniconda3\\lib\\site-packages\\prophet\\serialize.py:160: FutureWarning: The behavior of Timestamp.utcfromtimestamp is deprecated, in a future version will return a timezone-aware Timestamp with UTC timezone. To keep the old behavior, use Timestamp.utcfromtimestamp(ts).tz_localize(None). To get the future behavior, use Timestamp.fromtimestamp(ts, 'UTC')\n",
      "  setattr(model, attribute, pd.Timestamp.utcfromtimestamp(model_dict[attribute]).tz_localize(None))\n"
     ]
    },
    {
     "name": "stdout",
     "output_type": "stream",
     "text": [
      "0.08899559393376154\n",
      "2022-10-05 00:00:00 [3, 5, 2, 1, 2, 2, 3, 3, 5, 2] [56.182556674900624, 34.78213037067641, 7.7656155248574805, 4.511210517051921, 0.0, 0.0, 0.0, 4.0942779219823535, 11.104337598572059, 8.565038724868003]\n",
      "[5, 3, 0, 0, 0, 0, 0, 0, 0, 0] [2, 3, 3]\n",
      "--------- Batch id: 103 ---------\n"
     ]
    },
    {
     "name": "stderr",
     "output_type": "stream",
     "text": [
      "c:\\Users\\Branko\\miniconda3\\lib\\site-packages\\prophet\\serialize.py:160: FutureWarning: The behavior of Timestamp.utcfromtimestamp is deprecated, in a future version will return a timezone-aware Timestamp with UTC timezone. To keep the old behavior, use Timestamp.utcfromtimestamp(ts).tz_localize(None). To get the future behavior, use Timestamp.fromtimestamp(ts, 'UTC')\n",
      "  setattr(model, attribute, pd.Timestamp.utcfromtimestamp(model_dict[attribute]).tz_localize(None))\n"
     ]
    },
    {
     "name": "stdout",
     "output_type": "stream",
     "text": [
      "0.17799118786752308\n",
      "2022-10-05 00:00:00 [3, 3, 4, 2, 2, 0, 10, 5, 0, 2] [56.182556674900624, 34.78213037067641, 7.7656155248574805, 4.511210517051921, 0.0, 0.0, 0.0, 4.0942779219823535, 11.104337598572059, 8.565038724868003]\n",
      "[10, 6, 1, 0, 0, 0, 0, 0, 1, 1] [4, 6, 7]\n",
      "--------- Batch id: 104 ---------\n"
     ]
    },
    {
     "name": "stderr",
     "output_type": "stream",
     "text": [
      "c:\\Users\\Branko\\miniconda3\\lib\\site-packages\\prophet\\serialize.py:160: FutureWarning: The behavior of Timestamp.utcfromtimestamp is deprecated, in a future version will return a timezone-aware Timestamp with UTC timezone. To keep the old behavior, use Timestamp.utcfromtimestamp(ts).tz_localize(None). To get the future behavior, use Timestamp.fromtimestamp(ts, 'UTC')\n",
      "  setattr(model, attribute, pd.Timestamp.utcfromtimestamp(model_dict[attribute]).tz_localize(None))\n"
     ]
    },
    {
     "name": "stdout",
     "output_type": "stream",
     "text": [
      "0.35598237573504615\n",
      "2022-10-05 00:00:00 [20, 3, 7, 5, 5, 10, 11, 10, 3, 3] [56.182556674900624, 34.78213037067641, 7.7656155248574805, 4.511210517051921, 0.0, 0.0, 0.0, 4.0942779219823535, 11.104337598572059, 8.565038724868003]\n",
      "[20, 12, 2, 1, 0, 0, 0, 1, 3, 3] [9, 12, 15]\n",
      "--------- Batch id: 105 ---------\n"
     ]
    },
    {
     "name": "stderr",
     "output_type": "stream",
     "text": [
      "c:\\Users\\Branko\\miniconda3\\lib\\site-packages\\prophet\\serialize.py:160: FutureWarning: The behavior of Timestamp.utcfromtimestamp is deprecated, in a future version will return a timezone-aware Timestamp with UTC timezone. To keep the old behavior, use Timestamp.utcfromtimestamp(ts).tz_localize(None). To get the future behavior, use Timestamp.fromtimestamp(ts, 'UTC')\n",
      "  setattr(model, attribute, pd.Timestamp.utcfromtimestamp(model_dict[attribute]).tz_localize(None))\n"
     ]
    },
    {
     "name": "stdout",
     "output_type": "stream",
     "text": [
      "0.4805762072423123\n",
      "2022-10-05 00:00:00 [6, 27, 13, 7, 9, 6, 4, 18, 2, 6] [56.182556674900624, 34.78213037067641, 7.7656155248574805, 4.511210517051921, 0.0, 0.0, 0.0, 4.0942779219823535, 11.104337598572059, 8.565038724868003]\n",
      "[27, 16, 3, 2, 0, 0, 0, 1, 5, 4] [12, 16, 20]\n",
      "--------- Batch id: 106 ---------\n"
     ]
    },
    {
     "name": "stderr",
     "output_type": "stream",
     "text": [
      "c:\\Users\\Branko\\miniconda3\\lib\\site-packages\\prophet\\serialize.py:160: FutureWarning: The behavior of Timestamp.utcfromtimestamp is deprecated, in a future version will return a timezone-aware Timestamp with UTC timezone. To keep the old behavior, use Timestamp.utcfromtimestamp(ts).tz_localize(None). To get the future behavior, use Timestamp.fromtimestamp(ts, 'UTC')\n",
      "  setattr(model, attribute, pd.Timestamp.utcfromtimestamp(model_dict[attribute]).tz_localize(None))\n"
     ]
    },
    {
     "name": "stdout",
     "output_type": "stream",
     "text": [
      "0.07399614446064726\n",
      "2022-10-19 00:00:00 [0, 0, 0, 0, 0, 0, 1, 0, 4, 6] [65.5015095791632, 73.08278636312741, 67.92556449027335, 79.64059557735686, 81.08530577820754, 79.46499609050292, 78.96300744794229, 79.65106080065843, 75.19929086721638, 58.138702419573434]\n",
      "[4, 5, 5, 5, 6, 5, 5, 5, 5, 4] [4, 3, 2]\n",
      "--------- Batch id: 107 ---------\n"
     ]
    },
    {
     "name": "stderr",
     "output_type": "stream",
     "text": [
      "c:\\Users\\Branko\\miniconda3\\lib\\site-packages\\prophet\\serialize.py:160: FutureWarning: The behavior of Timestamp.utcfromtimestamp is deprecated, in a future version will return a timezone-aware Timestamp with UTC timezone. To keep the old behavior, use Timestamp.utcfromtimestamp(ts).tz_localize(None). To get the future behavior, use Timestamp.fromtimestamp(ts, 'UTC')\n",
      "  setattr(model, attribute, pd.Timestamp.utcfromtimestamp(model_dict[attribute]).tz_localize(None))\n"
     ]
    },
    {
     "name": "stdout",
     "output_type": "stream",
     "text": [
      "0.03699807223032363\n",
      "2022-10-19 00:00:00 [1, 1, 1, 1, 0, 1, 0, 1, 2, 3] [65.5015095791632, 73.08278636312741, 67.92556449027335, 79.64059557735686, 81.08530577820754, 79.46499609050292, 78.96300744794229, 79.65106080065843, 75.19929086721638, 58.138702419573434]\n",
      "[2, 2, 2, 2, 3, 2, 2, 2, 2, 2] [2, 1, 1]\n",
      "--------- Batch id: 108 ---------\n"
     ]
    },
    {
     "name": "stderr",
     "output_type": "stream",
     "text": [
      "c:\\Users\\Branko\\miniconda3\\lib\\site-packages\\prophet\\serialize.py:160: FutureWarning: The behavior of Timestamp.utcfromtimestamp is deprecated, in a future version will return a timezone-aware Timestamp with UTC timezone. To keep the old behavior, use Timestamp.utcfromtimestamp(ts).tz_localize(None). To get the future behavior, use Timestamp.fromtimestamp(ts, 'UTC')\n",
      "  setattr(model, attribute, pd.Timestamp.utcfromtimestamp(model_dict[attribute]).tz_localize(None))\n"
     ]
    },
    {
     "name": "stdout",
     "output_type": "stream",
     "text": [
      "0.024665381486882416\n",
      "2022-10-19 00:00:00 [0, 1, 0, 0, 2, 0, 1, 2, 0, 1] [65.5015095791632, 73.08278636312741, 67.92556449027335, 79.64059557735686, 81.08530577820754, 79.46499609050292, 78.96300744794229, 79.65106080065843, 75.19929086721638, 58.138702419573434]\n",
      "[1, 1, 1, 1, 2, 1, 1, 1, 1, 1] [1, 1, 0]\n",
      "--------- Batch id: 109 ---------\n"
     ]
    },
    {
     "name": "stderr",
     "output_type": "stream",
     "text": [
      "c:\\Users\\Branko\\miniconda3\\lib\\site-packages\\prophet\\serialize.py:160: FutureWarning: The behavior of Timestamp.utcfromtimestamp is deprecated, in a future version will return a timezone-aware Timestamp with UTC timezone. To keep the old behavior, use Timestamp.utcfromtimestamp(ts).tz_localize(None). To get the future behavior, use Timestamp.fromtimestamp(ts, 'UTC')\n",
      "  setattr(model, attribute, pd.Timestamp.utcfromtimestamp(model_dict[attribute]).tz_localize(None))\n"
     ]
    },
    {
     "name": "stdout",
     "output_type": "stream",
     "text": [
      "0.024665381486882416\n",
      "2022-10-19 00:00:00 [2, 2, 1, 2, 2, 2, 1, 1, 0, 2] [65.5015095791632, 73.08278636312741, 67.92556449027335, 79.64059557735686, 81.08530577820754, 79.46499609050292, 78.96300744794229, 79.65106080065843, 75.19929086721638, 58.138702419573434]\n",
      "[1, 1, 1, 1, 2, 1, 1, 1, 1, 1] [1, 1, 0]\n",
      "--------- Batch id: 110 ---------\n"
     ]
    },
    {
     "name": "stderr",
     "output_type": "stream",
     "text": [
      "c:\\Users\\Branko\\miniconda3\\lib\\site-packages\\prophet\\serialize.py:160: FutureWarning: The behavior of Timestamp.utcfromtimestamp is deprecated, in a future version will return a timezone-aware Timestamp with UTC timezone. To keep the old behavior, use Timestamp.utcfromtimestamp(ts).tz_localize(None). To get the future behavior, use Timestamp.fromtimestamp(ts, 'UTC')\n",
      "  setattr(model, attribute, pd.Timestamp.utcfromtimestamp(model_dict[attribute]).tz_localize(None))\n"
     ]
    },
    {
     "name": "stdout",
     "output_type": "stream",
     "text": [
      "0.13565959817785328\n",
      "2022-10-19 00:00:00 [10, 3, 0, 3, 0, 0, 11, 3, 3, 0] [65.5015095791632, 73.08278636312741, 67.92556449027335, 79.64059557735686, 81.08530577820754, 79.46499609050292, 78.96300744794229, 79.65106080065843, 75.19929086721638, 58.138702419573434]\n",
      "[8, 9, 9, 10, 11, 10, 10, 10, 10, 7] [7, 6, 5]\n",
      "--------- Batch id: 111 ---------\n"
     ]
    },
    {
     "name": "stderr",
     "output_type": "stream",
     "text": [
      "c:\\Users\\Branko\\miniconda3\\lib\\site-packages\\prophet\\serialize.py:160: FutureWarning: The behavior of Timestamp.utcfromtimestamp is deprecated, in a future version will return a timezone-aware Timestamp with UTC timezone. To keep the old behavior, use Timestamp.utcfromtimestamp(ts).tz_localize(None). To get the future behavior, use Timestamp.fromtimestamp(ts, 'UTC')\n",
      "  setattr(model, attribute, pd.Timestamp.utcfromtimestamp(model_dict[attribute]).tz_localize(None))\n"
     ]
    },
    {
     "name": "stdout",
     "output_type": "stream",
     "text": [
      "0.09866152594752967\n",
      "2022-10-19 00:00:00 [7, 3, 2, 5, 4, 8, 2, 4, 1, 3] [65.5015095791632, 73.08278636312741, 67.92556449027335, 79.64059557735686, 81.08530577820754, 79.46499609050292, 78.96300744794229, 79.65106080065843, 75.19929086721638, 58.138702419573434]\n",
      "[6, 7, 6, 7, 8, 7, 7, 7, 7, 5] [5, 4, 3]\n",
      "--------- Batch id: 112 ---------\n"
     ]
    },
    {
     "name": "stderr",
     "output_type": "stream",
     "text": [
      "c:\\Users\\Branko\\miniconda3\\lib\\site-packages\\prophet\\serialize.py:160: FutureWarning: The behavior of Timestamp.utcfromtimestamp is deprecated, in a future version will return a timezone-aware Timestamp with UTC timezone. To keep the old behavior, use Timestamp.utcfromtimestamp(ts).tz_localize(None). To get the future behavior, use Timestamp.fromtimestamp(ts, 'UTC')\n",
      "  setattr(model, attribute, pd.Timestamp.utcfromtimestamp(model_dict[attribute]).tz_localize(None))\n"
     ]
    },
    {
     "name": "stdout",
     "output_type": "stream",
     "text": [
      "0.08632883520408843\n",
      "2022-10-19 00:00:00 [6, 2, 6, 5, 3, 4, 3, 2, 7, 2] [65.5015095791632, 73.08278636312741, 67.92556449027335, 79.64059557735686, 81.08530577820754, 79.46499609050292, 78.96300744794229, 79.65106080065843, 75.19929086721638, 58.138702419573434]\n",
      "[5, 6, 5, 6, 6, 6, 6, 6, 6, 5] [5, 4, 3]\n"
     ]
    }
   ],
   "source": [
    "BATCH_SIZE = 113\n",
    "for batch_id in range(1, BATCH_SIZE):\n",
    "    print('--------- Batch id: ' + str(batch_id) + ' ---------')\n",
    "\n",
    "    # extract pollen_df where column batch_id == batch_id\n",
    "    test_df = pollen_df[pollen_df['batch_id'] == batch_id]\n",
    "    # Drop index for test_df\n",
    "    test_df.reset_index(inplace=True, drop=True)\n",
    "\n",
    "    with open('../models/prophet.json', 'r') as fin:\n",
    "        m = model_from_json(fin.read())  # Load model\n",
    "\n",
    "    forecast = m.predict(test_df)\n",
    "    forecast['yhat'] = [max(0, x) for x in forecast['yhat']]\n",
    "    \n",
    "    # Make a list of difference between yhat and y\n",
    "    max_real_val = max(test_df['y'])\n",
    "    max_pred_val = max(forecast['yhat'])\n",
    "\n",
    "    ratio = np.mean([max_real_val / max_pred_val if max_pred_val != 0 else 0 for i in range(len(forecast))])\n",
    "    \n",
    "    print(ratio)\n",
    "\n",
    "    # 3 days after test_df\n",
    "    last_date = test_df['ds'].iloc[-1]\n",
    "    predict_dates = next_three_days(last_date)\n",
    "\n",
    "    results = predict_for_dates(m, predict_dates, ratio)\n",
    "\n",
    "    print(last_date, list(test_df['y']), list(forecast['yhat']))\n",
    "    print([int(ratio * x) for x in forecast['yhat']], results)\n",
    "\n",
    "    # Save results to result.csv\n",
    "    with open('../results/prophet.csv', 'a') as fout:\n",
    "        results = str(batch_id) + ',' + ','.join([str(x) for x in results]) + '\\n'\n",
    "        fout.write(results)"
   ]
  }
 ],
 "metadata": {
  "kernelspec": {
   "display_name": "base",
   "language": "python",
   "name": "python3"
  },
  "language_info": {
   "codemirror_mode": {
    "name": "ipython",
    "version": 3
   },
   "file_extension": ".py",
   "mimetype": "text/x-python",
   "name": "python",
   "nbconvert_exporter": "python",
   "pygments_lexer": "ipython3",
   "version": "3.9.7"
  },
  "orig_nbformat": 4
 },
 "nbformat": 4,
 "nbformat_minor": 2
}
