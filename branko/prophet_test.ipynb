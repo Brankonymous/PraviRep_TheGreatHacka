{
 "cells": [
  {
   "cell_type": "code",
   "execution_count": 49,
   "metadata": {},
   "outputs": [],
   "source": [
    "import pandas as pd\n",
    "import numpy as np\n",
    "import matplotlib.pyplot as plt\n",
    "import seaborn as sns\n",
    "import os\n",
    "import prophet\n",
    "import itertools\n",
    "from prophet.diagnostics import cross_validation, performance_metrics\n",
    "from prophet.serialize import model_to_json, model_from_json\n",
    "import datetime\n",
    "import random"
   ]
  },
  {
   "cell_type": "code",
   "execution_count": 50,
   "metadata": {},
   "outputs": [],
   "source": [
    "dataset_path = '../data/'\n",
    "\n",
    "pollen_test = pd.read_csv(dataset_path + 'pollen_test.csv')\n",
    "pollen_train = pd.read_csv(dataset_path + 'pollen_train.csv')\n",
    "pollen_type = pd.read_csv(dataset_path + 'pollen-type.csv')\n",
    "submission_example = pd.read_csv(dataset_path + 'submission_example.csv')\n",
    "weather_data = pd.read_csv(dataset_path + 'weather_data.csv')"
   ]
  },
  {
   "cell_type": "code",
   "execution_count": 51,
   "metadata": {},
   "outputs": [],
   "source": [
    "with open('../results/prophet.csv', 'w') as f:\n",
    "    f.write('batch_id,1 day prediction,2 days prediction,3 days prediction\\n')"
   ]
  },
  {
   "cell_type": "code",
   "execution_count": 52,
   "metadata": {},
   "outputs": [
    {
     "name": "stdout",
     "output_type": "stream",
     "text": [
      "458\n"
     ]
    }
   ],
   "source": [
    "print(max(pollen_test.AMBROSIA))"
   ]
  },
  {
   "cell_type": "code",
   "execution_count": 53,
   "metadata": {},
   "outputs": [
    {
     "data": {
      "text/html": [
       "<div>\n",
       "<style scoped>\n",
       "    .dataframe tbody tr th:only-of-type {\n",
       "        vertical-align: middle;\n",
       "    }\n",
       "\n",
       "    .dataframe tbody tr th {\n",
       "        vertical-align: top;\n",
       "    }\n",
       "\n",
       "    .dataframe thead th {\n",
       "        text-align: right;\n",
       "    }\n",
       "</style>\n",
       "<table border=\"1\" class=\"dataframe\">\n",
       "  <thead>\n",
       "    <tr style=\"text-align: right;\">\n",
       "      <th></th>\n",
       "      <th>Unnamed: 0</th>\n",
       "      <th>location</th>\n",
       "      <th>date</th>\n",
       "      <th>ACER</th>\n",
       "      <th>ALNUS</th>\n",
       "      <th>AMBROSIA</th>\n",
       "      <th>ARTEMISIA</th>\n",
       "      <th>BETULA</th>\n",
       "      <th>CANNABACEAE</th>\n",
       "      <th>CARPINUS</th>\n",
       "      <th>...</th>\n",
       "      <th>PLATANUS</th>\n",
       "      <th>POACEAE</th>\n",
       "      <th>POPULUS</th>\n",
       "      <th>QUERCUS</th>\n",
       "      <th>RUMEX</th>\n",
       "      <th>SALIX</th>\n",
       "      <th>TILIA</th>\n",
       "      <th>ULMACEAE</th>\n",
       "      <th>URTICACEAE</th>\n",
       "      <th>batch_id</th>\n",
       "    </tr>\n",
       "  </thead>\n",
       "  <tbody>\n",
       "    <tr>\n",
       "      <th>0</th>\n",
       "      <td>0</td>\n",
       "      <td>БЕОГРАД - НОВИ БЕОГРАД</td>\n",
       "      <td>2022-02-14</td>\n",
       "      <td>0</td>\n",
       "      <td>0</td>\n",
       "      <td>0</td>\n",
       "      <td>0</td>\n",
       "      <td>0</td>\n",
       "      <td>0</td>\n",
       "      <td>0</td>\n",
       "      <td>...</td>\n",
       "      <td>0</td>\n",
       "      <td>0</td>\n",
       "      <td>0</td>\n",
       "      <td>0</td>\n",
       "      <td>0</td>\n",
       "      <td>0</td>\n",
       "      <td>0</td>\n",
       "      <td>0</td>\n",
       "      <td>0</td>\n",
       "      <td>1</td>\n",
       "    </tr>\n",
       "    <tr>\n",
       "      <th>1</th>\n",
       "      <td>1</td>\n",
       "      <td>БЕОГРАД - НОВИ БЕОГРАД</td>\n",
       "      <td>2022-02-15</td>\n",
       "      <td>0</td>\n",
       "      <td>5</td>\n",
       "      <td>0</td>\n",
       "      <td>0</td>\n",
       "      <td>6</td>\n",
       "      <td>0</td>\n",
       "      <td>0</td>\n",
       "      <td>...</td>\n",
       "      <td>0</td>\n",
       "      <td>0</td>\n",
       "      <td>6</td>\n",
       "      <td>0</td>\n",
       "      <td>0</td>\n",
       "      <td>0</td>\n",
       "      <td>0</td>\n",
       "      <td>13</td>\n",
       "      <td>0</td>\n",
       "      <td>1</td>\n",
       "    </tr>\n",
       "    <tr>\n",
       "      <th>2</th>\n",
       "      <td>2</td>\n",
       "      <td>БЕОГРАД - НОВИ БЕОГРАД</td>\n",
       "      <td>2022-02-16</td>\n",
       "      <td>0</td>\n",
       "      <td>0</td>\n",
       "      <td>0</td>\n",
       "      <td>0</td>\n",
       "      <td>1</td>\n",
       "      <td>0</td>\n",
       "      <td>0</td>\n",
       "      <td>...</td>\n",
       "      <td>0</td>\n",
       "      <td>0</td>\n",
       "      <td>6</td>\n",
       "      <td>0</td>\n",
       "      <td>0</td>\n",
       "      <td>0</td>\n",
       "      <td>0</td>\n",
       "      <td>13</td>\n",
       "      <td>0</td>\n",
       "      <td>1</td>\n",
       "    </tr>\n",
       "    <tr>\n",
       "      <th>3</th>\n",
       "      <td>3</td>\n",
       "      <td>БЕОГРАД - НОВИ БЕОГРАД</td>\n",
       "      <td>2022-02-17</td>\n",
       "      <td>0</td>\n",
       "      <td>6</td>\n",
       "      <td>0</td>\n",
       "      <td>0</td>\n",
       "      <td>11</td>\n",
       "      <td>0</td>\n",
       "      <td>0</td>\n",
       "      <td>...</td>\n",
       "      <td>0</td>\n",
       "      <td>0</td>\n",
       "      <td>22</td>\n",
       "      <td>0</td>\n",
       "      <td>0</td>\n",
       "      <td>0</td>\n",
       "      <td>0</td>\n",
       "      <td>30</td>\n",
       "      <td>0</td>\n",
       "      <td>1</td>\n",
       "    </tr>\n",
       "    <tr>\n",
       "      <th>4</th>\n",
       "      <td>4</td>\n",
       "      <td>БЕОГРАД - НОВИ БЕОГРАД</td>\n",
       "      <td>2022-02-18</td>\n",
       "      <td>0</td>\n",
       "      <td>12</td>\n",
       "      <td>0</td>\n",
       "      <td>0</td>\n",
       "      <td>2</td>\n",
       "      <td>0</td>\n",
       "      <td>0</td>\n",
       "      <td>...</td>\n",
       "      <td>0</td>\n",
       "      <td>0</td>\n",
       "      <td>47</td>\n",
       "      <td>0</td>\n",
       "      <td>0</td>\n",
       "      <td>0</td>\n",
       "      <td>0</td>\n",
       "      <td>58</td>\n",
       "      <td>0</td>\n",
       "      <td>1</td>\n",
       "    </tr>\n",
       "  </tbody>\n",
       "</table>\n",
       "<p>5 rows × 30 columns</p>\n",
       "</div>"
      ],
      "text/plain": [
       "   Unnamed: 0                location        date  ACER  ALNUS  AMBROSIA  \\\n",
       "0           0  БЕОГРАД - НОВИ БЕОГРАД  2022-02-14     0      0         0   \n",
       "1           1  БЕОГРАД - НОВИ БЕОГРАД  2022-02-15     0      5         0   \n",
       "2           2  БЕОГРАД - НОВИ БЕОГРАД  2022-02-16     0      0         0   \n",
       "3           3  БЕОГРАД - НОВИ БЕОГРАД  2022-02-17     0      6         0   \n",
       "4           4  БЕОГРАД - НОВИ БЕОГРАД  2022-02-18     0     12         0   \n",
       "\n",
       "   ARTEMISIA  BETULA  CANNABACEAE  CARPINUS  ...  PLATANUS  POACEAE  POPULUS  \\\n",
       "0          0       0            0         0  ...         0        0        0   \n",
       "1          0       6            0         0  ...         0        0        6   \n",
       "2          0       1            0         0  ...         0        0        6   \n",
       "3          0      11            0         0  ...         0        0       22   \n",
       "4          0       2            0         0  ...         0        0       47   \n",
       "\n",
       "   QUERCUS  RUMEX  SALIX  TILIA  ULMACEAE  URTICACEAE  batch_id  \n",
       "0        0      0      0      0         0           0         1  \n",
       "1        0      0      0      0        13           0         1  \n",
       "2        0      0      0      0        13           0         1  \n",
       "3        0      0      0      0        30           0         1  \n",
       "4        0      0      0      0        58           0         1  \n",
       "\n",
       "[5 rows x 30 columns]"
      ]
     },
     "execution_count": 53,
     "metadata": {},
     "output_type": "execute_result"
    }
   ],
   "source": [
    "pollen_test.head()"
   ]
  },
  {
   "cell_type": "code",
   "execution_count": 54,
   "metadata": {},
   "outputs": [
    {
     "data": {
      "text/html": [
       "<div>\n",
       "<style scoped>\n",
       "    .dataframe tbody tr th:only-of-type {\n",
       "        vertical-align: middle;\n",
       "    }\n",
       "\n",
       "    .dataframe tbody tr th {\n",
       "        vertical-align: top;\n",
       "    }\n",
       "\n",
       "    .dataframe thead th {\n",
       "        text-align: right;\n",
       "    }\n",
       "</style>\n",
       "<table border=\"1\" class=\"dataframe\">\n",
       "  <thead>\n",
       "    <tr style=\"text-align: right;\">\n",
       "      <th></th>\n",
       "      <th>ACER</th>\n",
       "      <th>ALNUS</th>\n",
       "      <th>ARTEMISIA</th>\n",
       "      <th>BETULA</th>\n",
       "      <th>CANNABACEAE</th>\n",
       "      <th>CARPINUS</th>\n",
       "      <th>CELTIS</th>\n",
       "      <th>CHENOP/AMAR.</th>\n",
       "      <th>CORYLUS</th>\n",
       "      <th>CUPRESS/TAXA.</th>\n",
       "      <th>...</th>\n",
       "      <th>RUMEX</th>\n",
       "      <th>SALIX</th>\n",
       "      <th>TILIA</th>\n",
       "      <th>ULMACEAE</th>\n",
       "      <th>URTICACEAE</th>\n",
       "      <th>batch_id</th>\n",
       "      <th>ds</th>\n",
       "      <th>y</th>\n",
       "      <th>floor</th>\n",
       "      <th>cap</th>\n",
       "    </tr>\n",
       "  </thead>\n",
       "  <tbody>\n",
       "    <tr>\n",
       "      <th>1115</th>\n",
       "      <td>0</td>\n",
       "      <td>0</td>\n",
       "      <td>0</td>\n",
       "      <td>0</td>\n",
       "      <td>3</td>\n",
       "      <td>0</td>\n",
       "      <td>0</td>\n",
       "      <td>0</td>\n",
       "      <td>0</td>\n",
       "      <td>0</td>\n",
       "      <td>...</td>\n",
       "      <td>0</td>\n",
       "      <td>0</td>\n",
       "      <td>0</td>\n",
       "      <td>0</td>\n",
       "      <td>2</td>\n",
       "      <td>112</td>\n",
       "      <td>2022-10-15</td>\n",
       "      <td>4</td>\n",
       "      <td>0</td>\n",
       "      <td>2500</td>\n",
       "    </tr>\n",
       "    <tr>\n",
       "      <th>1116</th>\n",
       "      <td>0</td>\n",
       "      <td>0</td>\n",
       "      <td>1</td>\n",
       "      <td>0</td>\n",
       "      <td>1</td>\n",
       "      <td>0</td>\n",
       "      <td>0</td>\n",
       "      <td>2</td>\n",
       "      <td>0</td>\n",
       "      <td>0</td>\n",
       "      <td>...</td>\n",
       "      <td>0</td>\n",
       "      <td>0</td>\n",
       "      <td>0</td>\n",
       "      <td>0</td>\n",
       "      <td>0</td>\n",
       "      <td>112</td>\n",
       "      <td>2022-10-16</td>\n",
       "      <td>3</td>\n",
       "      <td>0</td>\n",
       "      <td>2500</td>\n",
       "    </tr>\n",
       "    <tr>\n",
       "      <th>1117</th>\n",
       "      <td>0</td>\n",
       "      <td>0</td>\n",
       "      <td>1</td>\n",
       "      <td>0</td>\n",
       "      <td>0</td>\n",
       "      <td>0</td>\n",
       "      <td>0</td>\n",
       "      <td>0</td>\n",
       "      <td>0</td>\n",
       "      <td>0</td>\n",
       "      <td>...</td>\n",
       "      <td>0</td>\n",
       "      <td>0</td>\n",
       "      <td>0</td>\n",
       "      <td>0</td>\n",
       "      <td>0</td>\n",
       "      <td>112</td>\n",
       "      <td>2022-10-17</td>\n",
       "      <td>2</td>\n",
       "      <td>0</td>\n",
       "      <td>2500</td>\n",
       "    </tr>\n",
       "    <tr>\n",
       "      <th>1118</th>\n",
       "      <td>0</td>\n",
       "      <td>0</td>\n",
       "      <td>0</td>\n",
       "      <td>0</td>\n",
       "      <td>0</td>\n",
       "      <td>0</td>\n",
       "      <td>0</td>\n",
       "      <td>0</td>\n",
       "      <td>0</td>\n",
       "      <td>0</td>\n",
       "      <td>...</td>\n",
       "      <td>0</td>\n",
       "      <td>0</td>\n",
       "      <td>0</td>\n",
       "      <td>0</td>\n",
       "      <td>0</td>\n",
       "      <td>112</td>\n",
       "      <td>2022-10-18</td>\n",
       "      <td>7</td>\n",
       "      <td>0</td>\n",
       "      <td>2500</td>\n",
       "    </tr>\n",
       "    <tr>\n",
       "      <th>1119</th>\n",
       "      <td>0</td>\n",
       "      <td>0</td>\n",
       "      <td>0</td>\n",
       "      <td>0</td>\n",
       "      <td>0</td>\n",
       "      <td>0</td>\n",
       "      <td>0</td>\n",
       "      <td>0</td>\n",
       "      <td>0</td>\n",
       "      <td>0</td>\n",
       "      <td>...</td>\n",
       "      <td>0</td>\n",
       "      <td>0</td>\n",
       "      <td>0</td>\n",
       "      <td>0</td>\n",
       "      <td>0</td>\n",
       "      <td>112</td>\n",
       "      <td>2022-10-19</td>\n",
       "      <td>2</td>\n",
       "      <td>0</td>\n",
       "      <td>2500</td>\n",
       "    </tr>\n",
       "  </tbody>\n",
       "</table>\n",
       "<p>5 rows × 30 columns</p>\n",
       "</div>"
      ],
      "text/plain": [
       "      ACER  ALNUS  ARTEMISIA  BETULA  CANNABACEAE  CARPINUS  CELTIS  \\\n",
       "1115     0      0          0       0            3         0       0   \n",
       "1116     0      0          1       0            1         0       0   \n",
       "1117     0      0          1       0            0         0       0   \n",
       "1118     0      0          0       0            0         0       0   \n",
       "1119     0      0          0       0            0         0       0   \n",
       "\n",
       "      CHENOP/AMAR.  CORYLUS  CUPRESS/TAXA.  ...  RUMEX  SALIX  TILIA  \\\n",
       "1115             0        0              0  ...      0      0      0   \n",
       "1116             2        0              0  ...      0      0      0   \n",
       "1117             0        0              0  ...      0      0      0   \n",
       "1118             0        0              0  ...      0      0      0   \n",
       "1119             0        0              0  ...      0      0      0   \n",
       "\n",
       "      ULMACEAE  URTICACEAE  batch_id         ds  y  floor   cap  \n",
       "1115         0           2       112 2022-10-15  4      0  2500  \n",
       "1116         0           0       112 2022-10-16  3      0  2500  \n",
       "1117         0           0       112 2022-10-17  2      0  2500  \n",
       "1118         0           0       112 2022-10-18  7      0  2500  \n",
       "1119         0           0       112 2022-10-19  2      0  2500  \n",
       "\n",
       "[5 rows x 30 columns]"
      ]
     },
     "execution_count": 54,
     "metadata": {},
     "output_type": "execute_result"
    }
   ],
   "source": [
    "pollen_df = pollen_test.copy()\n",
    "\n",
    "pollen_df['date'] = pd.to_datetime(pollen_df['date'])\n",
    "\n",
    "# change the column names\n",
    "pollen_df['ds'] = pollen_df['date']\n",
    "pollen_df['y'] = pollen_df['AMBROSIA']\n",
    "pollen_df['floor'] = 0\n",
    "pollen_df['cap'] = 2500\n",
    "\n",
    "pollen_df.drop(['location', 'Unnamed: 0', 'date', 'AMBROSIA'], axis=1, inplace=True)\n",
    "\n",
    "pollen_df.tail()"
   ]
  },
  {
   "cell_type": "code",
   "execution_count": 55,
   "metadata": {},
   "outputs": [],
   "source": [
    "def next_three_days(x):\n",
    "    return [x + datetime.timedelta(days=1), x + datetime.timedelta(days=2), x + datetime.timedelta(days=3)]\n",
    "\n",
    "def seven_day_MA(m, x, ratio):\n",
    "    dates = [x + datetime.timedelta(days=1), x + datetime.timedelta(days=2), x + datetime.timedelta(days=3),\n",
    "            x + datetime.timedelta(days=4), x + datetime.timedelta(days=5), x + datetime.timedelta(days=6),\n",
    "            x + datetime.timedelta(days=7)]\n",
    "    future = pd.DataFrame({'ds': dates})\n",
    "    future['floor'] = 0\n",
    "    future['cap'] = 2500\n",
    "\n",
    "    forecast = m.predict(future)\n",
    "    mean_yhat = np.median(forecast.yhat)\n",
    "    \n",
    "    return [max(ratio * mean_yhat, 0) for i in range(3)]\n",
    "\n",
    "def predict_for_dates(m, dates, ratio):\n",
    "    future = pd.DataFrame({'ds': dates})\n",
    "    future['floor'] = 0\n",
    "    future['cap'] = 2500\n",
    "    \n",
    "    forecast = m.predict(future)\n",
    "    ans = []\n",
    "    for forecast_row in forecast.itertuples():\n",
    "        val = ratio * forecast_row.yhat\n",
    "        val = max(0, val)\n",
    "        ans.append(val)\n",
    "\n",
    "        '''\n",
    "        if forecast_row.yhat_lower < 0:\n",
    "            ans.append(0)\n",
    "        else:\n",
    "            # pick random value between yhat_lower and yhat_upper\n",
    "            # ans.append(random.randrange(int(forecast_row.yhat_lower), int(forecast_row.yhat_upper)))\n",
    "            val = int(ratio * random.randrange(int(forecast_row.yhat_lower), int(forecast_row.yhat_upper)))\n",
    "            print(val, ratio, forecast_row.yhat, forecast_row.yhat_lower, forecast_row.yhat_upper)\n",
    "            ans.append(val)\n",
    "        '''\n",
    "\n",
    "    return ans"
   ]
  },
  {
   "cell_type": "markdown",
   "metadata": {},
   "source": [
    "## Start Test"
   ]
  },
  {
   "cell_type": "code",
   "execution_count": 56,
   "metadata": {},
   "outputs": [
    {
     "name": "stdout",
     "output_type": "stream",
     "text": [
      "--------- Batch id: 1 ---------\n"
     ]
    },
    {
     "name": "stderr",
     "output_type": "stream",
     "text": [
      "c:\\Users\\Branko\\miniconda3\\lib\\site-packages\\prophet\\serialize.py:160: FutureWarning: The behavior of Timestamp.utcfromtimestamp is deprecated, in a future version will return a timezone-aware Timestamp with UTC timezone. To keep the old behavior, use Timestamp.utcfromtimestamp(ts).tz_localize(None). To get the future behavior, use Timestamp.fromtimestamp(ts, 'UTC')\n",
      "  setattr(model, attribute, pd.Timestamp.utcfromtimestamp(model_dict[attribute]).tz_localize(None))\n"
     ]
    },
    {
     "name": "stdout",
     "output_type": "stream",
     "text": [
      "0.0\n",
      "2022-02-23 00:00:00 [0, 0, 0, 0, 0, 0, 0, 0, 0, 0] [0.0, 0.0, 0.0, 0.0, 0.0, 0.0, 0.0, 1.8443171421411766, 4.482665681785642, 7.016267194264284]\n",
      "[0, 0, 0, 0, 0, 0, 0, 0, 0, 0] [0, 0, 0]\n",
      "--------- Batch id: 2 ---------\n"
     ]
    },
    {
     "name": "stderr",
     "output_type": "stream",
     "text": [
      "c:\\Users\\Branko\\miniconda3\\lib\\site-packages\\prophet\\serialize.py:160: FutureWarning: The behavior of Timestamp.utcfromtimestamp is deprecated, in a future version will return a timezone-aware Timestamp with UTC timezone. To keep the old behavior, use Timestamp.utcfromtimestamp(ts).tz_localize(None). To get the future behavior, use Timestamp.fromtimestamp(ts, 'UTC')\n",
      "  setattr(model, attribute, pd.Timestamp.utcfromtimestamp(model_dict[attribute]).tz_localize(None))\n"
     ]
    },
    {
     "name": "stdout",
     "output_type": "stream",
     "text": [
      "0.0\n",
      "2022-02-23 00:00:00 [0, 0, 0, 0, 0, 0, 0, 0, 0, 0] [0.0, 0.0, 0.0, 0.0, 0.0, 0.0, 0.0, 1.8443171421411766, 4.482665681785642, 7.016267194264284]\n",
      "[0, 0, 0, 0, 0, 0, 0, 0, 0, 0] [0, 0, 0]\n",
      "--------- Batch id: 3 ---------\n"
     ]
    },
    {
     "name": "stderr",
     "output_type": "stream",
     "text": [
      "c:\\Users\\Branko\\miniconda3\\lib\\site-packages\\prophet\\serialize.py:160: FutureWarning: The behavior of Timestamp.utcfromtimestamp is deprecated, in a future version will return a timezone-aware Timestamp with UTC timezone. To keep the old behavior, use Timestamp.utcfromtimestamp(ts).tz_localize(None). To get the future behavior, use Timestamp.fromtimestamp(ts, 'UTC')\n",
      "  setattr(model, attribute, pd.Timestamp.utcfromtimestamp(model_dict[attribute]).tz_localize(None))\n"
     ]
    },
    {
     "name": "stdout",
     "output_type": "stream",
     "text": [
      "0.0\n",
      "2022-02-23 00:00:00 [0, 0, 0, 0, 0, 0, 0, 0, 0, 0] [0.0, 0.0, 0.0, 0.0, 0.0, 0.0, 0.0, 1.8443171421411766, 4.482665681785642, 7.016267194264284]\n",
      "[0, 0, 0, 0, 0, 0, 0, 0, 0, 0] [0, 0, 0]\n",
      "--------- Batch id: 4 ---------\n"
     ]
    },
    {
     "name": "stderr",
     "output_type": "stream",
     "text": [
      "c:\\Users\\Branko\\miniconda3\\lib\\site-packages\\prophet\\serialize.py:160: FutureWarning: The behavior of Timestamp.utcfromtimestamp is deprecated, in a future version will return a timezone-aware Timestamp with UTC timezone. To keep the old behavior, use Timestamp.utcfromtimestamp(ts).tz_localize(None). To get the future behavior, use Timestamp.fromtimestamp(ts, 'UTC')\n",
      "  setattr(model, attribute, pd.Timestamp.utcfromtimestamp(model_dict[attribute]).tz_localize(None))\n"
     ]
    },
    {
     "name": "stdout",
     "output_type": "stream",
     "text": [
      "0.0\n",
      "2022-02-23 00:00:00 [0, 0, 0, 0, 0, 0, 0, 0, 0, 0] [0.0, 0.0, 0.0, 0.0, 0.0, 0.0, 0.0, 1.8443171421411766, 4.482665681785642, 7.016267194264284]\n",
      "[0, 0, 0, 0, 0, 0, 0, 0, 0, 0] [0, 0, 0]\n",
      "--------- Batch id: 5 ---------\n"
     ]
    },
    {
     "name": "stderr",
     "output_type": "stream",
     "text": [
      "c:\\Users\\Branko\\miniconda3\\lib\\site-packages\\prophet\\serialize.py:160: FutureWarning: The behavior of Timestamp.utcfromtimestamp is deprecated, in a future version will return a timezone-aware Timestamp with UTC timezone. To keep the old behavior, use Timestamp.utcfromtimestamp(ts).tz_localize(None). To get the future behavior, use Timestamp.fromtimestamp(ts, 'UTC')\n",
      "  setattr(model, attribute, pd.Timestamp.utcfromtimestamp(model_dict[attribute]).tz_localize(None))\n"
     ]
    },
    {
     "name": "stdout",
     "output_type": "stream",
     "text": [
      "0.0\n",
      "2022-02-23 00:00:00 [0, 0, 0, 0, 0, 0, 0, 0, 0, 0] [0.0, 0.0, 0.0, 0.0, 0.0, 0.0, 0.0, 1.8443171421411766, 4.482665681785642, 7.016267194264284]\n",
      "[0, 0, 0, 0, 0, 0, 0, 0, 0, 0] [0, 0, 0]\n",
      "--------- Batch id: 6 ---------\n"
     ]
    },
    {
     "name": "stderr",
     "output_type": "stream",
     "text": [
      "c:\\Users\\Branko\\miniconda3\\lib\\site-packages\\prophet\\serialize.py:160: FutureWarning: The behavior of Timestamp.utcfromtimestamp is deprecated, in a future version will return a timezone-aware Timestamp with UTC timezone. To keep the old behavior, use Timestamp.utcfromtimestamp(ts).tz_localize(None). To get the future behavior, use Timestamp.fromtimestamp(ts, 'UTC')\n",
      "  setattr(model, attribute, pd.Timestamp.utcfromtimestamp(model_dict[attribute]).tz_localize(None))\n"
     ]
    },
    {
     "name": "stdout",
     "output_type": "stream",
     "text": [
      "0.0\n",
      "2022-02-23 00:00:00 [0, 0, 0, 0, 0, 0, 0, 0, 0, 0] [0.0, 0.0, 0.0, 0.0, 0.0, 0.0, 0.0, 1.8443171421411766, 4.482665681785642, 7.016267194264284]\n",
      "[0, 0, 0, 0, 0, 0, 0, 0, 0, 0] [0, 0, 0]\n",
      "--------- Batch id: 7 ---------\n"
     ]
    },
    {
     "name": "stderr",
     "output_type": "stream",
     "text": [
      "c:\\Users\\Branko\\miniconda3\\lib\\site-packages\\prophet\\serialize.py:160: FutureWarning: The behavior of Timestamp.utcfromtimestamp is deprecated, in a future version will return a timezone-aware Timestamp with UTC timezone. To keep the old behavior, use Timestamp.utcfromtimestamp(ts).tz_localize(None). To get the future behavior, use Timestamp.fromtimestamp(ts, 'UTC')\n",
      "  setattr(model, attribute, pd.Timestamp.utcfromtimestamp(model_dict[attribute]).tz_localize(None))\n"
     ]
    },
    {
     "name": "stdout",
     "output_type": "stream",
     "text": [
      "0.0\n",
      "2022-02-23 00:00:00 [0, 0, 0, 0, 0, 0, 0, 0, 0, 0] [0.0, 0.0, 0.0, 0.0, 0.0, 0.0, 0.0, 1.8443171421411766, 4.482665681785642, 7.016267194264284]\n",
      "[0, 0, 0, 0, 0, 0, 0, 0, 0, 0] [0, 0, 0]\n",
      "--------- Batch id: 8 ---------\n"
     ]
    },
    {
     "name": "stderr",
     "output_type": "stream",
     "text": [
      "c:\\Users\\Branko\\miniconda3\\lib\\site-packages\\prophet\\serialize.py:160: FutureWarning: The behavior of Timestamp.utcfromtimestamp is deprecated, in a future version will return a timezone-aware Timestamp with UTC timezone. To keep the old behavior, use Timestamp.utcfromtimestamp(ts).tz_localize(None). To get the future behavior, use Timestamp.fromtimestamp(ts, 'UTC')\n",
      "  setattr(model, attribute, pd.Timestamp.utcfromtimestamp(model_dict[attribute]).tz_localize(None))\n"
     ]
    },
    {
     "name": "stdout",
     "output_type": "stream",
     "text": [
      "0.0\n",
      "2022-03-09 00:00:00 [0, 0, 0, 0, 0, 0, 0, 0, 0, 0] [15.462452970168302, 15.918049362508906, 15.894664504323057, 15.393683618618656, 14.432173657146944, 13.042296991842905, 11.270235894776155, 9.17466338459832, 6.824810542659544, 4.298193300685583]\n",
      "[0, 0, 0, 0, 0, 0, 0, 0, 0, 0] [0, 0, 0]\n",
      "--------- Batch id: 9 ---------\n"
     ]
    },
    {
     "name": "stderr",
     "output_type": "stream",
     "text": [
      "c:\\Users\\Branko\\miniconda3\\lib\\site-packages\\prophet\\serialize.py:160: FutureWarning: The behavior of Timestamp.utcfromtimestamp is deprecated, in a future version will return a timezone-aware Timestamp with UTC timezone. To keep the old behavior, use Timestamp.utcfromtimestamp(ts).tz_localize(None). To get the future behavior, use Timestamp.fromtimestamp(ts, 'UTC')\n",
      "  setattr(model, attribute, pd.Timestamp.utcfromtimestamp(model_dict[attribute]).tz_localize(None))\n"
     ]
    },
    {
     "name": "stdout",
     "output_type": "stream",
     "text": [
      "0.0\n",
      "2022-03-09 00:00:00 [0, 0, 0, 0, 0, 0, 0, 0, 0, 0] [15.462452970168302, 15.918049362508906, 15.894664504323057, 15.393683618618656, 14.432173657146944, 13.042296991842905, 11.270235894776155, 9.17466338459832, 6.824810542659544, 4.298193300685583]\n",
      "[0, 0, 0, 0, 0, 0, 0, 0, 0, 0] [0, 0, 0]\n",
      "--------- Batch id: 10 ---------\n"
     ]
    },
    {
     "name": "stderr",
     "output_type": "stream",
     "text": [
      "c:\\Users\\Branko\\miniconda3\\lib\\site-packages\\prophet\\serialize.py:160: FutureWarning: The behavior of Timestamp.utcfromtimestamp is deprecated, in a future version will return a timezone-aware Timestamp with UTC timezone. To keep the old behavior, use Timestamp.utcfromtimestamp(ts).tz_localize(None). To get the future behavior, use Timestamp.fromtimestamp(ts, 'UTC')\n",
      "  setattr(model, attribute, pd.Timestamp.utcfromtimestamp(model_dict[attribute]).tz_localize(None))\n"
     ]
    },
    {
     "name": "stdout",
     "output_type": "stream",
     "text": [
      "0.0\n",
      "2022-03-09 00:00:00 [0, 0, 0, 0, 0, 0, 0, 0, 0, 0] [15.462452970168302, 15.918049362508906, 15.894664504323057, 15.393683618618656, 14.432173657146944, 13.042296991842905, 11.270235894776155, 9.17466338459832, 6.824810542659544, 4.298193300685583]\n",
      "[0, 0, 0, 0, 0, 0, 0, 0, 0, 0] [0, 0, 0]\n",
      "--------- Batch id: 11 ---------\n"
     ]
    },
    {
     "name": "stderr",
     "output_type": "stream",
     "text": [
      "c:\\Users\\Branko\\miniconda3\\lib\\site-packages\\prophet\\serialize.py:160: FutureWarning: The behavior of Timestamp.utcfromtimestamp is deprecated, in a future version will return a timezone-aware Timestamp with UTC timezone. To keep the old behavior, use Timestamp.utcfromtimestamp(ts).tz_localize(None). To get the future behavior, use Timestamp.fromtimestamp(ts, 'UTC')\n",
      "  setattr(model, attribute, pd.Timestamp.utcfromtimestamp(model_dict[attribute]).tz_localize(None))\n"
     ]
    },
    {
     "name": "stdout",
     "output_type": "stream",
     "text": [
      "0.0\n",
      "2022-03-09 00:00:00 [0, 0, 0, 0, 0, 0, 0, 0, 0, 0] [15.462452970168302, 15.918049362508906, 15.894664504323057, 15.393683618618656, 14.432173657146944, 13.042296991842905, 11.270235894776155, 9.17466338459832, 6.824810542659544, 4.298193300685583]\n",
      "[0, 0, 0, 0, 0, 0, 0, 0, 0, 0] [0, 0, 0]\n",
      "--------- Batch id: 12 ---------\n"
     ]
    },
    {
     "name": "stderr",
     "output_type": "stream",
     "text": [
      "c:\\Users\\Branko\\miniconda3\\lib\\site-packages\\prophet\\serialize.py:160: FutureWarning: The behavior of Timestamp.utcfromtimestamp is deprecated, in a future version will return a timezone-aware Timestamp with UTC timezone. To keep the old behavior, use Timestamp.utcfromtimestamp(ts).tz_localize(None). To get the future behavior, use Timestamp.fromtimestamp(ts, 'UTC')\n",
      "  setattr(model, attribute, pd.Timestamp.utcfromtimestamp(model_dict[attribute]).tz_localize(None))\n"
     ]
    },
    {
     "name": "stdout",
     "output_type": "stream",
     "text": [
      "0.0\n",
      "2022-03-09 00:00:00 [0, 0, 0, 0, 0, 0, 0, 0, 0, 0] [15.462452970168302, 15.918049362508906, 15.894664504323057, 15.393683618618656, 14.432173657146944, 13.042296991842905, 11.270235894776155, 9.17466338459832, 6.824810542659544, 4.298193300685583]\n",
      "[0, 0, 0, 0, 0, 0, 0, 0, 0, 0] [0, 0, 0]\n",
      "--------- Batch id: 13 ---------\n"
     ]
    },
    {
     "name": "stderr",
     "output_type": "stream",
     "text": [
      "c:\\Users\\Branko\\miniconda3\\lib\\site-packages\\prophet\\serialize.py:160: FutureWarning: The behavior of Timestamp.utcfromtimestamp is deprecated, in a future version will return a timezone-aware Timestamp with UTC timezone. To keep the old behavior, use Timestamp.utcfromtimestamp(ts).tz_localize(None). To get the future behavior, use Timestamp.fromtimestamp(ts, 'UTC')\n",
      "  setattr(model, attribute, pd.Timestamp.utcfromtimestamp(model_dict[attribute]).tz_localize(None))\n"
     ]
    },
    {
     "name": "stdout",
     "output_type": "stream",
     "text": [
      "0.0\n",
      "2022-03-09 00:00:00 [0, 0, 0, 0, 0, 0, 0, 0, 0, 0] [15.462452970168302, 15.918049362508906, 15.894664504323057, 15.393683618618656, 14.432173657146944, 13.042296991842905, 11.270235894776155, 9.17466338459832, 6.824810542659544, 4.298193300685583]\n",
      "[0, 0, 0, 0, 0, 0, 0, 0, 0, 0] [0, 0, 0]\n",
      "--------- Batch id: 14 ---------\n"
     ]
    },
    {
     "name": "stderr",
     "output_type": "stream",
     "text": [
      "c:\\Users\\Branko\\miniconda3\\lib\\site-packages\\prophet\\serialize.py:160: FutureWarning: The behavior of Timestamp.utcfromtimestamp is deprecated, in a future version will return a timezone-aware Timestamp with UTC timezone. To keep the old behavior, use Timestamp.utcfromtimestamp(ts).tz_localize(None). To get the future behavior, use Timestamp.fromtimestamp(ts, 'UTC')\n",
      "  setattr(model, attribute, pd.Timestamp.utcfromtimestamp(model_dict[attribute]).tz_localize(None))\n"
     ]
    },
    {
     "name": "stdout",
     "output_type": "stream",
     "text": [
      "0.0\n",
      "2022-03-09 00:00:00 [0, 0, 0, 0, 0, 0, 0, 0, 0, 0] [15.462452970168302, 15.918049362508906, 15.894664504323057, 15.393683618618656, 14.432173657146944, 13.042296991842905, 11.270235894776155, 9.17466338459832, 6.824810542659544, 4.298193300685583]\n",
      "[0, 0, 0, 0, 0, 0, 0, 0, 0, 0] [0, 0, 0]\n",
      "--------- Batch id: 15 ---------\n"
     ]
    },
    {
     "name": "stderr",
     "output_type": "stream",
     "text": [
      "c:\\Users\\Branko\\miniconda3\\lib\\site-packages\\prophet\\serialize.py:160: FutureWarning: The behavior of Timestamp.utcfromtimestamp is deprecated, in a future version will return a timezone-aware Timestamp with UTC timezone. To keep the old behavior, use Timestamp.utcfromtimestamp(ts).tz_localize(None). To get the future behavior, use Timestamp.fromtimestamp(ts, 'UTC')\n",
      "  setattr(model, attribute, pd.Timestamp.utcfromtimestamp(model_dict[attribute]).tz_localize(None))\n"
     ]
    },
    {
     "name": "stdout",
     "output_type": "stream",
     "text": [
      "0.0\n",
      "2022-03-23 00:00:00 [0, 0, 0, 0, 0, 0, 0, 0, 0, 0] [0, 0, 0, 0, 0, 0, 0, 0, 0, 0]\n",
      "[0, 0, 0, 0, 0, 0, 0, 0, 0, 0] [0, 0, 0]\n",
      "--------- Batch id: 16 ---------\n"
     ]
    },
    {
     "name": "stderr",
     "output_type": "stream",
     "text": [
      "c:\\Users\\Branko\\miniconda3\\lib\\site-packages\\prophet\\serialize.py:160: FutureWarning: The behavior of Timestamp.utcfromtimestamp is deprecated, in a future version will return a timezone-aware Timestamp with UTC timezone. To keep the old behavior, use Timestamp.utcfromtimestamp(ts).tz_localize(None). To get the future behavior, use Timestamp.fromtimestamp(ts, 'UTC')\n",
      "  setattr(model, attribute, pd.Timestamp.utcfromtimestamp(model_dict[attribute]).tz_localize(None))\n"
     ]
    },
    {
     "name": "stdout",
     "output_type": "stream",
     "text": [
      "0.0\n",
      "2022-03-23 00:00:00 [0, 0, 0, 0, 0, 0, 0, 0, 0, 0] [0, 0, 0, 0, 0, 0, 0, 0, 0, 0]\n",
      "[0, 0, 0, 0, 0, 0, 0, 0, 0, 0] [0, 0, 0]\n",
      "--------- Batch id: 17 ---------\n"
     ]
    },
    {
     "name": "stderr",
     "output_type": "stream",
     "text": [
      "c:\\Users\\Branko\\miniconda3\\lib\\site-packages\\prophet\\serialize.py:160: FutureWarning: The behavior of Timestamp.utcfromtimestamp is deprecated, in a future version will return a timezone-aware Timestamp with UTC timezone. To keep the old behavior, use Timestamp.utcfromtimestamp(ts).tz_localize(None). To get the future behavior, use Timestamp.fromtimestamp(ts, 'UTC')\n",
      "  setattr(model, attribute, pd.Timestamp.utcfromtimestamp(model_dict[attribute]).tz_localize(None))\n"
     ]
    },
    {
     "name": "stdout",
     "output_type": "stream",
     "text": [
      "0.0\n",
      "2022-03-23 00:00:00 [0, 0, 0, 0, 0, 0, 0, 0, 0, 0] [0, 0, 0, 0, 0, 0, 0, 0, 0, 0]\n",
      "[0, 0, 0, 0, 0, 0, 0, 0, 0, 0] [0, 0, 0]\n",
      "--------- Batch id: 18 ---------\n"
     ]
    },
    {
     "name": "stderr",
     "output_type": "stream",
     "text": [
      "c:\\Users\\Branko\\miniconda3\\lib\\site-packages\\prophet\\serialize.py:160: FutureWarning: The behavior of Timestamp.utcfromtimestamp is deprecated, in a future version will return a timezone-aware Timestamp with UTC timezone. To keep the old behavior, use Timestamp.utcfromtimestamp(ts).tz_localize(None). To get the future behavior, use Timestamp.fromtimestamp(ts, 'UTC')\n",
      "  setattr(model, attribute, pd.Timestamp.utcfromtimestamp(model_dict[attribute]).tz_localize(None))\n"
     ]
    },
    {
     "name": "stdout",
     "output_type": "stream",
     "text": [
      "0.0\n",
      "2022-03-23 00:00:00 [0, 0, 0, 0, 0, 0, 0, 0, 0, 0] [0, 0, 0, 0, 0, 0, 0, 0, 0, 0]\n",
      "[0, 0, 0, 0, 0, 0, 0, 0, 0, 0] [0, 0, 0]\n",
      "--------- Batch id: 19 ---------\n"
     ]
    },
    {
     "name": "stderr",
     "output_type": "stream",
     "text": [
      "c:\\Users\\Branko\\miniconda3\\lib\\site-packages\\prophet\\serialize.py:160: FutureWarning: The behavior of Timestamp.utcfromtimestamp is deprecated, in a future version will return a timezone-aware Timestamp with UTC timezone. To keep the old behavior, use Timestamp.utcfromtimestamp(ts).tz_localize(None). To get the future behavior, use Timestamp.fromtimestamp(ts, 'UTC')\n",
      "  setattr(model, attribute, pd.Timestamp.utcfromtimestamp(model_dict[attribute]).tz_localize(None))\n"
     ]
    },
    {
     "name": "stdout",
     "output_type": "stream",
     "text": [
      "0.0\n",
      "2022-03-23 00:00:00 [0, 0, 0, 0, 0, 0, 0, 0, 0, 0] [0, 0, 0, 0, 0, 0, 0, 0, 0, 0]\n",
      "[0, 0, 0, 0, 0, 0, 0, 0, 0, 0] [0, 0, 0]\n",
      "--------- Batch id: 20 ---------\n"
     ]
    },
    {
     "name": "stderr",
     "output_type": "stream",
     "text": [
      "c:\\Users\\Branko\\miniconda3\\lib\\site-packages\\prophet\\serialize.py:160: FutureWarning: The behavior of Timestamp.utcfromtimestamp is deprecated, in a future version will return a timezone-aware Timestamp with UTC timezone. To keep the old behavior, use Timestamp.utcfromtimestamp(ts).tz_localize(None). To get the future behavior, use Timestamp.fromtimestamp(ts, 'UTC')\n",
      "  setattr(model, attribute, pd.Timestamp.utcfromtimestamp(model_dict[attribute]).tz_localize(None))\n"
     ]
    },
    {
     "name": "stdout",
     "output_type": "stream",
     "text": [
      "0.0\n",
      "2022-03-23 00:00:00 [0, 0, 0, 0, 0, 0, 0, 0, 0, 0] [0, 0, 0, 0, 0, 0, 0, 0, 0, 0]\n",
      "[0, 0, 0, 0, 0, 0, 0, 0, 0, 0] [0, 0, 0]\n",
      "--------- Batch id: 21 ---------\n"
     ]
    },
    {
     "name": "stderr",
     "output_type": "stream",
     "text": [
      "c:\\Users\\Branko\\miniconda3\\lib\\site-packages\\prophet\\serialize.py:160: FutureWarning: The behavior of Timestamp.utcfromtimestamp is deprecated, in a future version will return a timezone-aware Timestamp with UTC timezone. To keep the old behavior, use Timestamp.utcfromtimestamp(ts).tz_localize(None). To get the future behavior, use Timestamp.fromtimestamp(ts, 'UTC')\n",
      "  setattr(model, attribute, pd.Timestamp.utcfromtimestamp(model_dict[attribute]).tz_localize(None))\n"
     ]
    },
    {
     "name": "stdout",
     "output_type": "stream",
     "text": [
      "0.0\n",
      "2022-03-23 00:00:00 [0, 1, 0, 0, 0, 1, 1, 0, 0, 0] [0, 0, 0, 0, 0, 0, 0, 0, 0, 0]\n",
      "[0, 0, 0, 0, 0, 0, 0, 0, 0, 0] [0, 0, 0]\n",
      "--------- Batch id: 22 ---------\n"
     ]
    },
    {
     "name": "stderr",
     "output_type": "stream",
     "text": [
      "c:\\Users\\Branko\\miniconda3\\lib\\site-packages\\prophet\\serialize.py:160: FutureWarning: The behavior of Timestamp.utcfromtimestamp is deprecated, in a future version will return a timezone-aware Timestamp with UTC timezone. To keep the old behavior, use Timestamp.utcfromtimestamp(ts).tz_localize(None). To get the future behavior, use Timestamp.fromtimestamp(ts, 'UTC')\n",
      "  setattr(model, attribute, pd.Timestamp.utcfromtimestamp(model_dict[attribute]).tz_localize(None))\n"
     ]
    },
    {
     "name": "stdout",
     "output_type": "stream",
     "text": [
      "0.0\n",
      "2022-04-06 00:00:00 [0, 0, 0, 0, 0, 0, 0, 0, 0, 0] [3.177304905972173, 5.771575001784408, 8.226093273866, 10.459388916794857, 12.397046912189351, 13.974161736196768, 15.137488687451363, 15.847222275471895, 16.078342911364405, 15.82148685821233]\n",
      "[0, 0, 0, 0, 0, 0, 0, 0, 0, 0] [0, 0, 0]\n",
      "--------- Batch id: 23 ---------\n"
     ]
    },
    {
     "name": "stderr",
     "output_type": "stream",
     "text": [
      "c:\\Users\\Branko\\miniconda3\\lib\\site-packages\\prophet\\serialize.py:160: FutureWarning: The behavior of Timestamp.utcfromtimestamp is deprecated, in a future version will return a timezone-aware Timestamp with UTC timezone. To keep the old behavior, use Timestamp.utcfromtimestamp(ts).tz_localize(None). To get the future behavior, use Timestamp.fromtimestamp(ts, 'UTC')\n",
      "  setattr(model, attribute, pd.Timestamp.utcfromtimestamp(model_dict[attribute]).tz_localize(None))\n"
     ]
    },
    {
     "name": "stdout",
     "output_type": "stream",
     "text": [
      "0.0\n",
      "2022-04-06 00:00:00 [0, 0, 0, 0, 0, 0, 0, 0, 0, 0] [3.177304905972173, 5.771575001784408, 8.226093273866, 10.459388916794857, 12.397046912189351, 13.974161736196768, 15.137488687451363, 15.847222275471895, 16.078342911364405, 15.82148685821233]\n",
      "[0, 0, 0, 0, 0, 0, 0, 0, 0, 0] [0, 0, 0]\n",
      "--------- Batch id: 24 ---------\n"
     ]
    },
    {
     "name": "stderr",
     "output_type": "stream",
     "text": [
      "c:\\Users\\Branko\\miniconda3\\lib\\site-packages\\prophet\\serialize.py:160: FutureWarning: The behavior of Timestamp.utcfromtimestamp is deprecated, in a future version will return a timezone-aware Timestamp with UTC timezone. To keep the old behavior, use Timestamp.utcfromtimestamp(ts).tz_localize(None). To get the future behavior, use Timestamp.fromtimestamp(ts, 'UTC')\n",
      "  setattr(model, attribute, pd.Timestamp.utcfromtimestamp(model_dict[attribute]).tz_localize(None))\n"
     ]
    },
    {
     "name": "stdout",
     "output_type": "stream",
     "text": [
      "0.0\n",
      "2022-04-06 00:00:00 [0, 0, 0, 0, 0, 0, 0, 0, 0, 0] [3.177304905972173, 5.771575001784408, 8.226093273866, 10.459388916794857, 12.397046912189351, 13.974161736196768, 15.137488687451363, 15.847222275471895, 16.078342911364405, 15.82148685821233]\n",
      "[0, 0, 0, 0, 0, 0, 0, 0, 0, 0] [0, 0, 0]\n",
      "--------- Batch id: 25 ---------\n"
     ]
    },
    {
     "name": "stderr",
     "output_type": "stream",
     "text": [
      "c:\\Users\\Branko\\miniconda3\\lib\\site-packages\\prophet\\serialize.py:160: FutureWarning: The behavior of Timestamp.utcfromtimestamp is deprecated, in a future version will return a timezone-aware Timestamp with UTC timezone. To keep the old behavior, use Timestamp.utcfromtimestamp(ts).tz_localize(None). To get the future behavior, use Timestamp.fromtimestamp(ts, 'UTC')\n",
      "  setattr(model, attribute, pd.Timestamp.utcfromtimestamp(model_dict[attribute]).tz_localize(None))\n"
     ]
    },
    {
     "name": "stdout",
     "output_type": "stream",
     "text": [
      "0.0\n",
      "2022-04-06 00:00:00 [0, 0, 0, 0, 0, 0, 0, 0, 0, 0] [3.177304905972173, 5.771575001784408, 8.226093273866, 10.459388916794857, 12.397046912189351, 13.974161736196768, 15.137488687451363, 15.847222275471895, 16.078342911364405, 15.82148685821233]\n",
      "[0, 0, 0, 0, 0, 0, 0, 0, 0, 0] [0, 0, 0]\n",
      "--------- Batch id: 26 ---------\n"
     ]
    },
    {
     "name": "stderr",
     "output_type": "stream",
     "text": [
      "c:\\Users\\Branko\\miniconda3\\lib\\site-packages\\prophet\\serialize.py:160: FutureWarning: The behavior of Timestamp.utcfromtimestamp is deprecated, in a future version will return a timezone-aware Timestamp with UTC timezone. To keep the old behavior, use Timestamp.utcfromtimestamp(ts).tz_localize(None). To get the future behavior, use Timestamp.fromtimestamp(ts, 'UTC')\n",
      "  setattr(model, attribute, pd.Timestamp.utcfromtimestamp(model_dict[attribute]).tz_localize(None))\n"
     ]
    },
    {
     "name": "stdout",
     "output_type": "stream",
     "text": [
      "0.0\n",
      "2022-04-06 00:00:00 [0, 0, 0, 0, 0, 0, 0, 0, 0, 0] [3.177304905972173, 5.771575001784408, 8.226093273866, 10.459388916794857, 12.397046912189351, 13.974161736196768, 15.137488687451363, 15.847222275471895, 16.078342911364405, 15.82148685821233]\n",
      "[0, 0, 0, 0, 0, 0, 0, 0, 0, 0] [0, 0, 0]\n",
      "--------- Batch id: 27 ---------\n"
     ]
    },
    {
     "name": "stderr",
     "output_type": "stream",
     "text": [
      "c:\\Users\\Branko\\miniconda3\\lib\\site-packages\\prophet\\serialize.py:160: FutureWarning: The behavior of Timestamp.utcfromtimestamp is deprecated, in a future version will return a timezone-aware Timestamp with UTC timezone. To keep the old behavior, use Timestamp.utcfromtimestamp(ts).tz_localize(None). To get the future behavior, use Timestamp.fromtimestamp(ts, 'UTC')\n",
      "  setattr(model, attribute, pd.Timestamp.utcfromtimestamp(model_dict[attribute]).tz_localize(None))\n"
     ]
    },
    {
     "name": "stdout",
     "output_type": "stream",
     "text": [
      "0.0\n",
      "2022-04-06 00:00:00 [0, 0, 0, 0, 0, 0, 0, 0, 0, 0] [3.177304905972173, 5.771575001784408, 8.226093273866, 10.459388916794857, 12.397046912189351, 13.974161736196768, 15.137488687451363, 15.847222275471895, 16.078342911364405, 15.82148685821233]\n",
      "[0, 0, 0, 0, 0, 0, 0, 0, 0, 0] [0, 0, 0]\n",
      "--------- Batch id: 28 ---------\n"
     ]
    },
    {
     "name": "stderr",
     "output_type": "stream",
     "text": [
      "c:\\Users\\Branko\\miniconda3\\lib\\site-packages\\prophet\\serialize.py:160: FutureWarning: The behavior of Timestamp.utcfromtimestamp is deprecated, in a future version will return a timezone-aware Timestamp with UTC timezone. To keep the old behavior, use Timestamp.utcfromtimestamp(ts).tz_localize(None). To get the future behavior, use Timestamp.fromtimestamp(ts, 'UTC')\n",
      "  setattr(model, attribute, pd.Timestamp.utcfromtimestamp(model_dict[attribute]).tz_localize(None))\n"
     ]
    },
    {
     "name": "stdout",
     "output_type": "stream",
     "text": [
      "0.0\n",
      "2022-04-06 00:00:00 [0, 0, 0, 0, 0, 0, 0, 0, 0, 0] [3.177304905972173, 5.771575001784408, 8.226093273866, 10.459388916794857, 12.397046912189351, 13.974161736196768, 15.137488687451363, 15.847222275471895, 16.078342911364405, 15.82148685821233]\n",
      "[0, 0, 0, 0, 0, 0, 0, 0, 0, 0] [0, 0, 0]\n",
      "--------- Batch id: 29 ---------\n"
     ]
    },
    {
     "name": "stderr",
     "output_type": "stream",
     "text": [
      "c:\\Users\\Branko\\miniconda3\\lib\\site-packages\\prophet\\serialize.py:160: FutureWarning: The behavior of Timestamp.utcfromtimestamp is deprecated, in a future version will return a timezone-aware Timestamp with UTC timezone. To keep the old behavior, use Timestamp.utcfromtimestamp(ts).tz_localize(None). To get the future behavior, use Timestamp.fromtimestamp(ts, 'UTC')\n",
      "  setattr(model, attribute, pd.Timestamp.utcfromtimestamp(model_dict[attribute]).tz_localize(None))\n"
     ]
    },
    {
     "name": "stdout",
     "output_type": "stream",
     "text": [
      "0.0\n",
      "2022-04-20 00:00:00 [0, 0, 0, 0, 0, 0, 0, 0, 0, 0] [7.988084440122616, 5.4645518168604434, 2.792603263696206, 0.05993051092389073, 0.0, 0.0, 0.0, 0.0, 0.0, 0.0]\n",
      "[0, 0, 0, 0, 0, 0, 0, 0, 0, 0] [0, 0, 0]\n",
      "--------- Batch id: 30 ---------\n"
     ]
    },
    {
     "name": "stderr",
     "output_type": "stream",
     "text": [
      "c:\\Users\\Branko\\miniconda3\\lib\\site-packages\\prophet\\serialize.py:160: FutureWarning: The behavior of Timestamp.utcfromtimestamp is deprecated, in a future version will return a timezone-aware Timestamp with UTC timezone. To keep the old behavior, use Timestamp.utcfromtimestamp(ts).tz_localize(None). To get the future behavior, use Timestamp.fromtimestamp(ts, 'UTC')\n",
      "  setattr(model, attribute, pd.Timestamp.utcfromtimestamp(model_dict[attribute]).tz_localize(None))\n"
     ]
    },
    {
     "name": "stdout",
     "output_type": "stream",
     "text": [
      "0.0\n",
      "2022-04-20 00:00:00 [0, 0, 0, 0, 0, 0, 0, 0, 0, 0] [7.988084440122616, 5.4645518168604434, 2.792603263696206, 0.05993051092389073, 0.0, 0.0, 0.0, 0.0, 0.0, 0.0]\n",
      "[0, 0, 0, 0, 0, 0, 0, 0, 0, 0] [0, 0, 0]\n",
      "--------- Batch id: 31 ---------\n"
     ]
    },
    {
     "name": "stderr",
     "output_type": "stream",
     "text": [
      "c:\\Users\\Branko\\miniconda3\\lib\\site-packages\\prophet\\serialize.py:160: FutureWarning: The behavior of Timestamp.utcfromtimestamp is deprecated, in a future version will return a timezone-aware Timestamp with UTC timezone. To keep the old behavior, use Timestamp.utcfromtimestamp(ts).tz_localize(None). To get the future behavior, use Timestamp.fromtimestamp(ts, 'UTC')\n",
      "  setattr(model, attribute, pd.Timestamp.utcfromtimestamp(model_dict[attribute]).tz_localize(None))\n"
     ]
    },
    {
     "name": "stdout",
     "output_type": "stream",
     "text": [
      "0.0\n",
      "2022-04-20 00:00:00 [0, 0, 0, 0, 0, 0, 0, 0, 0, 0] [7.988084440122616, 5.4645518168604434, 2.792603263696206, 0.05993051092389073, 0.0, 0.0, 0.0, 0.0, 0.0, 0.0]\n",
      "[0, 0, 0, 0, 0, 0, 0, 0, 0, 0] [0, 0, 0]\n",
      "--------- Batch id: 32 ---------\n"
     ]
    },
    {
     "name": "stderr",
     "output_type": "stream",
     "text": [
      "c:\\Users\\Branko\\miniconda3\\lib\\site-packages\\prophet\\serialize.py:160: FutureWarning: The behavior of Timestamp.utcfromtimestamp is deprecated, in a future version will return a timezone-aware Timestamp with UTC timezone. To keep the old behavior, use Timestamp.utcfromtimestamp(ts).tz_localize(None). To get the future behavior, use Timestamp.fromtimestamp(ts, 'UTC')\n",
      "  setattr(model, attribute, pd.Timestamp.utcfromtimestamp(model_dict[attribute]).tz_localize(None))\n"
     ]
    },
    {
     "name": "stdout",
     "output_type": "stream",
     "text": [
      "0.0\n",
      "2022-04-20 00:00:00 [0, 0, 0, 0, 0, 0, 0, 0, 0, 0] [7.988084440122616, 5.4645518168604434, 2.792603263696206, 0.05993051092389073, 0.0, 0.0, 0.0, 0.0, 0.0, 0.0]\n",
      "[0, 0, 0, 0, 0, 0, 0, 0, 0, 0] [0, 0, 0]\n",
      "--------- Batch id: 33 ---------\n"
     ]
    },
    {
     "name": "stderr",
     "output_type": "stream",
     "text": [
      "c:\\Users\\Branko\\miniconda3\\lib\\site-packages\\prophet\\serialize.py:160: FutureWarning: The behavior of Timestamp.utcfromtimestamp is deprecated, in a future version will return a timezone-aware Timestamp with UTC timezone. To keep the old behavior, use Timestamp.utcfromtimestamp(ts).tz_localize(None). To get the future behavior, use Timestamp.fromtimestamp(ts, 'UTC')\n",
      "  setattr(model, attribute, pd.Timestamp.utcfromtimestamp(model_dict[attribute]).tz_localize(None))\n"
     ]
    },
    {
     "name": "stdout",
     "output_type": "stream",
     "text": [
      "0.0\n",
      "2022-04-20 00:00:00 [0, 0, 0, 0, 0, 0, 0, 0, 0, 0] [7.988084440122616, 5.4645518168604434, 2.792603263696206, 0.05993051092389073, 0.0, 0.0, 0.0, 0.0, 0.0, 0.0]\n",
      "[0, 0, 0, 0, 0, 0, 0, 0, 0, 0] [0, 0, 0]\n",
      "--------- Batch id: 34 ---------\n"
     ]
    },
    {
     "name": "stderr",
     "output_type": "stream",
     "text": [
      "c:\\Users\\Branko\\miniconda3\\lib\\site-packages\\prophet\\serialize.py:160: FutureWarning: The behavior of Timestamp.utcfromtimestamp is deprecated, in a future version will return a timezone-aware Timestamp with UTC timezone. To keep the old behavior, use Timestamp.utcfromtimestamp(ts).tz_localize(None). To get the future behavior, use Timestamp.fromtimestamp(ts, 'UTC')\n",
      "  setattr(model, attribute, pd.Timestamp.utcfromtimestamp(model_dict[attribute]).tz_localize(None))\n"
     ]
    },
    {
     "name": "stdout",
     "output_type": "stream",
     "text": [
      "0.0\n",
      "2022-04-20 00:00:00 [0, 0, 0, 0, 0, 0, 0, 0, 0, 0] [7.988084440122616, 5.4645518168604434, 2.792603263696206, 0.05993051092389073, 0.0, 0.0, 0.0, 0.0, 0.0, 0.0]\n",
      "[0, 0, 0, 0, 0, 0, 0, 0, 0, 0] [0, 0, 0]\n",
      "--------- Batch id: 35 ---------\n"
     ]
    },
    {
     "name": "stderr",
     "output_type": "stream",
     "text": [
      "c:\\Users\\Branko\\miniconda3\\lib\\site-packages\\prophet\\serialize.py:160: FutureWarning: The behavior of Timestamp.utcfromtimestamp is deprecated, in a future version will return a timezone-aware Timestamp with UTC timezone. To keep the old behavior, use Timestamp.utcfromtimestamp(ts).tz_localize(None). To get the future behavior, use Timestamp.fromtimestamp(ts, 'UTC')\n",
      "  setattr(model, attribute, pd.Timestamp.utcfromtimestamp(model_dict[attribute]).tz_localize(None))\n"
     ]
    },
    {
     "name": "stdout",
     "output_type": "stream",
     "text": [
      "0.0\n",
      "2022-04-20 00:00:00 [0, 0, 0, 0, 0, 0, 0, 0, 0, 0] [7.988084440122616, 5.4645518168604434, 2.792603263696206, 0.05993051092389073, 0.0, 0.0, 0.0, 0.0, 0.0, 0.0]\n",
      "[0, 0, 0, 0, 0, 0, 0, 0, 0, 0] [0, 0, 0]\n",
      "--------- Batch id: 36 ---------\n"
     ]
    },
    {
     "name": "stderr",
     "output_type": "stream",
     "text": [
      "c:\\Users\\Branko\\miniconda3\\lib\\site-packages\\prophet\\serialize.py:160: FutureWarning: The behavior of Timestamp.utcfromtimestamp is deprecated, in a future version will return a timezone-aware Timestamp with UTC timezone. To keep the old behavior, use Timestamp.utcfromtimestamp(ts).tz_localize(None). To get the future behavior, use Timestamp.fromtimestamp(ts, 'UTC')\n",
      "  setattr(model, attribute, pd.Timestamp.utcfromtimestamp(model_dict[attribute]).tz_localize(None))\n"
     ]
    },
    {
     "name": "stdout",
     "output_type": "stream",
     "text": [
      "0.0\n",
      "2022-05-18 00:00:00 [0, 0, 0, 0, 0, 0, 0, 0, 0, 0] [17.74438078231492, 17.716055493759875, 17.139676970188642, 16.028907001202324, 14.41526089161857, 12.347266721818437, 9.889059748941824, 7.118451270580367, 4.1245286377312445, 1.004858856727737]\n",
      "[0, 0, 0, 0, 0, 0, 0, 0, 0, 0] [0, 0, 0]\n",
      "--------- Batch id: 37 ---------\n"
     ]
    },
    {
     "name": "stderr",
     "output_type": "stream",
     "text": [
      "c:\\Users\\Branko\\miniconda3\\lib\\site-packages\\prophet\\serialize.py:160: FutureWarning: The behavior of Timestamp.utcfromtimestamp is deprecated, in a future version will return a timezone-aware Timestamp with UTC timezone. To keep the old behavior, use Timestamp.utcfromtimestamp(ts).tz_localize(None). To get the future behavior, use Timestamp.fromtimestamp(ts, 'UTC')\n",
      "  setattr(model, attribute, pd.Timestamp.utcfromtimestamp(model_dict[attribute]).tz_localize(None))\n"
     ]
    },
    {
     "name": "stdout",
     "output_type": "stream",
     "text": [
      "0.0\n",
      "2022-05-18 00:00:00 [0, 0, 0, 0, 0, 0, 0, 0, 0, 0] [17.74438078231492, 17.716055493759875, 17.139676970188642, 16.028907001202324, 14.41526089161857, 12.347266721818437, 9.889059748941824, 7.118451270580367, 4.1245286377312445, 1.004858856727737]\n",
      "[0, 0, 0, 0, 0, 0, 0, 0, 0, 0] [0, 0, 0]\n",
      "--------- Batch id: 38 ---------\n"
     ]
    },
    {
     "name": "stderr",
     "output_type": "stream",
     "text": [
      "c:\\Users\\Branko\\miniconda3\\lib\\site-packages\\prophet\\serialize.py:160: FutureWarning: The behavior of Timestamp.utcfromtimestamp is deprecated, in a future version will return a timezone-aware Timestamp with UTC timezone. To keep the old behavior, use Timestamp.utcfromtimestamp(ts).tz_localize(None). To get the future behavior, use Timestamp.fromtimestamp(ts, 'UTC')\n",
      "  setattr(model, attribute, pd.Timestamp.utcfromtimestamp(model_dict[attribute]).tz_localize(None))\n"
     ]
    },
    {
     "name": "stdout",
     "output_type": "stream",
     "text": [
      "0.0\n",
      "2022-05-18 00:00:00 [0, 0, 0, 0, 0, 0, 0, 0, 0, 0] [17.74438078231492, 17.716055493759875, 17.139676970188642, 16.028907001202324, 14.41526089161857, 12.347266721818437, 9.889059748941824, 7.118451270580367, 4.1245286377312445, 1.004858856727737]\n",
      "[0, 0, 0, 0, 0, 0, 0, 0, 0, 0] [0, 0, 0]\n",
      "--------- Batch id: 39 ---------\n"
     ]
    },
    {
     "name": "stderr",
     "output_type": "stream",
     "text": [
      "c:\\Users\\Branko\\miniconda3\\lib\\site-packages\\prophet\\serialize.py:160: FutureWarning: The behavior of Timestamp.utcfromtimestamp is deprecated, in a future version will return a timezone-aware Timestamp with UTC timezone. To keep the old behavior, use Timestamp.utcfromtimestamp(ts).tz_localize(None). To get the future behavior, use Timestamp.fromtimestamp(ts, 'UTC')\n",
      "  setattr(model, attribute, pd.Timestamp.utcfromtimestamp(model_dict[attribute]).tz_localize(None))\n"
     ]
    },
    {
     "name": "stdout",
     "output_type": "stream",
     "text": [
      "0.0\n",
      "2022-05-18 00:00:00 [0, 0, 0, 0, 0, 0, 0, 0, 0, 0] [17.74438078231492, 17.716055493759875, 17.139676970188642, 16.028907001202324, 14.41526089161857, 12.347266721818437, 9.889059748941824, 7.118451270580367, 4.1245286377312445, 1.004858856727737]\n",
      "[0, 0, 0, 0, 0, 0, 0, 0, 0, 0] [0, 0, 0]\n",
      "--------- Batch id: 40 ---------\n"
     ]
    },
    {
     "name": "stderr",
     "output_type": "stream",
     "text": [
      "c:\\Users\\Branko\\miniconda3\\lib\\site-packages\\prophet\\serialize.py:160: FutureWarning: The behavior of Timestamp.utcfromtimestamp is deprecated, in a future version will return a timezone-aware Timestamp with UTC timezone. To keep the old behavior, use Timestamp.utcfromtimestamp(ts).tz_localize(None). To get the future behavior, use Timestamp.fromtimestamp(ts, 'UTC')\n",
      "  setattr(model, attribute, pd.Timestamp.utcfromtimestamp(model_dict[attribute]).tz_localize(None))\n"
     ]
    },
    {
     "name": "stdout",
     "output_type": "stream",
     "text": [
      "0.0\n",
      "2022-05-18 00:00:00 [0, 0, 0, 0, 0, 0, 0, 0, 0, 0] [17.74438078231492, 17.716055493759875, 17.139676970188642, 16.028907001202324, 14.41526089161857, 12.347266721818437, 9.889059748941824, 7.118451270580367, 4.1245286377312445, 1.004858856727737]\n",
      "[0, 0, 0, 0, 0, 0, 0, 0, 0, 0] [0, 0, 0]\n",
      "--------- Batch id: 41 ---------\n"
     ]
    },
    {
     "name": "stderr",
     "output_type": "stream",
     "text": [
      "c:\\Users\\Branko\\miniconda3\\lib\\site-packages\\prophet\\serialize.py:160: FutureWarning: The behavior of Timestamp.utcfromtimestamp is deprecated, in a future version will return a timezone-aware Timestamp with UTC timezone. To keep the old behavior, use Timestamp.utcfromtimestamp(ts).tz_localize(None). To get the future behavior, use Timestamp.fromtimestamp(ts, 'UTC')\n",
      "  setattr(model, attribute, pd.Timestamp.utcfromtimestamp(model_dict[attribute]).tz_localize(None))\n"
     ]
    },
    {
     "name": "stdout",
     "output_type": "stream",
     "text": [
      "0.0\n",
      "2022-05-18 00:00:00 [0, 0, 0, 0, 0, 0, 0, 0, 0, 0] [17.74438078231492, 17.716055493759875, 17.139676970188642, 16.028907001202324, 14.41526089161857, 12.347266721818437, 9.889059748941824, 7.118451270580367, 4.1245286377312445, 1.004858856727737]\n",
      "[0, 0, 0, 0, 0, 0, 0, 0, 0, 0] [0, 0, 0]\n",
      "--------- Batch id: 42 ---------\n"
     ]
    },
    {
     "name": "stderr",
     "output_type": "stream",
     "text": [
      "c:\\Users\\Branko\\miniconda3\\lib\\site-packages\\prophet\\serialize.py:160: FutureWarning: The behavior of Timestamp.utcfromtimestamp is deprecated, in a future version will return a timezone-aware Timestamp with UTC timezone. To keep the old behavior, use Timestamp.utcfromtimestamp(ts).tz_localize(None). To get the future behavior, use Timestamp.fromtimestamp(ts, 'UTC')\n",
      "  setattr(model, attribute, pd.Timestamp.utcfromtimestamp(model_dict[attribute]).tz_localize(None))\n"
     ]
    },
    {
     "name": "stdout",
     "output_type": "stream",
     "text": [
      "0.0\n",
      "2022-05-18 00:00:00 [0, 0, 0, 0, 0, 0, 0, 0, 0, 0] [17.74438078231492, 17.716055493759875, 17.139676970188642, 16.028907001202324, 14.41526089161857, 12.347266721818437, 9.889059748941824, 7.118451270580367, 4.1245286377312445, 1.004858856727737]\n",
      "[0, 0, 0, 0, 0, 0, 0, 0, 0, 0] [0, 0, 0]\n",
      "--------- Batch id: 43 ---------\n"
     ]
    },
    {
     "name": "stderr",
     "output_type": "stream",
     "text": [
      "c:\\Users\\Branko\\miniconda3\\lib\\site-packages\\prophet\\serialize.py:160: FutureWarning: The behavior of Timestamp.utcfromtimestamp is deprecated, in a future version will return a timezone-aware Timestamp with UTC timezone. To keep the old behavior, use Timestamp.utcfromtimestamp(ts).tz_localize(None). To get the future behavior, use Timestamp.fromtimestamp(ts, 'UTC')\n",
      "  setattr(model, attribute, pd.Timestamp.utcfromtimestamp(model_dict[attribute]).tz_localize(None))\n"
     ]
    },
    {
     "name": "stdout",
     "output_type": "stream",
     "text": [
      "0.0\n",
      "2022-06-01 00:00:00 [0, 0, 0, 0, 1, 0, 0, 0, 0, 0] [0, 0, 0, 0, 0, 0, 0, 0, 0, 0]\n",
      "[0, 0, 0, 0, 0, 0, 0, 0, 0, 0] [0, 0, 0]\n",
      "--------- Batch id: 44 ---------\n"
     ]
    },
    {
     "name": "stderr",
     "output_type": "stream",
     "text": [
      "c:\\Users\\Branko\\miniconda3\\lib\\site-packages\\prophet\\serialize.py:160: FutureWarning: The behavior of Timestamp.utcfromtimestamp is deprecated, in a future version will return a timezone-aware Timestamp with UTC timezone. To keep the old behavior, use Timestamp.utcfromtimestamp(ts).tz_localize(None). To get the future behavior, use Timestamp.fromtimestamp(ts, 'UTC')\n",
      "  setattr(model, attribute, pd.Timestamp.utcfromtimestamp(model_dict[attribute]).tz_localize(None))\n"
     ]
    },
    {
     "name": "stdout",
     "output_type": "stream",
     "text": [
      "0.0\n",
      "2022-06-01 00:00:00 [0, 0, 0, 0, 0, 0, 0, 0, 1, 2] [0, 0, 0, 0, 0, 0, 0, 0, 0, 0]\n",
      "[0, 0, 0, 0, 0, 0, 0, 0, 0, 0] [0, 0, 0]\n",
      "--------- Batch id: 45 ---------\n"
     ]
    },
    {
     "name": "stderr",
     "output_type": "stream",
     "text": [
      "c:\\Users\\Branko\\miniconda3\\lib\\site-packages\\prophet\\serialize.py:160: FutureWarning: The behavior of Timestamp.utcfromtimestamp is deprecated, in a future version will return a timezone-aware Timestamp with UTC timezone. To keep the old behavior, use Timestamp.utcfromtimestamp(ts).tz_localize(None). To get the future behavior, use Timestamp.fromtimestamp(ts, 'UTC')\n",
      "  setattr(model, attribute, pd.Timestamp.utcfromtimestamp(model_dict[attribute]).tz_localize(None))\n"
     ]
    },
    {
     "name": "stdout",
     "output_type": "stream",
     "text": [
      "0.0\n",
      "2022-06-01 00:00:00 [0, 0, 0, 0, 0, 0, 0, 0, 0, 0] [0, 0, 0, 0, 0, 0, 0, 0, 0, 0]\n",
      "[0, 0, 0, 0, 0, 0, 0, 0, 0, 0] [0, 0, 0]\n",
      "--------- Batch id: 46 ---------\n"
     ]
    },
    {
     "name": "stderr",
     "output_type": "stream",
     "text": [
      "c:\\Users\\Branko\\miniconda3\\lib\\site-packages\\prophet\\serialize.py:160: FutureWarning: The behavior of Timestamp.utcfromtimestamp is deprecated, in a future version will return a timezone-aware Timestamp with UTC timezone. To keep the old behavior, use Timestamp.utcfromtimestamp(ts).tz_localize(None). To get the future behavior, use Timestamp.fromtimestamp(ts, 'UTC')\n",
      "  setattr(model, attribute, pd.Timestamp.utcfromtimestamp(model_dict[attribute]).tz_localize(None))\n"
     ]
    },
    {
     "name": "stdout",
     "output_type": "stream",
     "text": [
      "0.0\n",
      "2022-06-01 00:00:00 [0, 0, 0, 0, 0, 0, 0, 0, 0, 0] [0, 0, 0, 0, 0, 0, 0, 0, 0, 0]\n",
      "[0, 0, 0, 0, 0, 0, 0, 0, 0, 0] [0, 0, 0]\n",
      "--------- Batch id: 47 ---------\n"
     ]
    },
    {
     "name": "stderr",
     "output_type": "stream",
     "text": [
      "c:\\Users\\Branko\\miniconda3\\lib\\site-packages\\prophet\\serialize.py:160: FutureWarning: The behavior of Timestamp.utcfromtimestamp is deprecated, in a future version will return a timezone-aware Timestamp with UTC timezone. To keep the old behavior, use Timestamp.utcfromtimestamp(ts).tz_localize(None). To get the future behavior, use Timestamp.fromtimestamp(ts, 'UTC')\n",
      "  setattr(model, attribute, pd.Timestamp.utcfromtimestamp(model_dict[attribute]).tz_localize(None))\n"
     ]
    },
    {
     "name": "stdout",
     "output_type": "stream",
     "text": [
      "0.0\n",
      "2022-06-01 00:00:00 [0, 0, 0, 0, 0, 0, 0, 0, 0, 0] [0, 0, 0, 0, 0, 0, 0, 0, 0, 0]\n",
      "[0, 0, 0, 0, 0, 0, 0, 0, 0, 0] [0, 0, 0]\n",
      "--------- Batch id: 48 ---------\n"
     ]
    },
    {
     "name": "stderr",
     "output_type": "stream",
     "text": [
      "c:\\Users\\Branko\\miniconda3\\lib\\site-packages\\prophet\\serialize.py:160: FutureWarning: The behavior of Timestamp.utcfromtimestamp is deprecated, in a future version will return a timezone-aware Timestamp with UTC timezone. To keep the old behavior, use Timestamp.utcfromtimestamp(ts).tz_localize(None). To get the future behavior, use Timestamp.fromtimestamp(ts, 'UTC')\n",
      "  setattr(model, attribute, pd.Timestamp.utcfromtimestamp(model_dict[attribute]).tz_localize(None))\n"
     ]
    },
    {
     "name": "stdout",
     "output_type": "stream",
     "text": [
      "0.0\n",
      "2022-06-01 00:00:00 [0, 0, 0, 0, 0, 0, 0, 0, 0, 0] [0, 0, 0, 0, 0, 0, 0, 0, 0, 0]\n",
      "[0, 0, 0, 0, 0, 0, 0, 0, 0, 0] [0, 0, 0]\n",
      "--------- Batch id: 49 ---------\n"
     ]
    },
    {
     "name": "stderr",
     "output_type": "stream",
     "text": [
      "c:\\Users\\Branko\\miniconda3\\lib\\site-packages\\prophet\\serialize.py:160: FutureWarning: The behavior of Timestamp.utcfromtimestamp is deprecated, in a future version will return a timezone-aware Timestamp with UTC timezone. To keep the old behavior, use Timestamp.utcfromtimestamp(ts).tz_localize(None). To get the future behavior, use Timestamp.fromtimestamp(ts, 'UTC')\n",
      "  setattr(model, attribute, pd.Timestamp.utcfromtimestamp(model_dict[attribute]).tz_localize(None))\n"
     ]
    },
    {
     "name": "stdout",
     "output_type": "stream",
     "text": [
      "0.0\n",
      "2022-06-01 00:00:00 [0, 0, 0, 0, 0, 0, 0, 0, 0, 0] [0, 0, 0, 0, 0, 0, 0, 0, 0, 0]\n",
      "[0, 0, 0, 0, 0, 0, 0, 0, 0, 0] [0, 0, 0]\n",
      "--------- Batch id: 50 ---------\n"
     ]
    },
    {
     "name": "stderr",
     "output_type": "stream",
     "text": [
      "c:\\Users\\Branko\\miniconda3\\lib\\site-packages\\prophet\\serialize.py:160: FutureWarning: The behavior of Timestamp.utcfromtimestamp is deprecated, in a future version will return a timezone-aware Timestamp with UTC timezone. To keep the old behavior, use Timestamp.utcfromtimestamp(ts).tz_localize(None). To get the future behavior, use Timestamp.fromtimestamp(ts, 'UTC')\n",
      "  setattr(model, attribute, pd.Timestamp.utcfromtimestamp(model_dict[attribute]).tz_localize(None))\n"
     ]
    },
    {
     "name": "stdout",
     "output_type": "stream",
     "text": [
      "0.0\n",
      "2022-06-15 00:00:00 [0, 0, 0, 0, 0, 0, 0, 0, 0, 0] [8.910760032275734, 12.283591043245936, 15.366971009638407, 18.054844757331626, 20.252754369164972, 21.88120349110761, 22.87859338388631, 23.203626486095384, 22.837088245070266, 21.782936090818797]\n",
      "[0, 0, 0, 0, 0, 0, 0, 0, 0, 0] [0, 0, 0]\n",
      "--------- Batch id: 51 ---------\n"
     ]
    },
    {
     "name": "stderr",
     "output_type": "stream",
     "text": [
      "c:\\Users\\Branko\\miniconda3\\lib\\site-packages\\prophet\\serialize.py:160: FutureWarning: The behavior of Timestamp.utcfromtimestamp is deprecated, in a future version will return a timezone-aware Timestamp with UTC timezone. To keep the old behavior, use Timestamp.utcfromtimestamp(ts).tz_localize(None). To get the future behavior, use Timestamp.fromtimestamp(ts, 'UTC')\n",
      "  setattr(model, attribute, pd.Timestamp.utcfromtimestamp(model_dict[attribute]).tz_localize(None))\n"
     ]
    },
    {
     "name": "stdout",
     "output_type": "stream",
     "text": [
      "0.043096711654070245\n",
      "2022-06-15 00:00:00 [0, 1, 0, 0, 1, 0, 0, 0, 1, 0] [8.910760032275734, 12.283591043245936, 15.366971009638407, 18.054844757331626, 20.252754369164972, 21.88120349110761, 22.87859338388631, 23.203626486095384, 22.837088245070266, 21.782936090818797]\n",
      "[0, 0, 0, 0, 0, 0, 0, 1, 0, 0] [0.8648926137362247, 0.7647418022521874, 0.6414432984098837]\n",
      "--------- Batch id: 52 ---------\n"
     ]
    },
    {
     "name": "stderr",
     "output_type": "stream",
     "text": [
      "c:\\Users\\Branko\\miniconda3\\lib\\site-packages\\prophet\\serialize.py:160: FutureWarning: The behavior of Timestamp.utcfromtimestamp is deprecated, in a future version will return a timezone-aware Timestamp with UTC timezone. To keep the old behavior, use Timestamp.utcfromtimestamp(ts).tz_localize(None). To get the future behavior, use Timestamp.fromtimestamp(ts, 'UTC')\n",
      "  setattr(model, attribute, pd.Timestamp.utcfromtimestamp(model_dict[attribute]).tz_localize(None))\n"
     ]
    },
    {
     "name": "stdout",
     "output_type": "stream",
     "text": [
      "0.0\n",
      "2022-06-15 00:00:00 [0, 0, 0, 0, 0, 0, 0, 0, 0, 0] [8.910760032275734, 12.283591043245936, 15.366971009638407, 18.054844757331626, 20.252754369164972, 21.88120349110761, 22.87859338388631, 23.203626486095384, 22.837088245070266, 21.782936090818797]\n",
      "[0, 0, 0, 0, 0, 0, 0, 0, 0, 0] [0, 0, 0]\n",
      "--------- Batch id: 53 ---------\n"
     ]
    },
    {
     "name": "stderr",
     "output_type": "stream",
     "text": [
      "c:\\Users\\Branko\\miniconda3\\lib\\site-packages\\prophet\\serialize.py:160: FutureWarning: The behavior of Timestamp.utcfromtimestamp is deprecated, in a future version will return a timezone-aware Timestamp with UTC timezone. To keep the old behavior, use Timestamp.utcfromtimestamp(ts).tz_localize(None). To get the future behavior, use Timestamp.fromtimestamp(ts, 'UTC')\n",
      "  setattr(model, attribute, pd.Timestamp.utcfromtimestamp(model_dict[attribute]).tz_localize(None))\n"
     ]
    },
    {
     "name": "stdout",
     "output_type": "stream",
     "text": [
      "0.0\n",
      "2022-06-15 00:00:00 [0, 0, 0, 0, 0, 0, 0, 0, 0, 0] [8.910760032275734, 12.283591043245936, 15.366971009638407, 18.054844757331626, 20.252754369164972, 21.88120349110761, 22.87859338388631, 23.203626486095384, 22.837088245070266, 21.782936090818797]\n",
      "[0, 0, 0, 0, 0, 0, 0, 0, 0, 0] [0, 0, 0]\n",
      "--------- Batch id: 54 ---------\n"
     ]
    },
    {
     "name": "stderr",
     "output_type": "stream",
     "text": [
      "c:\\Users\\Branko\\miniconda3\\lib\\site-packages\\prophet\\serialize.py:160: FutureWarning: The behavior of Timestamp.utcfromtimestamp is deprecated, in a future version will return a timezone-aware Timestamp with UTC timezone. To keep the old behavior, use Timestamp.utcfromtimestamp(ts).tz_localize(None). To get the future behavior, use Timestamp.fromtimestamp(ts, 'UTC')\n",
      "  setattr(model, attribute, pd.Timestamp.utcfromtimestamp(model_dict[attribute]).tz_localize(None))\n"
     ]
    },
    {
     "name": "stdout",
     "output_type": "stream",
     "text": [
      "0.0\n",
      "2022-06-15 00:00:00 [0, 0, 0, 0, 0, 0, 0, 0, 0, 0] [8.910760032275734, 12.283591043245936, 15.366971009638407, 18.054844757331626, 20.252754369164972, 21.88120349110761, 22.87859338388631, 23.203626486095384, 22.837088245070266, 21.782936090818797]\n",
      "[0, 0, 0, 0, 0, 0, 0, 0, 0, 0] [0, 0, 0]\n",
      "--------- Batch id: 55 ---------\n"
     ]
    },
    {
     "name": "stderr",
     "output_type": "stream",
     "text": [
      "c:\\Users\\Branko\\miniconda3\\lib\\site-packages\\prophet\\serialize.py:160: FutureWarning: The behavior of Timestamp.utcfromtimestamp is deprecated, in a future version will return a timezone-aware Timestamp with UTC timezone. To keep the old behavior, use Timestamp.utcfromtimestamp(ts).tz_localize(None). To get the future behavior, use Timestamp.fromtimestamp(ts, 'UTC')\n",
      "  setattr(model, attribute, pd.Timestamp.utcfromtimestamp(model_dict[attribute]).tz_localize(None))\n"
     ]
    },
    {
     "name": "stdout",
     "output_type": "stream",
     "text": [
      "0.0\n",
      "2022-06-15 00:00:00 [0, 0, 0, 0, 0, 0, 0, 0, 0, 0] [8.910760032275734, 12.283591043245936, 15.366971009638407, 18.054844757331626, 20.252754369164972, 21.88120349110761, 22.87859338388631, 23.203626486095384, 22.837088245070266, 21.782936090818797]\n",
      "[0, 0, 0, 0, 0, 0, 0, 0, 0, 0] [0, 0, 0]\n",
      "--------- Batch id: 56 ---------\n"
     ]
    },
    {
     "name": "stderr",
     "output_type": "stream",
     "text": [
      "c:\\Users\\Branko\\miniconda3\\lib\\site-packages\\prophet\\serialize.py:160: FutureWarning: The behavior of Timestamp.utcfromtimestamp is deprecated, in a future version will return a timezone-aware Timestamp with UTC timezone. To keep the old behavior, use Timestamp.utcfromtimestamp(ts).tz_localize(None). To get the future behavior, use Timestamp.fromtimestamp(ts, 'UTC')\n",
      "  setattr(model, attribute, pd.Timestamp.utcfromtimestamp(model_dict[attribute]).tz_localize(None))\n"
     ]
    },
    {
     "name": "stdout",
     "output_type": "stream",
     "text": [
      "0.043096711654070245\n",
      "2022-06-15 00:00:00 [0, 0, 0, 0, 0, 0, 0, 0, 1, 0] [8.910760032275734, 12.283591043245936, 15.366971009638407, 18.054844757331626, 20.252754369164972, 21.88120349110761, 22.87859338388631, 23.203626486095384, 22.837088245070266, 21.782936090818797]\n",
      "[0, 0, 0, 0, 0, 0, 0, 1, 0, 0] [0.8648926137362247, 0.7647418022521874, 0.6414432984098837]\n",
      "--------- Batch id: 57 ---------\n"
     ]
    },
    {
     "name": "stderr",
     "output_type": "stream",
     "text": [
      "c:\\Users\\Branko\\miniconda3\\lib\\site-packages\\prophet\\serialize.py:160: FutureWarning: The behavior of Timestamp.utcfromtimestamp is deprecated, in a future version will return a timezone-aware Timestamp with UTC timezone. To keep the old behavior, use Timestamp.utcfromtimestamp(ts).tz_localize(None). To get the future behavior, use Timestamp.fromtimestamp(ts, 'UTC')\n",
      "  setattr(model, attribute, pd.Timestamp.utcfromtimestamp(model_dict[attribute]).tz_localize(None))\n"
     ]
    },
    {
     "name": "stdout",
     "output_type": "stream",
     "text": [
      "0.12598554033263845\n",
      "2022-06-29 00:00:00 [1, 0, 0, 0, 0, 0, 0, 0, 1, 0] [7.937418828856941, 4.085344637657009, 0.15570946769725053, 0.0, 0.0, 0.0, 0.0, 0.0, 0.0, 0.0]\n",
      "[1, 0, 0, 0, 0, 0, 0, 0, 0, 0] [0, 0, 0]\n",
      "--------- Batch id: 58 ---------\n"
     ]
    },
    {
     "name": "stderr",
     "output_type": "stream",
     "text": [
      "c:\\Users\\Branko\\miniconda3\\lib\\site-packages\\prophet\\serialize.py:160: FutureWarning: The behavior of Timestamp.utcfromtimestamp is deprecated, in a future version will return a timezone-aware Timestamp with UTC timezone. To keep the old behavior, use Timestamp.utcfromtimestamp(ts).tz_localize(None). To get the future behavior, use Timestamp.fromtimestamp(ts, 'UTC')\n",
      "  setattr(model, attribute, pd.Timestamp.utcfromtimestamp(model_dict[attribute]).tz_localize(None))\n"
     ]
    },
    {
     "name": "stdout",
     "output_type": "stream",
     "text": [
      "0.7559132419958308\n",
      "2022-06-29 00:00:00 [0, 0, 0, 0, 1, 1, 1, 6, 6, 6] [7.937418828856941, 4.085344637657009, 0.15570946769725053, 0.0, 0.0, 0.0, 0.0, 0.0, 0.0, 0.0]\n",
      "[6, 3, 0, 0, 0, 0, 0, 0, 0, 0] [0, 0, 0]\n",
      "--------- Batch id: 59 ---------\n"
     ]
    },
    {
     "name": "stderr",
     "output_type": "stream",
     "text": [
      "c:\\Users\\Branko\\miniconda3\\lib\\site-packages\\prophet\\serialize.py:160: FutureWarning: The behavior of Timestamp.utcfromtimestamp is deprecated, in a future version will return a timezone-aware Timestamp with UTC timezone. To keep the old behavior, use Timestamp.utcfromtimestamp(ts).tz_localize(None). To get the future behavior, use Timestamp.fromtimestamp(ts, 'UTC')\n",
      "  setattr(model, attribute, pd.Timestamp.utcfromtimestamp(model_dict[attribute]).tz_localize(None))\n"
     ]
    },
    {
     "name": "stdout",
     "output_type": "stream",
     "text": [
      "0.0\n",
      "2022-06-29 00:00:00 [0, 0, 0, 0, 0, 0, 0, 0, 0, 0] [7.937418828856941, 4.085344637657009, 0.15570946769725053, 0.0, 0.0, 0.0, 0.0, 0.0, 0.0, 0.0]\n",
      "[0, 0, 0, 0, 0, 0, 0, 0, 0, 0] [0, 0, 0]\n",
      "--------- Batch id: 60 ---------\n"
     ]
    },
    {
     "name": "stderr",
     "output_type": "stream",
     "text": [
      "c:\\Users\\Branko\\miniconda3\\lib\\site-packages\\prophet\\serialize.py:160: FutureWarning: The behavior of Timestamp.utcfromtimestamp is deprecated, in a future version will return a timezone-aware Timestamp with UTC timezone. To keep the old behavior, use Timestamp.utcfromtimestamp(ts).tz_localize(None). To get the future behavior, use Timestamp.fromtimestamp(ts, 'UTC')\n",
      "  setattr(model, attribute, pd.Timestamp.utcfromtimestamp(model_dict[attribute]).tz_localize(None))\n"
     ]
    },
    {
     "name": "stdout",
     "output_type": "stream",
     "text": [
      "0.0\n",
      "2022-06-29 00:00:00 [0, 0, 0, 0, 0, 0, 0, 0, 0, 0] [7.937418828856941, 4.085344637657009, 0.15570946769725053, 0.0, 0.0, 0.0, 0.0, 0.0, 0.0, 0.0]\n",
      "[0, 0, 0, 0, 0, 0, 0, 0, 0, 0] [0, 0, 0]\n",
      "--------- Batch id: 61 ---------\n"
     ]
    },
    {
     "name": "stderr",
     "output_type": "stream",
     "text": [
      "c:\\Users\\Branko\\miniconda3\\lib\\site-packages\\prophet\\serialize.py:160: FutureWarning: The behavior of Timestamp.utcfromtimestamp is deprecated, in a future version will return a timezone-aware Timestamp with UTC timezone. To keep the old behavior, use Timestamp.utcfromtimestamp(ts).tz_localize(None). To get the future behavior, use Timestamp.fromtimestamp(ts, 'UTC')\n",
      "  setattr(model, attribute, pd.Timestamp.utcfromtimestamp(model_dict[attribute]).tz_localize(None))\n"
     ]
    },
    {
     "name": "stdout",
     "output_type": "stream",
     "text": [
      "0.0\n",
      "2022-06-29 00:00:00 [0, 0, 0, 0, 0, 0, 0, 0, 0, 0] [7.937418828856941, 4.085344637657009, 0.15570946769725053, 0.0, 0.0, 0.0, 0.0, 0.0, 0.0, 0.0]\n",
      "[0, 0, 0, 0, 0, 0, 0, 0, 0, 0] [0, 0, 0]\n",
      "--------- Batch id: 62 ---------\n"
     ]
    },
    {
     "name": "stderr",
     "output_type": "stream",
     "text": [
      "c:\\Users\\Branko\\miniconda3\\lib\\site-packages\\prophet\\serialize.py:160: FutureWarning: The behavior of Timestamp.utcfromtimestamp is deprecated, in a future version will return a timezone-aware Timestamp with UTC timezone. To keep the old behavior, use Timestamp.utcfromtimestamp(ts).tz_localize(None). To get the future behavior, use Timestamp.fromtimestamp(ts, 'UTC')\n",
      "  setattr(model, attribute, pd.Timestamp.utcfromtimestamp(model_dict[attribute]).tz_localize(None))\n"
     ]
    },
    {
     "name": "stdout",
     "output_type": "stream",
     "text": [
      "0.0\n",
      "2022-06-29 00:00:00 [0, 0, 0, 0, 0, 0, 0, 0, 0, 0] [7.937418828856941, 4.085344637657009, 0.15570946769725053, 0.0, 0.0, 0.0, 0.0, 0.0, 0.0, 0.0]\n",
      "[0, 0, 0, 0, 0, 0, 0, 0, 0, 0] [0, 0, 0]\n",
      "--------- Batch id: 63 ---------\n"
     ]
    },
    {
     "name": "stderr",
     "output_type": "stream",
     "text": [
      "c:\\Users\\Branko\\miniconda3\\lib\\site-packages\\prophet\\serialize.py:160: FutureWarning: The behavior of Timestamp.utcfromtimestamp is deprecated, in a future version will return a timezone-aware Timestamp with UTC timezone. To keep the old behavior, use Timestamp.utcfromtimestamp(ts).tz_localize(None). To get the future behavior, use Timestamp.fromtimestamp(ts, 'UTC')\n",
      "  setattr(model, attribute, pd.Timestamp.utcfromtimestamp(model_dict[attribute]).tz_localize(None))\n"
     ]
    },
    {
     "name": "stdout",
     "output_type": "stream",
     "text": [
      "0.12598554033263845\n",
      "2022-06-29 00:00:00 [0, 0, 0, 0, 0, 0, 0, 0, 0, 1] [7.937418828856941, 4.085344637657009, 0.15570946769725053, 0.0, 0.0, 0.0, 0.0, 0.0, 0.0, 0.0]\n",
      "[1, 0, 0, 0, 0, 0, 0, 0, 0, 0] [0, 0, 0]\n",
      "--------- Batch id: 64 ---------\n"
     ]
    },
    {
     "name": "stderr",
     "output_type": "stream",
     "text": [
      "c:\\Users\\Branko\\miniconda3\\lib\\site-packages\\prophet\\serialize.py:160: FutureWarning: The behavior of Timestamp.utcfromtimestamp is deprecated, in a future version will return a timezone-aware Timestamp with UTC timezone. To keep the old behavior, use Timestamp.utcfromtimestamp(ts).tz_localize(None). To get the future behavior, use Timestamp.fromtimestamp(ts, 'UTC')\n",
      "  setattr(model, attribute, pd.Timestamp.utcfromtimestamp(model_dict[attribute]).tz_localize(None))\n"
     ]
    },
    {
     "name": "stdout",
     "output_type": "stream",
     "text": [
      "0.054295362508411035\n",
      "2022-07-27 00:00:00 [0, 0, 0, 0, 0, 0, 0, 1, 0, 2] [36.835558463951216, 34.814407976213815, 31.850390089065446, 28.073652266471463, 23.664672558726583, 18.853108241091363, 13.91519352726669, 9.169692428153917, 4.972452275229258, 1.7096427349720458]\n",
      "[1, 1, 1, 1, 1, 1, 0, 0, 0, 0] [0, 0, 0.09068880591821749]\n",
      "--------- Batch id: 65 ---------\n"
     ]
    },
    {
     "name": "stderr",
     "output_type": "stream",
     "text": [
      "c:\\Users\\Branko\\miniconda3\\lib\\site-packages\\prophet\\serialize.py:160: FutureWarning: The behavior of Timestamp.utcfromtimestamp is deprecated, in a future version will return a timezone-aware Timestamp with UTC timezone. To keep the old behavior, use Timestamp.utcfromtimestamp(ts).tz_localize(None). To get the future behavior, use Timestamp.fromtimestamp(ts, 'UTC')\n",
      "  setattr(model, attribute, pd.Timestamp.utcfromtimestamp(model_dict[attribute]).tz_localize(None))\n"
     ]
    },
    {
     "name": "stdout",
     "output_type": "stream",
     "text": [
      "0.10859072501682207\n",
      "2022-07-27 00:00:00 [0, 1, 1, 0, 0, 1, 1, 2, 4, 4] [36.835558463951216, 34.814407976213815, 31.850390089065446, 28.073652266471463, 23.664672558726583, 18.853108241091363, 13.91519352726669, 9.169692428153917, 4.972452275229258, 1.7096427349720458]\n",
      "[3, 3, 3, 3, 2, 2, 1, 0, 0, 0] [0, 0, 0.18137761183643497]\n",
      "--------- Batch id: 66 ---------\n"
     ]
    },
    {
     "name": "stderr",
     "output_type": "stream",
     "text": [
      "c:\\Users\\Branko\\miniconda3\\lib\\site-packages\\prophet\\serialize.py:160: FutureWarning: The behavior of Timestamp.utcfromtimestamp is deprecated, in a future version will return a timezone-aware Timestamp with UTC timezone. To keep the old behavior, use Timestamp.utcfromtimestamp(ts).tz_localize(None). To get the future behavior, use Timestamp.fromtimestamp(ts, 'UTC')\n",
      "  setattr(model, attribute, pd.Timestamp.utcfromtimestamp(model_dict[attribute]).tz_localize(None))\n"
     ]
    },
    {
     "name": "stdout",
     "output_type": "stream",
     "text": [
      "0.10859072501682207\n",
      "2022-07-27 00:00:00 [3, 2, 4, 2, 1, 2, 1, 0, 0, 0] [36.835558463951216, 34.814407976213815, 31.850390089065446, 28.073652266471463, 23.664672558726583, 18.853108241091363, 13.91519352726669, 9.169692428153917, 4.972452275229258, 1.7096427349720458]\n",
      "[3, 3, 3, 3, 2, 2, 1, 0, 0, 0] [0, 0, 0.18137761183643497]\n",
      "--------- Batch id: 67 ---------\n"
     ]
    },
    {
     "name": "stderr",
     "output_type": "stream",
     "text": [
      "c:\\Users\\Branko\\miniconda3\\lib\\site-packages\\prophet\\serialize.py:160: FutureWarning: The behavior of Timestamp.utcfromtimestamp is deprecated, in a future version will return a timezone-aware Timestamp with UTC timezone. To keep the old behavior, use Timestamp.utcfromtimestamp(ts).tz_localize(None). To get the future behavior, use Timestamp.fromtimestamp(ts, 'UTC')\n",
      "  setattr(model, attribute, pd.Timestamp.utcfromtimestamp(model_dict[attribute]).tz_localize(None))\n"
     ]
    },
    {
     "name": "stdout",
     "output_type": "stream",
     "text": [
      "1.03161188765981\n",
      "2022-07-27 00:00:00 [3, 2, 3, 3, 1, 2, 2, 12, 21, 38] [36.835558463951216, 34.814407976213815, 31.850390089065446, 28.073652266471463, 23.664672558726583, 18.853108241091363, 13.91519352726669, 9.169692428153917, 4.972452275229258, 1.7096427349720458]\n",
      "[38, 35, 32, 28, 24, 19, 14, 9, 5, 1] [0, 0, 1.7230873124461328]\n",
      "--------- Batch id: 68 ---------\n"
     ]
    },
    {
     "name": "stderr",
     "output_type": "stream",
     "text": [
      "c:\\Users\\Branko\\miniconda3\\lib\\site-packages\\prophet\\serialize.py:160: FutureWarning: The behavior of Timestamp.utcfromtimestamp is deprecated, in a future version will return a timezone-aware Timestamp with UTC timezone. To keep the old behavior, use Timestamp.utcfromtimestamp(ts).tz_localize(None). To get the future behavior, use Timestamp.fromtimestamp(ts, 'UTC')\n",
      "  setattr(model, attribute, pd.Timestamp.utcfromtimestamp(model_dict[attribute]).tz_localize(None))\n"
     ]
    },
    {
     "name": "stdout",
     "output_type": "stream",
     "text": [
      "0.21718145003364414\n",
      "2022-07-27 00:00:00 [0, 0, 3, 0, 0, 0, 8, 0, 0, 0] [36.835558463951216, 34.814407976213815, 31.850390089065446, 28.073652266471463, 23.664672558726583, 18.853108241091363, 13.91519352726669, 9.169692428153917, 4.972452275229258, 1.7096427349720458]\n",
      "[7, 7, 6, 6, 5, 4, 3, 1, 1, 0] [0, 0, 0.36275522367286994]\n",
      "--------- Batch id: 69 ---------\n"
     ]
    },
    {
     "name": "stderr",
     "output_type": "stream",
     "text": [
      "c:\\Users\\Branko\\miniconda3\\lib\\site-packages\\prophet\\serialize.py:160: FutureWarning: The behavior of Timestamp.utcfromtimestamp is deprecated, in a future version will return a timezone-aware Timestamp with UTC timezone. To keep the old behavior, use Timestamp.utcfromtimestamp(ts).tz_localize(None). To get the future behavior, use Timestamp.fromtimestamp(ts, 'UTC')\n",
      "  setattr(model, attribute, pd.Timestamp.utcfromtimestamp(model_dict[attribute]).tz_localize(None))\n"
     ]
    },
    {
     "name": "stdout",
     "output_type": "stream",
     "text": [
      "0.10859072501682207\n",
      "2022-07-27 00:00:00 [1, 0, 0, 1, 0, 1, 2, 1, 4, 4] [36.835558463951216, 34.814407976213815, 31.850390089065446, 28.073652266471463, 23.664672558726583, 18.853108241091363, 13.91519352726669, 9.169692428153917, 4.972452275229258, 1.7096427349720458]\n",
      "[3, 3, 3, 3, 2, 2, 1, 0, 0, 0] [0, 0, 0.18137761183643497]\n",
      "--------- Batch id: 70 ---------\n"
     ]
    },
    {
     "name": "stderr",
     "output_type": "stream",
     "text": [
      "c:\\Users\\Branko\\miniconda3\\lib\\site-packages\\prophet\\serialize.py:160: FutureWarning: The behavior of Timestamp.utcfromtimestamp is deprecated, in a future version will return a timezone-aware Timestamp with UTC timezone. To keep the old behavior, use Timestamp.utcfromtimestamp(ts).tz_localize(None). To get the future behavior, use Timestamp.fromtimestamp(ts, 'UTC')\n",
      "  setattr(model, attribute, pd.Timestamp.utcfromtimestamp(model_dict[attribute]).tz_localize(None))\n"
     ]
    },
    {
     "name": "stdout",
     "output_type": "stream",
     "text": [
      "0.054295362508411035\n",
      "2022-07-27 00:00:00 [1, 1, 1, 1, 1, 2, 1, 1, 1, 0] [36.835558463951216, 34.814407976213815, 31.850390089065446, 28.073652266471463, 23.664672558726583, 18.853108241091363, 13.91519352726669, 9.169692428153917, 4.972452275229258, 1.7096427349720458]\n",
      "[1, 1, 1, 1, 1, 1, 0, 0, 0, 0] [0, 0, 0.09068880591821749]\n",
      "--------- Batch id: 71 ---------\n"
     ]
    },
    {
     "name": "stderr",
     "output_type": "stream",
     "text": [
      "c:\\Users\\Branko\\miniconda3\\lib\\site-packages\\prophet\\serialize.py:160: FutureWarning: The behavior of Timestamp.utcfromtimestamp is deprecated, in a future version will return a timezone-aware Timestamp with UTC timezone. To keep the old behavior, use Timestamp.utcfromtimestamp(ts).tz_localize(None). To get the future behavior, use Timestamp.fromtimestamp(ts, 'UTC')\n",
      "  setattr(model, attribute, pd.Timestamp.utcfromtimestamp(model_dict[attribute]).tz_localize(None))\n"
     ]
    },
    {
     "name": "stdout",
     "output_type": "stream",
     "text": [
      "0.2058681637348286\n",
      "2022-08-10 00:00:00 [1, 0, 6, 1, 1, 17, 31, 14, 14, 54] [13.968903006248368, 25.00515785586659, 39.756176837405434, 58.504857604689285, 81.47459086889918, 108.82055027857027, 140.6221886061345, 176.87716183359913, 217.49687294929336, 262.30379200134826]\n",
      "[2, 5, 8, 12, 16, 22, 28, 36, 44, 53] [64.03131270128033, 74.79637390116746, 86.20436267510524]\n",
      "--------- Batch id: 72 ---------\n"
     ]
    },
    {
     "name": "stderr",
     "output_type": "stream",
     "text": [
      "c:\\Users\\Branko\\miniconda3\\lib\\site-packages\\prophet\\serialize.py:160: FutureWarning: The behavior of Timestamp.utcfromtimestamp is deprecated, in a future version will return a timezone-aware Timestamp with UTC timezone. To keep the old behavior, use Timestamp.utcfromtimestamp(ts).tz_localize(None). To get the future behavior, use Timestamp.fromtimestamp(ts, 'UTC')\n",
      "  setattr(model, attribute, pd.Timestamp.utcfromtimestamp(model_dict[attribute]).tz_localize(None))\n"
     ]
    },
    {
     "name": "stdout",
     "output_type": "stream",
     "text": [
      "0.13724544248988574\n",
      "2022-08-10 00:00:00 [1, 5, 6, 8, 16, 10, 36, 7, 25, 9] [13.968903006248368, 25.00515785586659, 39.756176837405434, 58.504857604689285, 81.47459086889918, 108.82055027857027, 140.6221886061345, 176.87716183359913, 217.49687294929336, 262.30379200134826]\n",
      "[1, 3, 5, 8, 11, 14, 19, 24, 29, 35] [42.68754180085355, 49.864249267444976, 57.46957511673683]\n",
      "--------- Batch id: 73 ---------\n"
     ]
    },
    {
     "name": "stderr",
     "output_type": "stream",
     "text": [
      "c:\\Users\\Branko\\miniconda3\\lib\\site-packages\\prophet\\serialize.py:160: FutureWarning: The behavior of Timestamp.utcfromtimestamp is deprecated, in a future version will return a timezone-aware Timestamp with UTC timezone. To keep the old behavior, use Timestamp.utcfromtimestamp(ts).tz_localize(None). To get the future behavior, use Timestamp.fromtimestamp(ts, 'UTC')\n",
      "  setattr(model, attribute, pd.Timestamp.utcfromtimestamp(model_dict[attribute]).tz_localize(None))\n"
     ]
    },
    {
     "name": "stdout",
     "output_type": "stream",
     "text": [
      "0.19061867012484135\n",
      "2022-08-10 00:00:00 [2, 1, 10, 0, 1, 4, 8, 10, 24, 50] [13.968903006248368, 25.00515785586659, 39.756176837405434, 58.504857604689285, 81.47459086889918, 108.82055027857027, 140.6221886061345, 176.87716183359913, 217.49687294929336, 262.30379200134826]\n",
      "[2, 4, 7, 11, 15, 20, 26, 33, 41, 50] [59.288252501185504, 69.25590176034025, 79.81885432880117]\n",
      "--------- Batch id: 74 ---------\n"
     ]
    },
    {
     "name": "stderr",
     "output_type": "stream",
     "text": [
      "c:\\Users\\Branko\\miniconda3\\lib\\site-packages\\prophet\\serialize.py:160: FutureWarning: The behavior of Timestamp.utcfromtimestamp is deprecated, in a future version will return a timezone-aware Timestamp with UTC timezone. To keep the old behavior, use Timestamp.utcfromtimestamp(ts).tz_localize(None). To get the future behavior, use Timestamp.fromtimestamp(ts, 'UTC')\n",
      "  setattr(model, attribute, pd.Timestamp.utcfromtimestamp(model_dict[attribute]).tz_localize(None))\n"
     ]
    },
    {
     "name": "stdout",
     "output_type": "stream",
     "text": [
      "0.40029920726216683\n",
      "2022-08-10 00:00:00 [105, 92, 65, 62, 95, 87, 101, 42, 40, 36] [13.968903006248368, 25.00515785586659, 39.756176837405434, 58.504857604689285, 81.47459086889918, 108.82055027857027, 140.6221886061345, 176.87716183359913, 217.49687294929336, 262.30379200134826]\n",
      "[5, 10, 15, 23, 32, 43, 56, 70, 87, 105] [124.50533025248956, 145.43739369671454, 167.61959409048245]\n",
      "--------- Batch id: 75 ---------\n"
     ]
    },
    {
     "name": "stderr",
     "output_type": "stream",
     "text": [
      "c:\\Users\\Branko\\miniconda3\\lib\\site-packages\\prophet\\serialize.py:160: FutureWarning: The behavior of Timestamp.utcfromtimestamp is deprecated, in a future version will return a timezone-aware Timestamp with UTC timezone. To keep the old behavior, use Timestamp.utcfromtimestamp(ts).tz_localize(None). To get the future behavior, use Timestamp.fromtimestamp(ts, 'UTC')\n",
      "  setattr(model, attribute, pd.Timestamp.utcfromtimestamp(model_dict[attribute]).tz_localize(None))\n"
     ]
    },
    {
     "name": "stdout",
     "output_type": "stream",
     "text": [
      "0.06862272124494287\n",
      "2022-08-10 00:00:00 [3, 8, 3, 0, 3, 8, 5, 5, 18, 3] [13.968903006248368, 25.00515785586659, 39.756176837405434, 58.504857604689285, 81.47459086889918, 108.82055027857027, 140.6221886061345, 176.87716183359913, 217.49687294929336, 262.30379200134826]\n",
      "[0, 1, 2, 4, 5, 7, 9, 12, 14, 17] [21.343770900426776, 24.932124633722488, 28.734787558368414]\n",
      "--------- Batch id: 76 ---------\n"
     ]
    },
    {
     "name": "stderr",
     "output_type": "stream",
     "text": [
      "c:\\Users\\Branko\\miniconda3\\lib\\site-packages\\prophet\\serialize.py:160: FutureWarning: The behavior of Timestamp.utcfromtimestamp is deprecated, in a future version will return a timezone-aware Timestamp with UTC timezone. To keep the old behavior, use Timestamp.utcfromtimestamp(ts).tz_localize(None). To get the future behavior, use Timestamp.fromtimestamp(ts, 'UTC')\n",
      "  setattr(model, attribute, pd.Timestamp.utcfromtimestamp(model_dict[attribute]).tz_localize(None))\n"
     ]
    },
    {
     "name": "stdout",
     "output_type": "stream",
     "text": [
      "0.175369176514854\n",
      "2022-08-10 00:00:00 [3, 3, 3, 9, 11, 14, 46, 14, 19, 36] [13.968903006248368, 25.00515785586659, 39.756176837405434, 58.504857604689285, 81.47459086889918, 108.82055027857027, 140.6221886061345, 176.87716183359913, 217.49687294929336, 262.30379200134826]\n",
      "[2, 4, 6, 10, 14, 19, 24, 31, 38, 45] [54.54519230109065, 63.715429619513024, 73.43334598249706]\n",
      "--------- Batch id: 77 ---------\n"
     ]
    },
    {
     "name": "stderr",
     "output_type": "stream",
     "text": [
      "c:\\Users\\Branko\\miniconda3\\lib\\site-packages\\prophet\\serialize.py:160: FutureWarning: The behavior of Timestamp.utcfromtimestamp is deprecated, in a future version will return a timezone-aware Timestamp with UTC timezone. To keep the old behavior, use Timestamp.utcfromtimestamp(ts).tz_localize(None). To get the future behavior, use Timestamp.fromtimestamp(ts, 'UTC')\n",
      "  setattr(model, attribute, pd.Timestamp.utcfromtimestamp(model_dict[attribute]).tz_localize(None))\n"
     ]
    },
    {
     "name": "stdout",
     "output_type": "stream",
     "text": [
      "0.053373227634955576\n",
      "2022-08-10 00:00:00 [1, 3, 0, 9, 9, 10, 9, 7, 1, 14] [13.968903006248368, 25.00515785586659, 39.756176837405434, 58.504857604689285, 81.47459086889918, 108.82055027857027, 140.6221886061345, 176.87716183359913, 217.49687294929336, 262.30379200134826]\n",
      "[0, 1, 2, 3, 4, 5, 7, 9, 11, 14] [16.60071070033194, 19.391652492895272, 22.349279212064324]\n",
      "--------- Batch id: 78 ---------\n"
     ]
    },
    {
     "name": "stderr",
     "output_type": "stream",
     "text": [
      "c:\\Users\\Branko\\miniconda3\\lib\\site-packages\\prophet\\serialize.py:160: FutureWarning: The behavior of Timestamp.utcfromtimestamp is deprecated, in a future version will return a timezone-aware Timestamp with UTC timezone. To keep the old behavior, use Timestamp.utcfromtimestamp(ts).tz_localize(None). To get the future behavior, use Timestamp.fromtimestamp(ts, 'UTC')\n",
      "  setattr(model, attribute, pd.Timestamp.utcfromtimestamp(model_dict[attribute]).tz_localize(None))\n"
     ]
    },
    {
     "name": "stdout",
     "output_type": "stream",
     "text": [
      "0.10508847917424864\n",
      "2022-08-24 00:00:00 [61, 67, 109, 29, 2, 18, 0, 110, 13, 77] [536.7741560115505, 598.1450190696642, 660.1512226659403, 722.0379640834924, 783.021505674799, 842.3031564212068, 899.0838702820275, 952.5791462368692, 1002.0339039081942, 1046.737005467626]\n",
      "[56, 62, 69, 75, 82, 88, 94, 100, 105, 110] [114.12977691543874, 117.63031348973115, 120.4490129289555]\n",
      "--------- Batch id: 79 ---------\n"
     ]
    },
    {
     "name": "stderr",
     "output_type": "stream",
     "text": [
      "c:\\Users\\Branko\\miniconda3\\lib\\site-packages\\prophet\\serialize.py:160: FutureWarning: The behavior of Timestamp.utcfromtimestamp is deprecated, in a future version will return a timezone-aware Timestamp with UTC timezone. To keep the old behavior, use Timestamp.utcfromtimestamp(ts).tz_localize(None). To get the future behavior, use Timestamp.fromtimestamp(ts, 'UTC')\n",
      "  setattr(model, attribute, pd.Timestamp.utcfromtimestamp(model_dict[attribute]).tz_localize(None))\n"
     ]
    },
    {
     "name": "stdout",
     "output_type": "stream",
     "text": [
      "0.1241954753877484\n",
      "2022-08-24 00:00:00 [10, 106, 49, 66, 71, 22, 16, 118, 130, 92] [536.7741560115505, 598.1450190696642, 660.1512226659403, 722.0379640834924, 783.021505674799, 842.3031564212068, 899.0838702820275, 952.5791462368692, 1002.0339039081942, 1046.737005467626]\n",
      "[66, 74, 81, 89, 97, 104, 111, 118, 124, 130] [134.88064544551852, 139.01764321513681, 142.34883346149286]\n",
      "--------- Batch id: 80 ---------\n"
     ]
    },
    {
     "name": "stderr",
     "output_type": "stream",
     "text": [
      "c:\\Users\\Branko\\miniconda3\\lib\\site-packages\\prophet\\serialize.py:160: FutureWarning: The behavior of Timestamp.utcfromtimestamp is deprecated, in a future version will return a timezone-aware Timestamp with UTC timezone. To keep the old behavior, use Timestamp.utcfromtimestamp(ts).tz_localize(None). To get the future behavior, use Timestamp.fromtimestamp(ts, 'UTC')\n",
      "  setattr(model, attribute, pd.Timestamp.utcfromtimestamp(model_dict[attribute]).tz_localize(None))\n"
     ]
    },
    {
     "name": "stdout",
     "output_type": "stream",
     "text": [
      "0.08407078333939891\n",
      "2022-08-24 00:00:00 [40, 48, 68, 12, 4, 8, 0, 52, 88, 74] [536.7741560115505, 598.1450190696642, 660.1512226659403, 722.0379640834924, 783.021505674799, 842.3031564212068, 899.0838702820275, 952.5791462368692, 1002.0339039081942, 1046.737005467626]\n",
      "[45, 50, 55, 60, 65, 70, 75, 80, 84, 88] [91.303821532351, 94.10425079178492, 96.35921034316439]\n",
      "--------- Batch id: 81 ---------\n"
     ]
    },
    {
     "name": "stderr",
     "output_type": "stream",
     "text": [
      "c:\\Users\\Branko\\miniconda3\\lib\\site-packages\\prophet\\serialize.py:160: FutureWarning: The behavior of Timestamp.utcfromtimestamp is deprecated, in a future version will return a timezone-aware Timestamp with UTC timezone. To keep the old behavior, use Timestamp.utcfromtimestamp(ts).tz_localize(None). To get the future behavior, use Timestamp.fromtimestamp(ts, 'UTC')\n",
      "  setattr(model, attribute, pd.Timestamp.utcfromtimestamp(model_dict[attribute]).tz_localize(None))\n"
     ]
    },
    {
     "name": "stdout",
     "output_type": "stream",
     "text": [
      "0.08789218258209887\n",
      "2022-08-24 00:00:00 [35, 38, 50, 32, 42, 35, 22, 45, 51, 92] [536.7741560115505, 598.1450190696642, 660.1512226659403, 722.0379640834924, 783.021505674799, 842.3031564212068, 899.0838702820275, 952.5791462368692, 1002.0339039081942, 1046.737005467626]\n",
      "[47, 52, 58, 63, 68, 74, 79, 83, 88, 92] [95.45399523836696, 98.38171673686607, 100.73917444967188]\n",
      "--------- Batch id: 82 ---------\n"
     ]
    },
    {
     "name": "stderr",
     "output_type": "stream",
     "text": [
      "c:\\Users\\Branko\\miniconda3\\lib\\site-packages\\prophet\\serialize.py:160: FutureWarning: The behavior of Timestamp.utcfromtimestamp is deprecated, in a future version will return a timezone-aware Timestamp with UTC timezone. To keep the old behavior, use Timestamp.utcfromtimestamp(ts).tz_localize(None). To get the future behavior, use Timestamp.fromtimestamp(ts, 'UTC')\n",
      "  setattr(model, attribute, pd.Timestamp.utcfromtimestamp(model_dict[attribute]).tz_localize(None))\n"
     ]
    },
    {
     "name": "stdout",
     "output_type": "stream",
     "text": [
      "0.1241954753877484\n",
      "2022-08-24 00:00:00 [5, 3, 21, 30, 130, 26, 25, 4, 8, 36] [536.7741560115505, 598.1450190696642, 660.1512226659403, 722.0379640834924, 783.021505674799, 842.3031564212068, 899.0838702820275, 952.5791462368692, 1002.0339039081942, 1046.737005467626]\n",
      "[66, 74, 81, 89, 97, 104, 111, 118, 124, 130] [134.88064544551852, 139.01764321513681, 142.34883346149286]\n",
      "--------- Batch id: 83 ---------\n"
     ]
    },
    {
     "name": "stderr",
     "output_type": "stream",
     "text": [
      "c:\\Users\\Branko\\miniconda3\\lib\\site-packages\\prophet\\serialize.py:160: FutureWarning: The behavior of Timestamp.utcfromtimestamp is deprecated, in a future version will return a timezone-aware Timestamp with UTC timezone. To keep the old behavior, use Timestamp.utcfromtimestamp(ts).tz_localize(None). To get the future behavior, use Timestamp.fromtimestamp(ts, 'UTC')\n",
      "  setattr(model, attribute, pd.Timestamp.utcfromtimestamp(model_dict[attribute]).tz_localize(None))\n"
     ]
    },
    {
     "name": "stdout",
     "output_type": "stream",
     "text": [
      "0.1824718138389226\n",
      "2022-08-24 00:00:00 [60, 75, 96, 93, 191, 190, 49, 56, 38, 76] [536.7741560115505, 598.1450190696642, 660.1512226659403, 722.0379640834924, 783.021505674799, 842.3031564212068, 899.0838702820275, 952.5791462368692, 1002.0339039081942, 1046.737005467626]\n",
      "[97, 109, 120, 131, 142, 153, 164, 173, 182, 190] [198.1707944622618, 204.24899887762405, 209.14328608573177]\n",
      "--------- Batch id: 84 ---------\n"
     ]
    },
    {
     "name": "stderr",
     "output_type": "stream",
     "text": [
      "c:\\Users\\Branko\\miniconda3\\lib\\site-packages\\prophet\\serialize.py:160: FutureWarning: The behavior of Timestamp.utcfromtimestamp is deprecated, in a future version will return a timezone-aware Timestamp with UTC timezone. To keep the old behavior, use Timestamp.utcfromtimestamp(ts).tz_localize(None). To get the future behavior, use Timestamp.fromtimestamp(ts, 'UTC')\n",
      "  setattr(model, attribute, pd.Timestamp.utcfromtimestamp(model_dict[attribute]).tz_localize(None))\n"
     ]
    },
    {
     "name": "stdout",
     "output_type": "stream",
     "text": [
      "0.12132942595572342\n",
      "2022-08-24 00:00:00 [41, 53, 59, 88, 127, 24, 16, 87, 52, 47] [536.7741560115505, 598.1450190696642, 660.1512226659403, 722.0379640834924, 783.021505674799, 842.3031564212068, 899.0838702820275, 952.5791462368692, 1002.0339039081942, 1046.737005467626]\n",
      "[65, 72, 80, 87, 95, 102, 109, 115, 121, 126] [131.76801516600653, 135.80954375632595, 139.06386038161224]\n",
      "--------- Batch id: 85 ---------\n"
     ]
    },
    {
     "name": "stderr",
     "output_type": "stream",
     "text": [
      "c:\\Users\\Branko\\miniconda3\\lib\\site-packages\\prophet\\serialize.py:160: FutureWarning: The behavior of Timestamp.utcfromtimestamp is deprecated, in a future version will return a timezone-aware Timestamp with UTC timezone. To keep the old behavior, use Timestamp.utcfromtimestamp(ts).tz_localize(None). To get the future behavior, use Timestamp.fromtimestamp(ts, 'UTC')\n",
      "  setattr(model, attribute, pd.Timestamp.utcfromtimestamp(model_dict[attribute]).tz_localize(None))\n"
     ]
    },
    {
     "name": "stdout",
     "output_type": "stream",
     "text": [
      "0.251661370671092\n",
      "2022-09-07 00:00:00 [224, 163, 298, 122, 36, 147, 170, 109, 72, 172] [1178.814718328825, 1184.1308787492464, 1181.9517255924313, 1172.3001084462658, 1155.311487469939, 1131.2313843749369, 1100.4106361099937, 1063.298557523979, 1020.4341669963695, 972.4356729659991]\n",
      "[296, 298, 297, 295, 290, 284, 276, 267, 256, 244] [231.52555643767528, 217.3931032161392, 202.52319278310762]\n",
      "--------- Batch id: 86 ---------\n"
     ]
    },
    {
     "name": "stderr",
     "output_type": "stream",
     "text": [
      "c:\\Users\\Branko\\miniconda3\\lib\\site-packages\\prophet\\serialize.py:160: FutureWarning: The behavior of Timestamp.utcfromtimestamp is deprecated, in a future version will return a timezone-aware Timestamp with UTC timezone. To keep the old behavior, use Timestamp.utcfromtimestamp(ts).tz_localize(None). To get the future behavior, use Timestamp.fromtimestamp(ts, 'UTC')\n",
      "  setattr(model, attribute, pd.Timestamp.utcfromtimestamp(model_dict[attribute]).tz_localize(None))\n"
     ]
    },
    {
     "name": "stdout",
     "output_type": "stream",
     "text": [
      "0.38678156968912797\n",
      "2022-09-07 00:00:00 [161, 294, 233, 458, 41, 169, 173, 95, 295, 312] [1178.814718328825, 1184.1308787492464, 1181.9517255924313, 1172.3001084462658, 1155.311487469939, 1131.2313843749369, 1100.4106361099937, 1063.298557523979, 1020.4341669963695, 972.4356729659991]\n",
      "[455, 458, 457, 453, 446, 437, 425, 411, 394, 376] [355.8345800283734, 334.1142324597038, 311.26047749887005]\n",
      "--------- Batch id: 87 ---------\n"
     ]
    },
    {
     "name": "stderr",
     "output_type": "stream",
     "text": [
      "c:\\Users\\Branko\\miniconda3\\lib\\site-packages\\prophet\\serialize.py:160: FutureWarning: The behavior of Timestamp.utcfromtimestamp is deprecated, in a future version will return a timezone-aware Timestamp with UTC timezone. To keep the old behavior, use Timestamp.utcfromtimestamp(ts).tz_localize(None). To get the future behavior, use Timestamp.fromtimestamp(ts, 'UTC')\n",
      "  setattr(model, attribute, pd.Timestamp.utcfromtimestamp(model_dict[attribute]).tz_localize(None))\n"
     ]
    },
    {
     "name": "stdout",
     "output_type": "stream",
     "text": [
      "0.12160817911623238\n",
      "2022-09-07 00:00:00 [45, 55, 88, 144, 10, 70, 96, 108, 40, 120] [1178.814718328825, 1184.1308787492464, 1181.9517255924313, 1172.3001084462658, 1155.311487469939, 1131.2313843749369, 1100.4106361099937, 1063.298557523979, 1020.4341669963695, 972.4356729659991]\n",
      "[143, 144, 143, 142, 140, 137, 133, 129, 124, 118] [111.87812123162833, 105.0490163192082, 97.86355624418623]\n",
      "--------- Batch id: 88 ---------\n"
     ]
    },
    {
     "name": "stderr",
     "output_type": "stream",
     "text": [
      "c:\\Users\\Branko\\miniconda3\\lib\\site-packages\\prophet\\serialize.py:160: FutureWarning: The behavior of Timestamp.utcfromtimestamp is deprecated, in a future version will return a timezone-aware Timestamp with UTC timezone. To keep the old behavior, use Timestamp.utcfromtimestamp(ts).tz_localize(None). To get the future behavior, use Timestamp.fromtimestamp(ts, 'UTC')\n",
      "  setattr(model, attribute, pd.Timestamp.utcfromtimestamp(model_dict[attribute]).tz_localize(None))\n"
     ]
    },
    {
     "name": "stdout",
     "output_type": "stream",
     "text": [
      "0.1427207102128005\n",
      "2022-09-07 00:00:00 [115, 162, 105, 169, 47, 58, 69, 140, 105, 84] [1178.814718328825, 1184.1308787492464, 1181.9517255924313, 1172.3001084462658, 1155.311487469939, 1131.2313843749369, 1100.4106361099937, 1063.298557523979, 1020.4341669963695, 972.4356729659991]\n",
      "[168, 169, 168, 167, 164, 161, 157, 151, 145, 138] [131.3014061676749, 123.28669276351518, 114.8537569810241]\n",
      "--------- Batch id: 89 ---------\n"
     ]
    },
    {
     "name": "stderr",
     "output_type": "stream",
     "text": [
      "c:\\Users\\Branko\\miniconda3\\lib\\site-packages\\prophet\\serialize.py:160: FutureWarning: The behavior of Timestamp.utcfromtimestamp is deprecated, in a future version will return a timezone-aware Timestamp with UTC timezone. To keep the old behavior, use Timestamp.utcfromtimestamp(ts).tz_localize(None). To get the future behavior, use Timestamp.fromtimestamp(ts, 'UTC')\n",
      "  setattr(model, attribute, pd.Timestamp.utcfromtimestamp(model_dict[attribute]).tz_localize(None))\n"
     ]
    },
    {
     "name": "stdout",
     "output_type": "stream",
     "text": [
      "0.02786854104746992\n",
      "2022-09-07 00:00:00 [8, 7, 13, 33, 10, 5, 26, 5, 18, 6] [1178.814718328825, 1184.1308787492464, 1181.9517255924313, 1172.3001084462658, 1155.311487469939, 1131.2313843749369, 1100.4106361099937, 1063.298557523979, 1020.4341669963695, 972.4356729659991]\n",
      "[32, 33, 32, 32, 32, 31, 30, 29, 28, 27] [25.63873611558149, 24.073732906485212, 22.42706497262601]\n",
      "--------- Batch id: 90 ---------\n"
     ]
    },
    {
     "name": "stderr",
     "output_type": "stream",
     "text": [
      "c:\\Users\\Branko\\miniconda3\\lib\\site-packages\\prophet\\serialize.py:160: FutureWarning: The behavior of Timestamp.utcfromtimestamp is deprecated, in a future version will return a timezone-aware Timestamp with UTC timezone. To keep the old behavior, use Timestamp.utcfromtimestamp(ts).tz_localize(None). To get the future behavior, use Timestamp.fromtimestamp(ts, 'UTC')\n",
      "  setattr(model, attribute, pd.Timestamp.utcfromtimestamp(model_dict[attribute]).tz_localize(None))\n"
     ]
    },
    {
     "name": "stdout",
     "output_type": "stream",
     "text": [
      "0.3124654602292082\n",
      "2022-09-07 00:00:00 [212, 191, 226, 101, 27, 253, 253, 261, 237, 370] [1178.814718328825, 1184.1308787492464, 1181.9517255924313, 1172.3001084462658, 1155.311487469939, 1131.2313843749369, 1100.4106361099937, 1063.298557523979, 1020.4341669963695, 972.4356729659991]\n",
      "[368, 370, 369, 366, 360, 353, 343, 332, 318, 303] [287.4646170534894, 269.91761137574326, 251.4549709052007]\n",
      "--------- Batch id: 91 ---------\n"
     ]
    },
    {
     "name": "stderr",
     "output_type": "stream",
     "text": [
      "c:\\Users\\Branko\\miniconda3\\lib\\site-packages\\prophet\\serialize.py:160: FutureWarning: The behavior of Timestamp.utcfromtimestamp is deprecated, in a future version will return a timezone-aware Timestamp with UTC timezone. To keep the old behavior, use Timestamp.utcfromtimestamp(ts).tz_localize(None). To get the future behavior, use Timestamp.fromtimestamp(ts, 'UTC')\n",
      "  setattr(model, attribute, pd.Timestamp.utcfromtimestamp(model_dict[attribute]).tz_localize(None))\n"
     ]
    },
    {
     "name": "stdout",
     "output_type": "stream",
     "text": [
      "0.2685513955483465\n",
      "2022-09-07 00:00:00 [146, 243, 264, 258, 66, 94, 181, 210, 318, 292] [1178.814718328825, 1184.1308787492464, 1181.9517255924313, 1172.3001084462658, 1155.311487469939, 1131.2313843749369, 1100.4106361099937, 1063.298557523979, 1020.4341669963695, 972.4356729659991]\n",
      "[316, 318, 317, 314, 310, 303, 295, 285, 274, 261] [247.06418438651255, 231.9832443715848, 216.1153533725779]\n",
      "--------- Batch id: 92 ---------\n"
     ]
    },
    {
     "name": "stderr",
     "output_type": "stream",
     "text": [
      "c:\\Users\\Branko\\miniconda3\\lib\\site-packages\\prophet\\serialize.py:160: FutureWarning: The behavior of Timestamp.utcfromtimestamp is deprecated, in a future version will return a timezone-aware Timestamp with UTC timezone. To keep the old behavior, use Timestamp.utcfromtimestamp(ts).tz_localize(None). To get the future behavior, use Timestamp.fromtimestamp(ts, 'UTC')\n",
      "  setattr(model, attribute, pd.Timestamp.utcfromtimestamp(model_dict[attribute]).tz_localize(None))\n"
     ]
    },
    {
     "name": "stdout",
     "output_type": "stream",
     "text": [
      "0.51100895379337\n",
      "2022-09-21 00:00:00 [348, 138, 290, 297, 32, 0, 4, 2, 6, 1] [681.0056798744787, 617.9759986748977, 555.2312571607674, 493.5263690326102, 433.5693649931674, 376.0096302751696, 321.42763010779134, 270.32632210478744, 223.12441217439343, 180.15156491395823]\n",
      "[348, 315, 283, 252, 221, 192, 164, 138, 114, 92] [72.38218609187925, 55.062191588362104, 40.12667666222144]\n",
      "--------- Batch id: 93 ---------\n"
     ]
    },
    {
     "name": "stderr",
     "output_type": "stream",
     "text": [
      "c:\\Users\\Branko\\miniconda3\\lib\\site-packages\\prophet\\serialize.py:160: FutureWarning: The behavior of Timestamp.utcfromtimestamp is deprecated, in a future version will return a timezone-aware Timestamp with UTC timezone. To keep the old behavior, use Timestamp.utcfromtimestamp(ts).tz_localize(None). To get the future behavior, use Timestamp.fromtimestamp(ts, 'UTC')\n",
      "  setattr(model, attribute, pd.Timestamp.utcfromtimestamp(model_dict[attribute]).tz_localize(None))\n"
     ]
    },
    {
     "name": "stdout",
     "output_type": "stream",
     "text": [
      "0.07195241016056073\n",
      "2022-09-21 00:00:00 [33, 30, 14, 12, 5, 5, 10, 21, 49, 23] [681.0056798744787, 617.9759986748977, 555.2312571607674, 493.5263690326102, 433.5693649931674, 376.0096302751696, 321.42763010779134, 270.32632210478744, 223.12441217439343, 180.15156491395823]\n",
      "[49, 44, 39, 35, 31, 27, 23, 19, 16, 12] [10.191744593396793, 7.753009735142942, 5.650020564508193]\n",
      "--------- Batch id: 94 ---------\n"
     ]
    },
    {
     "name": "stderr",
     "output_type": "stream",
     "text": [
      "c:\\Users\\Branko\\miniconda3\\lib\\site-packages\\prophet\\serialize.py:160: FutureWarning: The behavior of Timestamp.utcfromtimestamp is deprecated, in a future version will return a timezone-aware Timestamp with UTC timezone. To keep the old behavior, use Timestamp.utcfromtimestamp(ts).tz_localize(None). To get the future behavior, use Timestamp.fromtimestamp(ts, 'UTC')\n",
      "  setattr(model, attribute, pd.Timestamp.utcfromtimestamp(model_dict[attribute]).tz_localize(None))\n"
     ]
    },
    {
     "name": "stdout",
     "output_type": "stream",
     "text": [
      "0.07048399362667171\n",
      "2022-09-21 00:00:00 [40, 18, 24, 48, 30, 22, 10, 5, 8, 4] [681.0056798744787, 617.9759986748977, 555.2312571607674, 493.5263690326102, 433.5693649931674, 376.0096302751696, 321.42763010779134, 270.32632210478744, 223.12441217439343, 180.15156491395823]\n",
      "[47, 43, 39, 34, 30, 26, 22, 19, 15, 12] [9.983749805776448, 7.594785046670634, 5.534714022375371]\n",
      "--------- Batch id: 95 ---------\n"
     ]
    },
    {
     "name": "stderr",
     "output_type": "stream",
     "text": [
      "c:\\Users\\Branko\\miniconda3\\lib\\site-packages\\prophet\\serialize.py:160: FutureWarning: The behavior of Timestamp.utcfromtimestamp is deprecated, in a future version will return a timezone-aware Timestamp with UTC timezone. To keep the old behavior, use Timestamp.utcfromtimestamp(ts).tz_localize(None). To get the future behavior, use Timestamp.fromtimestamp(ts, 'UTC')\n",
      "  setattr(model, attribute, pd.Timestamp.utcfromtimestamp(model_dict[attribute]).tz_localize(None))\n"
     ]
    },
    {
     "name": "stdout",
     "output_type": "stream",
     "text": [
      "0.11747332271111954\n",
      "2022-09-21 00:00:00 [76, 80, 57, 20, 25, 22, 30, 25, 18, 10] [681.0056798744787, 617.9759986748977, 555.2312571607674, 493.5263690326102, 433.5693649931674, 376.0096302751696, 321.42763010779134, 270.32632210478744, 223.12441217439343, 180.15156491395823]\n",
      "[80, 72, 65, 57, 50, 44, 37, 31, 26, 21] [16.639583009627415, 12.657975077784393, 9.22452337062562]\n",
      "--------- Batch id: 96 ---------\n"
     ]
    },
    {
     "name": "stderr",
     "output_type": "stream",
     "text": [
      "c:\\Users\\Branko\\miniconda3\\lib\\site-packages\\prophet\\serialize.py:160: FutureWarning: The behavior of Timestamp.utcfromtimestamp is deprecated, in a future version will return a timezone-aware Timestamp with UTC timezone. To keep the old behavior, use Timestamp.utcfromtimestamp(ts).tz_localize(None). To get the future behavior, use Timestamp.fromtimestamp(ts, 'UTC')\n",
      "  setattr(model, attribute, pd.Timestamp.utcfromtimestamp(model_dict[attribute]).tz_localize(None))\n"
     ]
    },
    {
     "name": "stdout",
     "output_type": "stream",
     "text": [
      "0.09838390777056262\n",
      "2022-09-21 00:00:00 [67, 52, 13, 16, 13, 5, 16, 16, 5, 8] [681.0056798744787, 617.9759986748977, 555.2312571607674, 493.5263690326102, 433.5693649931674, 376.0096302751696, 321.42763010779134, 270.32632210478744, 223.12441217439343, 180.15156491395823]\n",
      "[67, 60, 54, 48, 42, 36, 31, 26, 21, 17] [13.935650770562962, 10.60105412764443, 7.725538322898958]\n",
      "--------- Batch id: 97 ---------\n"
     ]
    },
    {
     "name": "stderr",
     "output_type": "stream",
     "text": [
      "c:\\Users\\Branko\\miniconda3\\lib\\site-packages\\prophet\\serialize.py:160: FutureWarning: The behavior of Timestamp.utcfromtimestamp is deprecated, in a future version will return a timezone-aware Timestamp with UTC timezone. To keep the old behavior, use Timestamp.utcfromtimestamp(ts).tz_localize(None). To get the future behavior, use Timestamp.fromtimestamp(ts, 'UTC')\n",
      "  setattr(model, attribute, pd.Timestamp.utcfromtimestamp(model_dict[attribute]).tz_localize(None))\n"
     ]
    },
    {
     "name": "stdout",
     "output_type": "stream",
     "text": [
      "0.2701886422355749\n",
      "2022-09-21 00:00:00 [184, 114, 110, 112, 133, 14, 72, 21, 15, 13] [681.0056798744787, 617.9759986748977, 555.2312571607674, 493.5263690326102, 433.5693649931674, 376.0096302751696, 321.42763010779134, 270.32632210478744, 223.12441217439343, 180.15156491395823]\n",
      "[184, 166, 150, 133, 117, 101, 86, 73, 60, 48] [38.27104092214305, 29.1133426789041, 21.216403752438925]\n",
      "--------- Batch id: 98 ---------\n"
     ]
    },
    {
     "name": "stderr",
     "output_type": "stream",
     "text": [
      "c:\\Users\\Branko\\miniconda3\\lib\\site-packages\\prophet\\serialize.py:160: FutureWarning: The behavior of Timestamp.utcfromtimestamp is deprecated, in a future version will return a timezone-aware Timestamp with UTC timezone. To keep the old behavior, use Timestamp.utcfromtimestamp(ts).tz_localize(None). To get the future behavior, use Timestamp.fromtimestamp(ts, 'UTC')\n",
      "  setattr(model, attribute, pd.Timestamp.utcfromtimestamp(model_dict[attribute]).tz_localize(None))\n"
     ]
    },
    {
     "name": "stdout",
     "output_type": "stream",
     "text": [
      "0.3259884705233568\n",
      "2022-09-21 00:00:00 [122, 149, 222, 167, 32, 10, 30, 9, 1, 5] [681.0056798744787, 617.9759986748977, 555.2312571607674, 493.5263690326102, 433.5693649931674, 376.0096302751696, 321.42763010779134, 270.32632210478744, 223.12441217439343, 180.15156491395823]\n",
      "[222, 201, 180, 160, 141, 122, 104, 88, 72, 58] [46.174842851716086, 35.12588084085169, 25.5980523534861]\n",
      "--------- Batch id: 99 ---------\n"
     ]
    },
    {
     "name": "stderr",
     "output_type": "stream",
     "text": [
      "c:\\Users\\Branko\\miniconda3\\lib\\site-packages\\prophet\\serialize.py:160: FutureWarning: The behavior of Timestamp.utcfromtimestamp is deprecated, in a future version will return a timezone-aware Timestamp with UTC timezone. To keep the old behavior, use Timestamp.utcfromtimestamp(ts).tz_localize(None). To get the future behavior, use Timestamp.fromtimestamp(ts, 'UTC')\n",
      "  setattr(model, attribute, pd.Timestamp.utcfromtimestamp(model_dict[attribute]).tz_localize(None))\n"
     ]
    },
    {
     "name": "stdout",
     "output_type": "stream",
     "text": [
      "0.41360784896971825\n",
      "2022-10-05 00:00:00 [4, 5, 5, 12, 2, 6, 4, 14, 8, 1] [33.848487244314825, 18.08902862638097, 6.388354345026599, 0.0, 0.0, 0.0, 0.0, 0.0, 0.5942455620333337, 6.328843890067379]\n",
      "[14, 7, 2, 0, 0, 0, 0, 0, 0, 2] [5.292887660083529, 8.103295905850853, 10.894795446318774]\n",
      "--------- Batch id: 100 ---------\n"
     ]
    },
    {
     "name": "stderr",
     "output_type": "stream",
     "text": [
      "c:\\Users\\Branko\\miniconda3\\lib\\site-packages\\prophet\\serialize.py:160: FutureWarning: The behavior of Timestamp.utcfromtimestamp is deprecated, in a future version will return a timezone-aware Timestamp with UTC timezone. To keep the old behavior, use Timestamp.utcfromtimestamp(ts).tz_localize(None). To get the future behavior, use Timestamp.fromtimestamp(ts, 'UTC')\n",
      "  setattr(model, attribute, pd.Timestamp.utcfromtimestamp(model_dict[attribute]).tz_localize(None))\n"
     ]
    },
    {
     "name": "stdout",
     "output_type": "stream",
     "text": [
      "0.1772605067013078\n",
      "2022-10-05 00:00:00 [3, 0, 4, 3, 3, 3, 6, 5, 1, 1] [33.848487244314825, 18.08902862638097, 6.388354345026599, 0.0, 0.0, 0.0, 0.0, 0.0, 0.5942455620333337, 6.328843890067379]\n",
      "[6, 3, 1, 0, 0, 0, 0, 0, 0, 1] [2.2683804257500837, 3.4728411025075085, 4.669198048422331]\n",
      "--------- Batch id: 101 ---------\n"
     ]
    },
    {
     "name": "stderr",
     "output_type": "stream",
     "text": [
      "c:\\Users\\Branko\\miniconda3\\lib\\site-packages\\prophet\\serialize.py:160: FutureWarning: The behavior of Timestamp.utcfromtimestamp is deprecated, in a future version will return a timezone-aware Timestamp with UTC timezone. To keep the old behavior, use Timestamp.utcfromtimestamp(ts).tz_localize(None). To get the future behavior, use Timestamp.fromtimestamp(ts, 'UTC')\n",
      "  setattr(model, attribute, pd.Timestamp.utcfromtimestamp(model_dict[attribute]).tz_localize(None))\n"
     ]
    },
    {
     "name": "stdout",
     "output_type": "stream",
     "text": [
      "0.23634734226841042\n",
      "2022-10-05 00:00:00 [4, 5, 2, 3, 7, 6, 8, 2, 5, 0] [33.848487244314825, 18.08902862638097, 6.388354345026599, 0.0, 0.0, 0.0, 0.0, 0.0, 0.5942455620333337, 6.328843890067379]\n",
      "[8, 4, 1, 0, 0, 0, 0, 0, 0, 1] [3.024507234333445, 4.630454803343345, 6.225597397896442]\n",
      "--------- Batch id: 102 ---------\n"
     ]
    },
    {
     "name": "stderr",
     "output_type": "stream",
     "text": [
      "c:\\Users\\Branko\\miniconda3\\lib\\site-packages\\prophet\\serialize.py:160: FutureWarning: The behavior of Timestamp.utcfromtimestamp is deprecated, in a future version will return a timezone-aware Timestamp with UTC timezone. To keep the old behavior, use Timestamp.utcfromtimestamp(ts).tz_localize(None). To get the future behavior, use Timestamp.fromtimestamp(ts, 'UTC')\n",
      "  setattr(model, attribute, pd.Timestamp.utcfromtimestamp(model_dict[attribute]).tz_localize(None))\n"
     ]
    },
    {
     "name": "stdout",
     "output_type": "stream",
     "text": [
      "0.14771708891775653\n",
      "2022-10-05 00:00:00 [3, 5, 2, 1, 2, 2, 3, 3, 5, 2] [33.848487244314825, 18.08902862638097, 6.388354345026599, 0.0, 0.0, 0.0, 0.0, 0.0, 0.5942455620333337, 6.328843890067379]\n",
      "[5, 2, 0, 0, 0, 0, 0, 0, 0, 0] [1.8903170214584033, 2.894034252089591, 3.8909983736852767]\n",
      "--------- Batch id: 103 ---------\n"
     ]
    },
    {
     "name": "stderr",
     "output_type": "stream",
     "text": [
      "c:\\Users\\Branko\\miniconda3\\lib\\site-packages\\prophet\\serialize.py:160: FutureWarning: The behavior of Timestamp.utcfromtimestamp is deprecated, in a future version will return a timezone-aware Timestamp with UTC timezone. To keep the old behavior, use Timestamp.utcfromtimestamp(ts).tz_localize(None). To get the future behavior, use Timestamp.fromtimestamp(ts, 'UTC')\n",
      "  setattr(model, attribute, pd.Timestamp.utcfromtimestamp(model_dict[attribute]).tz_localize(None))\n"
     ]
    },
    {
     "name": "stdout",
     "output_type": "stream",
     "text": [
      "0.29543417783551307\n",
      "2022-10-05 00:00:00 [3, 3, 4, 2, 2, 0, 10, 5, 0, 2] [33.848487244314825, 18.08902862638097, 6.388354345026599, 0.0, 0.0, 0.0, 0.0, 0.0, 0.5942455620333337, 6.328843890067379]\n",
      "[10, 5, 1, 0, 0, 0, 0, 0, 0, 1] [3.7806340429168066, 5.788068504179182, 7.781996747370553]\n",
      "--------- Batch id: 104 ---------\n"
     ]
    },
    {
     "name": "stderr",
     "output_type": "stream",
     "text": [
      "c:\\Users\\Branko\\miniconda3\\lib\\site-packages\\prophet\\serialize.py:160: FutureWarning: The behavior of Timestamp.utcfromtimestamp is deprecated, in a future version will return a timezone-aware Timestamp with UTC timezone. To keep the old behavior, use Timestamp.utcfromtimestamp(ts).tz_localize(None). To get the future behavior, use Timestamp.fromtimestamp(ts, 'UTC')\n",
      "  setattr(model, attribute, pd.Timestamp.utcfromtimestamp(model_dict[attribute]).tz_localize(None))\n"
     ]
    },
    {
     "name": "stdout",
     "output_type": "stream",
     "text": [
      "0.5908683556710261\n",
      "2022-10-05 00:00:00 [20, 3, 7, 5, 5, 10, 11, 10, 3, 3] [33.848487244314825, 18.08902862638097, 6.388354345026599, 0.0, 0.0, 0.0, 0.0, 0.0, 0.5942455620333337, 6.328843890067379]\n",
      "[20, 10, 3, 0, 0, 0, 0, 0, 0, 3] [7.561268085833613, 11.576137008358364, 15.563993494741107]\n",
      "--------- Batch id: 105 ---------\n"
     ]
    },
    {
     "name": "stderr",
     "output_type": "stream",
     "text": [
      "c:\\Users\\Branko\\miniconda3\\lib\\site-packages\\prophet\\serialize.py:160: FutureWarning: The behavior of Timestamp.utcfromtimestamp is deprecated, in a future version will return a timezone-aware Timestamp with UTC timezone. To keep the old behavior, use Timestamp.utcfromtimestamp(ts).tz_localize(None). To get the future behavior, use Timestamp.fromtimestamp(ts, 'UTC')\n",
      "  setattr(model, attribute, pd.Timestamp.utcfromtimestamp(model_dict[attribute]).tz_localize(None))\n"
     ]
    },
    {
     "name": "stdout",
     "output_type": "stream",
     "text": [
      "0.7976722801558853\n",
      "2022-10-05 00:00:00 [6, 27, 13, 7, 9, 6, 4, 18, 2, 6] [33.848487244314825, 18.08902862638097, 6.388354345026599, 0.0, 0.0, 0.0, 0.0, 0.0, 0.5942455620333337, 6.328843890067379]\n",
      "[27, 14, 5, 0, 0, 0, 0, 0, 0, 5] [10.207711915875379, 15.627784961283792, 21.011391217900496]\n",
      "--------- Batch id: 106 ---------\n"
     ]
    },
    {
     "name": "stderr",
     "output_type": "stream",
     "text": [
      "c:\\Users\\Branko\\miniconda3\\lib\\site-packages\\prophet\\serialize.py:160: FutureWarning: The behavior of Timestamp.utcfromtimestamp is deprecated, in a future version will return a timezone-aware Timestamp with UTC timezone. To keep the old behavior, use Timestamp.utcfromtimestamp(ts).tz_localize(None). To get the future behavior, use Timestamp.fromtimestamp(ts, 'UTC')\n",
      "  setattr(model, attribute, pd.Timestamp.utcfromtimestamp(model_dict[attribute]).tz_localize(None))\n"
     ]
    },
    {
     "name": "stdout",
     "output_type": "stream",
     "text": [
      "0.11822859750533807\n",
      "2022-10-19 00:00:00 [0, 0, 0, 0, 0, 0, 1, 0, 4, 6] [38.422204057476954, 43.234822101937866, 46.96926651413811, 49.498457017537284, 50.749142987415524, 50.700092731003956, 49.37898483736668, 46.858138357678875, 43.24924484499376, 38.69728645676031]\n",
      "[4, 5, 5, 5, 6, 5, 5, 5, 5, 4] [3.945742290625515, 3.2477367574764293, 2.505142034625904]\n",
      "--------- Batch id: 107 ---------\n"
     ]
    },
    {
     "name": "stderr",
     "output_type": "stream",
     "text": [
      "c:\\Users\\Branko\\miniconda3\\lib\\site-packages\\prophet\\serialize.py:160: FutureWarning: The behavior of Timestamp.utcfromtimestamp is deprecated, in a future version will return a timezone-aware Timestamp with UTC timezone. To keep the old behavior, use Timestamp.utcfromtimestamp(ts).tz_localize(None). To get the future behavior, use Timestamp.fromtimestamp(ts, 'UTC')\n",
      "  setattr(model, attribute, pd.Timestamp.utcfromtimestamp(model_dict[attribute]).tz_localize(None))\n"
     ]
    },
    {
     "name": "stdout",
     "output_type": "stream",
     "text": [
      "0.059114298752669034\n",
      "2022-10-19 00:00:00 [1, 1, 1, 1, 0, 1, 0, 1, 2, 3] [38.422204057476954, 43.234822101937866, 46.96926651413811, 49.498457017537284, 50.749142987415524, 50.700092731003956, 49.37898483736668, 46.858138357678875, 43.24924484499376, 38.69728645676031]\n",
      "[2, 2, 2, 2, 3, 2, 2, 2, 2, 2] [1.9728711453127574, 1.6238683787382147, 1.252571017312952]\n",
      "--------- Batch id: 108 ---------\n"
     ]
    },
    {
     "name": "stderr",
     "output_type": "stream",
     "text": [
      "c:\\Users\\Branko\\miniconda3\\lib\\site-packages\\prophet\\serialize.py:160: FutureWarning: The behavior of Timestamp.utcfromtimestamp is deprecated, in a future version will return a timezone-aware Timestamp with UTC timezone. To keep the old behavior, use Timestamp.utcfromtimestamp(ts).tz_localize(None). To get the future behavior, use Timestamp.fromtimestamp(ts, 'UTC')\n",
      "  setattr(model, attribute, pd.Timestamp.utcfromtimestamp(model_dict[attribute]).tz_localize(None))\n"
     ]
    },
    {
     "name": "stdout",
     "output_type": "stream",
     "text": [
      "0.03940953250177936\n",
      "2022-10-19 00:00:00 [0, 1, 0, 0, 2, 0, 1, 2, 0, 1] [38.422204057476954, 43.234822101937866, 46.96926651413811, 49.498457017537284, 50.749142987415524, 50.700092731003956, 49.37898483736668, 46.858138357678875, 43.24924484499376, 38.69728645676031]\n",
      "[1, 1, 1, 1, 2, 1, 1, 1, 1, 1] [1.3152474302085049, 1.0825789191588098, 0.8350473448753014]\n",
      "--------- Batch id: 109 ---------\n"
     ]
    },
    {
     "name": "stderr",
     "output_type": "stream",
     "text": [
      "c:\\Users\\Branko\\miniconda3\\lib\\site-packages\\prophet\\serialize.py:160: FutureWarning: The behavior of Timestamp.utcfromtimestamp is deprecated, in a future version will return a timezone-aware Timestamp with UTC timezone. To keep the old behavior, use Timestamp.utcfromtimestamp(ts).tz_localize(None). To get the future behavior, use Timestamp.fromtimestamp(ts, 'UTC')\n",
      "  setattr(model, attribute, pd.Timestamp.utcfromtimestamp(model_dict[attribute]).tz_localize(None))\n"
     ]
    },
    {
     "name": "stdout",
     "output_type": "stream",
     "text": [
      "0.03940953250177936\n",
      "2022-10-19 00:00:00 [2, 2, 1, 2, 2, 2, 1, 1, 0, 2] [38.422204057476954, 43.234822101937866, 46.96926651413811, 49.498457017537284, 50.749142987415524, 50.700092731003956, 49.37898483736668, 46.858138357678875, 43.24924484499376, 38.69728645676031]\n",
      "[1, 1, 1, 1, 2, 1, 1, 1, 1, 1] [1.3152474302085049, 1.0825789191588098, 0.8350473448753014]\n",
      "--------- Batch id: 110 ---------\n"
     ]
    },
    {
     "name": "stderr",
     "output_type": "stream",
     "text": [
      "c:\\Users\\Branko\\miniconda3\\lib\\site-packages\\prophet\\serialize.py:160: FutureWarning: The behavior of Timestamp.utcfromtimestamp is deprecated, in a future version will return a timezone-aware Timestamp with UTC timezone. To keep the old behavior, use Timestamp.utcfromtimestamp(ts).tz_localize(None). To get the future behavior, use Timestamp.fromtimestamp(ts, 'UTC')\n",
      "  setattr(model, attribute, pd.Timestamp.utcfromtimestamp(model_dict[attribute]).tz_localize(None))\n"
     ]
    },
    {
     "name": "stdout",
     "output_type": "stream",
     "text": [
      "0.21675242875978645\n",
      "2022-10-19 00:00:00 [10, 3, 0, 3, 0, 0, 11, 3, 3, 0] [38.422204057476954, 43.234822101937866, 46.96926651413811, 49.498457017537284, 50.749142987415524, 50.700092731003956, 49.37898483736668, 46.858138357678875, 43.24924484499376, 38.69728645676031]\n",
      "[8, 9, 10, 10, 11, 10, 10, 10, 9, 8] [7.2338608661467765, 5.954184055373453, 4.592760396814157]\n",
      "--------- Batch id: 111 ---------\n"
     ]
    },
    {
     "name": "stderr",
     "output_type": "stream",
     "text": [
      "c:\\Users\\Branko\\miniconda3\\lib\\site-packages\\prophet\\serialize.py:160: FutureWarning: The behavior of Timestamp.utcfromtimestamp is deprecated, in a future version will return a timezone-aware Timestamp with UTC timezone. To keep the old behavior, use Timestamp.utcfromtimestamp(ts).tz_localize(None). To get the future behavior, use Timestamp.fromtimestamp(ts, 'UTC')\n",
      "  setattr(model, attribute, pd.Timestamp.utcfromtimestamp(model_dict[attribute]).tz_localize(None))\n"
     ]
    },
    {
     "name": "stdout",
     "output_type": "stream",
     "text": [
      "0.15763813000711743\n",
      "2022-10-19 00:00:00 [7, 3, 2, 5, 4, 8, 2, 4, 1, 3] [38.422204057476954, 43.234822101937866, 46.96926651413811, 49.498457017537284, 50.749142987415524, 50.700092731003956, 49.37898483736668, 46.858138357678875, 43.24924484499376, 38.69728645676031]\n",
      "[6, 6, 7, 7, 8, 7, 7, 7, 6, 6] [5.2609897208340195, 4.330315676635239, 3.3401893795012056]\n",
      "--------- Batch id: 112 ---------\n"
     ]
    },
    {
     "name": "stderr",
     "output_type": "stream",
     "text": [
      "c:\\Users\\Branko\\miniconda3\\lib\\site-packages\\prophet\\serialize.py:160: FutureWarning: The behavior of Timestamp.utcfromtimestamp is deprecated, in a future version will return a timezone-aware Timestamp with UTC timezone. To keep the old behavior, use Timestamp.utcfromtimestamp(ts).tz_localize(None). To get the future behavior, use Timestamp.fromtimestamp(ts, 'UTC')\n",
      "  setattr(model, attribute, pd.Timestamp.utcfromtimestamp(model_dict[attribute]).tz_localize(None))\n"
     ]
    },
    {
     "name": "stdout",
     "output_type": "stream",
     "text": [
      "0.13793336375622772\n",
      "2022-10-19 00:00:00 [6, 2, 6, 5, 3, 4, 3, 2, 7, 2] [38.422204057476954, 43.234822101937866, 46.96926651413811, 49.498457017537284, 50.749142987415524, 50.700092731003956, 49.37898483736668, 46.858138357678875, 43.24924484499376, 38.69728645676031]\n",
      "[5, 5, 6, 6, 6, 6, 6, 6, 5, 5] [4.603366005729766, 3.7890262170558335, 2.922665707063554]\n"
     ]
    }
   ],
   "source": [
    "BATCH_SIZE = 113\n",
    "for batch_id in range(1, BATCH_SIZE):\n",
    "    print('--------- Batch id: ' + str(batch_id) + ' ---------')\n",
    "\n",
    "    # extract pollen_df where column batch_id == batch_id\n",
    "    test_df = pollen_df[pollen_df['batch_id'] == batch_id]\n",
    "    # Drop index for test_df\n",
    "    test_df.reset_index(inplace=True, drop=True)\n",
    "\n",
    "    with open('../models/prophet.json', 'r') as fin:\n",
    "        m = model_from_json(fin.read())  # Load model\n",
    "\n",
    "    forecast = m.predict(test_df)\n",
    "    forecast['yhat'] = [max(0, x) for x in forecast['yhat']]\n",
    "    \n",
    "    # Make a list of difference between yhat and y\n",
    "    max_real_val = max(test_df['y'])\n",
    "    max_pred_val = max(forecast['yhat'])\n",
    "\n",
    "    ratio = np.mean([max_real_val / max_pred_val if max_pred_val != 0 else 0 for i in range(len(forecast))])\n",
    "    \n",
    "    print(ratio)\n",
    "\n",
    "    # 3 days after test_df\n",
    "    last_date = test_df['ds'].iloc[-1]\n",
    "    predict_dates = next_three_days(last_date)\n",
    "\n",
    "    results = predict_for_dates(m, predict_dates, ratio)\n",
    "\n",
    "    print(last_date, list(test_df['y']), list(forecast['yhat']))\n",
    "    print([int(ratio * x) for x in forecast['yhat']], results)\n",
    "\n",
    "    # Save results to result.csv\n",
    "    with open('../results/prophet.csv', 'a') as fout:\n",
    "        results = str(batch_id) + ',' + ','.join([str(x) for x in results]) + '\\n'\n",
    "        fout.write(results)"
   ]
  }
 ],
 "metadata": {
  "kernelspec": {
   "display_name": "base",
   "language": "python",
   "name": "python3"
  },
  "language_info": {
   "codemirror_mode": {
    "name": "ipython",
    "version": 3
   },
   "file_extension": ".py",
   "mimetype": "text/x-python",
   "name": "python",
   "nbconvert_exporter": "python",
   "pygments_lexer": "ipython3",
   "version": "3.9.7"
  },
  "orig_nbformat": 4
 },
 "nbformat": 4,
 "nbformat_minor": 2
}
