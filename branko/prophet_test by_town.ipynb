{
 "cells": [
  {
   "cell_type": "code",
   "execution_count": 1,
   "metadata": {},
   "outputs": [],
   "source": [
    "import pandas as pd\n",
    "import numpy as np\n",
    "import matplotlib.pyplot as plt\n",
    "import seaborn as sns\n",
    "import os\n",
    "import prophet\n",
    "import itertools\n",
    "from prophet.diagnostics import cross_validation, performance_metrics\n",
    "from prophet.serialize import model_to_json, model_from_json\n",
    "import datetime\n",
    "import random"
   ]
  },
  {
   "cell_type": "code",
   "execution_count": 2,
   "metadata": {},
   "outputs": [],
   "source": [
    "dataset_path = '../data/'\n",
    "\n",
    "pollen_test = pd.read_csv(dataset_path + 'pollen_test.csv')\n",
    "pollen_train = pd.read_csv(dataset_path + 'pollen_train.csv')\n",
    "pollen_type = pd.read_csv(dataset_path + 'pollen-type.csv')\n",
    "submission_example = pd.read_csv(dataset_path + 'submission_example.csv')\n",
    "weather_data = pd.read_csv(dataset_path + 'weather_data.csv')"
   ]
  },
  {
   "cell_type": "code",
   "execution_count": 3,
   "metadata": {},
   "outputs": [],
   "source": [
    "with open('../results/prophet_by_town.csv', 'w') as f:\n",
    "    f.write('batch_id,1 day prediction,2 days prediction,3 days prediction\\n')"
   ]
  },
  {
   "cell_type": "code",
   "execution_count": 4,
   "metadata": {},
   "outputs": [
    {
     "name": "stdout",
     "output_type": "stream",
     "text": [
      "458\n"
     ]
    }
   ],
   "source": [
    "print(max(pollen_test.AMBROSIA))"
   ]
  },
  {
   "cell_type": "code",
   "execution_count": 5,
   "metadata": {},
   "outputs": [
    {
     "data": {
      "text/html": [
       "<div>\n",
       "<style scoped>\n",
       "    .dataframe tbody tr th:only-of-type {\n",
       "        vertical-align: middle;\n",
       "    }\n",
       "\n",
       "    .dataframe tbody tr th {\n",
       "        vertical-align: top;\n",
       "    }\n",
       "\n",
       "    .dataframe thead th {\n",
       "        text-align: right;\n",
       "    }\n",
       "</style>\n",
       "<table border=\"1\" class=\"dataframe\">\n",
       "  <thead>\n",
       "    <tr style=\"text-align: right;\">\n",
       "      <th></th>\n",
       "      <th>Unnamed: 0</th>\n",
       "      <th>location</th>\n",
       "      <th>date</th>\n",
       "      <th>ACER</th>\n",
       "      <th>ALNUS</th>\n",
       "      <th>AMBROSIA</th>\n",
       "      <th>ARTEMISIA</th>\n",
       "      <th>BETULA</th>\n",
       "      <th>CANNABACEAE</th>\n",
       "      <th>CARPINUS</th>\n",
       "      <th>...</th>\n",
       "      <th>PLATANUS</th>\n",
       "      <th>POACEAE</th>\n",
       "      <th>POPULUS</th>\n",
       "      <th>QUERCUS</th>\n",
       "      <th>RUMEX</th>\n",
       "      <th>SALIX</th>\n",
       "      <th>TILIA</th>\n",
       "      <th>ULMACEAE</th>\n",
       "      <th>URTICACEAE</th>\n",
       "      <th>batch_id</th>\n",
       "    </tr>\n",
       "  </thead>\n",
       "  <tbody>\n",
       "    <tr>\n",
       "      <th>0</th>\n",
       "      <td>0</td>\n",
       "      <td>БЕОГРАД - НОВИ БЕОГРАД</td>\n",
       "      <td>2022-02-14</td>\n",
       "      <td>0</td>\n",
       "      <td>0</td>\n",
       "      <td>0</td>\n",
       "      <td>0</td>\n",
       "      <td>0</td>\n",
       "      <td>0</td>\n",
       "      <td>0</td>\n",
       "      <td>...</td>\n",
       "      <td>0</td>\n",
       "      <td>0</td>\n",
       "      <td>0</td>\n",
       "      <td>0</td>\n",
       "      <td>0</td>\n",
       "      <td>0</td>\n",
       "      <td>0</td>\n",
       "      <td>0</td>\n",
       "      <td>0</td>\n",
       "      <td>1</td>\n",
       "    </tr>\n",
       "    <tr>\n",
       "      <th>1</th>\n",
       "      <td>1</td>\n",
       "      <td>БЕОГРАД - НОВИ БЕОГРАД</td>\n",
       "      <td>2022-02-15</td>\n",
       "      <td>0</td>\n",
       "      <td>5</td>\n",
       "      <td>0</td>\n",
       "      <td>0</td>\n",
       "      <td>6</td>\n",
       "      <td>0</td>\n",
       "      <td>0</td>\n",
       "      <td>...</td>\n",
       "      <td>0</td>\n",
       "      <td>0</td>\n",
       "      <td>6</td>\n",
       "      <td>0</td>\n",
       "      <td>0</td>\n",
       "      <td>0</td>\n",
       "      <td>0</td>\n",
       "      <td>13</td>\n",
       "      <td>0</td>\n",
       "      <td>1</td>\n",
       "    </tr>\n",
       "    <tr>\n",
       "      <th>2</th>\n",
       "      <td>2</td>\n",
       "      <td>БЕОГРАД - НОВИ БЕОГРАД</td>\n",
       "      <td>2022-02-16</td>\n",
       "      <td>0</td>\n",
       "      <td>0</td>\n",
       "      <td>0</td>\n",
       "      <td>0</td>\n",
       "      <td>1</td>\n",
       "      <td>0</td>\n",
       "      <td>0</td>\n",
       "      <td>...</td>\n",
       "      <td>0</td>\n",
       "      <td>0</td>\n",
       "      <td>6</td>\n",
       "      <td>0</td>\n",
       "      <td>0</td>\n",
       "      <td>0</td>\n",
       "      <td>0</td>\n",
       "      <td>13</td>\n",
       "      <td>0</td>\n",
       "      <td>1</td>\n",
       "    </tr>\n",
       "    <tr>\n",
       "      <th>3</th>\n",
       "      <td>3</td>\n",
       "      <td>БЕОГРАД - НОВИ БЕОГРАД</td>\n",
       "      <td>2022-02-17</td>\n",
       "      <td>0</td>\n",
       "      <td>6</td>\n",
       "      <td>0</td>\n",
       "      <td>0</td>\n",
       "      <td>11</td>\n",
       "      <td>0</td>\n",
       "      <td>0</td>\n",
       "      <td>...</td>\n",
       "      <td>0</td>\n",
       "      <td>0</td>\n",
       "      <td>22</td>\n",
       "      <td>0</td>\n",
       "      <td>0</td>\n",
       "      <td>0</td>\n",
       "      <td>0</td>\n",
       "      <td>30</td>\n",
       "      <td>0</td>\n",
       "      <td>1</td>\n",
       "    </tr>\n",
       "    <tr>\n",
       "      <th>4</th>\n",
       "      <td>4</td>\n",
       "      <td>БЕОГРАД - НОВИ БЕОГРАД</td>\n",
       "      <td>2022-02-18</td>\n",
       "      <td>0</td>\n",
       "      <td>12</td>\n",
       "      <td>0</td>\n",
       "      <td>0</td>\n",
       "      <td>2</td>\n",
       "      <td>0</td>\n",
       "      <td>0</td>\n",
       "      <td>...</td>\n",
       "      <td>0</td>\n",
       "      <td>0</td>\n",
       "      <td>47</td>\n",
       "      <td>0</td>\n",
       "      <td>0</td>\n",
       "      <td>0</td>\n",
       "      <td>0</td>\n",
       "      <td>58</td>\n",
       "      <td>0</td>\n",
       "      <td>1</td>\n",
       "    </tr>\n",
       "  </tbody>\n",
       "</table>\n",
       "<p>5 rows × 30 columns</p>\n",
       "</div>"
      ],
      "text/plain": [
       "   Unnamed: 0                location        date  ACER  ALNUS  AMBROSIA  \\\n",
       "0           0  БЕОГРАД - НОВИ БЕОГРАД  2022-02-14     0      0         0   \n",
       "1           1  БЕОГРАД - НОВИ БЕОГРАД  2022-02-15     0      5         0   \n",
       "2           2  БЕОГРАД - НОВИ БЕОГРАД  2022-02-16     0      0         0   \n",
       "3           3  БЕОГРАД - НОВИ БЕОГРАД  2022-02-17     0      6         0   \n",
       "4           4  БЕОГРАД - НОВИ БЕОГРАД  2022-02-18     0     12         0   \n",
       "\n",
       "   ARTEMISIA  BETULA  CANNABACEAE  CARPINUS  ...  PLATANUS  POACEAE  POPULUS  \\\n",
       "0          0       0            0         0  ...         0        0        0   \n",
       "1          0       6            0         0  ...         0        0        6   \n",
       "2          0       1            0         0  ...         0        0        6   \n",
       "3          0      11            0         0  ...         0        0       22   \n",
       "4          0       2            0         0  ...         0        0       47   \n",
       "\n",
       "   QUERCUS  RUMEX  SALIX  TILIA  ULMACEAE  URTICACEAE  batch_id  \n",
       "0        0      0      0      0         0           0         1  \n",
       "1        0      0      0      0        13           0         1  \n",
       "2        0      0      0      0        13           0         1  \n",
       "3        0      0      0      0        30           0         1  \n",
       "4        0      0      0      0        58           0         1  \n",
       "\n",
       "[5 rows x 30 columns]"
      ]
     },
     "execution_count": 5,
     "metadata": {},
     "output_type": "execute_result"
    }
   ],
   "source": [
    "pollen_test.head()"
   ]
  },
  {
   "cell_type": "code",
   "execution_count": 6,
   "metadata": {},
   "outputs": [
    {
     "data": {
      "text/html": [
       "<div>\n",
       "<style scoped>\n",
       "    .dataframe tbody tr th:only-of-type {\n",
       "        vertical-align: middle;\n",
       "    }\n",
       "\n",
       "    .dataframe tbody tr th {\n",
       "        vertical-align: top;\n",
       "    }\n",
       "\n",
       "    .dataframe thead th {\n",
       "        text-align: right;\n",
       "    }\n",
       "</style>\n",
       "<table border=\"1\" class=\"dataframe\">\n",
       "  <thead>\n",
       "    <tr style=\"text-align: right;\">\n",
       "      <th></th>\n",
       "      <th>location</th>\n",
       "      <th>ACER</th>\n",
       "      <th>ALNUS</th>\n",
       "      <th>ARTEMISIA</th>\n",
       "      <th>BETULA</th>\n",
       "      <th>CANNABACEAE</th>\n",
       "      <th>CARPINUS</th>\n",
       "      <th>CELTIS</th>\n",
       "      <th>CHENOP/AMAR.</th>\n",
       "      <th>CORYLUS</th>\n",
       "      <th>...</th>\n",
       "      <th>RUMEX</th>\n",
       "      <th>SALIX</th>\n",
       "      <th>TILIA</th>\n",
       "      <th>ULMACEAE</th>\n",
       "      <th>URTICACEAE</th>\n",
       "      <th>batch_id</th>\n",
       "      <th>ds</th>\n",
       "      <th>y</th>\n",
       "      <th>floor</th>\n",
       "      <th>cap</th>\n",
       "    </tr>\n",
       "  </thead>\n",
       "  <tbody>\n",
       "    <tr>\n",
       "      <th>1115</th>\n",
       "      <td>СУБОТИЦА</td>\n",
       "      <td>0</td>\n",
       "      <td>0</td>\n",
       "      <td>0</td>\n",
       "      <td>0</td>\n",
       "      <td>3</td>\n",
       "      <td>0</td>\n",
       "      <td>0</td>\n",
       "      <td>0</td>\n",
       "      <td>0</td>\n",
       "      <td>...</td>\n",
       "      <td>0</td>\n",
       "      <td>0</td>\n",
       "      <td>0</td>\n",
       "      <td>0</td>\n",
       "      <td>2</td>\n",
       "      <td>112</td>\n",
       "      <td>2022-10-15</td>\n",
       "      <td>4</td>\n",
       "      <td>0</td>\n",
       "      <td>2500</td>\n",
       "    </tr>\n",
       "    <tr>\n",
       "      <th>1116</th>\n",
       "      <td>СУБОТИЦА</td>\n",
       "      <td>0</td>\n",
       "      <td>0</td>\n",
       "      <td>1</td>\n",
       "      <td>0</td>\n",
       "      <td>1</td>\n",
       "      <td>0</td>\n",
       "      <td>0</td>\n",
       "      <td>2</td>\n",
       "      <td>0</td>\n",
       "      <td>...</td>\n",
       "      <td>0</td>\n",
       "      <td>0</td>\n",
       "      <td>0</td>\n",
       "      <td>0</td>\n",
       "      <td>0</td>\n",
       "      <td>112</td>\n",
       "      <td>2022-10-16</td>\n",
       "      <td>3</td>\n",
       "      <td>0</td>\n",
       "      <td>2500</td>\n",
       "    </tr>\n",
       "    <tr>\n",
       "      <th>1117</th>\n",
       "      <td>СУБОТИЦА</td>\n",
       "      <td>0</td>\n",
       "      <td>0</td>\n",
       "      <td>1</td>\n",
       "      <td>0</td>\n",
       "      <td>0</td>\n",
       "      <td>0</td>\n",
       "      <td>0</td>\n",
       "      <td>0</td>\n",
       "      <td>0</td>\n",
       "      <td>...</td>\n",
       "      <td>0</td>\n",
       "      <td>0</td>\n",
       "      <td>0</td>\n",
       "      <td>0</td>\n",
       "      <td>0</td>\n",
       "      <td>112</td>\n",
       "      <td>2022-10-17</td>\n",
       "      <td>2</td>\n",
       "      <td>0</td>\n",
       "      <td>2500</td>\n",
       "    </tr>\n",
       "    <tr>\n",
       "      <th>1118</th>\n",
       "      <td>СУБОТИЦА</td>\n",
       "      <td>0</td>\n",
       "      <td>0</td>\n",
       "      <td>0</td>\n",
       "      <td>0</td>\n",
       "      <td>0</td>\n",
       "      <td>0</td>\n",
       "      <td>0</td>\n",
       "      <td>0</td>\n",
       "      <td>0</td>\n",
       "      <td>...</td>\n",
       "      <td>0</td>\n",
       "      <td>0</td>\n",
       "      <td>0</td>\n",
       "      <td>0</td>\n",
       "      <td>0</td>\n",
       "      <td>112</td>\n",
       "      <td>2022-10-18</td>\n",
       "      <td>7</td>\n",
       "      <td>0</td>\n",
       "      <td>2500</td>\n",
       "    </tr>\n",
       "    <tr>\n",
       "      <th>1119</th>\n",
       "      <td>СУБОТИЦА</td>\n",
       "      <td>0</td>\n",
       "      <td>0</td>\n",
       "      <td>0</td>\n",
       "      <td>0</td>\n",
       "      <td>0</td>\n",
       "      <td>0</td>\n",
       "      <td>0</td>\n",
       "      <td>0</td>\n",
       "      <td>0</td>\n",
       "      <td>...</td>\n",
       "      <td>0</td>\n",
       "      <td>0</td>\n",
       "      <td>0</td>\n",
       "      <td>0</td>\n",
       "      <td>0</td>\n",
       "      <td>112</td>\n",
       "      <td>2022-10-19</td>\n",
       "      <td>2</td>\n",
       "      <td>0</td>\n",
       "      <td>2500</td>\n",
       "    </tr>\n",
       "  </tbody>\n",
       "</table>\n",
       "<p>5 rows × 31 columns</p>\n",
       "</div>"
      ],
      "text/plain": [
       "      location  ACER  ALNUS  ARTEMISIA  BETULA  CANNABACEAE  CARPINUS  CELTIS  \\\n",
       "1115  СУБОТИЦА     0      0          0       0            3         0       0   \n",
       "1116  СУБОТИЦА     0      0          1       0            1         0       0   \n",
       "1117  СУБОТИЦА     0      0          1       0            0         0       0   \n",
       "1118  СУБОТИЦА     0      0          0       0            0         0       0   \n",
       "1119  СУБОТИЦА     0      0          0       0            0         0       0   \n",
       "\n",
       "      CHENOP/AMAR.  CORYLUS  ...  RUMEX  SALIX  TILIA  ULMACEAE  URTICACEAE  \\\n",
       "1115             0        0  ...      0      0      0         0           2   \n",
       "1116             2        0  ...      0      0      0         0           0   \n",
       "1117             0        0  ...      0      0      0         0           0   \n",
       "1118             0        0  ...      0      0      0         0           0   \n",
       "1119             0        0  ...      0      0      0         0           0   \n",
       "\n",
       "      batch_id         ds  y  floor   cap  \n",
       "1115       112 2022-10-15  4      0  2500  \n",
       "1116       112 2022-10-16  3      0  2500  \n",
       "1117       112 2022-10-17  2      0  2500  \n",
       "1118       112 2022-10-18  7      0  2500  \n",
       "1119       112 2022-10-19  2      0  2500  \n",
       "\n",
       "[5 rows x 31 columns]"
      ]
     },
     "execution_count": 6,
     "metadata": {},
     "output_type": "execute_result"
    }
   ],
   "source": [
    "pollen_df = pollen_test.copy()\n",
    "\n",
    "pollen_df['date'] = pd.to_datetime(pollen_df['date'])\n",
    "\n",
    "# change the column names\n",
    "pollen_df['ds'] = pollen_df['date']\n",
    "pollen_df['y'] = pollen_df['AMBROSIA']\n",
    "pollen_df['floor'] = 0\n",
    "pollen_df['cap'] = 2500\n",
    "\n",
    "pollen_df.drop(['Unnamed: 0', 'date', 'AMBROSIA'], axis=1, inplace=True)\n",
    "\n",
    "pollen_df.tail()"
   ]
  },
  {
   "cell_type": "code",
   "execution_count": 7,
   "metadata": {},
   "outputs": [],
   "source": [
    "def next_three_days(x):\n",
    "    return [x + datetime.timedelta(days=1), x + datetime.timedelta(days=2), x + datetime.timedelta(days=3)]\n",
    "\n",
    "def predict_for_dates(m, dates, ratio):\n",
    "    future = pd.DataFrame({'ds': dates})\n",
    "    future['floor'] = 0\n",
    "    future['cap'] = 2500\n",
    "    \n",
    "    forecast = m.predict(future)\n",
    "    ans = []\n",
    "    for forecast_row in forecast.itertuples():\n",
    "        val = int(ratio * forecast_row.yhat)\n",
    "        val = max(0, val)\n",
    "        ans.append(val)\n",
    "\n",
    "        '''\n",
    "        if forecast_row.yhat_lower < 0:\n",
    "            ans.append(0)\n",
    "        else:\n",
    "            # pick random value between yhat_lower and yhat_upper\n",
    "            # ans.append(random.randrange(int(forecast_row.yhat_lower), int(forecast_row.yhat_upper)))\n",
    "            val = int(ratio * random.randrange(int(forecast_row.yhat_lower), int(forecast_row.yhat_upper)))\n",
    "            print(val, ratio, forecast_row.yhat, forecast_row.yhat_lower, forecast_row.yhat_upper)\n",
    "            ans.append(val)\n",
    "        '''\n",
    "\n",
    "    return ans"
   ]
  },
  {
   "cell_type": "markdown",
   "metadata": {},
   "source": [
    "## Start Test"
   ]
  },
  {
   "cell_type": "code",
   "execution_count": 8,
   "metadata": {},
   "outputs": [
    {
     "name": "stdout",
     "output_type": "stream",
     "text": [
      "--------- Batch id: 1 ---------\n"
     ]
    },
    {
     "name": "stderr",
     "output_type": "stream",
     "text": [
      "c:\\Users\\Branko\\miniconda3\\lib\\site-packages\\prophet\\serialize.py:160: FutureWarning: The behavior of Timestamp.utcfromtimestamp is deprecated, in a future version will return a timezone-aware Timestamp with UTC timezone. To keep the old behavior, use Timestamp.utcfromtimestamp(ts).tz_localize(None). To get the future behavior, use Timestamp.fromtimestamp(ts, 'UTC')\n",
      "  setattr(model, attribute, pd.Timestamp.utcfromtimestamp(model_dict[attribute]).tz_localize(None))\n"
     ]
    },
    {
     "name": "stdout",
     "output_type": "stream",
     "text": [
      "0.0\n",
      "2022-02-23 00:00:00 [0, 0, 0, 0, 0, 0, 0, 0, 0, 0] [0.0, 0.0, 0.0, 0.0, 0.044399638263512314, 0.2629065635541383, 0.5044197613352626, 0.7607448024623455, 1.023240909692364, 1.283107806365477]\n",
      "[0, 0, 0, 0, 0, 0, 0, 0, 0, 0] [0, 0, 0]\n",
      "--------- Batch id: 2 ---------\n"
     ]
    },
    {
     "name": "stderr",
     "output_type": "stream",
     "text": [
      "c:\\Users\\Branko\\miniconda3\\lib\\site-packages\\prophet\\serialize.py:160: FutureWarning: The behavior of Timestamp.utcfromtimestamp is deprecated, in a future version will return a timezone-aware Timestamp with UTC timezone. To keep the old behavior, use Timestamp.utcfromtimestamp(ts).tz_localize(None). To get the future behavior, use Timestamp.fromtimestamp(ts, 'UTC')\n",
      "  setattr(model, attribute, pd.Timestamp.utcfromtimestamp(model_dict[attribute]).tz_localize(None))\n"
     ]
    },
    {
     "name": "stdout",
     "output_type": "stream",
     "text": [
      "0.0\n",
      "2022-02-23 00:00:00 [0, 0, 0, 0, 0, 0, 0, 0, 0, 0] [0.0, 0.0, 0.0, 0.0, 0.0, 0.0, 0.0, 0.310158037611752, 1.1845673814772748, 1.9729735687217569]\n",
      "[0, 0, 0, 0, 0, 0, 0, 0, 0, 0] [0, 0, 0]\n",
      "--------- Batch id: 3 ---------\n"
     ]
    },
    {
     "name": "stderr",
     "output_type": "stream",
     "text": [
      "c:\\Users\\Branko\\miniconda3\\lib\\site-packages\\prophet\\serialize.py:160: FutureWarning: The behavior of Timestamp.utcfromtimestamp is deprecated, in a future version will return a timezone-aware Timestamp with UTC timezone. To keep the old behavior, use Timestamp.utcfromtimestamp(ts).tz_localize(None). To get the future behavior, use Timestamp.fromtimestamp(ts, 'UTC')\n",
      "  setattr(model, attribute, pd.Timestamp.utcfromtimestamp(model_dict[attribute]).tz_localize(None))\n"
     ]
    },
    {
     "name": "stdout",
     "output_type": "stream",
     "text": [
      "0.0\n",
      "2022-02-23 00:00:00 [0, 0, 0, 0, 0, 0, 0, 0, 0, 0] [6.028831120317749e-12, 6.029847825746935e-12, 6.0308870683992755e-12, 6.0319472307751e-12, 6.033026208167012e-12, 6.03412147461633e-12, 6.0352301605819895e-12, 6.036349139906825e-12, 6.037475123394769e-12, 6.038604756126766e-12]\n",
      "[0, 0, 0, 0, 0, 0, 0, 0, 0, 0] [0, 0, 0]\n",
      "--------- Batch id: 4 ---------\n"
     ]
    },
    {
     "name": "stderr",
     "output_type": "stream",
     "text": [
      "c:\\Users\\Branko\\miniconda3\\lib\\site-packages\\prophet\\serialize.py:160: FutureWarning: The behavior of Timestamp.utcfromtimestamp is deprecated, in a future version will return a timezone-aware Timestamp with UTC timezone. To keep the old behavior, use Timestamp.utcfromtimestamp(ts).tz_localize(None). To get the future behavior, use Timestamp.fromtimestamp(ts, 'UTC')\n",
      "  setattr(model, attribute, pd.Timestamp.utcfromtimestamp(model_dict[attribute]).tz_localize(None))\n"
     ]
    },
    {
     "name": "stdout",
     "output_type": "stream",
     "text": [
      "0.0\n",
      "2022-02-23 00:00:00 [0, 0, 0, 0, 0, 0, 0, 0, 0, 0] [1.1335413290220631e-13, 1.1337515547943202e-13, 1.1339740199148342e-13, 1.134208121677251e-13, 1.1344529345846764e-13, 1.134707240088553e-13, 1.1349695652001631e-13, 1.135238228747591e-13, 1.1355113938153423e-13, 1.1357871247153365e-13]\n",
      "[0, 0, 0, 0, 0, 0, 0, 0, 0, 0] [0, 0, 0]\n",
      "--------- Batch id: 5 ---------\n"
     ]
    },
    {
     "name": "stderr",
     "output_type": "stream",
     "text": [
      "c:\\Users\\Branko\\miniconda3\\lib\\site-packages\\prophet\\serialize.py:160: FutureWarning: The behavior of Timestamp.utcfromtimestamp is deprecated, in a future version will return a timezone-aware Timestamp with UTC timezone. To keep the old behavior, use Timestamp.utcfromtimestamp(ts).tz_localize(None). To get the future behavior, use Timestamp.fromtimestamp(ts, 'UTC')\n",
      "  setattr(model, attribute, pd.Timestamp.utcfromtimestamp(model_dict[attribute]).tz_localize(None))\n"
     ]
    },
    {
     "name": "stdout",
     "output_type": "stream",
     "text": [
      "0.0\n",
      "2022-02-23 00:00:00 [0, 0, 0, 0, 0, 0, 0, 0, 0, 0] [3.8163306282993816e-56, 3.8189567347691363e-56, 3.8216538745455405e-56, 3.824417334426313e-56, 3.827240704799188e-56, 3.8301160775095627e-56, 3.833034287773179e-56, 3.835985192715785e-56, 3.838957978014173e-56, 3.8419414832643685e-56]\n",
      "[0, 0, 0, 0, 0, 0, 0, 0, 0, 0] [0, 0, 0]\n",
      "--------- Batch id: 6 ---------\n"
     ]
    },
    {
     "name": "stderr",
     "output_type": "stream",
     "text": [
      "c:\\Users\\Branko\\miniconda3\\lib\\site-packages\\prophet\\serialize.py:160: FutureWarning: The behavior of Timestamp.utcfromtimestamp is deprecated, in a future version will return a timezone-aware Timestamp with UTC timezone. To keep the old behavior, use Timestamp.utcfromtimestamp(ts).tz_localize(None). To get the future behavior, use Timestamp.fromtimestamp(ts, 'UTC')\n",
      "  setattr(model, attribute, pd.Timestamp.utcfromtimestamp(model_dict[attribute]).tz_localize(None))\n"
     ]
    },
    {
     "name": "stdout",
     "output_type": "stream",
     "text": [
      "0.0\n",
      "2022-02-23 00:00:00 [0, 0, 0, 0, 0, 0, 0, 0, 0, 0] [0.0, 0.0, 0.0, 0.0, 0.0, 0.0, 0.0, 0.5027583243185901, 1.3727935665284132, 2.269510417201671]\n",
      "[0, 0, 0, 0, 0, 0, 0, 0, 0, 0] [0, 0, 0]\n",
      "--------- Batch id: 7 ---------\n"
     ]
    },
    {
     "name": "stderr",
     "output_type": "stream",
     "text": [
      "c:\\Users\\Branko\\miniconda3\\lib\\site-packages\\prophet\\serialize.py:160: FutureWarning: The behavior of Timestamp.utcfromtimestamp is deprecated, in a future version will return a timezone-aware Timestamp with UTC timezone. To keep the old behavior, use Timestamp.utcfromtimestamp(ts).tz_localize(None). To get the future behavior, use Timestamp.fromtimestamp(ts, 'UTC')\n",
      "  setattr(model, attribute, pd.Timestamp.utcfromtimestamp(model_dict[attribute]).tz_localize(None))\n"
     ]
    },
    {
     "name": "stdout",
     "output_type": "stream",
     "text": [
      "0.0\n",
      "2022-02-23 00:00:00 [0, 0, 0, 0, 0, 0, 0, 0, 0, 0] [0.0, 0.0, 0.0, 0.0, 0.0, 0.6170488988460752, 1.2834989706448627, 1.9492387171188923, 2.591952898247061, 3.1901763856059544]\n",
      "[0, 0, 0, 0, 0, 0, 0, 0, 0, 0] [0, 0, 0]\n",
      "--------- Batch id: 8 ---------\n"
     ]
    },
    {
     "name": "stderr",
     "output_type": "stream",
     "text": [
      "c:\\Users\\Branko\\miniconda3\\lib\\site-packages\\prophet\\serialize.py:160: FutureWarning: The behavior of Timestamp.utcfromtimestamp is deprecated, in a future version will return a timezone-aware Timestamp with UTC timezone. To keep the old behavior, use Timestamp.utcfromtimestamp(ts).tz_localize(None). To get the future behavior, use Timestamp.fromtimestamp(ts, 'UTC')\n",
      "  setattr(model, attribute, pd.Timestamp.utcfromtimestamp(model_dict[attribute]).tz_localize(None))\n"
     ]
    },
    {
     "name": "stdout",
     "output_type": "stream",
     "text": [
      "0.0\n",
      "2022-03-09 00:00:00 [0, 0, 0, 0, 0, 0, 0, 0, 0, 0] [2.25964093100579, 2.3451386069004023, 2.384520388352963, 2.3766155262988944, 2.3218253184480986, 2.2221044861941546, 2.0808916384908867, 1.9029912492151826, 1.6944111422041317, 1.462160912246342]\n",
      "[0, 0, 0, 0, 0, 0, 0, 0, 0, 0] [0, 0, 0]\n",
      "--------- Batch id: 9 ---------\n"
     ]
    },
    {
     "name": "stderr",
     "output_type": "stream",
     "text": [
      "c:\\Users\\Branko\\miniconda3\\lib\\site-packages\\prophet\\serialize.py:160: FutureWarning: The behavior of Timestamp.utcfromtimestamp is deprecated, in a future version will return a timezone-aware Timestamp with UTC timezone. To keep the old behavior, use Timestamp.utcfromtimestamp(ts).tz_localize(None). To get the future behavior, use Timestamp.fromtimestamp(ts, 'UTC')\n",
      "  setattr(model, attribute, pd.Timestamp.utcfromtimestamp(model_dict[attribute]).tz_localize(None))\n"
     ]
    },
    {
     "name": "stdout",
     "output_type": "stream",
     "text": [
      "0.0\n",
      "2022-03-09 00:00:00 [0, 0, 0, 0, 0, 0, 0, 0, 0, 0] [3.86717740156512, 3.750172330951187, 3.464184466342077, 3.01874191957535, 2.428577854989876, 1.7131472229920526, 0.895991204108015, 0.003969891739973702, 0.0, 0.0]\n",
      "[0, 0, 0, 0, 0, 0, 0, 0, 0, 0] [0, 0, 0]\n",
      "--------- Batch id: 10 ---------\n"
     ]
    },
    {
     "name": "stderr",
     "output_type": "stream",
     "text": [
      "c:\\Users\\Branko\\miniconda3\\lib\\site-packages\\prophet\\serialize.py:160: FutureWarning: The behavior of Timestamp.utcfromtimestamp is deprecated, in a future version will return a timezone-aware Timestamp with UTC timezone. To keep the old behavior, use Timestamp.utcfromtimestamp(ts).tz_localize(None). To get the future behavior, use Timestamp.fromtimestamp(ts, 'UTC')\n",
      "  setattr(model, attribute, pd.Timestamp.utcfromtimestamp(model_dict[attribute]).tz_localize(None))\n"
     ]
    },
    {
     "name": "stdout",
     "output_type": "stream",
     "text": [
      "0.0\n",
      "2022-03-09 00:00:00 [0, 0, 0, 0, 0, 0, 0, 0, 0, 0] [6.044197706404482e-12, 6.0452869455520885e-12, 6.04636212377745e-12, 6.047422370737556e-12, 6.0484673428082495e-12, 6.049497221296413e-12, 6.050512694435268e-12, 6.051514923898089e-12, 6.052505497043982e-12, 6.053486366544409e-12]\n",
      "[0, 0, 0, 0, 0, 0, 0, 0, 0, 0] [0, 0, 0]\n",
      "--------- Batch id: 11 ---------\n"
     ]
    },
    {
     "name": "stderr",
     "output_type": "stream",
     "text": [
      "c:\\Users\\Branko\\miniconda3\\lib\\site-packages\\prophet\\serialize.py:160: FutureWarning: The behavior of Timestamp.utcfromtimestamp is deprecated, in a future version will return a timezone-aware Timestamp with UTC timezone. To keep the old behavior, use Timestamp.utcfromtimestamp(ts).tz_localize(None). To get the future behavior, use Timestamp.fromtimestamp(ts, 'UTC')\n",
      "  setattr(model, attribute, pd.Timestamp.utcfromtimestamp(model_dict[attribute]).tz_localize(None))\n"
     ]
    },
    {
     "name": "stdout",
     "output_type": "stream",
     "text": [
      "0.0\n",
      "2022-03-09 00:00:00 [0, 0, 0, 0, 0, 0, 0, 0, 0, 0] [1.1371371333234847e-13, 1.1373895557749624e-13, 1.137633121851073e-13, 1.1378671001803267e-13, 1.13809108247925e-13, 1.1383049930230371e-13, 1.1385090876063625e-13, 1.1387039420742116e-13, 1.1388904308299446e-13, 1.1390696960424938e-13]\n",
      "[0, 0, 0, 0, 0, 0, 0, 0, 0, 0] [0, 0, 0]\n",
      "--------- Batch id: 12 ---------\n"
     ]
    },
    {
     "name": "stderr",
     "output_type": "stream",
     "text": [
      "c:\\Users\\Branko\\miniconda3\\lib\\site-packages\\prophet\\serialize.py:160: FutureWarning: The behavior of Timestamp.utcfromtimestamp is deprecated, in a future version will return a timezone-aware Timestamp with UTC timezone. To keep the old behavior, use Timestamp.utcfromtimestamp(ts).tz_localize(None). To get the future behavior, use Timestamp.fromtimestamp(ts, 'UTC')\n",
      "  setattr(model, attribute, pd.Timestamp.utcfromtimestamp(model_dict[attribute]).tz_localize(None))\n"
     ]
    },
    {
     "name": "stdout",
     "output_type": "stream",
     "text": [
      "0.0\n",
      "2022-03-09 00:00:00 [0, 0, 0, 0, 0, 0, 0, 0, 0, 0] [3.856646594141665e-56, 3.859481762493726e-56, 3.8622664956356473e-56, 3.864997570976736e-56, 3.867673608149825e-56, 3.870295091380946e-56, 3.872864334166522e-56, 3.875385387557154e-56, 3.8778638950874672e-56, 3.880306899037059e-56]\n",
      "[0, 0, 0, 0, 0, 0, 0, 0, 0, 0] [0, 0, 0]\n",
      "--------- Batch id: 13 ---------\n"
     ]
    },
    {
     "name": "stderr",
     "output_type": "stream",
     "text": [
      "c:\\Users\\Branko\\miniconda3\\lib\\site-packages\\prophet\\serialize.py:160: FutureWarning: The behavior of Timestamp.utcfromtimestamp is deprecated, in a future version will return a timezone-aware Timestamp with UTC timezone. To keep the old behavior, use Timestamp.utcfromtimestamp(ts).tz_localize(None). To get the future behavior, use Timestamp.fromtimestamp(ts, 'UTC')\n",
      "  setattr(model, attribute, pd.Timestamp.utcfromtimestamp(model_dict[attribute]).tz_localize(None))\n"
     ]
    },
    {
     "name": "stdout",
     "output_type": "stream",
     "text": [
      "0.0\n",
      "2022-03-09 00:00:00 [0, 0, 0, 0, 0, 0, 0, 0, 0, 0] [6.149219661683291, 6.626215639866602, 6.958642252202854, 7.135820462928251, 7.152144451127796, 7.007256974468541, 6.706055111912041, 6.2585263924699355, 5.679420737838379, 4.9877688896984935]\n",
      "[0, 0, 0, 0, 0, 0, 0, 0, 0, 0] [0, 0, 0]\n",
      "--------- Batch id: 14 ---------\n"
     ]
    },
    {
     "name": "stderr",
     "output_type": "stream",
     "text": [
      "c:\\Users\\Branko\\miniconda3\\lib\\site-packages\\prophet\\serialize.py:160: FutureWarning: The behavior of Timestamp.utcfromtimestamp is deprecated, in a future version will return a timezone-aware Timestamp with UTC timezone. To keep the old behavior, use Timestamp.utcfromtimestamp(ts).tz_localize(None). To get the future behavior, use Timestamp.fromtimestamp(ts, 'UTC')\n",
      "  setattr(model, attribute, pd.Timestamp.utcfromtimestamp(model_dict[attribute]).tz_localize(None))\n"
     ]
    },
    {
     "name": "stdout",
     "output_type": "stream",
     "text": [
      "0.0\n",
      "2022-03-09 00:00:00 [0, 0, 0, 0, 0, 0, 0, 0, 0, 0] [4.904729012479299, 4.9122973317235905, 4.798411246157744, 4.566817152065916, 4.225128639689813, 3.784571389896461, 3.259611392788612, 2.667478646006706, 2.027601824670583, 1.360972250221938]\n",
      "[0, 0, 0, 0, 0, 0, 0, 0, 0, 0] [0, 0, 0]\n",
      "--------- Batch id: 15 ---------\n"
     ]
    },
    {
     "name": "stderr",
     "output_type": "stream",
     "text": [
      "c:\\Users\\Branko\\miniconda3\\lib\\site-packages\\prophet\\serialize.py:160: FutureWarning: The behavior of Timestamp.utcfromtimestamp is deprecated, in a future version will return a timezone-aware Timestamp with UTC timezone. To keep the old behavior, use Timestamp.utcfromtimestamp(ts).tz_localize(None). To get the future behavior, use Timestamp.fromtimestamp(ts, 'UTC')\n",
      "  setattr(model, attribute, pd.Timestamp.utcfromtimestamp(model_dict[attribute]).tz_localize(None))\n"
     ]
    },
    {
     "name": "stdout",
     "output_type": "stream",
     "text": [
      "0.0\n",
      "2022-03-23 00:00:00 [0, 0, 0, 0, 0, 0, 0, 0, 0, 0] [0.2300778189208012, 0.027251493854326146, 0.0, 0.0, 0.0, 0.0, 0.0, 0.0, 0.0, 0.0]\n",
      "[0, 0, 0, 0, 0, 0, 0, 0, 0, 0] [0, 0, 0]\n",
      "--------- Batch id: 16 ---------\n"
     ]
    },
    {
     "name": "stderr",
     "output_type": "stream",
     "text": [
      "c:\\Users\\Branko\\miniconda3\\lib\\site-packages\\prophet\\serialize.py:160: FutureWarning: The behavior of Timestamp.utcfromtimestamp is deprecated, in a future version will return a timezone-aware Timestamp with UTC timezone. To keep the old behavior, use Timestamp.utcfromtimestamp(ts).tz_localize(None). To get the future behavior, use Timestamp.fromtimestamp(ts, 'UTC')\n",
      "  setattr(model, attribute, pd.Timestamp.utcfromtimestamp(model_dict[attribute]).tz_localize(None))\n"
     ]
    },
    {
     "name": "stdout",
     "output_type": "stream",
     "text": [
      "0.0\n",
      "2022-03-23 00:00:00 [0, 0, 0, 0, 0, 0, 0, 0, 0, 0] [0, 0, 0, 0, 0, 0, 0, 0, 0, 0]\n",
      "[0, 0, 0, 0, 0, 0, 0, 0, 0, 0] [0, 0, 0]\n",
      "--------- Batch id: 17 ---------\n"
     ]
    },
    {
     "name": "stderr",
     "output_type": "stream",
     "text": [
      "c:\\Users\\Branko\\miniconda3\\lib\\site-packages\\prophet\\serialize.py:160: FutureWarning: The behavior of Timestamp.utcfromtimestamp is deprecated, in a future version will return a timezone-aware Timestamp with UTC timezone. To keep the old behavior, use Timestamp.utcfromtimestamp(ts).tz_localize(None). To get the future behavior, use Timestamp.fromtimestamp(ts, 'UTC')\n",
      "  setattr(model, attribute, pd.Timestamp.utcfromtimestamp(model_dict[attribute]).tz_localize(None))\n"
     ]
    },
    {
     "name": "stdout",
     "output_type": "stream",
     "text": [
      "0.0\n",
      "2022-03-23 00:00:00 [0, 0, 0, 0, 0, 0, 0, 0, 0, 0] [6.058329536071197e-12, 6.059303890320738e-12, 6.060285775608305e-12, 6.061277158902759e-12, 6.062279663354516e-12, 6.063294518551313e-12, 6.0643225242671555e-12, 6.065364028750703e-12, 6.066418922125671e-12, 6.067486644987083e-12]\n",
      "[0, 0, 0, 0, 0, 0, 0, 0, 0, 0] [0, 0, 0]\n",
      "--------- Batch id: 18 ---------\n"
     ]
    },
    {
     "name": "stderr",
     "output_type": "stream",
     "text": [
      "c:\\Users\\Branko\\miniconda3\\lib\\site-packages\\prophet\\serialize.py:160: FutureWarning: The behavior of Timestamp.utcfromtimestamp is deprecated, in a future version will return a timezone-aware Timestamp with UTC timezone. To keep the old behavior, use Timestamp.utcfromtimestamp(ts).tz_localize(None). To get the future behavior, use Timestamp.fromtimestamp(ts, 'UTC')\n",
      "  setattr(model, attribute, pd.Timestamp.utcfromtimestamp(model_dict[attribute]).tz_localize(None))\n"
     ]
    },
    {
     "name": "stdout",
     "output_type": "stream",
     "text": [
      "0.0\n",
      "2022-03-23 00:00:00 [0, 0, 0, 0, 0, 0, 0, 0, 0, 0] [1.1399109298562567e-13, 1.1400801565247644e-13, 1.140253685218218e-13, 1.140433008341684e-13, 1.140619421338534e-13, 1.1408139814062138e-13, 1.1410174740678127e-13, 1.1412303886451145e-13, 1.141452903393808e-13, 1.1416848807519685e-13]\n",
      "[0, 0, 0, 0, 0, 0, 0, 0, 0, 0] [0, 0, 0]\n",
      "--------- Batch id: 19 ---------\n"
     ]
    },
    {
     "name": "stderr",
     "output_type": "stream",
     "text": [
      "c:\\Users\\Branko\\miniconda3\\lib\\site-packages\\prophet\\serialize.py:160: FutureWarning: The behavior of Timestamp.utcfromtimestamp is deprecated, in a future version will return a timezone-aware Timestamp with UTC timezone. To keep the old behavior, use Timestamp.utcfromtimestamp(ts).tz_localize(None). To get the future behavior, use Timestamp.fromtimestamp(ts, 'UTC')\n",
      "  setattr(model, attribute, pd.Timestamp.utcfromtimestamp(model_dict[attribute]).tz_localize(None))\n"
     ]
    },
    {
     "name": "stdout",
     "output_type": "stream",
     "text": [
      "0.0\n",
      "2022-03-23 00:00:00 [0, 0, 0, 0, 0, 0, 0, 0, 0, 0] [3.892301368330302e-56, 3.8947241402767323e-56, 3.897176753098305e-56, 3.899667150807317e-56, 3.902202073445781e-56, 3.904786843983336e-56, 3.907425201041038e-56, 3.9101191826313065e-56, 3.9128690645022374e-56, 3.915673354955978e-56]\n",
      "[0, 0, 0, 0, 0, 0, 0, 0, 0, 0] [0, 0, 0]\n",
      "--------- Batch id: 20 ---------\n"
     ]
    },
    {
     "name": "stderr",
     "output_type": "stream",
     "text": [
      "c:\\Users\\Branko\\miniconda3\\lib\\site-packages\\prophet\\serialize.py:160: FutureWarning: The behavior of Timestamp.utcfromtimestamp is deprecated, in a future version will return a timezone-aware Timestamp with UTC timezone. To keep the old behavior, use Timestamp.utcfromtimestamp(ts).tz_localize(None). To get the future behavior, use Timestamp.fromtimestamp(ts, 'UTC')\n",
      "  setattr(model, attribute, pd.Timestamp.utcfromtimestamp(model_dict[attribute]).tz_localize(None))\n"
     ]
    },
    {
     "name": "stdout",
     "output_type": "stream",
     "text": [
      "0.0\n",
      "2022-03-23 00:00:00 [0, 0, 0, 0, 0, 0, 0, 0, 0, 0] [0.7199623438583975, 0.0, 0.0, 0.0, 0.0, 0.0, 0.0, 0.0, 0.0, 0.0]\n",
      "[0, 0, 0, 0, 0, 0, 0, 0, 0, 0] [0, 0, 0]\n",
      "--------- Batch id: 21 ---------\n"
     ]
    },
    {
     "name": "stderr",
     "output_type": "stream",
     "text": [
      "c:\\Users\\Branko\\miniconda3\\lib\\site-packages\\prophet\\serialize.py:160: FutureWarning: The behavior of Timestamp.utcfromtimestamp is deprecated, in a future version will return a timezone-aware Timestamp with UTC timezone. To keep the old behavior, use Timestamp.utcfromtimestamp(ts).tz_localize(None). To get the future behavior, use Timestamp.fromtimestamp(ts, 'UTC')\n",
      "  setattr(model, attribute, pd.Timestamp.utcfromtimestamp(model_dict[attribute]).tz_localize(None))\n"
     ]
    },
    {
     "name": "stdout",
     "output_type": "stream",
     "text": [
      "0.0\n",
      "2022-03-23 00:00:00 [0, 1, 0, 0, 0, 1, 1, 0, 0, 0] [0, 0, 0, 0, 0, 0, 0, 0, 0, 0]\n",
      "[0, 0, 0, 0, 0, 0, 0, 0, 0, 0] [0, 0, 0]\n",
      "--------- Batch id: 22 ---------\n"
     ]
    },
    {
     "name": "stderr",
     "output_type": "stream",
     "text": [
      "c:\\Users\\Branko\\miniconda3\\lib\\site-packages\\prophet\\serialize.py:160: FutureWarning: The behavior of Timestamp.utcfromtimestamp is deprecated, in a future version will return a timezone-aware Timestamp with UTC timezone. To keep the old behavior, use Timestamp.utcfromtimestamp(ts).tz_localize(None). To get the future behavior, use Timestamp.fromtimestamp(ts, 'UTC')\n",
      "  setattr(model, attribute, pd.Timestamp.utcfromtimestamp(model_dict[attribute]).tz_localize(None))\n"
     ]
    },
    {
     "name": "stdout",
     "output_type": "stream",
     "text": [
      "0.0\n",
      "2022-04-06 00:00:00 [0, 0, 0, 0, 0, 0, 0, 0, 0, 0] [0.9411368245950045, 1.1935741247719234, 1.4381745674614608, 1.666716965472607, 1.8715058087165486, 2.0456272666220103, 2.183179838273385, 2.2794720325912605, 2.331180520962948, 2.336463479426863]\n",
      "[0, 0, 0, 0, 0, 0, 0, 0, 0, 0] [0, 0, 0]\n",
      "--------- Batch id: 23 ---------\n"
     ]
    },
    {
     "name": "stderr",
     "output_type": "stream",
     "text": [
      "c:\\Users\\Branko\\miniconda3\\lib\\site-packages\\prophet\\serialize.py:160: FutureWarning: The behavior of Timestamp.utcfromtimestamp is deprecated, in a future version will return a timezone-aware Timestamp with UTC timezone. To keep the old behavior, use Timestamp.utcfromtimestamp(ts).tz_localize(None). To get the future behavior, use Timestamp.fromtimestamp(ts, 'UTC')\n",
      "  setattr(model, attribute, pd.Timestamp.utcfromtimestamp(model_dict[attribute]).tz_localize(None))\n"
     ]
    },
    {
     "name": "stdout",
     "output_type": "stream",
     "text": [
      "0.0\n",
      "2022-04-06 00:00:00 [0, 0, 0, 0, 0, 0, 0, 0, 0, 0] [0.7949926257737169, 1.6492705516925064, 2.407095742285378, 3.0431966935153563, 3.5361890781205285, 3.869287442557512, 4.030870756807008, 4.014882995672945, 3.821055143148935, 3.4549406779410328]\n",
      "[0, 0, 0, 0, 0, 0, 0, 0, 0, 0] [0, 0, 0]\n",
      "--------- Batch id: 24 ---------\n"
     ]
    },
    {
     "name": "stderr",
     "output_type": "stream",
     "text": [
      "c:\\Users\\Branko\\miniconda3\\lib\\site-packages\\prophet\\serialize.py:160: FutureWarning: The behavior of Timestamp.utcfromtimestamp is deprecated, in a future version will return a timezone-aware Timestamp with UTC timezone. To keep the old behavior, use Timestamp.utcfromtimestamp(ts).tz_localize(None). To get the future behavior, use Timestamp.fromtimestamp(ts, 'UTC')\n",
      "  setattr(model, attribute, pd.Timestamp.utcfromtimestamp(model_dict[attribute]).tz_localize(None))\n"
     ]
    },
    {
     "name": "stdout",
     "output_type": "stream",
     "text": [
      "0.0\n",
      "2022-04-06 00:00:00 [0, 0, 0, 0, 0, 0, 0, 0, 0, 0] [6.072970718747109e-12, 6.0740830708669085e-12, 6.075195267886679e-12, 6.07630495191469e-12, 6.077409872918284e-12, 6.07850796433222e-12, 6.0795974121187834e-12, 6.080676715021632e-12, 6.081744734048159e-12, 6.0828007295773924e-12]\n",
      "[0, 0, 0, 0, 0, 0, 0, 0, 0, 0] [0, 0, 0]\n",
      "--------- Batch id: 25 ---------\n"
     ]
    },
    {
     "name": "stderr",
     "output_type": "stream",
     "text": [
      "c:\\Users\\Branko\\miniconda3\\lib\\site-packages\\prophet\\serialize.py:160: FutureWarning: The behavior of Timestamp.utcfromtimestamp is deprecated, in a future version will return a timezone-aware Timestamp with UTC timezone. To keep the old behavior, use Timestamp.utcfromtimestamp(ts).tz_localize(None). To get the future behavior, use Timestamp.fromtimestamp(ts, 'UTC')\n",
      "  setattr(model, attribute, pd.Timestamp.utcfromtimestamp(model_dict[attribute]).tz_localize(None))\n"
     ]
    },
    {
     "name": "stdout",
     "output_type": "stream",
     "text": [
      "0.0\n",
      "2022-04-06 00:00:00 [0, 0, 0, 0, 0, 0, 0, 0, 0, 0] [1.1429612986212322e-13, 1.1432313797294408e-13, 1.143502754104178e-13, 1.1437736975827635e-13, 1.144042503201103e-13, 1.1443075371655483e-13, 1.144567292417383e-13, 1.144820438057607e-13, 1.145065863031754e-13, 1.145302712658318e-13]\n",
      "[0, 0, 0, 0, 0, 0, 0, 0, 0, 0] [0, 0, 0]\n",
      "--------- Batch id: 26 ---------\n"
     ]
    },
    {
     "name": "stderr",
     "output_type": "stream",
     "text": [
      "c:\\Users\\Branko\\miniconda3\\lib\\site-packages\\prophet\\serialize.py:160: FutureWarning: The behavior of Timestamp.utcfromtimestamp is deprecated, in a future version will return a timezone-aware Timestamp with UTC timezone. To keep the old behavior, use Timestamp.utcfromtimestamp(ts).tz_localize(None). To get the future behavior, use Timestamp.fromtimestamp(ts, 'UTC')\n",
      "  setattr(model, attribute, pd.Timestamp.utcfromtimestamp(model_dict[attribute]).tz_localize(None))\n"
     ]
    },
    {
     "name": "stdout",
     "output_type": "stream",
     "text": [
      "0.0\n",
      "2022-04-06 00:00:00 [0, 0, 0, 0, 0, 0, 0, 0, 0, 0] [3.9303459535041425e-56, 3.9333594399657143e-56, 3.936378076877468e-56, 3.939392073890845e-56, 3.9423918439716283e-56, 3.945368314609694e-56, 3.9483132228578496e-56, 3.951219384759205e-56, 3.954080930516749e-56, 3.9568934978267996e-56]\n",
      "[0, 0, 0, 0, 0, 0, 0, 0, 0, 0] [0, 0, 0]\n",
      "--------- Batch id: 27 ---------\n"
     ]
    },
    {
     "name": "stderr",
     "output_type": "stream",
     "text": [
      "c:\\Users\\Branko\\miniconda3\\lib\\site-packages\\prophet\\serialize.py:160: FutureWarning: The behavior of Timestamp.utcfromtimestamp is deprecated, in a future version will return a timezone-aware Timestamp with UTC timezone. To keep the old behavior, use Timestamp.utcfromtimestamp(ts).tz_localize(None). To get the future behavior, use Timestamp.fromtimestamp(ts, 'UTC')\n",
      "  setattr(model, attribute, pd.Timestamp.utcfromtimestamp(model_dict[attribute]).tz_localize(None))\n"
     ]
    },
    {
     "name": "stdout",
     "output_type": "stream",
     "text": [
      "0.0\n",
      "2022-04-06 00:00:00 [0, 0, 0, 0, 0, 0, 0, 0, 0, 0] [0.8933415421584932, 1.778361850400262, 2.6816070139394275, 3.573513432499335, 4.424801511059879, 5.207428429435751, 5.895503891767075, 6.466139242347994, 6.900202372380655, 7.182953765186796]\n",
      "[0, 0, 0, 0, 0, 0, 0, 0, 0, 0] [0, 0, 0]\n",
      "--------- Batch id: 28 ---------\n"
     ]
    },
    {
     "name": "stderr",
     "output_type": "stream",
     "text": [
      "c:\\Users\\Branko\\miniconda3\\lib\\site-packages\\prophet\\serialize.py:160: FutureWarning: The behavior of Timestamp.utcfromtimestamp is deprecated, in a future version will return a timezone-aware Timestamp with UTC timezone. To keep the old behavior, use Timestamp.utcfromtimestamp(ts).tz_localize(None). To get the future behavior, use Timestamp.fromtimestamp(ts, 'UTC')\n",
      "  setattr(model, attribute, pd.Timestamp.utcfromtimestamp(model_dict[attribute]).tz_localize(None))\n"
     ]
    },
    {
     "name": "stdout",
     "output_type": "stream",
     "text": [
      "0.0\n",
      "2022-04-06 00:00:00 [0, 0, 0, 0, 0, 0, 0, 0, 0, 0] [2.2174135927745287, 2.852151264235842, 3.4336200678572992, 3.9424621597090868, 4.361638744019902, 4.6769935577839705, 4.877724720523498, 4.95674940696365, 4.910949189464807, 4.741287684352904]\n",
      "[0, 0, 0, 0, 0, 0, 0, 0, 0, 0] [0, 0, 0]\n",
      "--------- Batch id: 29 ---------\n"
     ]
    },
    {
     "name": "stderr",
     "output_type": "stream",
     "text": [
      "c:\\Users\\Branko\\miniconda3\\lib\\site-packages\\prophet\\serialize.py:160: FutureWarning: The behavior of Timestamp.utcfromtimestamp is deprecated, in a future version will return a timezone-aware Timestamp with UTC timezone. To keep the old behavior, use Timestamp.utcfromtimestamp(ts).tz_localize(None). To get the future behavior, use Timestamp.fromtimestamp(ts, 'UTC')\n",
      "  setattr(model, attribute, pd.Timestamp.utcfromtimestamp(model_dict[attribute]).tz_localize(None))\n"
     ]
    },
    {
     "name": "stdout",
     "output_type": "stream",
     "text": [
      "0.0\n",
      "2022-04-20 00:00:00 [0, 0, 0, 0, 0, 0, 0, 0, 0, 0] [1.709606818582026, 1.482371086645121, 1.236384602627558, 0.9798429374944945, 0.7213262775282394, 0.4695153678120082, 0.23290286956711906, 0.019509607233826522, 0.0, 0.0]\n",
      "[0, 0, 0, 0, 0, 0, 0, 0, 0, 0] [0, 0, 0]\n",
      "--------- Batch id: 30 ---------\n"
     ]
    },
    {
     "name": "stderr",
     "output_type": "stream",
     "text": [
      "c:\\Users\\Branko\\miniconda3\\lib\\site-packages\\prophet\\serialize.py:160: FutureWarning: The behavior of Timestamp.utcfromtimestamp is deprecated, in a future version will return a timezone-aware Timestamp with UTC timezone. To keep the old behavior, use Timestamp.utcfromtimestamp(ts).tz_localize(None). To get the future behavior, use Timestamp.fromtimestamp(ts, 'UTC')\n",
      "  setattr(model, attribute, pd.Timestamp.utcfromtimestamp(model_dict[attribute]).tz_localize(None))\n"
     ]
    },
    {
     "name": "stdout",
     "output_type": "stream",
     "text": [
      "0.0\n",
      "2022-04-20 00:00:00 [0, 0, 0, 0, 0, 0, 0, 0, 0, 0] [0, 0, 0, 0, 0, 0, 0, 0, 0, 0]\n",
      "[0, 0, 0, 0, 0, 0, 0, 0, 0, 0] [0, 0, 0]\n",
      "--------- Batch id: 31 ---------\n"
     ]
    },
    {
     "name": "stderr",
     "output_type": "stream",
     "text": [
      "c:\\Users\\Branko\\miniconda3\\lib\\site-packages\\prophet\\serialize.py:160: FutureWarning: The behavior of Timestamp.utcfromtimestamp is deprecated, in a future version will return a timezone-aware Timestamp with UTC timezone. To keep the old behavior, use Timestamp.utcfromtimestamp(ts).tz_localize(None). To get the future behavior, use Timestamp.fromtimestamp(ts, 'UTC')\n",
      "  setattr(model, attribute, pd.Timestamp.utcfromtimestamp(model_dict[attribute]).tz_localize(None))\n"
     ]
    },
    {
     "name": "stdout",
     "output_type": "stream",
     "text": [
      "0.0\n",
      "2022-04-20 00:00:00 [0, 0, 0, 0, 0, 0, 0, 0, 0, 0] [6.087904182488818e-12, 6.088896027111421e-12, 6.089882033358798e-12, 6.090864327276792e-12, 6.091845166690391e-12, 6.0928268638651475e-12, 6.093811706334233e-12, 6.094801878543864e-12, 6.095799386949333e-12, 6.096805991078831e-12]\n",
      "[0, 0, 0, 0, 0, 0, 0, 0, 0, 0] [0, 0, 0]\n",
      "--------- Batch id: 32 ---------\n"
     ]
    },
    {
     "name": "stderr",
     "output_type": "stream",
     "text": [
      "c:\\Users\\Branko\\miniconda3\\lib\\site-packages\\prophet\\serialize.py:160: FutureWarning: The behavior of Timestamp.utcfromtimestamp is deprecated, in a future version will return a timezone-aware Timestamp with UTC timezone. To keep the old behavior, use Timestamp.utcfromtimestamp(ts).tz_localize(None). To get the future behavior, use Timestamp.fromtimestamp(ts, 'UTC')\n",
      "  setattr(model, attribute, pd.Timestamp.utcfromtimestamp(model_dict[attribute]).tz_localize(None))\n"
     ]
    },
    {
     "name": "stdout",
     "output_type": "stream",
     "text": [
      "0.0\n",
      "2022-04-20 00:00:00 [0, 0, 0, 0, 0, 0, 0, 0, 0, 0] [1.1463491163160318e-13, 1.146533265576346e-13, 1.1467111838503454e-13, 1.1468842659322863e-13, 1.1470540712781278e-13, 1.147222273074922e-13, 1.1473906034565016e-13, 1.1475607966355626e-13, 1.1477345317955143e-13, 1.147913377598922e-13]\n",
      "[0, 0, 0, 0, 0, 0, 0, 0, 0, 0] [0, 0, 0]\n",
      "--------- Batch id: 33 ---------\n"
     ]
    },
    {
     "name": "stderr",
     "output_type": "stream",
     "text": [
      "c:\\Users\\Branko\\miniconda3\\lib\\site-packages\\prophet\\serialize.py:160: FutureWarning: The behavior of Timestamp.utcfromtimestamp is deprecated, in a future version will return a timezone-aware Timestamp with UTC timezone. To keep the old behavior, use Timestamp.utcfromtimestamp(ts).tz_localize(None). To get the future behavior, use Timestamp.fromtimestamp(ts, 'UTC')\n",
      "  setattr(model, attribute, pd.Timestamp.utcfromtimestamp(model_dict[attribute]).tz_localize(None))\n"
     ]
    },
    {
     "name": "stdout",
     "output_type": "stream",
     "text": [
      "0.0\n",
      "2022-04-20 00:00:00 [0, 0, 0, 0, 0, 0, 0, 0, 0, 0] [3.9701882634218146e-56, 3.9727112121374094e-56, 3.975202153157119e-56, 3.977669405872658e-56, 3.9801221648518976e-56, 3.9825702051991195e-56, 3.985023567826582e-56, 3.987492234619887e-56, 3.989985803856191e-56, 3.9925131762715806e-56]\n",
      "[0, 0, 0, 0, 0, 0, 0, 0, 0, 0] [0, 0, 0]\n",
      "--------- Batch id: 34 ---------\n"
     ]
    },
    {
     "name": "stderr",
     "output_type": "stream",
     "text": [
      "c:\\Users\\Branko\\miniconda3\\lib\\site-packages\\prophet\\serialize.py:160: FutureWarning: The behavior of Timestamp.utcfromtimestamp is deprecated, in a future version will return a timezone-aware Timestamp with UTC timezone. To keep the old behavior, use Timestamp.utcfromtimestamp(ts).tz_localize(None). To get the future behavior, use Timestamp.fromtimestamp(ts, 'UTC')\n",
      "  setattr(model, attribute, pd.Timestamp.utcfromtimestamp(model_dict[attribute]).tz_localize(None))\n"
     ]
    },
    {
     "name": "stdout",
     "output_type": "stream",
     "text": [
      "0.0\n",
      "2022-04-20 00:00:00 [0, 0, 0, 0, 0, 0, 0, 0, 0, 0] [6.167660947833347, 5.521049260321474, 4.7639254495331835, 3.9206498292633896, 3.0185264403815153, 2.0869294390652033, 1.156357691946616, 0.2574476647562863, 0.0, 0.0]\n",
      "[0, 0, 0, 0, 0, 0, 0, 0, 0, 0] [0, 0, 0]\n",
      "--------- Batch id: 35 ---------\n"
     ]
    },
    {
     "name": "stderr",
     "output_type": "stream",
     "text": [
      "c:\\Users\\Branko\\miniconda3\\lib\\site-packages\\prophet\\serialize.py:160: FutureWarning: The behavior of Timestamp.utcfromtimestamp is deprecated, in a future version will return a timezone-aware Timestamp with UTC timezone. To keep the old behavior, use Timestamp.utcfromtimestamp(ts).tz_localize(None). To get the future behavior, use Timestamp.fromtimestamp(ts, 'UTC')\n",
      "  setattr(model, attribute, pd.Timestamp.utcfromtimestamp(model_dict[attribute]).tz_localize(None))\n"
     ]
    },
    {
     "name": "stdout",
     "output_type": "stream",
     "text": [
      "0.0\n",
      "2022-04-20 00:00:00 [0, 0, 0, 0, 0, 0, 0, 0, 0, 0] [2.341815755204021, 1.6598643776723683, 0.9581094268386063, 0.25957966820007294, 0.0, 0.0, 0.0, 0.0, 0.0, 0.0]\n",
      "[0, 0, 0, 0, 0, 0, 0, 0, 0, 0] [0, 0, 0]\n",
      "--------- Batch id: 36 ---------\n"
     ]
    },
    {
     "name": "stderr",
     "output_type": "stream",
     "text": [
      "c:\\Users\\Branko\\miniconda3\\lib\\site-packages\\prophet\\serialize.py:160: FutureWarning: The behavior of Timestamp.utcfromtimestamp is deprecated, in a future version will return a timezone-aware Timestamp with UTC timezone. To keep the old behavior, use Timestamp.utcfromtimestamp(ts).tz_localize(None). To get the future behavior, use Timestamp.fromtimestamp(ts, 'UTC')\n",
      "  setattr(model, attribute, pd.Timestamp.utcfromtimestamp(model_dict[attribute]).tz_localize(None))\n"
     ]
    },
    {
     "name": "stdout",
     "output_type": "stream",
     "text": [
      "0.0\n",
      "2022-05-18 00:00:00 [0, 0, 0, 0, 0, 0, 0, 0, 0, 0] [2.4308512364549126, 2.4435000709449155, 2.4045230197753162, 2.3147489856659824, 2.176736962585369, 1.9947086349287966, 1.7744247828234796, 1.5230089461010865, 1.2487235706598687, 0.9607054837965404]\n",
      "[0, 0, 0, 0, 0, 0, 0, 0, 0, 0] [0, 0, 0]\n",
      "--------- Batch id: 37 ---------\n"
     ]
    },
    {
     "name": "stderr",
     "output_type": "stream",
     "text": [
      "c:\\Users\\Branko\\miniconda3\\lib\\site-packages\\prophet\\serialize.py:160: FutureWarning: The behavior of Timestamp.utcfromtimestamp is deprecated, in a future version will return a timezone-aware Timestamp with UTC timezone. To keep the old behavior, use Timestamp.utcfromtimestamp(ts).tz_localize(None). To get the future behavior, use Timestamp.fromtimestamp(ts, 'UTC')\n",
      "  setattr(model, attribute, pd.Timestamp.utcfromtimestamp(model_dict[attribute]).tz_localize(None))\n"
     ]
    },
    {
     "name": "stdout",
     "output_type": "stream",
     "text": [
      "0.0\n",
      "2022-05-18 00:00:00 [0, 0, 0, 0, 0, 0, 0, 0, 0, 0] [4.708521543157092, 4.400810289737765, 3.898809931280028, 3.2170170234942392, 2.3760366873530794, 1.401984749511718, 0.32570362759584526, 0.0, 0.0, 0.0]\n",
      "[0, 0, 0, 0, 0, 0, 0, 0, 0, 0] [0, 0, 0]\n",
      "--------- Batch id: 38 ---------\n"
     ]
    },
    {
     "name": "stderr",
     "output_type": "stream",
     "text": [
      "c:\\Users\\Branko\\miniconda3\\lib\\site-packages\\prophet\\serialize.py:160: FutureWarning: The behavior of Timestamp.utcfromtimestamp is deprecated, in a future version will return a timezone-aware Timestamp with UTC timezone. To keep the old behavior, use Timestamp.utcfromtimestamp(ts).tz_localize(None). To get the future behavior, use Timestamp.fromtimestamp(ts, 'UTC')\n",
      "  setattr(model, attribute, pd.Timestamp.utcfromtimestamp(model_dict[attribute]).tz_localize(None))\n"
     ]
    },
    {
     "name": "stdout",
     "output_type": "stream",
     "text": [
      "0.0\n",
      "2022-05-18 00:00:00 [0, 0, 0, 0, 0, 0, 0, 0, 0, 0] [6.117403731752443e-12, 6.118458656418153e-12, 6.119500738146383e-12, 6.120530201015637e-12, 6.121547719779005e-12, 6.122554400952939e-12, 6.123551748981722e-12, 6.124541618493519e-12, 6.125526154139213e-12, 6.126507719944051e-12]\n",
      "[0, 0, 0, 0, 0, 0, 0, 0, 0, 0] [0, 0, 0]\n",
      "--------- Batch id: 39 ---------\n"
     ]
    },
    {
     "name": "stderr",
     "output_type": "stream",
     "text": [
      "c:\\Users\\Branko\\miniconda3\\lib\\site-packages\\prophet\\serialize.py:160: FutureWarning: The behavior of Timestamp.utcfromtimestamp is deprecated, in a future version will return a timezone-aware Timestamp with UTC timezone. To keep the old behavior, use Timestamp.utcfromtimestamp(ts).tz_localize(None). To get the future behavior, use Timestamp.fromtimestamp(ts, 'UTC')\n",
      "  setattr(model, attribute, pd.Timestamp.utcfromtimestamp(model_dict[attribute]).tz_localize(None))\n"
     ]
    },
    {
     "name": "stdout",
     "output_type": "stream",
     "text": [
      "0.0\n",
      "2022-05-18 00:00:00 [0, 0, 0, 0, 0, 0, 0, 0, 0, 0] [1.1525777171132397e-13, 1.1528204132003483e-13, 1.1530535128946255e-13, 1.1532765501555644e-13, 1.1534893914676294e-13, 1.1536922428569602e-13, 1.1538856457855264e-13, 1.1540704619666643e-13, 1.1542478475074776e-13, 1.1544192171364355e-13]\n",
      "[0, 0, 0, 0, 0, 0, 0, 0, 0, 0] [0, 0, 0]\n",
      "--------- Batch id: 40 ---------\n"
     ]
    },
    {
     "name": "stderr",
     "output_type": "stream",
     "text": [
      "c:\\Users\\Branko\\miniconda3\\lib\\site-packages\\prophet\\serialize.py:160: FutureWarning: The behavior of Timestamp.utcfromtimestamp is deprecated, in a future version will return a timezone-aware Timestamp with UTC timezone. To keep the old behavior, use Timestamp.utcfromtimestamp(ts).tz_localize(None). To get the future behavior, use Timestamp.fromtimestamp(ts, 'UTC')\n",
      "  setattr(model, attribute, pd.Timestamp.utcfromtimestamp(model_dict[attribute]).tz_localize(None))\n"
     ]
    },
    {
     "name": "stdout",
     "output_type": "stream",
     "text": [
      "0.0\n",
      "2022-05-18 00:00:00 [0, 0, 0, 0, 0, 0, 0, 0, 0, 0] [4.0482684673255464e-56, 4.051189165678709e-56, 4.054053435899854e-56, 4.056858588027062e-56, 4.0596039013533526e-56, 4.062290669602758e-56, 4.0649221816769116e-56, 4.0675036379060994e-56, 4.070042003791356e-56, 4.072545805235415e-56]\n",
      "[0, 0, 0, 0, 0, 0, 0, 0, 0, 0] [0, 0, 0]\n",
      "--------- Batch id: 41 ---------\n"
     ]
    },
    {
     "name": "stderr",
     "output_type": "stream",
     "text": [
      "c:\\Users\\Branko\\miniconda3\\lib\\site-packages\\prophet\\serialize.py:160: FutureWarning: The behavior of Timestamp.utcfromtimestamp is deprecated, in a future version will return a timezone-aware Timestamp with UTC timezone. To keep the old behavior, use Timestamp.utcfromtimestamp(ts).tz_localize(None). To get the future behavior, use Timestamp.fromtimestamp(ts, 'UTC')\n",
      "  setattr(model, attribute, pd.Timestamp.utcfromtimestamp(model_dict[attribute]).tz_localize(None))\n"
     ]
    },
    {
     "name": "stdout",
     "output_type": "stream",
     "text": [
      "0.0\n",
      "2022-05-18 00:00:00 [0, 0, 0, 0, 0, 0, 0, 0, 0, 0] [7.224712489703763, 7.643528199569763, 7.888250549541228, 7.949126390597255, 7.822356961798786, 7.5102845600010815, 7.021381633270094, 6.370040543102551, 5.576168617499706, 4.664599416899877]\n",
      "[0, 0, 0, 0, 0, 0, 0, 0, 0, 0] [0, 0, 0]\n",
      "--------- Batch id: 42 ---------\n"
     ]
    },
    {
     "name": "stderr",
     "output_type": "stream",
     "text": [
      "c:\\Users\\Branko\\miniconda3\\lib\\site-packages\\prophet\\serialize.py:160: FutureWarning: The behavior of Timestamp.utcfromtimestamp is deprecated, in a future version will return a timezone-aware Timestamp with UTC timezone. To keep the old behavior, use Timestamp.utcfromtimestamp(ts).tz_localize(None). To get the future behavior, use Timestamp.fromtimestamp(ts, 'UTC')\n",
      "  setattr(model, attribute, pd.Timestamp.utcfromtimestamp(model_dict[attribute]).tz_localize(None))\n"
     ]
    },
    {
     "name": "stdout",
     "output_type": "stream",
     "text": [
      "0.0\n",
      "2022-05-18 00:00:00 [0, 0, 0, 0, 0, 0, 0, 0, 0, 0] [5.4405258481700844, 5.3246568594415145, 5.069086387736758, 4.680730008761012, 4.170953223157284, 3.555250977367749, 2.852789390579358, 2.085822860334524, 1.2790038574510298, 0.45860635769772]\n",
      "[0, 0, 0, 0, 0, 0, 0, 0, 0, 0] [0, 0, 0]\n",
      "--------- Batch id: 43 ---------\n"
     ]
    },
    {
     "name": "stderr",
     "output_type": "stream",
     "text": [
      "c:\\Users\\Branko\\miniconda3\\lib\\site-packages\\prophet\\serialize.py:160: FutureWarning: The behavior of Timestamp.utcfromtimestamp is deprecated, in a future version will return a timezone-aware Timestamp with UTC timezone. To keep the old behavior, use Timestamp.utcfromtimestamp(ts).tz_localize(None). To get the future behavior, use Timestamp.fromtimestamp(ts, 'UTC')\n",
      "  setattr(model, attribute, pd.Timestamp.utcfromtimestamp(model_dict[attribute]).tz_localize(None))\n"
     ]
    },
    {
     "name": "stdout",
     "output_type": "stream",
     "text": [
      "20.48242392170357\n",
      "2022-06-01 00:00:00 [0, 0, 0, 0, 1, 0, 0, 0, 0, 0] [0.0, 0.0, 0.0, 0.0, 0.0, 0.0, 0.0, 0.0, 0.0, 0.04882234660422103]\n",
      "[0, 0, 0, 0, 0, 0, 0, 0, 0, 0] [6, 13, 19]\n",
      "--------- Batch id: 44 ---------\n"
     ]
    },
    {
     "name": "stderr",
     "output_type": "stream",
     "text": [
      "c:\\Users\\Branko\\miniconda3\\lib\\site-packages\\prophet\\serialize.py:160: FutureWarning: The behavior of Timestamp.utcfromtimestamp is deprecated, in a future version will return a timezone-aware Timestamp with UTC timezone. To keep the old behavior, use Timestamp.utcfromtimestamp(ts).tz_localize(None). To get the future behavior, use Timestamp.fromtimestamp(ts, 'UTC')\n",
      "  setattr(model, attribute, pd.Timestamp.utcfromtimestamp(model_dict[attribute]).tz_localize(None))\n"
     ]
    },
    {
     "name": "stdout",
     "output_type": "stream",
     "text": [
      "0.0\n",
      "2022-06-01 00:00:00 [0, 0, 0, 0, 0, 0, 0, 0, 1, 2] [0, 0, 0, 0, 0, 0, 0, 0, 0, 0]\n",
      "[0, 0, 0, 0, 0, 0, 0, 0, 0, 0] [0, 0, 0]\n",
      "--------- Batch id: 45 ---------\n"
     ]
    },
    {
     "name": "stderr",
     "output_type": "stream",
     "text": [
      "c:\\Users\\Branko\\miniconda3\\lib\\site-packages\\prophet\\serialize.py:160: FutureWarning: The behavior of Timestamp.utcfromtimestamp is deprecated, in a future version will return a timezone-aware Timestamp with UTC timezone. To keep the old behavior, use Timestamp.utcfromtimestamp(ts).tz_localize(None). To get the future behavior, use Timestamp.fromtimestamp(ts, 'UTC')\n",
      "  setattr(model, attribute, pd.Timestamp.utcfromtimestamp(model_dict[attribute]).tz_localize(None))\n"
     ]
    },
    {
     "name": "stdout",
     "output_type": "stream",
     "text": [
      "0.0\n",
      "2022-06-01 00:00:00 [0, 0, 0, 0, 0, 0, 0, 0, 0, 0] [6.131458799129604e-12, 6.132474079814305e-12, 6.133502118798698e-12, 6.134544091644407e-12, 6.135600723567765e-12, 6.13667226032945e-12, 6.137758455435932e-12, 6.138858574315927e-12, 6.139971415564626e-12, 6.141095348763442e-12]\n",
      "[0, 0, 0, 0, 0, 0, 0, 0, 0, 0] [0, 0, 0]\n",
      "--------- Batch id: 46 ---------\n"
     ]
    },
    {
     "name": "stderr",
     "output_type": "stream",
     "text": [
      "c:\\Users\\Branko\\miniconda3\\lib\\site-packages\\prophet\\serialize.py:160: FutureWarning: The behavior of Timestamp.utcfromtimestamp is deprecated, in a future version will return a timezone-aware Timestamp with UTC timezone. To keep the old behavior, use Timestamp.utcfromtimestamp(ts).tz_localize(None). To get the future behavior, use Timestamp.fromtimestamp(ts, 'UTC')\n",
      "  setattr(model, attribute, pd.Timestamp.utcfromtimestamp(model_dict[attribute]).tz_localize(None))\n"
     ]
    },
    {
     "name": "stdout",
     "output_type": "stream",
     "text": [
      "0.0\n",
      "2022-06-01 00:00:00 [0, 0, 0, 0, 0, 0, 0, 0, 0, 0] [1.1552472624151813e-13, 1.1554203171509976e-13, 1.1556000394737554e-13, 1.1557879109543356e-13, 1.155985159108539e-13, 1.1561927145830133e-13, 1.1564111778372518e-13, 1.1566407965391595e-13, 1.156881454554642e-13, 1.157132673040408e-13]\n",
      "[0, 0, 0, 0, 0, 0, 0, 0, 0, 0] [0, 0, 0]\n",
      "--------- Batch id: 47 ---------\n"
     ]
    },
    {
     "name": "stderr",
     "output_type": "stream",
     "text": [
      "c:\\Users\\Branko\\miniconda3\\lib\\site-packages\\prophet\\serialize.py:160: FutureWarning: The behavior of Timestamp.utcfromtimestamp is deprecated, in a future version will return a timezone-aware Timestamp with UTC timezone. To keep the old behavior, use Timestamp.utcfromtimestamp(ts).tz_localize(None). To get the future behavior, use Timestamp.fromtimestamp(ts, 'UTC')\n",
      "  setattr(model, attribute, pd.Timestamp.utcfromtimestamp(model_dict[attribute]).tz_localize(None))\n"
     ]
    },
    {
     "name": "stdout",
     "output_type": "stream",
     "text": [
      "0.0\n",
      "2022-06-01 00:00:00 [0, 0, 0, 0, 0, 0, 0, 0, 0, 0] [4.084918114728349e-56, 4.0874436725672195e-56, 4.090012000912433e-56, 4.092632350362773e-56, 4.095312481570398e-56, 4.0980583949282535e-56, 4.100874113472859e-56, 4.103761526702148e-56, 4.106720301179257e-56, 4.109747861749533e-56]\n",
      "[0, 0, 0, 0, 0, 0, 0, 0, 0, 0] [0, 0, 0]\n",
      "--------- Batch id: 48 ---------\n"
     ]
    },
    {
     "name": "stderr",
     "output_type": "stream",
     "text": [
      "c:\\Users\\Branko\\miniconda3\\lib\\site-packages\\prophet\\serialize.py:160: FutureWarning: The behavior of Timestamp.utcfromtimestamp is deprecated, in a future version will return a timezone-aware Timestamp with UTC timezone. To keep the old behavior, use Timestamp.utcfromtimestamp(ts).tz_localize(None). To get the future behavior, use Timestamp.fromtimestamp(ts, 'UTC')\n",
      "  setattr(model, attribute, pd.Timestamp.utcfromtimestamp(model_dict[attribute]).tz_localize(None))\n"
     ]
    },
    {
     "name": "stdout",
     "output_type": "stream",
     "text": [
      "0.0\n",
      "2022-06-01 00:00:00 [0, 0, 0, 0, 0, 0, 0, 0, 0, 0] [0, 0, 0, 0, 0, 0, 0, 0, 0, 0]\n",
      "[0, 0, 0, 0, 0, 0, 0, 0, 0, 0] [0, 0, 0]\n",
      "--------- Batch id: 49 ---------\n"
     ]
    },
    {
     "name": "stderr",
     "output_type": "stream",
     "text": [
      "c:\\Users\\Branko\\miniconda3\\lib\\site-packages\\prophet\\serialize.py:160: FutureWarning: The behavior of Timestamp.utcfromtimestamp is deprecated, in a future version will return a timezone-aware Timestamp with UTC timezone. To keep the old behavior, use Timestamp.utcfromtimestamp(ts).tz_localize(None). To get the future behavior, use Timestamp.fromtimestamp(ts, 'UTC')\n",
      "  setattr(model, attribute, pd.Timestamp.utcfromtimestamp(model_dict[attribute]).tz_localize(None))\n"
     ]
    },
    {
     "name": "stdout",
     "output_type": "stream",
     "text": [
      "0.0\n",
      "2022-06-01 00:00:00 [0, 0, 0, 0, 0, 0, 0, 0, 0, 0] [0, 0, 0, 0, 0, 0, 0, 0, 0, 0]\n",
      "[0, 0, 0, 0, 0, 0, 0, 0, 0, 0] [0, 0, 0]\n",
      "--------- Batch id: 50 ---------\n"
     ]
    },
    {
     "name": "stderr",
     "output_type": "stream",
     "text": [
      "c:\\Users\\Branko\\miniconda3\\lib\\site-packages\\prophet\\serialize.py:160: FutureWarning: The behavior of Timestamp.utcfromtimestamp is deprecated, in a future version will return a timezone-aware Timestamp with UTC timezone. To keep the old behavior, use Timestamp.utcfromtimestamp(ts).tz_localize(None). To get the future behavior, use Timestamp.fromtimestamp(ts, 'UTC')\n",
      "  setattr(model, attribute, pd.Timestamp.utcfromtimestamp(model_dict[attribute]).tz_localize(None))\n"
     ]
    },
    {
     "name": "stdout",
     "output_type": "stream",
     "text": [
      "0.0\n",
      "2022-06-15 00:00:00 [0, 0, 0, 0, 0, 0, 0, 0, 0, 0] [1.6336622918712298, 1.9434613486527452, 2.2251746785037367, 2.468762020598724, 2.6653325807161687, 2.8074727095765053, 2.8895302728246586, 2.9078452231153626, 2.860917417443468, 2.749504581284618]\n",
      "[0, 0, 0, 0, 0, 0, 0, 0, 0, 0] [0, 0, 0]\n",
      "--------- Batch id: 51 ---------\n"
     ]
    },
    {
     "name": "stderr",
     "output_type": "stream",
     "text": [
      "c:\\Users\\Branko\\miniconda3\\lib\\site-packages\\prophet\\serialize.py:160: FutureWarning: The behavior of Timestamp.utcfromtimestamp is deprecated, in a future version will return a timezone-aware Timestamp with UTC timezone. To keep the old behavior, use Timestamp.utcfromtimestamp(ts).tz_localize(None). To get the future behavior, use Timestamp.fromtimestamp(ts, 'UTC')\n",
      "  setattr(model, attribute, pd.Timestamp.utcfromtimestamp(model_dict[attribute]).tz_localize(None))\n"
     ]
    },
    {
     "name": "stdout",
     "output_type": "stream",
     "text": [
      "0.14186244290537536\n",
      "2022-06-15 00:00:00 [0, 1, 0, 0, 1, 0, 0, 0, 1, 0] [3.4356534674536436, 4.551938695445102, 5.50218101469654, 6.251914006140313, 6.772639983394158, 7.042890607522686, 7.049082051033175, 6.786133004825002, 6.257820652412376, 5.4768574787549476]\n",
      "[0, 0, 0, 0, 0, 0, 1, 0, 0, 0] [0, 0, 0]\n",
      "--------- Batch id: 52 ---------\n"
     ]
    },
    {
     "name": "stderr",
     "output_type": "stream",
     "text": [
      "c:\\Users\\Branko\\miniconda3\\lib\\site-packages\\prophet\\serialize.py:160: FutureWarning: The behavior of Timestamp.utcfromtimestamp is deprecated, in a future version will return a timezone-aware Timestamp with UTC timezone. To keep the old behavior, use Timestamp.utcfromtimestamp(ts).tz_localize(None). To get the future behavior, use Timestamp.fromtimestamp(ts, 'UTC')\n",
      "  setattr(model, attribute, pd.Timestamp.utcfromtimestamp(model_dict[attribute]).tz_localize(None))\n"
     ]
    },
    {
     "name": "stdout",
     "output_type": "stream",
     "text": [
      "0.0\n",
      "2022-06-15 00:00:00 [0, 0, 0, 0, 0, 0, 0, 0, 0, 0] [6.146802103226921e-12, 6.147942598938297e-12, 6.1490766873481695e-12, 6.1502020745782475e-12, 6.151316793436684e-12, 6.15241927899246e-12, 6.153508430781328e-12, 6.154583659100078e-12, 6.155644913337292e-12, 6.156692690861487e-12]\n",
      "[0, 0, 0, 0, 0, 0, 0, 0, 0, 0] [0, 0, 0]\n",
      "--------- Batch id: 53 ---------\n"
     ]
    },
    {
     "name": "stderr",
     "output_type": "stream",
     "text": [
      "c:\\Users\\Branko\\miniconda3\\lib\\site-packages\\prophet\\serialize.py:160: FutureWarning: The behavior of Timestamp.utcfromtimestamp is deprecated, in a future version will return a timezone-aware Timestamp with UTC timezone. To keep the old behavior, use Timestamp.utcfromtimestamp(ts).tz_localize(None). To get the future behavior, use Timestamp.fromtimestamp(ts, 'UTC')\n",
      "  setattr(model, attribute, pd.Timestamp.utcfromtimestamp(model_dict[attribute]).tz_localize(None))\n"
     ]
    },
    {
     "name": "stdout",
     "output_type": "stream",
     "text": [
      "0.0\n",
      "2022-06-15 00:00:00 [0, 0, 0, 0, 0, 0, 0, 0, 0, 0] [1.158507675220443e-13, 1.1587949992605132e-13, 1.1590818807790978e-13, 1.159366289382258e-13, 1.1596462802837066e-13, 1.1599200632555201e-13, 1.1601860673223138e-13, 1.160442998924149e-13, 1.1606898914459697e-13, 1.1609261442563406e-13]\n",
      "[0, 0, 0, 0, 0, 0, 0, 0, 0, 0] [0, 0, 0]\n",
      "--------- Batch id: 54 ---------\n"
     ]
    },
    {
     "name": "stderr",
     "output_type": "stream",
     "text": [
      "c:\\Users\\Branko\\miniconda3\\lib\\site-packages\\prophet\\serialize.py:160: FutureWarning: The behavior of Timestamp.utcfromtimestamp is deprecated, in a future version will return a timezone-aware Timestamp with UTC timezone. To keep the old behavior, use Timestamp.utcfromtimestamp(ts).tz_localize(None). To get the future behavior, use Timestamp.fromtimestamp(ts, 'UTC')\n",
      "  setattr(model, attribute, pd.Timestamp.utcfromtimestamp(model_dict[attribute]).tz_localize(None))\n"
     ]
    },
    {
     "name": "stdout",
     "output_type": "stream",
     "text": [
      "0.0\n",
      "2022-06-15 00:00:00 [0, 0, 0, 0, 0, 0, 0, 0, 0, 0] [4.125683034374942e-56, 4.128959135081802e-56, 4.132236194246387e-56, 4.135501008905482e-56, 4.138740689634331e-56, 4.141943090422611e-56, 4.145097222082244e-56, 4.148193635596821e-56, 4.151224762514342e-56, 4.1541852006038785e-56]\n",
      "[0, 0, 0, 0, 0, 0, 0, 0, 0, 0] [0, 0, 0]\n",
      "--------- Batch id: 55 ---------\n"
     ]
    },
    {
     "name": "stderr",
     "output_type": "stream",
     "text": [
      "c:\\Users\\Branko\\miniconda3\\lib\\site-packages\\prophet\\serialize.py:160: FutureWarning: The behavior of Timestamp.utcfromtimestamp is deprecated, in a future version will return a timezone-aware Timestamp with UTC timezone. To keep the old behavior, use Timestamp.utcfromtimestamp(ts).tz_localize(None). To get the future behavior, use Timestamp.fromtimestamp(ts, 'UTC')\n",
      "  setattr(model, attribute, pd.Timestamp.utcfromtimestamp(model_dict[attribute]).tz_localize(None))\n"
     ]
    },
    {
     "name": "stdout",
     "output_type": "stream",
     "text": [
      "0.0\n",
      "2022-06-15 00:00:00 [0, 0, 0, 0, 0, 0, 0, 0, 0, 0] [1.9011244174229993, 3.133691002738027, 4.364622738659118, 5.55346434616887, 6.660531023261692, 7.648229714261315, 8.482334805750261, 9.133176040473845, 9.576698483321012, 9.795357729244937]\n",
      "[0, 0, 0, 0, 0, 0, 0, 0, 0, 0] [0, 0, 0]\n",
      "--------- Batch id: 56 ---------\n"
     ]
    },
    {
     "name": "stderr",
     "output_type": "stream",
     "text": [
      "c:\\Users\\Branko\\miniconda3\\lib\\site-packages\\prophet\\serialize.py:160: FutureWarning: The behavior of Timestamp.utcfromtimestamp is deprecated, in a future version will return a timezone-aware Timestamp with UTC timezone. To keep the old behavior, use Timestamp.utcfromtimestamp(ts).tz_localize(None). To get the future behavior, use Timestamp.fromtimestamp(ts, 'UTC')\n",
      "  setattr(model, attribute, pd.Timestamp.utcfromtimestamp(model_dict[attribute]).tz_localize(None))\n"
     ]
    },
    {
     "name": "stdout",
     "output_type": "stream",
     "text": [
      "0.15032877372294748\n",
      "2022-06-15 00:00:00 [0, 0, 0, 0, 0, 0, 0, 0, 1, 0] [3.625920963309285, 4.446408356984623, 5.171223245790408, 5.774383462706899, 6.2334567895182795, 6.5303689971901795, 6.652086458464547, 6.591148887790499, 6.34603202384401, 5.921325043876828]\n",
      "[0, 0, 0, 0, 0, 0, 0, 0, 0, 0] [0, 0, 0]\n",
      "--------- Batch id: 57 ---------\n"
     ]
    },
    {
     "name": "stderr",
     "output_type": "stream",
     "text": [
      "c:\\Users\\Branko\\miniconda3\\lib\\site-packages\\prophet\\serialize.py:160: FutureWarning: The behavior of Timestamp.utcfromtimestamp is deprecated, in a future version will return a timezone-aware Timestamp with UTC timezone. To keep the old behavior, use Timestamp.utcfromtimestamp(ts).tz_localize(None). To get the future behavior, use Timestamp.fromtimestamp(ts, 'UTC')\n",
      "  setattr(model, attribute, pd.Timestamp.utcfromtimestamp(model_dict[attribute]).tz_localize(None))\n"
     ]
    },
    {
     "name": "stdout",
     "output_type": "stream",
     "text": [
      "0.7111541429633143\n",
      "2022-06-29 00:00:00 [1, 0, 0, 0, 0, 0, 0, 0, 1, 0] [1.4061649079805563, 1.0434330693764984, 0.6771227688016871, 0.3206832255216548, 0.0, 0.0, 0.0, 0.0, 0.0, 0.0]\n",
      "[1, 0, 0, 0, 0, 0, 0, 0, 0, 0] [0, 0, 0]\n",
      "--------- Batch id: 58 ---------\n"
     ]
    },
    {
     "name": "stderr",
     "output_type": "stream",
     "text": [
      "c:\\Users\\Branko\\miniconda3\\lib\\site-packages\\prophet\\serialize.py:160: FutureWarning: The behavior of Timestamp.utcfromtimestamp is deprecated, in a future version will return a timezone-aware Timestamp with UTC timezone. To keep the old behavior, use Timestamp.utcfromtimestamp(ts).tz_localize(None). To get the future behavior, use Timestamp.fromtimestamp(ts, 'UTC')\n",
      "  setattr(model, attribute, pd.Timestamp.utcfromtimestamp(model_dict[attribute]).tz_localize(None))\n"
     ]
    },
    {
     "name": "stdout",
     "output_type": "stream",
     "text": [
      "0.0\n",
      "2022-06-29 00:00:00 [0, 0, 0, 0, 1, 1, 1, 6, 6, 6] [0, 0, 0, 0, 0, 0, 0, 0, 0, 0]\n",
      "[0, 0, 0, 0, 0, 0, 0, 0, 0, 0] [0, 0, 0]\n",
      "--------- Batch id: 59 ---------\n"
     ]
    },
    {
     "name": "stderr",
     "output_type": "stream",
     "text": [
      "c:\\Users\\Branko\\miniconda3\\lib\\site-packages\\prophet\\serialize.py:160: FutureWarning: The behavior of Timestamp.utcfromtimestamp is deprecated, in a future version will return a timezone-aware Timestamp with UTC timezone. To keep the old behavior, use Timestamp.utcfromtimestamp(ts).tz_localize(None). To get the future behavior, use Timestamp.fromtimestamp(ts, 'UTC')\n",
      "  setattr(model, attribute, pd.Timestamp.utcfromtimestamp(model_dict[attribute]).tz_localize(None))\n"
     ]
    },
    {
     "name": "stdout",
     "output_type": "stream",
     "text": [
      "0.0\n",
      "2022-06-29 00:00:00 [0, 0, 0, 0, 0, 0, 0, 0, 0, 0] [6.161782069620309e-12, 6.162786182118884e-12, 6.163792242528234e-12, 6.16480316514055e-12, 6.165821707871318e-12, 6.166850352405769e-12, 6.167891190448326e-12, 6.168945820626522e-12, 6.170015260447586e-12, 6.171099877407435e-12]\n",
      "[0, 0, 0, 0, 0, 0, 0, 0, 0, 0] [0, 0, 0]\n",
      "--------- Batch id: 60 ---------\n"
     ]
    },
    {
     "name": "stderr",
     "output_type": "stream",
     "text": [
      "c:\\Users\\Branko\\miniconda3\\lib\\site-packages\\prophet\\serialize.py:160: FutureWarning: The behavior of Timestamp.utcfromtimestamp is deprecated, in a future version will return a timezone-aware Timestamp with UTC timezone. To keep the old behavior, use Timestamp.utcfromtimestamp(ts).tz_localize(None). To get the future behavior, use Timestamp.fromtimestamp(ts, 'UTC')\n",
      "  setattr(model, attribute, pd.Timestamp.utcfromtimestamp(model_dict[attribute]).tz_localize(None))\n"
     ]
    },
    {
     "name": "stdout",
     "output_type": "stream",
     "text": [
      "0.0\n",
      "2022-06-29 00:00:00 [0, 0, 0, 0, 0, 0, 0, 0, 0, 0] [1.1619546781902855e-13, 1.1621366640451033e-13, 1.1623145987638516e-13, 1.1624906334979908e-13, 1.1626670467615361e-13, 1.1628461636660094e-13, 1.1630302712011654e-13, 1.1632215323836275e-13, 1.1634219022272637e-13, 1.1636330485299392e-13]\n",
      "[0, 0, 0, 0, 0, 0, 0, 0, 0, 0] [0, 0, 0]\n",
      "--------- Batch id: 61 ---------\n"
     ]
    },
    {
     "name": "stderr",
     "output_type": "stream",
     "text": [
      "c:\\Users\\Branko\\miniconda3\\lib\\site-packages\\prophet\\serialize.py:160: FutureWarning: The behavior of Timestamp.utcfromtimestamp is deprecated, in a future version will return a timezone-aware Timestamp with UTC timezone. To keep the old behavior, use Timestamp.utcfromtimestamp(ts).tz_localize(None). To get the future behavior, use Timestamp.fromtimestamp(ts, 'UTC')\n",
      "  setattr(model, attribute, pd.Timestamp.utcfromtimestamp(model_dict[attribute]).tz_localize(None))\n"
     ]
    },
    {
     "name": "stdout",
     "output_type": "stream",
     "text": [
      "0.0\n",
      "2022-06-29 00:00:00 [0, 0, 0, 0, 0, 0, 0, 0, 0, 0] [4.167911043893936e-56, 4.170473318508896e-56, 4.17299643884829e-56, 4.1754936283479705e-56, 4.177979407217285e-56, 4.180469138317067e-56, 4.182978533447195e-56, 4.185523134785521e-56, 4.1881177873693885e-56, 4.19077611919907e-56]\n",
      "[0, 0, 0, 0, 0, 0, 0, 0, 0, 0] [0, 0, 0]\n",
      "--------- Batch id: 62 ---------\n"
     ]
    },
    {
     "name": "stderr",
     "output_type": "stream",
     "text": [
      "c:\\Users\\Branko\\miniconda3\\lib\\site-packages\\prophet\\serialize.py:160: FutureWarning: The behavior of Timestamp.utcfromtimestamp is deprecated, in a future version will return a timezone-aware Timestamp with UTC timezone. To keep the old behavior, use Timestamp.utcfromtimestamp(ts).tz_localize(None). To get the future behavior, use Timestamp.fromtimestamp(ts, 'UTC')\n",
      "  setattr(model, attribute, pd.Timestamp.utcfromtimestamp(model_dict[attribute]).tz_localize(None))\n"
     ]
    },
    {
     "name": "stdout",
     "output_type": "stream",
     "text": [
      "0.0\n",
      "2022-06-29 00:00:00 [0, 0, 0, 0, 0, 0, 0, 0, 0, 0] [7.42594109491545, 6.349992463834213, 5.137286616157183, 3.8271891876190107, 2.4631253612752877, 1.0912109970246535, 0.0, 0.0, 0.0, 0.0]\n",
      "[0, 0, 0, 0, 0, 0, 0, 0, 0, 0] [0, 0, 0]\n",
      "--------- Batch id: 63 ---------\n"
     ]
    },
    {
     "name": "stderr",
     "output_type": "stream",
     "text": [
      "c:\\Users\\Branko\\miniconda3\\lib\\site-packages\\prophet\\serialize.py:160: FutureWarning: The behavior of Timestamp.utcfromtimestamp is deprecated, in a future version will return a timezone-aware Timestamp with UTC timezone. To keep the old behavior, use Timestamp.utcfromtimestamp(ts).tz_localize(None). To get the future behavior, use Timestamp.fromtimestamp(ts, 'UTC')\n",
      "  setattr(model, attribute, pd.Timestamp.utcfromtimestamp(model_dict[attribute]).tz_localize(None))\n"
     ]
    },
    {
     "name": "stdout",
     "output_type": "stream",
     "text": [
      "0.5974598684606096\n",
      "2022-06-29 00:00:00 [0, 0, 0, 0, 0, 0, 0, 0, 0, 1] [1.6737525862223326, 0.5834262830110095, 0.0, 0.0, 0.0, 0.0, 0.0, 0.0, 0.0, 0.0]\n",
      "[1, 0, 0, 0, 0, 0, 0, 0, 0, 0] [0, 0, 0]\n",
      "--------- Batch id: 64 ---------\n"
     ]
    },
    {
     "name": "stderr",
     "output_type": "stream",
     "text": [
      "c:\\Users\\Branko\\miniconda3\\lib\\site-packages\\prophet\\serialize.py:160: FutureWarning: The behavior of Timestamp.utcfromtimestamp is deprecated, in a future version will return a timezone-aware Timestamp with UTC timezone. To keep the old behavior, use Timestamp.utcfromtimestamp(ts).tz_localize(None). To get the future behavior, use Timestamp.fromtimestamp(ts, 'UTC')\n",
      "  setattr(model, attribute, pd.Timestamp.utcfromtimestamp(model_dict[attribute]).tz_localize(None))\n"
     ]
    },
    {
     "name": "stdout",
     "output_type": "stream",
     "text": [
      "0.5525757341591293\n",
      "2022-07-27 00:00:00 [0, 0, 0, 0, 0, 0, 0, 1, 0, 2] [3.6194133697229, 3.3522470348933577, 3.0185464229049574, 2.6392727387686676, 2.2409814608596457, 1.8556091848061187, 1.5200961926245782, 1.27584625540364, 1.1680296118095894, 1.2447394836661234]\n",
      "[1, 1, 1, 1, 1, 1, 0, 0, 0, 0] [0, 1, 1]\n",
      "--------- Batch id: 65 ---------\n"
     ]
    },
    {
     "name": "stderr",
     "output_type": "stream",
     "text": [
      "c:\\Users\\Branko\\miniconda3\\lib\\site-packages\\prophet\\serialize.py:160: FutureWarning: The behavior of Timestamp.utcfromtimestamp is deprecated, in a future version will return a timezone-aware Timestamp with UTC timezone. To keep the old behavior, use Timestamp.utcfromtimestamp(ts).tz_localize(None). To get the future behavior, use Timestamp.fromtimestamp(ts, 'UTC')\n",
      "  setattr(model, attribute, pd.Timestamp.utcfromtimestamp(model_dict[attribute]).tz_localize(None))\n"
     ]
    },
    {
     "name": "stdout",
     "output_type": "stream",
     "text": [
      "0.3286371699975304\n",
      "2022-07-27 00:00:00 [0, 1, 1, 0, 0, 1, 1, 2, 4, 4] [12.171477742551334, 10.988198406602676, 9.417662062340733, 7.513496162451353, 5.347107699443036, 3.0068793827704163, 0.5968570201766669, 0.0, 0.0, 0.0]\n",
      "[4, 3, 3, 2, 1, 0, 0, 0, 0, 0] [0, 0, 0]\n",
      "--------- Batch id: 66 ---------\n"
     ]
    },
    {
     "name": "stderr",
     "output_type": "stream",
     "text": [
      "c:\\Users\\Branko\\miniconda3\\lib\\site-packages\\prophet\\serialize.py:160: FutureWarning: The behavior of Timestamp.utcfromtimestamp is deprecated, in a future version will return a timezone-aware Timestamp with UTC timezone. To keep the old behavior, use Timestamp.utcfromtimestamp(ts).tz_localize(None). To get the future behavior, use Timestamp.fromtimestamp(ts, 'UTC')\n",
      "  setattr(model, attribute, pd.Timestamp.utcfromtimestamp(model_dict[attribute]).tz_localize(None))\n"
     ]
    },
    {
     "name": "stdout",
     "output_type": "stream",
     "text": [
      "644996050345.5402\n",
      "2022-07-27 00:00:00 [3, 2, 4, 2, 1, 2, 1, 0, 0, 0] [6.191528499411559e-12, 6.1924749596050765e-12, 6.193431494370442e-12, 6.194409931025448e-12, 6.19542376401344e-12, 6.196487995007288e-12, 6.197618919935092e-12, 6.198833865073565e-12, 6.200150875799435e-12, 6.201588362994009e-12]\n",
      "[3, 3, 3, 3, 3, 3, 3, 3, 3, 4] [4, 4, 4]\n",
      "--------- Batch id: 67 ---------\n"
     ]
    },
    {
     "name": "stderr",
     "output_type": "stream",
     "text": [
      "c:\\Users\\Branko\\miniconda3\\lib\\site-packages\\prophet\\serialize.py:160: FutureWarning: The behavior of Timestamp.utcfromtimestamp is deprecated, in a future version will return a timezone-aware Timestamp with UTC timezone. To keep the old behavior, use Timestamp.utcfromtimestamp(ts).tz_localize(None). To get the future behavior, use Timestamp.fromtimestamp(ts, 'UTC')\n",
      "  setattr(model, attribute, pd.Timestamp.utcfromtimestamp(model_dict[attribute]).tz_localize(None))\n"
     ]
    },
    {
     "name": "stdout",
     "output_type": "stream",
     "text": [
      "324634514240748.94\n",
      "2022-07-27 00:00:00 [3, 2, 3, 3, 1, 2, 2, 12, 21, 38] [1.168882035781626e-13, 1.1690863972368855e-13, 1.169276284101502e-13, 1.1694543164360624e-13, 1.1696241425503966e-13, 1.1697904374099005e-13, 1.169958871369183e-13, 1.1701360484328262e-13, 1.1703294140465884e-13, 1.1705471332545745e-13]\n",
      "[37, 37, 37, 37, 37, 37, 37, 37, 37, 38] [38, 38, 38]\n",
      "--------- Batch id: 68 ---------\n"
     ]
    },
    {
     "name": "stderr",
     "output_type": "stream",
     "text": [
      "c:\\Users\\Branko\\miniconda3\\lib\\site-packages\\prophet\\serialize.py:160: FutureWarning: The behavior of Timestamp.utcfromtimestamp is deprecated, in a future version will return a timezone-aware Timestamp with UTC timezone. To keep the old behavior, use Timestamp.utcfromtimestamp(ts).tz_localize(None). To get the future behavior, use Timestamp.fromtimestamp(ts, 'UTC')\n",
      "  setattr(model, attribute, pd.Timestamp.utcfromtimestamp(model_dict[attribute]).tz_localize(None))\n"
     ]
    },
    {
     "name": "stdout",
     "output_type": "stream",
     "text": [
      "1.8712163501862278e+56\n",
      "2022-07-27 00:00:00 [0, 0, 3, 0, 0, 0, 8, 0, 0, 0] [4.252940012333509e-56, 4.255926610873633e-56, 4.258776814770354e-56, 4.261487649557846e-56, 4.264061000160252e-56, 4.266503879161344e-56, 4.268828562274569e-56, 4.271052582170004e-56, 4.27319857545358e-56, 4.275293981480987e-56]\n",
      "[7, 7, 7, 7, 7, 7, 7, 7, 7, 7] [8, 8, 8]\n",
      "--------- Batch id: 69 ---------\n"
     ]
    },
    {
     "name": "stderr",
     "output_type": "stream",
     "text": [
      "c:\\Users\\Branko\\miniconda3\\lib\\site-packages\\prophet\\serialize.py:160: FutureWarning: The behavior of Timestamp.utcfromtimestamp is deprecated, in a future version will return a timezone-aware Timestamp with UTC timezone. To keep the old behavior, use Timestamp.utcfromtimestamp(ts).tz_localize(None). To get the future behavior, use Timestamp.fromtimestamp(ts, 'UTC')\n",
      "  setattr(model, attribute, pd.Timestamp.utcfromtimestamp(model_dict[attribute]).tz_localize(None))\n"
     ]
    },
    {
     "name": "stdout",
     "output_type": "stream",
     "text": [
      "0.30826425704578486\n",
      "2022-07-27 00:00:00 [1, 0, 0, 1, 0, 1, 2, 1, 4, 4] [12.689639547854304, 12.975879974971932, 12.946072255017043, 12.605880277786577, 11.976320252838036, 11.09439124500798, 10.013268142842044, 8.802031346724869, 7.544919530057936, 6.340104626137611]\n",
      "[3, 4, 3, 3, 3, 3, 3, 2, 2, 1] [1, 1, 1]\n",
      "--------- Batch id: 70 ---------\n"
     ]
    },
    {
     "name": "stderr",
     "output_type": "stream",
     "text": [
      "c:\\Users\\Branko\\miniconda3\\lib\\site-packages\\prophet\\serialize.py:160: FutureWarning: The behavior of Timestamp.utcfromtimestamp is deprecated, in a future version will return a timezone-aware Timestamp with UTC timezone. To keep the old behavior, use Timestamp.utcfromtimestamp(ts).tz_localize(None). To get the future behavior, use Timestamp.fromtimestamp(ts, 'UTC')\n",
      "  setattr(model, attribute, pd.Timestamp.utcfromtimestamp(model_dict[attribute]).tz_localize(None))\n"
     ]
    },
    {
     "name": "stdout",
     "output_type": "stream",
     "text": [
      "0.20884466580549552\n",
      "2022-07-27 00:00:00 [1, 1, 1, 1, 1, 2, 1, 1, 1, 0] [9.576495489057265, 8.940094796192199, 8.034908232837731, 6.891712693146638, 5.553630705903141, 4.075770929213393, 2.5245164392978836, 0.9764661596565735, 0.0, 0.0]\n",
      "[2, 1, 1, 1, 1, 0, 0, 0, 0, 0] [0, 0, 0]\n",
      "--------- Batch id: 71 ---------\n"
     ]
    },
    {
     "name": "stderr",
     "output_type": "stream",
     "text": [
      "c:\\Users\\Branko\\miniconda3\\lib\\site-packages\\prophet\\serialize.py:160: FutureWarning: The behavior of Timestamp.utcfromtimestamp is deprecated, in a future version will return a timezone-aware Timestamp with UTC timezone. To keep the old behavior, use Timestamp.utcfromtimestamp(ts).tz_localize(None). To get the future behavior, use Timestamp.fromtimestamp(ts, 'UTC')\n",
      "  setattr(model, attribute, pd.Timestamp.utcfromtimestamp(model_dict[attribute]).tz_localize(None))\n"
     ]
    },
    {
     "name": "stdout",
     "output_type": "stream",
     "text": [
      "1.1753065330981507\n",
      "2022-08-10 00:00:00 [1, 0, 6, 1, 1, 17, 31, 14, 14, 54] [6.152498237701219, 8.37485348737285, 11.107110581911453, 14.379296667974156, 18.21371032139028, 22.623918655978557, 27.613900728435798, 33.17736293484126, 39.29724868476541, 45.94546059201598]\n",
      "[7, 9, 13, 16, 21, 26, 32, 38, 46, 54] [62, 71, 80]\n",
      "--------- Batch id: 72 ---------\n"
     ]
    },
    {
     "name": "stderr",
     "output_type": "stream",
     "text": [
      "c:\\Users\\Branko\\miniconda3\\lib\\site-packages\\prophet\\serialize.py:160: FutureWarning: The behavior of Timestamp.utcfromtimestamp is deprecated, in a future version will return a timezone-aware Timestamp with UTC timezone. To keep the old behavior, use Timestamp.utcfromtimestamp(ts).tz_localize(None). To get the future behavior, use Timestamp.fromtimestamp(ts, 'UTC')\n",
      "  setattr(model, attribute, pd.Timestamp.utcfromtimestamp(model_dict[attribute]).tz_localize(None))\n"
     ]
    },
    {
     "name": "stdout",
     "output_type": "stream",
     "text": [
      "0.5083010302779007\n",
      "2022-08-10 00:00:00 [1, 5, 6, 8, 16, 10, 36, 7, 25, 9] [0.0, 0.0, 1.9218560225360122, 7.522446608808218, 14.520412334498207, 22.95362019804354, 32.832986401515875, 44.14090372995067, 56.83027229427181, 70.82417279445195]\n",
      "[0, 0, 0, 3, 7, 11, 16, 22, 28, 36] [43, 51, 60]\n",
      "--------- Batch id: 73 ---------\n"
     ]
    },
    {
     "name": "stderr",
     "output_type": "stream",
     "text": [
      "c:\\Users\\Branko\\miniconda3\\lib\\site-packages\\prophet\\serialize.py:160: FutureWarning: The behavior of Timestamp.utcfromtimestamp is deprecated, in a future version will return a timezone-aware Timestamp with UTC timezone. To keep the old behavior, use Timestamp.utcfromtimestamp(ts).tz_localize(None). To get the future behavior, use Timestamp.fromtimestamp(ts, 'UTC')\n",
      "  setattr(model, attribute, pd.Timestamp.utcfromtimestamp(model_dict[attribute]).tz_localize(None))\n"
     ]
    },
    {
     "name": "stdout",
     "output_type": "stream",
     "text": [
      "8010281486314.386\n",
      "2022-08-10 00:00:00 [2, 1, 10, 0, 1, 4, 8, 10, 24, 50] [6.211201746087401e-12, 6.213717262094285e-12, 6.216457200127724e-12, 6.2194276544589394e-12, 6.222631359395067e-12, 6.226067398551017e-12, 6.229730975036933e-12, 6.233613250321664e-12, 6.2377012581939044e-12, 6.2419778987074685e-12]\n",
      "[49, 49, 49, 49, 49, 49, 49, 49, 49, 50] [50, 50, 50]\n",
      "--------- Batch id: 74 ---------\n"
     ]
    },
    {
     "name": "stderr",
     "output_type": "stream",
     "text": [
      "c:\\Users\\Branko\\miniconda3\\lib\\site-packages\\prophet\\serialize.py:160: FutureWarning: The behavior of Timestamp.utcfromtimestamp is deprecated, in a future version will return a timezone-aware Timestamp with UTC timezone. To keep the old behavior, use Timestamp.utcfromtimestamp(ts).tz_localize(None). To get the future behavior, use Timestamp.fromtimestamp(ts, 'UTC')\n",
      "  setattr(model, attribute, pd.Timestamp.utcfromtimestamp(model_dict[attribute]).tz_localize(None))\n"
     ]
    },
    {
     "name": "stdout",
     "output_type": "stream",
     "text": [
      "889218640487590.8\n",
      "2022-08-10 00:00:00 [105, 92, 65, 62, 95, 87, 101, 42, 40, 36] [1.172316291301932e-13, 1.1728701114298695e-13, 1.173510266539225e-13, 1.1742436417221772e-13, 1.1750759302152052e-13, 1.176011419960721e-13, 1.177052800976642e-13, 1.1782009990220415e-13, 1.179455040576705e-13, 1.1808119535418724e-13]\n",
      "[104, 104, 104, 104, 104, 104, 104, 104, 104, 105] [105, 105, 105]\n",
      "--------- Batch id: 75 ---------\n"
     ]
    },
    {
     "name": "stderr",
     "output_type": "stream",
     "text": [
      "c:\\Users\\Branko\\miniconda3\\lib\\site-packages\\prophet\\serialize.py:160: FutureWarning: The behavior of Timestamp.utcfromtimestamp is deprecated, in a future version will return a timezone-aware Timestamp with UTC timezone. To keep the old behavior, use Timestamp.utcfromtimestamp(ts).tz_localize(None). To get the future behavior, use Timestamp.fromtimestamp(ts, 'UTC')\n",
      "  setattr(model, attribute, pd.Timestamp.utcfromtimestamp(model_dict[attribute]).tz_localize(None))\n"
     ]
    },
    {
     "name": "stdout",
     "output_type": "stream",
     "text": [
      "4.166477829179865e+56\n",
      "2022-08-10 00:00:00 [3, 8, 3, 0, 3, 8, 5, 5, 18, 3] [4.286241253852348e-56, 4.288805580185647e-56, 4.291592513524465e-56, 4.294641964961351e-56, 4.2979909536102785e-56, 4.3016725592304955e-56, 4.305714930069064e-56, 4.310140372453241e-56, 4.314964547180148e-56, 4.3201957955799675e-56]\n",
      "[17, 17, 17, 17, 17, 17, 17, 17, 17, 18] [18, 18, 18]\n",
      "--------- Batch id: 76 ---------\n"
     ]
    },
    {
     "name": "stderr",
     "output_type": "stream",
     "text": [
      "c:\\Users\\Branko\\miniconda3\\lib\\site-packages\\prophet\\serialize.py:160: FutureWarning: The behavior of Timestamp.utcfromtimestamp is deprecated, in a future version will return a timezone-aware Timestamp with UTC timezone. To keep the old behavior, use Timestamp.utcfromtimestamp(ts).tz_localize(None). To get the future behavior, use Timestamp.fromtimestamp(ts, 'UTC')\n",
      "  setattr(model, attribute, pd.Timestamp.utcfromtimestamp(model_dict[attribute]).tz_localize(None))\n"
     ]
    },
    {
     "name": "stdout",
     "output_type": "stream",
     "text": [
      "0.7401814220809857\n",
      "2022-08-10 00:00:00 [3, 3, 3, 9, 11, 14, 46, 14, 19, 36] [5.2633800174924765, 6.94946394202805, 9.573593604473613, 13.253890354846881, 18.095972608824223, 24.18954767007264, 31.60522527539352, 40.391641106342924, 50.57297312418197, 62.14692591266765]\n",
      "[3, 5, 7, 9, 13, 17, 23, 29, 37, 46] [55, 66, 77]\n",
      "--------- Batch id: 77 ---------\n"
     ]
    },
    {
     "name": "stderr",
     "output_type": "stream",
     "text": [
      "c:\\Users\\Branko\\miniconda3\\lib\\site-packages\\prophet\\serialize.py:160: FutureWarning: The behavior of Timestamp.utcfromtimestamp is deprecated, in a future version will return a timezone-aware Timestamp with UTC timezone. To keep the old behavior, use Timestamp.utcfromtimestamp(ts).tz_localize(None). To get the future behavior, use Timestamp.fromtimestamp(ts, 'UTC')\n",
      "  setattr(model, attribute, pd.Timestamp.utcfromtimestamp(model_dict[attribute]).tz_localize(None))\n"
     ]
    },
    {
     "name": "stdout",
     "output_type": "stream",
     "text": [
      "0.28752632200769135\n",
      "2022-08-10 00:00:00 [1, 3, 0, 9, 9, 10, 9, 7, 1, 14] [0.0, 0.0, 2.633258321160058, 6.25738300645672, 10.839017458441624, 16.413408033609958, 22.997869430496095, 30.590476716288613, 39.16915425258822, 48.691194260904915]\n",
      "[0, 0, 0, 1, 3, 4, 6, 8, 11, 14] [16, 20, 23]\n",
      "--------- Batch id: 78 ---------\n"
     ]
    },
    {
     "name": "stderr",
     "output_type": "stream",
     "text": [
      "c:\\Users\\Branko\\miniconda3\\lib\\site-packages\\prophet\\serialize.py:160: FutureWarning: The behavior of Timestamp.utcfromtimestamp is deprecated, in a future version will return a timezone-aware Timestamp with UTC timezone. To keep the old behavior, use Timestamp.utcfromtimestamp(ts).tz_localize(None). To get the future behavior, use Timestamp.fromtimestamp(ts, 'UTC')\n",
      "  setattr(model, attribute, pd.Timestamp.utcfromtimestamp(model_dict[attribute]).tz_localize(None))\n"
     ]
    },
    {
     "name": "stdout",
     "output_type": "stream",
     "text": [
      "0.7039359621227392\n",
      "2022-08-24 00:00:00 [61, 67, 109, 29, 2, 18, 0, 110, 13, 77] [85.36843062182984, 94.00142015194885, 102.68210244791, 111.3116310217872, 119.78768778670475, 128.00620767400486, 135.86318083776914, 143.25649516924173, 150.08778036811754, 156.2642142451308]\n",
      "[60, 66, 72, 78, 84, 90, 95, 100, 105, 110] [113, 117, 119]\n",
      "--------- Batch id: 79 ---------\n"
     ]
    },
    {
     "name": "stderr",
     "output_type": "stream",
     "text": [
      "c:\\Users\\Branko\\miniconda3\\lib\\site-packages\\prophet\\serialize.py:160: FutureWarning: The behavior of Timestamp.utcfromtimestamp is deprecated, in a future version will return a timezone-aware Timestamp with UTC timezone. To keep the old behavior, use Timestamp.utcfromtimestamp(ts).tz_localize(None). To get the future behavior, use Timestamp.fromtimestamp(ts, 'UTC')\n",
      "  setattr(model, attribute, pd.Timestamp.utcfromtimestamp(model_dict[attribute]).tz_localize(None))\n"
     ]
    },
    {
     "name": "stdout",
     "output_type": "stream",
     "text": [
      "0.4274080095587533\n",
      "2022-08-24 00:00:00 [10, 106, 49, 66, 71, 22, 16, 118, 130, 92] [155.68116373284636, 174.34360399455602, 193.04834141518762, 211.545737613973, 229.58099696608576, 246.89899961877822, 263.2492255572099, 278.3906592825327, 292.09656406811496, 304.1590168939725]\n",
      "[66, 74, 82, 90, 98, 105, 112, 118, 124, 130] [134, 137, 140]\n",
      "--------- Batch id: 80 ---------\n"
     ]
    },
    {
     "name": "stderr",
     "output_type": "stream",
     "text": [
      "c:\\Users\\Branko\\miniconda3\\lib\\site-packages\\prophet\\serialize.py:160: FutureWarning: The behavior of Timestamp.utcfromtimestamp is deprecated, in a future version will return a timezone-aware Timestamp with UTC timezone. To keep the old behavior, use Timestamp.utcfromtimestamp(ts).tz_localize(None). To get the future behavior, use Timestamp.fromtimestamp(ts, 'UTC')\n",
      "  setattr(model, attribute, pd.Timestamp.utcfromtimestamp(model_dict[attribute]).tz_localize(None))\n"
     ]
    },
    {
     "name": "stdout",
     "output_type": "stream",
     "text": [
      "13958559054886.924\n",
      "2022-08-24 00:00:00 [40, 48, 68, 12, 4, 8, 0, 52, 88, 74] [6.265319516190503e-12, 6.270157624401777e-12, 6.274965828460591e-12, 6.279703533516334e-12, 6.2843294690942946e-12, 6.288802354529325e-12, 6.293081581875558e-12, 6.2971279026446215e-12, 6.300904104404323e-12, 6.304375663273853e-12]\n",
      "[87, 87, 87, 87, 87, 87, 87, 87, 87, 88] [88, 88, 88]\n",
      "--------- Batch id: 81 ---------\n"
     ]
    },
    {
     "name": "stderr",
     "output_type": "stream",
     "text": [
      "c:\\Users\\Branko\\miniconda3\\lib\\site-packages\\prophet\\serialize.py:160: FutureWarning: The behavior of Timestamp.utcfromtimestamp is deprecated, in a future version will return a timezone-aware Timestamp with UTC timezone. To keep the old behavior, use Timestamp.utcfromtimestamp(ts).tz_localize(None). To get the future behavior, use Timestamp.fromtimestamp(ts, 'UTC')\n",
      "  setattr(model, attribute, pd.Timestamp.utcfromtimestamp(model_dict[attribute]).tz_localize(None))\n"
     ]
    },
    {
     "name": "stdout",
     "output_type": "stream",
     "text": [
      "763818528740900.8\n",
      "2022-08-24 00:00:00 [35, 38, 50, 32, 42, 35, 22, 45, 51, 92] [1.188891722016418e-13, 1.1906894214194836e-13, 1.192513665784644e-13, 1.1943469916830477e-13, 1.1961709458359781e-13, 1.1979663862074154e-13, 1.199713805651282e-13, 1.2013936715490747e-13, 1.2029867743876237e-13, 1.20447457790341e-13]\n",
      "[90, 90, 91, 91, 91, 91, 91, 91, 91, 92] [92, 92, 92]\n",
      "--------- Batch id: 82 ---------\n"
     ]
    },
    {
     "name": "stderr",
     "output_type": "stream",
     "text": [
      "c:\\Users\\Branko\\miniconda3\\lib\\site-packages\\prophet\\serialize.py:160: FutureWarning: The behavior of Timestamp.utcfromtimestamp is deprecated, in a future version will return a timezone-aware Timestamp with UTC timezone. To keep the old behavior, use Timestamp.utcfromtimestamp(ts).tz_localize(None). To get the future behavior, use Timestamp.fromtimestamp(ts, 'UTC')\n",
      "  setattr(model, attribute, pd.Timestamp.utcfromtimestamp(model_dict[attribute]).tz_localize(None))\n"
     ]
    },
    {
     "name": "stdout",
     "output_type": "stream",
     "text": [
      "2.93968723087957e+57\n",
      "2022-08-24 00:00:00 [5, 3, 21, 30, 130, 26, 25, 4, 8, 36] [4.352186083206277e-56, 4.35958089794882e-56, 4.367214421471322e-56, 4.3750326116705e-56, 4.382975897665341e-56, 4.390980237485386e-56, 4.398978295674019e-56, 4.406900715111679e-56, 4.414677454771453e-56, 4.422239163215445e-56]\n",
      "[127, 128, 128, 128, 128, 129, 129, 129, 129, 129] [130, 130, 130]\n",
      "--------- Batch id: 83 ---------\n"
     ]
    },
    {
     "name": "stderr",
     "output_type": "stream",
     "text": [
      "c:\\Users\\Branko\\miniconda3\\lib\\site-packages\\prophet\\serialize.py:160: FutureWarning: The behavior of Timestamp.utcfromtimestamp is deprecated, in a future version will return a timezone-aware Timestamp with UTC timezone. To keep the old behavior, use Timestamp.utcfromtimestamp(ts).tz_localize(None). To get the future behavior, use Timestamp.fromtimestamp(ts, 'UTC')\n",
      "  setattr(model, attribute, pd.Timestamp.utcfromtimestamp(model_dict[attribute]).tz_localize(None))\n"
     ]
    },
    {
     "name": "stdout",
     "output_type": "stream",
     "text": [
      "0.6263730601284925\n",
      "2022-08-24 00:00:00 [60, 75, 96, 93, 191, 190, 49, 56, 38, 76] [138.83639753636552, 157.12542759803117, 176.00304700382662, 195.25430543620246, 214.647035666963, 233.93581046778948, 252.86629442736114, 271.17989920572006, 288.61864195618085, 304.9301002198574]\n",
      "[86, 98, 110, 122, 134, 146, 158, 169, 180, 191] [200, 208, 215]\n",
      "--------- Batch id: 84 ---------\n"
     ]
    },
    {
     "name": "stderr",
     "output_type": "stream",
     "text": [
      "c:\\Users\\Branko\\miniconda3\\lib\\site-packages\\prophet\\serialize.py:160: FutureWarning: The behavior of Timestamp.utcfromtimestamp is deprecated, in a future version will return a timezone-aware Timestamp with UTC timezone. To keep the old behavior, use Timestamp.utcfromtimestamp(ts).tz_localize(None). To get the future behavior, use Timestamp.fromtimestamp(ts, 'UTC')\n",
      "  setattr(model, attribute, pd.Timestamp.utcfromtimestamp(model_dict[attribute]).tz_localize(None))\n"
     ]
    },
    {
     "name": "stdout",
     "output_type": "stream",
     "text": [
      "0.5880789403764852\n",
      "2022-08-24 00:00:00 [41, 53, 59, 88, 127, 24, 16, 87, 52, 47] [107.54810732066679, 120.73260699197773, 134.0390805348442, 147.29644646287275, 160.32813854856636, 172.9553861889686, 185.00060251208322, 196.29080511090493, 206.66099275565233, 215.9574017710875]\n",
      "[63, 71, 78, 86, 94, 101, 108, 115, 121, 127] [131, 135, 138]\n",
      "--------- Batch id: 85 ---------\n"
     ]
    },
    {
     "name": "stderr",
     "output_type": "stream",
     "text": [
      "c:\\Users\\Branko\\miniconda3\\lib\\site-packages\\prophet\\serialize.py:160: FutureWarning: The behavior of Timestamp.utcfromtimestamp is deprecated, in a future version will return a timezone-aware Timestamp with UTC timezone. To keep the old behavior, use Timestamp.utcfromtimestamp(ts).tz_localize(None). To get the future behavior, use Timestamp.fromtimestamp(ts, 'UTC')\n",
      "  setattr(model, attribute, pd.Timestamp.utcfromtimestamp(model_dict[attribute]).tz_localize(None))\n"
     ]
    },
    {
     "name": "stdout",
     "output_type": "stream",
     "text": [
      "1.6982025537879042\n",
      "2022-09-07 00:00:00 [224, 163, 298, 122, 36, 147, 170, 109, 72, 172] [174.67026532502638, 175.47965602530738, 175.26645597140572, 174.03084673823471, 171.78749237715215, 168.5653008116027, 164.40691287243718, 159.36792966187238, 153.51589473119873, 146.92905296523676]\n",
      "[296, 298, 297, 295, 291, 286, 279, 270, 260, 249] [237, 224, 210]\n",
      "--------- Batch id: 86 ---------\n"
     ]
    },
    {
     "name": "stderr",
     "output_type": "stream",
     "text": [
      "c:\\Users\\Branko\\miniconda3\\lib\\site-packages\\prophet\\serialize.py:160: FutureWarning: The behavior of Timestamp.utcfromtimestamp is deprecated, in a future version will return a timezone-aware Timestamp with UTC timezone. To keep the old behavior, use Timestamp.utcfromtimestamp(ts).tz_localize(None). To get the future behavior, use Timestamp.fromtimestamp(ts, 'UTC')\n",
      "  setattr(model, attribute, pd.Timestamp.utcfromtimestamp(model_dict[attribute]).tz_localize(None))\n"
     ]
    },
    {
     "name": "stdout",
     "output_type": "stream",
     "text": [
      "1.3698330853612375\n",
      "2022-09-07 00:00:00 [161, 294, 233, 458, 41, 169, 173, 95, 295, 312] [334.3473047150276, 333.7020643452031, 330.77145867547995, 325.60271102746697, 318.2781568666578, 308.9135426751075, 297.6556436814162, 284.67925610512344, 270.1836339911952, 254.3884533716389]\n",
      "[458, 457, 453, 446, 435, 423, 407, 389, 370, 348] [325, 301, 276]\n",
      "--------- Batch id: 87 ---------\n"
     ]
    },
    {
     "name": "stderr",
     "output_type": "stream",
     "text": [
      "c:\\Users\\Branko\\miniconda3\\lib\\site-packages\\prophet\\serialize.py:160: FutureWarning: The behavior of Timestamp.utcfromtimestamp is deprecated, in a future version will return a timezone-aware Timestamp with UTC timezone. To keep the old behavior, use Timestamp.utcfromtimestamp(ts).tz_localize(None). To get the future behavior, use Timestamp.fromtimestamp(ts, 'UTC')\n",
      "  setattr(model, attribute, pd.Timestamp.utcfromtimestamp(model_dict[attribute]).tz_localize(None))\n"
     ]
    },
    {
     "name": "stdout",
     "output_type": "stream",
     "text": [
      "22790737046697.586\n",
      "2022-09-07 00:00:00 [45, 55, 88, 144, 10, 70, 96, 108, 40, 120] [6.316216448228269e-12, 6.317355802613098e-12, 6.318067961499913e-12, 6.318356431604121e-12, 6.31823028442196e-12, 6.317704010834184e-12, 6.316797277408947e-12, 6.315534589284814e-12, 6.313944866517951e-12, 6.312060942622017e-12]\n",
      "[143, 143, 143, 144, 143, 143, 143, 143, 143, 143] [143, 143, 143]\n",
      "--------- Batch id: 88 ---------\n"
     ]
    },
    {
     "name": "stderr",
     "output_type": "stream",
     "text": [
      "c:\\Users\\Branko\\miniconda3\\lib\\site-packages\\prophet\\serialize.py:160: FutureWarning: The behavior of Timestamp.utcfromtimestamp is deprecated, in a future version will return a timezone-aware Timestamp with UTC timezone. To keep the old behavior, use Timestamp.utcfromtimestamp(ts).tz_localize(None). To get the future behavior, use Timestamp.fromtimestamp(ts, 'UTC')\n",
      "  setattr(model, attribute, pd.Timestamp.utcfromtimestamp(model_dict[attribute]).tz_localize(None))\n"
     ]
    },
    {
     "name": "stdout",
     "output_type": "stream",
     "text": [
      "1395726821071507.5\n",
      "2022-09-07 00:00:00 [115, 162, 105, 169, 47, 58, 69, 140, 105, 84] [1.2097744422243534e-13, 1.2103199651241038e-13, 1.2106756214478365e-13, 1.2108386644763174e-13, 1.2108090897174248e-13, 1.2105896469235257e-13, 1.2101857988977028e-13, 1.2096056278125776e-13, 1.2088596909442296e-13, 1.207960828859778e-13]\n",
      "[168, 168, 168, 169, 168, 168, 168, 168, 168, 168] [168, 168, 168]\n",
      "--------- Batch id: 89 ---------\n"
     ]
    },
    {
     "name": "stderr",
     "output_type": "stream",
     "text": [
      "c:\\Users\\Branko\\miniconda3\\lib\\site-packages\\prophet\\serialize.py:160: FutureWarning: The behavior of Timestamp.utcfromtimestamp is deprecated, in a future version will return a timezone-aware Timestamp with UTC timezone. To keep the old behavior, use Timestamp.utcfromtimestamp(ts).tz_localize(None). To get the future behavior, use Timestamp.fromtimestamp(ts, 'UTC')\n",
      "  setattr(model, attribute, pd.Timestamp.utcfromtimestamp(model_dict[attribute]).tz_localize(None))\n"
     ]
    },
    {
     "name": "stdout",
     "output_type": "stream",
     "text": [
      "7.368181357172103e+56\n",
      "2022-09-07 00:00:00 [8, 7, 13, 33, 10, 5, 26, 5, 18, 6] [4.454613408472742e-56, 4.459634753069691e-56, 4.464083392309673e-56, 4.4679390642196155e-56, 4.471191223610615e-56, 4.473839234988772e-56, 4.4758923549607435e-56, 4.4773695048634675e-56, 4.4782988393661485e-56, 4.478717121678632e-56]\n",
      "[32, 32, 32, 32, 32, 32, 32, 32, 32, 33] [32, 32, 32]\n",
      "--------- Batch id: 90 ---------\n"
     ]
    },
    {
     "name": "stderr",
     "output_type": "stream",
     "text": [
      "c:\\Users\\Branko\\miniconda3\\lib\\site-packages\\prophet\\serialize.py:160: FutureWarning: The behavior of Timestamp.utcfromtimestamp is deprecated, in a future version will return a timezone-aware Timestamp with UTC timezone. To keep the old behavior, use Timestamp.utcfromtimestamp(ts).tz_localize(None). To get the future behavior, use Timestamp.fromtimestamp(ts, 'UTC')\n",
      "  setattr(model, attribute, pd.Timestamp.utcfromtimestamp(model_dict[attribute]).tz_localize(None))\n"
     ]
    },
    {
     "name": "stdout",
     "output_type": "stream",
     "text": [
      "0.9997404890261414\n",
      "2022-09-07 00:00:00 [212, 191, 226, 101, 27, 253, 253, 261, 237, 370] [361.74061225351187, 366.896484107615, 369.69955008169734, 370.0960439847957, 368.0693003036668, 363.6402642858805, 356.8672335261186, 347.8448340952433, 336.70225211510484, 323.6007590776684]\n",
      "[361, 366, 369, 370, 367, 363, 356, 347, 336, 323] [308, 292, 274]\n",
      "--------- Batch id: 91 ---------\n"
     ]
    },
    {
     "name": "stderr",
     "output_type": "stream",
     "text": [
      "c:\\Users\\Branko\\miniconda3\\lib\\site-packages\\prophet\\serialize.py:160: FutureWarning: The behavior of Timestamp.utcfromtimestamp is deprecated, in a future version will return a timezone-aware Timestamp with UTC timezone. To keep the old behavior, use Timestamp.utcfromtimestamp(ts).tz_localize(None). To get the future behavior, use Timestamp.fromtimestamp(ts, 'UTC')\n",
      "  setattr(model, attribute, pd.Timestamp.utcfromtimestamp(model_dict[attribute]).tz_localize(None))\n"
     ]
    },
    {
     "name": "stdout",
     "output_type": "stream",
     "text": [
      "1.3102576324090975\n",
      "2022-09-07 00:00:00 [146, 243, 264, 258, 66, 94, 181, 210, 318, 292] [242.0990055931341, 242.70036070334592, 241.68268284386394, 239.0630561924461, 234.88352301468365, 229.21021728301264, 222.1320083471166, 213.75868629513283, 204.21873120352944, 193.65671797400637]\n",
      "[317, 318, 316, 313, 307, 300, 291, 280, 267, 253] [238, 222, 206]\n",
      "--------- Batch id: 92 ---------\n"
     ]
    },
    {
     "name": "stderr",
     "output_type": "stream",
     "text": [
      "c:\\Users\\Branko\\miniconda3\\lib\\site-packages\\prophet\\serialize.py:160: FutureWarning: The behavior of Timestamp.utcfromtimestamp is deprecated, in a future version will return a timezone-aware Timestamp with UTC timezone. To keep the old behavior, use Timestamp.utcfromtimestamp(ts).tz_localize(None). To get the future behavior, use Timestamp.fromtimestamp(ts, 'UTC')\n",
      "  setattr(model, attribute, pd.Timestamp.utcfromtimestamp(model_dict[attribute]).tz_localize(None))\n"
     ]
    },
    {
     "name": "stdout",
     "output_type": "stream",
     "text": [
      "3.274781471643755\n",
      "2022-09-21 00:00:00 [348, 138, 290, 297, 32, 0, 4, 2, 6, 1] [106.26663275498615, 97.31436865188728, 88.33758773531665, 79.43911011611584, 70.71669076948174, 62.26144926546489, 54.15646607127135, 46.475572107331864, 39.28235348127329, 32.62938811091314]\n",
      "[348, 318, 289, 260, 231, 203, 177, 152, 128, 106] [86, 69, 53]\n",
      "--------- Batch id: 93 ---------\n"
     ]
    },
    {
     "name": "stderr",
     "output_type": "stream",
     "text": [
      "c:\\Users\\Branko\\miniconda3\\lib\\site-packages\\prophet\\serialize.py:160: FutureWarning: The behavior of Timestamp.utcfromtimestamp is deprecated, in a future version will return a timezone-aware Timestamp with UTC timezone. To keep the old behavior, use Timestamp.utcfromtimestamp(ts).tz_localize(None). To get the future behavior, use Timestamp.fromtimestamp(ts, 'UTC')\n",
      "  setattr(model, attribute, pd.Timestamp.utcfromtimestamp(model_dict[attribute]).tz_localize(None))\n"
     ]
    },
    {
     "name": "stdout",
     "output_type": "stream",
     "text": [
      "0.2979418552107847\n",
      "2022-09-21 00:00:00 [33, 30, 14, 12, 5, 5, 10, 21, 49, 23] [164.46161941676172, 146.04371122605136, 128.04360889177673, 110.67577464531703, 94.13442409949208, 78.59039947321581, 64.18862354195443, 51.04618060014958, 39.251054975648984, 28.861541346783962]\n",
      "[49, 43, 38, 32, 28, 23, 19, 15, 11, 8] [5, 3, 1]\n",
      "--------- Batch id: 94 ---------\n"
     ]
    },
    {
     "name": "stderr",
     "output_type": "stream",
     "text": [
      "c:\\Users\\Branko\\miniconda3\\lib\\site-packages\\prophet\\serialize.py:160: FutureWarning: The behavior of Timestamp.utcfromtimestamp is deprecated, in a future version will return a timezone-aware Timestamp with UTC timezone. To keep the old behavior, use Timestamp.utcfromtimestamp(ts).tz_localize(None). To get the future behavior, use Timestamp.fromtimestamp(ts, 'UTC')\n",
      "  setattr(model, attribute, pd.Timestamp.utcfromtimestamp(model_dict[attribute]).tz_localize(None))\n"
     ]
    },
    {
     "name": "stdout",
     "output_type": "stream",
     "text": [
      "7619560985258.748\n",
      "2022-09-21 00:00:00 [40, 18, 24, 48, 30, 22, 10, 5, 8, 4] [6.299575538914069e-12, 6.2967574864351016e-12, 6.293931532748182e-12, 6.291138371347085e-12, 6.288416636405138e-12, 6.2858023281138005e-12, 6.283328301920486e-12, 6.281023830824838e-12, 6.278914248148466e-12, 6.277020676293506e-12]\n",
      "[47, 47, 47, 47, 47, 47, 47, 47, 47, 47] [47, 47, 47]\n",
      "--------- Batch id: 95 ---------\n"
     ]
    },
    {
     "name": "stderr",
     "output_type": "stream",
     "text": [
      "c:\\Users\\Branko\\miniconda3\\lib\\site-packages\\prophet\\serialize.py:160: FutureWarning: The behavior of Timestamp.utcfromtimestamp is deprecated, in a future version will return a timezone-aware Timestamp with UTC timezone. To keep the old behavior, use Timestamp.utcfromtimestamp(ts).tz_localize(None). To get the future behavior, use Timestamp.fromtimestamp(ts, 'UTC')\n",
      "  setattr(model, attribute, pd.Timestamp.utcfromtimestamp(model_dict[attribute]).tz_localize(None))\n"
     ]
    },
    {
     "name": "stdout",
     "output_type": "stream",
     "text": [
      "665696278554570.9\n",
      "2022-09-21 00:00:00 [76, 80, 57, 20, 25, 22, 30, 25, 18, 10] [1.201749244771269e-13, 1.2002963925675478e-13, 1.1988206352876468e-13, 1.1973422094047046e-13, 1.1958807019669448e-13, 1.1944547215338517e-13, 1.1930815951841923e-13, 1.1917770976706109e-13, 1.1905552179872343e-13, 1.1894279676914274e-13]\n",
      "[79, 79, 79, 79, 79, 79, 79, 79, 79, 79] [79, 79, 78]\n",
      "--------- Batch id: 96 ---------\n"
     ]
    },
    {
     "name": "stderr",
     "output_type": "stream",
     "text": [
      "c:\\Users\\Branko\\miniconda3\\lib\\site-packages\\prophet\\serialize.py:160: FutureWarning: The behavior of Timestamp.utcfromtimestamp is deprecated, in a future version will return a timezone-aware Timestamp with UTC timezone. To keep the old behavior, use Timestamp.utcfromtimestamp(ts).tz_localize(None). To get the future behavior, use Timestamp.fromtimestamp(ts, 'UTC')\n",
      "  setattr(model, attribute, pd.Timestamp.utcfromtimestamp(model_dict[attribute]).tz_localize(None))\n"
     ]
    },
    {
     "name": "stdout",
     "output_type": "stream",
     "text": [
      "1.4972339994528475e+57\n",
      "2022-09-21 00:00:00 [67, 52, 13, 16, 13, 5, 16, 16, 5, 8] [4.474918417861512e-56, 4.473405374775467e-56, 4.471795371367958e-56, 4.470155054610351e-56, 4.4685489900178395e-56, 4.467038435967971e-56, 4.465680218734683e-56, 4.464525732801453e-56, 4.463620087620409e-56, 4.4630014180822845e-56]\n",
      "[67, 66, 66, 66, 66, 66, 66, 66, 66, 66] [66, 66, 66]\n",
      "--------- Batch id: 97 ---------\n"
     ]
    },
    {
     "name": "stderr",
     "output_type": "stream",
     "text": [
      "c:\\Users\\Branko\\miniconda3\\lib\\site-packages\\prophet\\serialize.py:160: FutureWarning: The behavior of Timestamp.utcfromtimestamp is deprecated, in a future version will return a timezone-aware Timestamp with UTC timezone. To keep the old behavior, use Timestamp.utcfromtimestamp(ts).tz_localize(None). To get the future behavior, use Timestamp.fromtimestamp(ts, 'UTC')\n",
      "  setattr(model, attribute, pd.Timestamp.utcfromtimestamp(model_dict[attribute]).tz_localize(None))\n"
     ]
    },
    {
     "name": "stdout",
     "output_type": "stream",
     "text": [
      "0.7791312421931049\n",
      "2022-09-21 00:00:00 [184, 114, 110, 112, 133, 14, 72, 21, 15, 13] [236.16046955333908, 216.02922719162348, 195.6418862968863, 175.26676442084832, 155.16333494475936, 135.57751605749579, 116.7373258130169, 98.84899570430198, 82.09362341257271, 66.62443173527902]\n",
      "[184, 168, 152, 136, 120, 105, 90, 77, 63, 51] [40, 31, 22]\n",
      "--------- Batch id: 98 ---------\n"
     ]
    },
    {
     "name": "stderr",
     "output_type": "stream",
     "text": [
      "c:\\Users\\Branko\\miniconda3\\lib\\site-packages\\prophet\\serialize.py:160: FutureWarning: The behavior of Timestamp.utcfromtimestamp is deprecated, in a future version will return a timezone-aware Timestamp with UTC timezone. To keep the old behavior, use Timestamp.utcfromtimestamp(ts).tz_localize(None). To get the future behavior, use Timestamp.fromtimestamp(ts, 'UTC')\n",
      "  setattr(model, attribute, pd.Timestamp.utcfromtimestamp(model_dict[attribute]).tz_localize(None))\n"
     ]
    },
    {
     "name": "stdout",
     "output_type": "stream",
     "text": [
      "1.6905294338696943\n",
      "2022-09-21 00:00:00 [122, 149, 222, 167, 32, 10, 30, 9, 1, 5] [131.31980760123915, 118.17362141402452, 105.20375424125051, 92.56846173050991, 80.41363744620006, 68.87039799207021, 58.053041808421256, 48.05742031877198, 38.95974968366627, 30.815880447763345]\n",
      "[222, 199, 177, 156, 135, 116, 98, 81, 65, 52] [39, 29, 20]\n",
      "--------- Batch id: 99 ---------\n"
     ]
    },
    {
     "name": "stderr",
     "output_type": "stream",
     "text": [
      "c:\\Users\\Branko\\miniconda3\\lib\\site-packages\\prophet\\serialize.py:160: FutureWarning: The behavior of Timestamp.utcfromtimestamp is deprecated, in a future version will return a timezone-aware Timestamp with UTC timezone. To keep the old behavior, use Timestamp.utcfromtimestamp(ts).tz_localize(None). To get the future behavior, use Timestamp.fromtimestamp(ts, 'UTC')\n",
      "  setattr(model, attribute, pd.Timestamp.utcfromtimestamp(model_dict[attribute]).tz_localize(None))\n"
     ]
    },
    {
     "name": "stdout",
     "output_type": "stream",
     "text": [
      "1.6483640705850213\n",
      "2022-10-05 00:00:00 [4, 5, 5, 12, 2, 6, 4, 14, 8, 1] [8.49326932673997, 5.535029324371511, 3.1639630397151466, 1.3460011974054653, 0.03963239843227827, 0.0, 0.0, 0.0, 0.0, 0.0]\n",
      "[14, 9, 5, 2, 0, 0, 0, 0, 0, 0] [0, 1, 2]\n",
      "--------- Batch id: 100 ---------\n"
     ]
    },
    {
     "name": "stderr",
     "output_type": "stream",
     "text": [
      "c:\\Users\\Branko\\miniconda3\\lib\\site-packages\\prophet\\serialize.py:160: FutureWarning: The behavior of Timestamp.utcfromtimestamp is deprecated, in a future version will return a timezone-aware Timestamp with UTC timezone. To keep the old behavior, use Timestamp.utcfromtimestamp(ts).tz_localize(None). To get the future behavior, use Timestamp.fromtimestamp(ts, 'UTC')\n",
      "  setattr(model, attribute, pd.Timestamp.utcfromtimestamp(model_dict[attribute]).tz_localize(None))\n"
     ]
    },
    {
     "name": "stdout",
     "output_type": "stream",
     "text": [
      "1.4483324350397786\n",
      "2022-10-05 00:00:00 [3, 0, 4, 3, 3, 3, 6, 5, 1, 1] [0.0, 0.0, 0.0, 0.0, 0.0, 0.0, 0.0, 0.0, 1.7913727630416532, 4.1426953196937895]\n",
      "[0, 0, 0, 0, 0, 0, 0, 0, 2, 6] [9, 12, 15]\n",
      "--------- Batch id: 101 ---------\n"
     ]
    },
    {
     "name": "stderr",
     "output_type": "stream",
     "text": [
      "c:\\Users\\Branko\\miniconda3\\lib\\site-packages\\prophet\\serialize.py:160: FutureWarning: The behavior of Timestamp.utcfromtimestamp is deprecated, in a future version will return a timezone-aware Timestamp with UTC timezone. To keep the old behavior, use Timestamp.utcfromtimestamp(ts).tz_localize(None). To get the future behavior, use Timestamp.fromtimestamp(ts, 'UTC')\n",
      "  setattr(model, attribute, pd.Timestamp.utcfromtimestamp(model_dict[attribute]).tz_localize(None))\n"
     ]
    },
    {
     "name": "stdout",
     "output_type": "stream",
     "text": [
      "1274894075676.82\n",
      "2022-10-05 00:00:00 [4, 5, 2, 3, 7, 6, 8, 2, 5, 0] [6.271222205454862e-12, 6.270820904651725e-12, 6.270661528469093e-12, 6.270732298069494e-12, 6.271018579262605e-12, 6.271503348394121e-12, 6.2721676851619395e-12, 6.272991280365458e-12, 6.273952946613667e-12, 6.275031120332827e-12]\n",
      "[7, 7, 7, 7, 7, 7, 7, 7, 7, 8] [8, 8, 8]\n",
      "--------- Batch id: 102 ---------\n"
     ]
    },
    {
     "name": "stderr",
     "output_type": "stream",
     "text": [
      "c:\\Users\\Branko\\miniconda3\\lib\\site-packages\\prophet\\serialize.py:160: FutureWarning: The behavior of Timestamp.utcfromtimestamp is deprecated, in a future version will return a timezone-aware Timestamp with UTC timezone. To keep the old behavior, use Timestamp.utcfromtimestamp(ts).tz_localize(None). To get the future behavior, use Timestamp.fromtimestamp(ts, 'UTC')\n",
      "  setattr(model, attribute, pd.Timestamp.utcfromtimestamp(model_dict[attribute]).tz_localize(None))\n"
     ]
    },
    {
     "name": "stdout",
     "output_type": "stream",
     "text": [
      "42177055658934.766\n",
      "2022-10-05 00:00:00 [3, 5, 2, 1, 2, 2, 3, 3, 5, 2] [1.1854786736259058e-13, 1.1850482487279037e-13, 1.1847348588335422e-13, 1.184533392358108e-13, 1.184437098949016e-13, 1.1844378188091642e-13, 1.1845262331088433e-13, 1.184692129040961e-13, 1.184924672889209e-13, 1.185212684461743e-13]\n",
      "[4, 4, 4, 4, 4, 4, 4, 4, 4, 4] [5, 5, 5]\n",
      "--------- Batch id: 103 ---------\n"
     ]
    },
    {
     "name": "stderr",
     "output_type": "stream",
     "text": [
      "c:\\Users\\Branko\\miniconda3\\lib\\site-packages\\prophet\\serialize.py:160: FutureWarning: The behavior of Timestamp.utcfromtimestamp is deprecated, in a future version will return a timezone-aware Timestamp with UTC timezone. To keep the old behavior, use Timestamp.utcfromtimestamp(ts).tz_localize(None). To get the future behavior, use Timestamp.fromtimestamp(ts, 'UTC')\n",
      "  setattr(model, attribute, pd.Timestamp.utcfromtimestamp(model_dict[attribute]).tz_localize(None))\n"
     ]
    },
    {
     "name": "stdout",
     "output_type": "stream",
     "text": [
      "2.228070584784653e+56\n",
      "2022-10-05 00:00:00 [3, 3, 4, 2, 2, 0, 10, 5, 0, 2] [4.465010223671202e-56, 4.466482503595818e-56, 4.4682937226179525e-56, 4.470423177266357e-56, 4.472844966341681e-56, 4.475528902111379e-56, 4.478441490155078e-56, 4.4815469509970865e-56, 4.484808256193208e-56, 4.488188151797945e-56]\n",
      "[9, 9, 9, 9, 9, 9, 9, 9, 9, 9] [10, 10, 10]\n",
      "--------- Batch id: 104 ---------\n"
     ]
    },
    {
     "name": "stderr",
     "output_type": "stream",
     "text": [
      "c:\\Users\\Branko\\miniconda3\\lib\\site-packages\\prophet\\serialize.py:160: FutureWarning: The behavior of Timestamp.utcfromtimestamp is deprecated, in a future version will return a timezone-aware Timestamp with UTC timezone. To keep the old behavior, use Timestamp.utcfromtimestamp(ts).tz_localize(None). To get the future behavior, use Timestamp.fromtimestamp(ts, 'UTC')\n",
      "  setattr(model, attribute, pd.Timestamp.utcfromtimestamp(model_dict[attribute]).tz_localize(None))\n"
     ]
    },
    {
     "name": "stdout",
     "output_type": "stream",
     "text": [
      "1.6979307980949438\n",
      "2022-10-05 00:00:00 [20, 3, 7, 5, 5, 10, 11, 10, 3, 3] [11.779043069623178, 5.509479156005687, 0.7314639484253195, 0.0, 0.0, 0.0, 0.0, 0.0, 0.0, 0.0]\n",
      "[20, 9, 1, 0, 0, 0, 0, 0, 0, 0] [3, 8, 13]\n",
      "--------- Batch id: 105 ---------\n"
     ]
    },
    {
     "name": "stderr",
     "output_type": "stream",
     "text": [
      "c:\\Users\\Branko\\miniconda3\\lib\\site-packages\\prophet\\serialize.py:160: FutureWarning: The behavior of Timestamp.utcfromtimestamp is deprecated, in a future version will return a timezone-aware Timestamp with UTC timezone. To keep the old behavior, use Timestamp.utcfromtimestamp(ts).tz_localize(None). To get the future behavior, use Timestamp.fromtimestamp(ts, 'UTC')\n",
      "  setattr(model, attribute, pd.Timestamp.utcfromtimestamp(model_dict[attribute]).tz_localize(None))\n"
     ]
    },
    {
     "name": "stdout",
     "output_type": "stream",
     "text": [
      "5.319116293171403\n",
      "2022-10-05 00:00:00 [6, 27, 13, 7, 9, 6, 4, 18, 2, 6] [4.937028224658507, 2.570874961615699, 1.0118018598564165, 0.17842806950836723, 0.0, 0.32190751437074056, 1.1023266515246328, 2.220715011245135, 3.5773078321898364, 5.076031151013218]\n",
      "[26, 13, 5, 0, 0, 1, 5, 11, 19, 27] [35, 43, 50]\n",
      "--------- Batch id: 106 ---------\n"
     ]
    },
    {
     "name": "stderr",
     "output_type": "stream",
     "text": [
      "c:\\Users\\Branko\\miniconda3\\lib\\site-packages\\prophet\\serialize.py:160: FutureWarning: The behavior of Timestamp.utcfromtimestamp is deprecated, in a future version will return a timezone-aware Timestamp with UTC timezone. To keep the old behavior, use Timestamp.utcfromtimestamp(ts).tz_localize(None). To get the future behavior, use Timestamp.fromtimestamp(ts, 'UTC')\n",
      "  setattr(model, attribute, pd.Timestamp.utcfromtimestamp(model_dict[attribute]).tz_localize(None))\n"
     ]
    },
    {
     "name": "stdout",
     "output_type": "stream",
     "text": [
      "0.9572500177857665\n",
      "2022-10-19 00:00:00 [0, 0, 0, 0, 0, 0, 1, 0, 4, 6] [3.3302839173045835, 4.115167379996603, 4.809523629213876, 5.387720856609841, 5.830741888848502, 6.126161236318329, 6.267954963196257, 6.256155900867823, 6.0963702482317395, 5.799174597927277]\n",
      "[3, 3, 4, 5, 5, 5, 6, 5, 5, 5] [5, 4, 4]\n",
      "--------- Batch id: 107 ---------\n"
     ]
    },
    {
     "name": "stderr",
     "output_type": "stream",
     "text": [
      "c:\\Users\\Branko\\miniconda3\\lib\\site-packages\\prophet\\serialize.py:160: FutureWarning: The behavior of Timestamp.utcfromtimestamp is deprecated, in a future version will return a timezone-aware Timestamp with UTC timezone. To keep the old behavior, use Timestamp.utcfromtimestamp(ts).tz_localize(None). To get the future behavior, use Timestamp.fromtimestamp(ts, 'UTC')\n",
      "  setattr(model, attribute, pd.Timestamp.utcfromtimestamp(model_dict[attribute]).tz_localize(None))\n"
     ]
    },
    {
     "name": "stdout",
     "output_type": "stream",
     "text": [
      "0.20280319529333032\n",
      "2022-10-19 00:00:00 [1, 1, 1, 1, 0, 1, 0, 1, 2, 3] [13.511901242946086, 14.370571257929836, 14.792666336745148, 14.771407300184256, 14.316509870070337, 13.452826338057452, 12.218632161864074, 10.66361818892515, 8.846655323067697, 6.8334025806532965]\n",
      "[2, 2, 2, 2, 2, 2, 2, 2, 1, 1] [0, 0, 0]\n",
      "--------- Batch id: 108 ---------\n"
     ]
    },
    {
     "name": "stderr",
     "output_type": "stream",
     "text": [
      "c:\\Users\\Branko\\miniconda3\\lib\\site-packages\\prophet\\serialize.py:160: FutureWarning: The behavior of Timestamp.utcfromtimestamp is deprecated, in a future version will return a timezone-aware Timestamp with UTC timezone. To keep the old behavior, use Timestamp.utcfromtimestamp(ts).tz_localize(None). To get the future behavior, use Timestamp.fromtimestamp(ts, 'UTC')\n",
      "  setattr(model, attribute, pd.Timestamp.utcfromtimestamp(model_dict[attribute]).tz_localize(None))\n"
     ]
    },
    {
     "name": "stdout",
     "output_type": "stream",
     "text": [
      "317826980447.2003\n",
      "2022-10-19 00:00:00 [0, 1, 0, 0, 2, 0, 1, 2, 0, 1] [6.281446464418969e-12, 6.282806037707642e-12, 6.284156322273566e-12, 6.28548660016233e-12, 6.286788442542563e-12, 6.288055712797644e-12, 6.2892845107541725e-12, 6.290473062502571e-12, 6.291621561480483e-12, 6.29273196751858e-12]\n",
      "[1, 1, 1, 1, 1, 1, 1, 1, 1, 2] [2, 2, 2]\n",
      "--------- Batch id: 109 ---------\n"
     ]
    },
    {
     "name": "stderr",
     "output_type": "stream",
     "text": [
      "c:\\Users\\Branko\\miniconda3\\lib\\site-packages\\prophet\\serialize.py:160: FutureWarning: The behavior of Timestamp.utcfromtimestamp is deprecated, in a future version will return a timezone-aware Timestamp with UTC timezone. To keep the old behavior, use Timestamp.utcfromtimestamp(ts).tz_localize(None). To get the future behavior, use Timestamp.fromtimestamp(ts, 'UTC')\n",
      "  setattr(model, attribute, pd.Timestamp.utcfromtimestamp(model_dict[attribute]).tz_localize(None))\n"
     ]
    },
    {
     "name": "stdout",
     "output_type": "stream",
     "text": [
      "16807734780533.854\n",
      "2022-10-19 00:00:00 [2, 2, 1, 2, 2, 2, 1, 1, 0, 2] [1.1871019772821678e-13, 1.1875006532634762e-13, 1.1878873586600057e-13, 1.188256244895788e-13, 1.188602737793135e-13, 1.1889235596588513e-13, 1.189216716532579e-13, 1.189481452423565e-13, 1.1897181731597988e-13, 1.1899283431794342e-13]\n",
      "[1, 1, 1, 1, 1, 1, 1, 1, 1, 2] [2, 2, 2]\n",
      "--------- Batch id: 110 ---------\n"
     ]
    },
    {
     "name": "stderr",
     "output_type": "stream",
     "text": [
      "c:\\Users\\Branko\\miniconda3\\lib\\site-packages\\prophet\\serialize.py:160: FutureWarning: The behavior of Timestamp.utcfromtimestamp is deprecated, in a future version will return a timezone-aware Timestamp with UTC timezone. To keep the old behavior, use Timestamp.utcfromtimestamp(ts).tz_localize(None). To get the future behavior, use Timestamp.fromtimestamp(ts, 'UTC')\n",
      "  setattr(model, attribute, pd.Timestamp.utcfromtimestamp(model_dict[attribute]).tz_localize(None))\n"
     ]
    },
    {
     "name": "stdout",
     "output_type": "stream",
     "text": [
      "2.4265100085316843e+56\n",
      "2022-10-19 00:00:00 [10, 3, 0, 3, 0, 0, 11, 3, 3, 0] [4.505664810944131e-56, 4.509075647584026e-56, 4.512410198389614e-56, 4.515657144477684e-56, 4.51881007143502e-56, 4.521867369310258e-56, 4.524831997273444e-56, 4.52771112403681e-56, 4.530515658309124e-56, 4.533259686266968e-56]\n",
      "[10, 10, 10, 10, 10, 10, 10, 10, 10, 11] [11, 11, 11]\n",
      "--------- Batch id: 111 ---------\n"
     ]
    },
    {
     "name": "stderr",
     "output_type": "stream",
     "text": [
      "c:\\Users\\Branko\\miniconda3\\lib\\site-packages\\prophet\\serialize.py:160: FutureWarning: The behavior of Timestamp.utcfromtimestamp is deprecated, in a future version will return a timezone-aware Timestamp with UTC timezone. To keep the old behavior, use Timestamp.utcfromtimestamp(ts).tz_localize(None). To get the future behavior, use Timestamp.fromtimestamp(ts, 'UTC')\n",
      "  setattr(model, attribute, pd.Timestamp.utcfromtimestamp(model_dict[attribute]).tz_localize(None))\n"
     ]
    },
    {
     "name": "stdout",
     "output_type": "stream",
     "text": [
      "0.3721623411302216\n",
      "2022-10-19 00:00:00 [7, 3, 2, 5, 4, 8, 2, 4, 1, 3] [13.560392955310629, 15.997841123454585, 18.061223041217787, 19.681569812716585, 20.810000086180956, 21.417804789193262, 21.495995472579953, 21.05434719354879, 20.119979359801846, 18.735529002031207]\n",
      "[5, 5, 6, 7, 7, 7, 8, 7, 7, 6] [6, 5, 4]\n",
      "--------- Batch id: 112 ---------\n"
     ]
    },
    {
     "name": "stderr",
     "output_type": "stream",
     "text": [
      "c:\\Users\\Branko\\miniconda3\\lib\\site-packages\\prophet\\serialize.py:160: FutureWarning: The behavior of Timestamp.utcfromtimestamp is deprecated, in a future version will return a timezone-aware Timestamp with UTC timezone. To keep the old behavior, use Timestamp.utcfromtimestamp(ts).tz_localize(None). To get the future behavior, use Timestamp.fromtimestamp(ts, 'UTC')\n",
      "  setattr(model, attribute, pd.Timestamp.utcfromtimestamp(model_dict[attribute]).tz_localize(None))\n"
     ]
    },
    {
     "name": "stdout",
     "output_type": "stream",
     "text": [
      "0.5264018740261732\n",
      "2022-10-19 00:00:00 [6, 2, 6, 5, 3, 4, 3, 2, 7, 2] [11.842560487065308, 12.616481487217932, 13.10642193845565, 13.297824999103161, 13.18797245875378, 12.785268185853168, 12.10825194350407, 11.184381081655065, 10.048622674620788, 8.74190244228444]\n",
      "[6, 6, 6, 6, 6, 6, 6, 5, 5, 4] [3, 3, 2]\n"
     ]
    }
   ],
   "source": [
    "BATCH_SIZE = 113\n",
    "for batch_id in range(1, BATCH_SIZE):\n",
    "    print('--------- Batch id: ' + str(batch_id) + ' ---------')\n",
    "\n",
    "    # extract pollen_df where column batch_id == batch_id\n",
    "    test_df = pollen_df[pollen_df['batch_id'] == batch_id]\n",
    "    # Drop index for test_df\n",
    "    test_df.reset_index(inplace=True, drop=True)\n",
    "\n",
    "    with open('../models/prophet/' + test_df['location'][0] + '_prophet.json', 'r') as fin:\n",
    "        m = model_from_json(fin.read())  # Load model\n",
    "\n",
    "    forecast = m.predict(test_df)\n",
    "    forecast['yhat'] = [max(0, x) for x in forecast['yhat']]\n",
    "    \n",
    "    # Make a list of difference between yhat and y\n",
    "    max_real_val = max(test_df['y'])\n",
    "    max_pred_val = max(forecast['yhat'])\n",
    "\n",
    "    ratio = np.mean([max_real_val / max_pred_val if max_pred_val != 0 else 0 for i in range(len(forecast))])\n",
    "    \n",
    "    print(ratio)\n",
    "\n",
    "    # 3 days after test_df\n",
    "    last_date = test_df['ds'].iloc[-1]\n",
    "    predict_dates = next_three_days(last_date)\n",
    "\n",
    "    results = predict_for_dates(m, predict_dates, ratio)\n",
    "\n",
    "    print(last_date, list(test_df['y']), list(forecast['yhat']))\n",
    "    print([int(ratio * x) for x in forecast['yhat']], results)\n",
    "\n",
    "    # Save results to result.csv\n",
    "    with open('../results/prophet_by_town.csv', 'a') as fout:\n",
    "        results = str(batch_id) + ',' + ','.join([str(x) for x in results]) + '\\n'\n",
    "        fout.write(results)"
   ]
  }
 ],
 "metadata": {
  "kernelspec": {
   "display_name": "base",
   "language": "python",
   "name": "python3"
  },
  "language_info": {
   "codemirror_mode": {
    "name": "ipython",
    "version": 3
   },
   "file_extension": ".py",
   "mimetype": "text/x-python",
   "name": "python",
   "nbconvert_exporter": "python",
   "pygments_lexer": "ipython3",
   "version": "3.9.7"
  },
  "orig_nbformat": 4
 },
 "nbformat": 4,
 "nbformat_minor": 2
}
