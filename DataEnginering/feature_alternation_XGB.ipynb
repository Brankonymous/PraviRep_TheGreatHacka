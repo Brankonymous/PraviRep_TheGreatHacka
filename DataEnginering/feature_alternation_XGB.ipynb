{
 "cells": [
  {
   "cell_type": "code",
   "execution_count": 83,
   "metadata": {},
   "outputs": [],
   "source": [
    "import pandas as pd\n",
    "import numpy as np\n"
   ]
  },
  {
   "cell_type": "code",
   "execution_count": 77,
   "metadata": {},
   "outputs": [],
   "source": [
    "def reshape_data(df, target = 'AMBROSIA', stride = 1, train = True):\n",
    "    upper = 14\n",
    "    if not train:\n",
    "       upper = 10\n",
    "    X = []\n",
    "    y = []\n",
    "    for i in range(0, df.shape[0] - (upper - 1), stride):\n",
    "        lst = []\n",
    "\n",
    "        ran = range(i, i + 10)\n",
    "        X.append(np.array(df.iloc[ran]).flatten())\n",
    "        if train:\n",
    "            y.append((\n",
    "                float(df.iloc[[i+11]][target]),\n",
    "                float(df.iloc[[i+12]][target]),\n",
    "                float(df.iloc[[i+13]][target]),\n",
    "            ))\n",
    "    return np.array(X), y\n",
    "\n",
    "def load_train_test(train_path, test_path, weather_path = None, stride = 1, target = 'AMBROSIA'):\n",
    "    df_train = pd.read_csv(train_path)\n",
    "    df_test = pd.read_csv(test_path)\n",
    "    df_test = df_test.drop('batch_id', axis = 1)\n",
    "    \n",
    "    if weather_path:\n",
    "        df_weather = pd.load_csv(weather_path)\n",
    "        df_train.merge(right = df_weather, how = 'left', on = ['location', 'date'])\n",
    "        df_train = df_train.dropna()\n",
    "\n",
    "        \n",
    "\n",
    "    locations = ['БЕОГРАД - НОВИ БЕОГРАД', 'ВРШАЦ', 'НИШ', 'ПОЖАРЕВАЦ', 'СУБОТИЦА','КРАГУЈЕВАЦ', 'КРАЉЕВО']\n",
    "\n",
    "    train_data = {}\n",
    "    train_targets = {}\n",
    "    test_data = {}\n",
    "\n",
    "    for location in locations:\n",
    "        train_data[location] = df_train[df_train['location'] == location]\n",
    "        train_data[location], train_targets[location] = reshape_data(train_data[location], target, stride)\n",
    "        test_data[location] = df_test[df_test['location'] == location]\n",
    "        test_data[location], _ = reshape_data(test_data[location], target = target, stride = 10, train = False)\n",
    "    \n",
    "    return train_data, train_targets, test_data"
   ]
  },
  {
   "cell_type": "code",
   "execution_count": 78,
   "metadata": {},
   "outputs": [],
   "source": []
  },
  {
   "cell_type": "code",
   "execution_count": 79,
   "metadata": {},
   "outputs": [
    {
     "data": {
      "text/plain": [
       "[(16, 290), (16, 290), (16, 290), (16, 290), (16, 290), (16, 290), (16, 290)]"
      ]
     },
     "execution_count": 79,
     "metadata": {},
     "output_type": "execute_result"
    }
   ],
   "source": []
  },
  {
   "cell_type": "code",
   "execution_count": 84,
   "metadata": {},
   "outputs": [],
   "source": [
    "# Specify the filename for the JSON file\n",
    "\n"
   ]
  },
  {
   "cell_type": "code",
   "execution_count": null,
   "metadata": {},
   "outputs": [],
   "source": []
  }
 ],
 "metadata": {
  "kernelspec": {
   "display_name": "base",
   "language": "python",
   "name": "python3"
  },
  "language_info": {
   "codemirror_mode": {
    "name": "ipython",
    "version": 3
   },
   "file_extension": ".py",
   "mimetype": "text/x-python",
   "name": "python",
   "nbconvert_exporter": "python",
   "pygments_lexer": "ipython3",
   "version": "3.10.9"
  },
  "orig_nbformat": 4
 },
 "nbformat": 4,
 "nbformat_minor": 2
}
