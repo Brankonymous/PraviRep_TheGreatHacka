{
 "cells": [
  {
   "cell_type": "code",
   "execution_count": 2,
   "metadata": {},
   "outputs": [],
   "source": [
    "import pandas as pd\n",
    "import numpy as np"
   ]
  },
  {
   "cell_type": "code",
   "execution_count": 14,
   "metadata": {},
   "outputs": [],
   "source": [
    "def split_data(path):\n",
    "    save_path = \"/\".join(path.split('/')[:-1]) + '/'\n",
    "    df = pd.read_csv(path)\n",
    "    locations = df['location'].unique()\n",
    "    print(path.split('/')[-1])\n",
    "    for location in locations:\n",
    "        tmp_df = pd.DataFrame()\n",
    "        name = location + '_' + path.split('/')[-1]\n",
    "        tmp_df = df[df['location'] == location]\n",
    "        file_name = save_path + name\n",
    "        #for test\n",
    "        # file_name = save_path + '/test/' + name\n",
    "        tmp_df = tmp_df.drop('location', axis = 1)\n",
    "        tmp_df.to_csv(file_name) "
   ]
  },
  {
   "cell_type": "code",
   "execution_count": 4,
   "metadata": {},
   "outputs": [
    {
     "name": "stdout",
     "output_type": "stream",
     "text": [
      "pollen_train.csv\n"
     ]
    }
   ],
   "source": [
    "split_data('../data/pollen_train.csv')"
   ]
  },
  {
   "cell_type": "code",
   "execution_count": 5,
   "metadata": {},
   "outputs": [],
   "source": [
    "def merge_data(path, target = 'AMBROSIA', stride = 1):\n",
    "    df = pd.read_csv(path)\n",
    "    X = []\n",
    "    y = []\n",
    "    for i in range(0, df.shape[0] - 13, stride):\n",
    "        lst = []\n",
    "\n",
    "        ran = range(i, i + 10)\n",
    "        X.append(np.array(df.iloc[ran]).flatten())\n",
    "        y.append((\n",
    "            float(df.iloc[[i+11]][target]),\n",
    "            float(df.iloc[[i+12]][target]),\n",
    "            float(df.iloc[[i+13]][target]),\n",
    "        ))\n",
    "    return np.array(X), y\n"
   ]
  },
  {
   "cell_type": "code",
   "execution_count": 6,
   "metadata": {},
   "outputs": [],
   "source": [
    "df = pd.read_csv('../data/pollen_train.csv')\n",
    "locations = df['location'].unique()"
   ]
  },
  {
   "cell_type": "code",
   "execution_count": 7,
   "metadata": {},
   "outputs": [],
   "source": [
    "def XGB_input(path, locations, file, target = 'AMBROSIA', stride = 1):\n",
    "    for location in locations:\n",
    "        file_name = path + '/' + location + '_' + file\n",
    "        save_path = path + '/XGB/' + location + '_' + file\n",
    "        X, y = merge_data(file_name + '.csv',target = target, stride = stride)\n",
    "        pd.DataFrame(X).to_csv(save_path + 'XGB.csv')\n",
    "        pd.DataFrame(y).to_csv(save_path + 'XGB_target.csv')\n",
    "    "
   ]
  },
  {
   "cell_type": "code",
   "execution_count": 8,
   "metadata": {},
   "outputs": [],
   "source": [
    "XGB_input('../data', locations, 'pollen_train')"
   ]
  },
  {
   "cell_type": "code",
   "execution_count": 9,
   "metadata": {},
   "outputs": [],
   "source": [
    "test1 = pd.read_csv('../data/pollen_train.csv')\n",
    "weather_df = pd.read_csv('../data/weather_data_filtered.csv')\n",
    "df = test1.merge(weather_df, how = 'left', on = (['location', 'date']))"
   ]
  },
  {
   "cell_type": "code",
   "execution_count": 10,
   "metadata": {},
   "outputs": [],
   "source": [
    "df['prcp'] = df['prcp'].interpolate()\n",
    "df['wspd'] = df['wspd'].interpolate(method = 'slinear')\n",
    "df['wspd'] = df['wspd'].fillna(0)\n",
    "df['wdir'] = df['wdir'].interpolate(method = 'slinear')\n",
    "df['wdir'] = df['wdir'].fillna(0)\n",
    "df = df.drop(['wpgt','snow','tsun','pres'], axis = 1)\n",
    "df = df.dropna()\n"
   ]
  },
  {
   "cell_type": "code",
   "execution_count": 11,
   "metadata": {},
   "outputs": [
    {
     "name": "stdout",
     "output_type": "stream",
     "text": [
      "pollen_train_weather.csv\n"
     ]
    }
   ],
   "source": [
    "df.to_csv('../data/pollen_train_weather.csv')\n",
    "split_data('../data/pollen_train_weather.csv')\n",
    "XGB_input('../data', locations, 'pollen_train_weather')"
   ]
  },
  {
   "cell_type": "code",
   "execution_count": 13,
   "metadata": {},
   "outputs": [
    {
     "data": {
      "text/plain": [
       "array(['БЕОГРАД - НОВИ БЕОГРАД', 'ВРШАЦ', 'НИШ', 'ПОЖАРЕВАЦ', 'СУБОТИЦА',\n",
       "       'КРАГУЈЕВАЦ', 'КРАЉЕВО'], dtype=object)"
      ]
     },
     "execution_count": 13,
     "metadata": {},
     "output_type": "execute_result"
    }
   ],
   "source": [
    "df['location'].unique()"
   ]
  },
  {
   "cell_type": "code",
   "execution_count": 15,
   "metadata": {},
   "outputs": [
    {
     "name": "stdout",
     "output_type": "stream",
     "text": [
      "pollen_test.csv\n"
     ]
    }
   ],
   "source": [
    "split_data('../data/pollen_test.csv')"
   ]
  },
  {
   "cell_type": "code",
   "execution_count": null,
   "metadata": {},
   "outputs": [],
   "source": []
  }
 ],
 "metadata": {
  "kernelspec": {
   "display_name": "base",
   "language": "python",
   "name": "python3"
  },
  "language_info": {
   "codemirror_mode": {
    "name": "ipython",
    "version": 3
   },
   "file_extension": ".py",
   "mimetype": "text/x-python",
   "name": "python",
   "nbconvert_exporter": "python",
   "pygments_lexer": "ipython3",
   "version": "3.10.9"
  },
  "orig_nbformat": 4
 },
 "nbformat": 4,
 "nbformat_minor": 2
}
